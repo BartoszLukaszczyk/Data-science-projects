{
 "cells": [
  {
   "cell_type": "markdown",
   "metadata": {},
   "source": [
    "## Przewidywanie wypłacalności kredytobiorców\n",
    "\n",
    "Ten projekt ma na celu nauczyć model przewidywać czy kredytobiorca spłaci kredyt. Będę korzystać z bibliotek do przetwarzania, analizy i wizualizacji danych tj. Pandas, NumPy, Matplotlib, oraz z biblioteki Scikitlearn. Jest to mój pierwszy większy projekt, więc ma on charakter głównie treningowy. Projekt jest w fazie rozwoju, cały czas nad nim pracuję i staram się co kilka dni wrzucać na Github poprawioną i rozbudowaną wersję\n",
    "\n",
    "##### Projekt jest tworzony na podstawie tego zbioru danych\n",
    "https://www.kaggle.com/gauravduttakiit/loan-defaulter"
   ]
  },
  {
   "cell_type": "code",
   "execution_count": 28,
   "metadata": {},
   "outputs": [],
   "source": [
    "import pandas as pd\n",
    "import numpy as np\n",
    "\n",
    "import seaborn as sns\n",
    "import matplotlib.pyplot as plt\n",
    "\n",
    "from sklearn.pipeline import FeatureUnion, Pipeline\n",
    "from sklearn.base import BaseEstimator, TransformerMixin\n",
    "from sklearn.compose import ColumnTransformer\n",
    "\n",
    "from sklearn.impute import SimpleImputer\n",
    "from sklearn.preprocessing import MinMaxScaler, StandardScaler\n",
    "from sklearn.preprocessing import OneHotEncoder\n",
    "from sklearn.decomposition import PCA\n",
    "\n",
    "from sklearn.model_selection import train_test_split, GridSearchCV\n",
    "from sklearn.linear_model import LogisticRegression\n",
    "from sklearn.svm import SVC\n",
    "from sklearn.tree import DecisionTreeClassifier\n",
    "from sklearn.ensemble import ExtraTreesClassifier\n",
    "from sklearn.ensemble import RandomForestClassifier\n",
    "from sklearn.neighbors import KNeighborsClassifier\n",
    "from sklearn.ensemble import AdaBoostClassifier\n",
    "from sklearn.ensemble import GradientBoostingClassifier\n",
    "\n",
    "from sklearn.metrics import accuracy_score, precision_score, recall_score, f1_score\n",
    "\n",
    "import warnings\n",
    "warnings.filterwarnings('ignore')"
   ]
  },
  {
   "cell_type": "markdown",
   "metadata": {},
   "source": [
    "## Wstępna analiza danych"
   ]
  },
  {
   "cell_type": "code",
   "execution_count": 29,
   "metadata": {},
   "outputs": [
    {
     "data": {
      "text/html": [
       "<div>\n",
       "<style scoped>\n",
       "    .dataframe tbody tr th:only-of-type {\n",
       "        vertical-align: middle;\n",
       "    }\n",
       "\n",
       "    .dataframe tbody tr th {\n",
       "        vertical-align: top;\n",
       "    }\n",
       "\n",
       "    .dataframe thead th {\n",
       "        text-align: right;\n",
       "    }\n",
       "</style>\n",
       "<table border=\"1\" class=\"dataframe\">\n",
       "  <thead>\n",
       "    <tr style=\"text-align: right;\">\n",
       "      <th></th>\n",
       "      <th>SK_ID_CURR</th>\n",
       "      <th>TARGET</th>\n",
       "      <th>NAME_CONTRACT_TYPE</th>\n",
       "      <th>CODE_GENDER</th>\n",
       "      <th>FLAG_OWN_CAR</th>\n",
       "      <th>FLAG_OWN_REALTY</th>\n",
       "      <th>CNT_CHILDREN</th>\n",
       "      <th>AMT_INCOME_TOTAL</th>\n",
       "      <th>AMT_CREDIT</th>\n",
       "      <th>AMT_ANNUITY</th>\n",
       "      <th>...</th>\n",
       "      <th>FLAG_DOCUMENT_18</th>\n",
       "      <th>FLAG_DOCUMENT_19</th>\n",
       "      <th>FLAG_DOCUMENT_20</th>\n",
       "      <th>FLAG_DOCUMENT_21</th>\n",
       "      <th>AMT_REQ_CREDIT_BUREAU_HOUR</th>\n",
       "      <th>AMT_REQ_CREDIT_BUREAU_DAY</th>\n",
       "      <th>AMT_REQ_CREDIT_BUREAU_WEEK</th>\n",
       "      <th>AMT_REQ_CREDIT_BUREAU_MON</th>\n",
       "      <th>AMT_REQ_CREDIT_BUREAU_QRT</th>\n",
       "      <th>AMT_REQ_CREDIT_BUREAU_YEAR</th>\n",
       "    </tr>\n",
       "  </thead>\n",
       "  <tbody>\n",
       "    <tr>\n",
       "      <th>0</th>\n",
       "      <td>100002</td>\n",
       "      <td>1</td>\n",
       "      <td>Cash loans</td>\n",
       "      <td>M</td>\n",
       "      <td>N</td>\n",
       "      <td>Y</td>\n",
       "      <td>0</td>\n",
       "      <td>202500.0</td>\n",
       "      <td>406597.5</td>\n",
       "      <td>24700.5</td>\n",
       "      <td>...</td>\n",
       "      <td>0</td>\n",
       "      <td>0</td>\n",
       "      <td>0</td>\n",
       "      <td>0</td>\n",
       "      <td>0.0</td>\n",
       "      <td>0.0</td>\n",
       "      <td>0.0</td>\n",
       "      <td>0.0</td>\n",
       "      <td>0.0</td>\n",
       "      <td>1.0</td>\n",
       "    </tr>\n",
       "    <tr>\n",
       "      <th>1</th>\n",
       "      <td>100003</td>\n",
       "      <td>0</td>\n",
       "      <td>Cash loans</td>\n",
       "      <td>F</td>\n",
       "      <td>N</td>\n",
       "      <td>N</td>\n",
       "      <td>0</td>\n",
       "      <td>270000.0</td>\n",
       "      <td>1293502.5</td>\n",
       "      <td>35698.5</td>\n",
       "      <td>...</td>\n",
       "      <td>0</td>\n",
       "      <td>0</td>\n",
       "      <td>0</td>\n",
       "      <td>0</td>\n",
       "      <td>0.0</td>\n",
       "      <td>0.0</td>\n",
       "      <td>0.0</td>\n",
       "      <td>0.0</td>\n",
       "      <td>0.0</td>\n",
       "      <td>0.0</td>\n",
       "    </tr>\n",
       "    <tr>\n",
       "      <th>2</th>\n",
       "      <td>100004</td>\n",
       "      <td>0</td>\n",
       "      <td>Revolving loans</td>\n",
       "      <td>M</td>\n",
       "      <td>Y</td>\n",
       "      <td>Y</td>\n",
       "      <td>0</td>\n",
       "      <td>67500.0</td>\n",
       "      <td>135000.0</td>\n",
       "      <td>6750.0</td>\n",
       "      <td>...</td>\n",
       "      <td>0</td>\n",
       "      <td>0</td>\n",
       "      <td>0</td>\n",
       "      <td>0</td>\n",
       "      <td>0.0</td>\n",
       "      <td>0.0</td>\n",
       "      <td>0.0</td>\n",
       "      <td>0.0</td>\n",
       "      <td>0.0</td>\n",
       "      <td>0.0</td>\n",
       "    </tr>\n",
       "    <tr>\n",
       "      <th>3</th>\n",
       "      <td>100006</td>\n",
       "      <td>0</td>\n",
       "      <td>Cash loans</td>\n",
       "      <td>F</td>\n",
       "      <td>N</td>\n",
       "      <td>Y</td>\n",
       "      <td>0</td>\n",
       "      <td>135000.0</td>\n",
       "      <td>312682.5</td>\n",
       "      <td>29686.5</td>\n",
       "      <td>...</td>\n",
       "      <td>0</td>\n",
       "      <td>0</td>\n",
       "      <td>0</td>\n",
       "      <td>0</td>\n",
       "      <td>NaN</td>\n",
       "      <td>NaN</td>\n",
       "      <td>NaN</td>\n",
       "      <td>NaN</td>\n",
       "      <td>NaN</td>\n",
       "      <td>NaN</td>\n",
       "    </tr>\n",
       "    <tr>\n",
       "      <th>4</th>\n",
       "      <td>100007</td>\n",
       "      <td>0</td>\n",
       "      <td>Cash loans</td>\n",
       "      <td>M</td>\n",
       "      <td>N</td>\n",
       "      <td>Y</td>\n",
       "      <td>0</td>\n",
       "      <td>121500.0</td>\n",
       "      <td>513000.0</td>\n",
       "      <td>21865.5</td>\n",
       "      <td>...</td>\n",
       "      <td>0</td>\n",
       "      <td>0</td>\n",
       "      <td>0</td>\n",
       "      <td>0</td>\n",
       "      <td>0.0</td>\n",
       "      <td>0.0</td>\n",
       "      <td>0.0</td>\n",
       "      <td>0.0</td>\n",
       "      <td>0.0</td>\n",
       "      <td>0.0</td>\n",
       "    </tr>\n",
       "  </tbody>\n",
       "</table>\n",
       "<p>5 rows × 122 columns</p>\n",
       "</div>"
      ],
      "text/plain": [
       "   SK_ID_CURR  TARGET NAME_CONTRACT_TYPE CODE_GENDER FLAG_OWN_CAR  \\\n",
       "0      100002       1         Cash loans           M            N   \n",
       "1      100003       0         Cash loans           F            N   \n",
       "2      100004       0    Revolving loans           M            Y   \n",
       "3      100006       0         Cash loans           F            N   \n",
       "4      100007       0         Cash loans           M            N   \n",
       "\n",
       "  FLAG_OWN_REALTY  CNT_CHILDREN  AMT_INCOME_TOTAL  AMT_CREDIT  AMT_ANNUITY  \\\n",
       "0               Y             0          202500.0    406597.5      24700.5   \n",
       "1               N             0          270000.0   1293502.5      35698.5   \n",
       "2               Y             0           67500.0    135000.0       6750.0   \n",
       "3               Y             0          135000.0    312682.5      29686.5   \n",
       "4               Y             0          121500.0    513000.0      21865.5   \n",
       "\n",
       "   ...  FLAG_DOCUMENT_18 FLAG_DOCUMENT_19 FLAG_DOCUMENT_20 FLAG_DOCUMENT_21  \\\n",
       "0  ...                 0                0                0                0   \n",
       "1  ...                 0                0                0                0   \n",
       "2  ...                 0                0                0                0   \n",
       "3  ...                 0                0                0                0   \n",
       "4  ...                 0                0                0                0   \n",
       "\n",
       "  AMT_REQ_CREDIT_BUREAU_HOUR AMT_REQ_CREDIT_BUREAU_DAY  \\\n",
       "0                        0.0                       0.0   \n",
       "1                        0.0                       0.0   \n",
       "2                        0.0                       0.0   \n",
       "3                        NaN                       NaN   \n",
       "4                        0.0                       0.0   \n",
       "\n",
       "   AMT_REQ_CREDIT_BUREAU_WEEK  AMT_REQ_CREDIT_BUREAU_MON  \\\n",
       "0                         0.0                        0.0   \n",
       "1                         0.0                        0.0   \n",
       "2                         0.0                        0.0   \n",
       "3                         NaN                        NaN   \n",
       "4                         0.0                        0.0   \n",
       "\n",
       "   AMT_REQ_CREDIT_BUREAU_QRT  AMT_REQ_CREDIT_BUREAU_YEAR  \n",
       "0                        0.0                         1.0  \n",
       "1                        0.0                         0.0  \n",
       "2                        0.0                         0.0  \n",
       "3                        NaN                         NaN  \n",
       "4                        0.0                         0.0  \n",
       "\n",
       "[5 rows x 122 columns]"
      ]
     },
     "execution_count": 29,
     "metadata": {},
     "output_type": "execute_result"
    }
   ],
   "source": [
    "#wczytuję dane\n",
    "data = pd.read_csv('application_data.csv')\n",
    "data.head()"
   ]
  },
  {
   "cell_type": "code",
   "execution_count": 30,
   "metadata": {},
   "outputs": [
    {
     "data": {
      "text/html": [
       "<div>\n",
       "<style scoped>\n",
       "    .dataframe tbody tr th:only-of-type {\n",
       "        vertical-align: middle;\n",
       "    }\n",
       "\n",
       "    .dataframe tbody tr th {\n",
       "        vertical-align: top;\n",
       "    }\n",
       "\n",
       "    .dataframe thead th {\n",
       "        text-align: right;\n",
       "    }\n",
       "</style>\n",
       "<table border=\"1\" class=\"dataframe\">\n",
       "  <thead>\n",
       "    <tr style=\"text-align: right;\">\n",
       "      <th></th>\n",
       "      <th>TARGET</th>\n",
       "      <th>NAME_CONTRACT_TYPE</th>\n",
       "      <th>CODE_GENDER</th>\n",
       "      <th>FLAG_OWN_CAR</th>\n",
       "      <th>FLAG_OWN_REALTY</th>\n",
       "      <th>CNT_CHILDREN</th>\n",
       "      <th>AMT_INCOME_TOTAL</th>\n",
       "      <th>AMT_CREDIT</th>\n",
       "      <th>AMT_ANNUITY</th>\n",
       "      <th>AMT_GOODS_PRICE</th>\n",
       "      <th>...</th>\n",
       "      <th>FLAG_DOCUMENT_18</th>\n",
       "      <th>FLAG_DOCUMENT_19</th>\n",
       "      <th>FLAG_DOCUMENT_20</th>\n",
       "      <th>FLAG_DOCUMENT_21</th>\n",
       "      <th>AMT_REQ_CREDIT_BUREAU_HOUR</th>\n",
       "      <th>AMT_REQ_CREDIT_BUREAU_DAY</th>\n",
       "      <th>AMT_REQ_CREDIT_BUREAU_WEEK</th>\n",
       "      <th>AMT_REQ_CREDIT_BUREAU_MON</th>\n",
       "      <th>AMT_REQ_CREDIT_BUREAU_QRT</th>\n",
       "      <th>AMT_REQ_CREDIT_BUREAU_YEAR</th>\n",
       "    </tr>\n",
       "  </thead>\n",
       "  <tbody>\n",
       "    <tr>\n",
       "      <th>0</th>\n",
       "      <td>0</td>\n",
       "      <td>Cash loans</td>\n",
       "      <td>F</td>\n",
       "      <td>N</td>\n",
       "      <td>Y</td>\n",
       "      <td>0</td>\n",
       "      <td>202500.0</td>\n",
       "      <td>225000.0</td>\n",
       "      <td>12915.0</td>\n",
       "      <td>225000.0</td>\n",
       "      <td>...</td>\n",
       "      <td>0</td>\n",
       "      <td>0</td>\n",
       "      <td>0</td>\n",
       "      <td>0</td>\n",
       "      <td>0.0</td>\n",
       "      <td>0.0</td>\n",
       "      <td>0.0</td>\n",
       "      <td>0.0</td>\n",
       "      <td>1.0</td>\n",
       "      <td>4.0</td>\n",
       "    </tr>\n",
       "    <tr>\n",
       "      <th>1</th>\n",
       "      <td>0</td>\n",
       "      <td>Cash loans</td>\n",
       "      <td>M</td>\n",
       "      <td>Y</td>\n",
       "      <td>Y</td>\n",
       "      <td>0</td>\n",
       "      <td>180000.0</td>\n",
       "      <td>595903.5</td>\n",
       "      <td>28795.5</td>\n",
       "      <td>481500.0</td>\n",
       "      <td>...</td>\n",
       "      <td>0</td>\n",
       "      <td>0</td>\n",
       "      <td>0</td>\n",
       "      <td>0</td>\n",
       "      <td>0.0</td>\n",
       "      <td>0.0</td>\n",
       "      <td>0.0</td>\n",
       "      <td>0.0</td>\n",
       "      <td>0.0</td>\n",
       "      <td>2.0</td>\n",
       "    </tr>\n",
       "    <tr>\n",
       "      <th>2</th>\n",
       "      <td>0</td>\n",
       "      <td>Cash loans</td>\n",
       "      <td>F</td>\n",
       "      <td>Y</td>\n",
       "      <td>N</td>\n",
       "      <td>1</td>\n",
       "      <td>67500.0</td>\n",
       "      <td>225000.0</td>\n",
       "      <td>9909.0</td>\n",
       "      <td>225000.0</td>\n",
       "      <td>...</td>\n",
       "      <td>0</td>\n",
       "      <td>0</td>\n",
       "      <td>0</td>\n",
       "      <td>0</td>\n",
       "      <td>NaN</td>\n",
       "      <td>NaN</td>\n",
       "      <td>NaN</td>\n",
       "      <td>NaN</td>\n",
       "      <td>NaN</td>\n",
       "      <td>NaN</td>\n",
       "    </tr>\n",
       "    <tr>\n",
       "      <th>3</th>\n",
       "      <td>0</td>\n",
       "      <td>Cash loans</td>\n",
       "      <td>F</td>\n",
       "      <td>N</td>\n",
       "      <td>N</td>\n",
       "      <td>1</td>\n",
       "      <td>112500.0</td>\n",
       "      <td>343800.0</td>\n",
       "      <td>10791.0</td>\n",
       "      <td>225000.0</td>\n",
       "      <td>...</td>\n",
       "      <td>0</td>\n",
       "      <td>0</td>\n",
       "      <td>0</td>\n",
       "      <td>0</td>\n",
       "      <td>0.0</td>\n",
       "      <td>0.0</td>\n",
       "      <td>0.0</td>\n",
       "      <td>0.0</td>\n",
       "      <td>0.0</td>\n",
       "      <td>1.0</td>\n",
       "    </tr>\n",
       "    <tr>\n",
       "      <th>4</th>\n",
       "      <td>0</td>\n",
       "      <td>Cash loans</td>\n",
       "      <td>M</td>\n",
       "      <td>Y</td>\n",
       "      <td>Y</td>\n",
       "      <td>1</td>\n",
       "      <td>112500.0</td>\n",
       "      <td>297130.5</td>\n",
       "      <td>21748.5</td>\n",
       "      <td>256500.0</td>\n",
       "      <td>...</td>\n",
       "      <td>0</td>\n",
       "      <td>0</td>\n",
       "      <td>0</td>\n",
       "      <td>0</td>\n",
       "      <td>0.0</td>\n",
       "      <td>0.0</td>\n",
       "      <td>0.0</td>\n",
       "      <td>0.0</td>\n",
       "      <td>1.0</td>\n",
       "      <td>4.0</td>\n",
       "    </tr>\n",
       "  </tbody>\n",
       "</table>\n",
       "<p>5 rows × 121 columns</p>\n",
       "</div>"
      ],
      "text/plain": [
       "   TARGET NAME_CONTRACT_TYPE CODE_GENDER FLAG_OWN_CAR FLAG_OWN_REALTY  \\\n",
       "0       0         Cash loans           F            N               Y   \n",
       "1       0         Cash loans           M            Y               Y   \n",
       "2       0         Cash loans           F            Y               N   \n",
       "3       0         Cash loans           F            N               N   \n",
       "4       0         Cash loans           M            Y               Y   \n",
       "\n",
       "   CNT_CHILDREN  AMT_INCOME_TOTAL  AMT_CREDIT  AMT_ANNUITY  AMT_GOODS_PRICE  \\\n",
       "0             0          202500.0    225000.0      12915.0         225000.0   \n",
       "1             0          180000.0    595903.5      28795.5         481500.0   \n",
       "2             1           67500.0    225000.0       9909.0         225000.0   \n",
       "3             1          112500.0    343800.0      10791.0         225000.0   \n",
       "4             1          112500.0    297130.5      21748.5         256500.0   \n",
       "\n",
       "   ... FLAG_DOCUMENT_18 FLAG_DOCUMENT_19 FLAG_DOCUMENT_20 FLAG_DOCUMENT_21  \\\n",
       "0  ...                0                0                0                0   \n",
       "1  ...                0                0                0                0   \n",
       "2  ...                0                0                0                0   \n",
       "3  ...                0                0                0                0   \n",
       "4  ...                0                0                0                0   \n",
       "\n",
       "  AMT_REQ_CREDIT_BUREAU_HOUR  AMT_REQ_CREDIT_BUREAU_DAY  \\\n",
       "0                        0.0                        0.0   \n",
       "1                        0.0                        0.0   \n",
       "2                        NaN                        NaN   \n",
       "3                        0.0                        0.0   \n",
       "4                        0.0                        0.0   \n",
       "\n",
       "   AMT_REQ_CREDIT_BUREAU_WEEK  AMT_REQ_CREDIT_BUREAU_MON  \\\n",
       "0                         0.0                        0.0   \n",
       "1                         0.0                        0.0   \n",
       "2                         NaN                        NaN   \n",
       "3                         0.0                        0.0   \n",
       "4                         0.0                        0.0   \n",
       "\n",
       "   AMT_REQ_CREDIT_BUREAU_QRT  AMT_REQ_CREDIT_BUREAU_YEAR  \n",
       "0                        1.0                         4.0  \n",
       "1                        0.0                         2.0  \n",
       "2                        NaN                         NaN  \n",
       "3                        0.0                         1.0  \n",
       "4                        1.0                         4.0  \n",
       "\n",
       "[5 rows x 121 columns]"
      ]
     },
     "execution_count": 30,
     "metadata": {},
     "output_type": "execute_result"
    }
   ],
   "source": [
    "#usuwam kolumnę 'SK_ID_CURR' i mieszam dane\n",
    "data = data.drop(['SK_ID_CURR'], axis=1)\n",
    "data = data.sample(frac=1).reset_index(drop=True)\n",
    "data.head()"
   ]
  },
  {
   "cell_type": "code",
   "execution_count": 31,
   "metadata": {},
   "outputs": [
    {
     "name": "stdout",
     "output_type": "stream",
     "text": [
      "Class 0: 282686\n",
      "Class 1: 24825\n",
      "Proportion: 11.39 : 1\n"
     ]
    },
    {
     "data": {
      "image/png": "[encoded data removed]",
      "text/plain": [
       "<Figure size 432x288 with 1 Axes>"
      ]
     },
     "metadata": {
      "needs_background": "light"
     },
     "output_type": "display_data"
    }
   ],
   "source": [
    "target_count = data['TARGET'].value_counts()\n",
    "print('Class 0:', target_count[0])\n",
    "print('Class 1:', target_count[1])\n",
    "print('Proportion:', round(target_count[0] / target_count[1], 2), ': 1')\n",
    "\n",
    "target_count.plot(kind='bar', title='Count (target)');"
   ]
  },
  {
   "cell_type": "markdown",
   "metadata": {},
   "source": [
    "klasa target jest niezbalansowana, skorzystam z metody losowego niepełnego próbkowania, żeby pozbyć się tego problemu"
   ]
  },
  {
   "cell_type": "code",
   "execution_count": 32,
   "metadata": {},
   "outputs": [],
   "source": [
    "count_class_0, count_class_1 = data['TARGET'].value_counts()\n",
    "\n",
    "class_0 = data[data['TARGET'] == 0]\n",
    "class_1 = data[data['TARGET'] == 1]"
   ]
  },
  {
   "cell_type": "code",
   "execution_count": 33,
   "metadata": {},
   "outputs": [
    {
     "name": "stdout",
     "output_type": "stream",
     "text": [
      "Random under-sampling:\n",
      "1    24825\n",
      "0    24825\n",
      "Name: TARGET, dtype: int64\n"
     ]
    },
    {
     "data": {
      "image/png": "[encoded data removed]",
      "text/plain": [
       "<Figure size 432x288 with 1 Axes>"
      ]
     },
     "metadata": {
      "needs_background": "light"
     },
     "output_type": "display_data"
    }
   ],
   "source": [
    "class_0_under = class_0.sample(count_class_1)\n",
    "data_under = pd.concat([class_0_under, class_1], axis=0)\n",
    "\n",
    "print('Random under-sampling:')\n",
    "print(data_under['TARGET'].value_counts())\n",
    "\n",
    "data_under['TARGET'].value_counts().plot(kind='bar', title='Count (target)');"
   ]
  },
  {
   "cell_type": "code",
   "execution_count": 34,
   "metadata": {
    "scrolled": true
   },
   "outputs": [
    {
     "name": "stdout",
     "output_type": "stream",
     "text": [
      "<class 'pandas.core.frame.DataFrame'>\n",
      "Int64Index: 49650 entries, 116064 to 307510\n",
      "Data columns (total 121 columns):\n",
      " #   Column                        Non-Null Count  Dtype  \n",
      "---  ------                        --------------  -----  \n",
      " 0   TARGET                        49650 non-null  int64  \n",
      " 1   NAME_CONTRACT_TYPE            49650 non-null  object \n",
      " 2   CODE_GENDER                   49650 non-null  object \n",
      " 3   FLAG_OWN_CAR                  49650 non-null  object \n",
      " 4   FLAG_OWN_REALTY               49650 non-null  object \n",
      " 5   CNT_CHILDREN                  49650 non-null  int64  \n",
      " 6   AMT_INCOME_TOTAL              49650 non-null  float64\n",
      " 7   AMT_CREDIT                    49650 non-null  float64\n",
      " 8   AMT_ANNUITY                   49650 non-null  float64\n",
      " 9   AMT_GOODS_PRICE               49610 non-null  float64\n",
      " 10  NAME_TYPE_SUITE               49473 non-null  object \n",
      " 11  NAME_INCOME_TYPE              49650 non-null  object \n",
      " 12  NAME_EDUCATION_TYPE           49650 non-null  object \n",
      " 13  NAME_FAMILY_STATUS            49650 non-null  object \n",
      " 14  NAME_HOUSING_TYPE             49650 non-null  object \n",
      " 15  REGION_POPULATION_RELATIVE    49650 non-null  float64\n",
      " 16  DAYS_BIRTH                    49650 non-null  int64  \n",
      " 17  DAYS_EMPLOYED                 49650 non-null  int64  \n",
      " 18  DAYS_REGISTRATION             49650 non-null  float64\n",
      " 19  DAYS_ID_PUBLISH               49650 non-null  int64  \n",
      " 20  OWN_CAR_AGE                   16087 non-null  float64\n",
      " 21  FLAG_MOBIL                    49650 non-null  int64  \n",
      " 22  FLAG_EMP_PHONE                49650 non-null  int64  \n",
      " 23  FLAG_WORK_PHONE               49650 non-null  int64  \n",
      " 24  FLAG_CONT_MOBILE              49650 non-null  int64  \n",
      " 25  FLAG_PHONE                    49650 non-null  int64  \n",
      " 26  FLAG_EMAIL                    49650 non-null  int64  \n",
      " 27  OCCUPATION_TYPE               35438 non-null  object \n",
      " 28  CNT_FAM_MEMBERS               49650 non-null  float64\n",
      " 29  REGION_RATING_CLIENT          49650 non-null  int64  \n",
      " 30  REGION_RATING_CLIENT_W_CITY   49650 non-null  int64  \n",
      " 31  WEEKDAY_APPR_PROCESS_START    49650 non-null  object \n",
      " 32  HOUR_APPR_PROCESS_START       49650 non-null  int64  \n",
      " 33  REG_REGION_NOT_LIVE_REGION    49650 non-null  int64  \n",
      " 34  REG_REGION_NOT_WORK_REGION    49650 non-null  int64  \n",
      " 35  LIVE_REGION_NOT_WORK_REGION   49650 non-null  int64  \n",
      " 36  REG_CITY_NOT_LIVE_CITY        49650 non-null  int64  \n",
      " 37  REG_CITY_NOT_WORK_CITY        49650 non-null  int64  \n",
      " 38  LIVE_CITY_NOT_WORK_CITY       49650 non-null  int64  \n",
      " 39  ORGANIZATION_TYPE             49650 non-null  object \n",
      " 40  EXT_SOURCE_1                  20927 non-null  float64\n",
      " 41  EXT_SOURCE_2                  49536 non-null  float64\n",
      " 42  EXT_SOURCE_3                  39137 non-null  float64\n",
      " 43  APARTMENTS_AVG                22806 non-null  float64\n",
      " 44  BASEMENTAREA_AVG              19165 non-null  float64\n",
      " 45  YEARS_BEGINEXPLUATATION_AVG   23779 non-null  float64\n",
      " 46  YEARS_BUILD_AVG               15430 non-null  float64\n",
      " 47  COMMONAREA_AVG                13897 non-null  float64\n",
      " 48  ELEVATORS_AVG                 21583 non-null  float64\n",
      " 49  ENTRANCES_AVG                 22984 non-null  float64\n",
      " 50  FLOORSMAX_AVG                 23270 non-null  float64\n",
      " 51  FLOORSMIN_AVG                 14794 non-null  float64\n",
      " 52  LANDAREA_AVG                  18812 non-null  float64\n",
      " 53  LIVINGAPARTMENTS_AVG          14584 non-null  float64\n",
      " 54  LIVINGAREA_AVG                23148 non-null  float64\n",
      " 55  NONLIVINGAPARTMENTS_AVG       14131 non-null  float64\n",
      " 56  NONLIVINGAREA_AVG             20744 non-null  float64\n",
      " 57  APARTMENTS_MODE               22806 non-null  float64\n",
      " 58  BASEMENTAREA_MODE             19165 non-null  float64\n",
      " 59  YEARS_BEGINEXPLUATATION_MODE  23779 non-null  float64\n",
      " 60  YEARS_BUILD_MODE              15430 non-null  float64\n",
      " 61  COMMONAREA_MODE               13897 non-null  float64\n",
      " 62  ELEVATORS_MODE                21583 non-null  float64\n",
      " 63  ENTRANCES_MODE                22984 non-null  float64\n",
      " 64  FLOORSMAX_MODE                23270 non-null  float64\n",
      " 65  FLOORSMIN_MODE                14794 non-null  float64\n",
      " 66  LANDAREA_MODE                 18812 non-null  float64\n",
      " 67  LIVINGAPARTMENTS_MODE         14584 non-null  float64\n",
      " 68  LIVINGAREA_MODE               23148 non-null  float64\n",
      " 69  NONLIVINGAPARTMENTS_MODE      14131 non-null  float64\n",
      " 70  NONLIVINGAREA_MODE            20744 non-null  float64\n",
      " 71  APARTMENTS_MEDI               22806 non-null  float64\n",
      " 72  BASEMENTAREA_MEDI             19165 non-null  float64\n",
      " 73  YEARS_BEGINEXPLUATATION_MEDI  23779 non-null  float64\n",
      " 74  YEARS_BUILD_MEDI              15430 non-null  float64\n",
      " 75  COMMONAREA_MEDI               13897 non-null  float64\n",
      " 76  ELEVATORS_MEDI                21583 non-null  float64\n",
      " 77  ENTRANCES_MEDI                22984 non-null  float64\n",
      " 78  FLOORSMAX_MEDI                23270 non-null  float64\n",
      " 79  FLOORSMIN_MEDI                14794 non-null  float64\n",
      " 80  LANDAREA_MEDI                 18812 non-null  float64\n",
      " 81  LIVINGAPARTMENTS_MEDI         14584 non-null  float64\n",
      " 82  LIVINGAREA_MEDI               23148 non-null  float64\n",
      " 83  NONLIVINGAPARTMENTS_MEDI      14131 non-null  float64\n",
      " 84  NONLIVINGAREA_MEDI            20744 non-null  float64\n",
      " 85  FONDKAPREMONT_MODE            14530 non-null  object \n",
      " 86  HOUSETYPE_MODE                23129 non-null  object \n",
      " 87  TOTALAREA_MODE                24016 non-null  float64\n",
      " 88  WALLSMATERIAL_MODE            22795 non-null  object \n",
      " 89  EMERGENCYSTATE_MODE           24432 non-null  object \n",
      " 90  OBS_30_CNT_SOCIAL_CIRCLE      49542 non-null  float64\n",
      " 91  DEF_30_CNT_SOCIAL_CIRCLE      49542 non-null  float64\n",
      " 92  OBS_60_CNT_SOCIAL_CIRCLE      49542 non-null  float64\n",
      " 93  DEF_60_CNT_SOCIAL_CIRCLE      49542 non-null  float64\n",
      " 94  DAYS_LAST_PHONE_CHANGE        49650 non-null  float64\n",
      " 95  FLAG_DOCUMENT_2               49650 non-null  int64  \n",
      " 96  FLAG_DOCUMENT_3               49650 non-null  int64  \n",
      " 97  FLAG_DOCUMENT_4               49650 non-null  int64  \n",
      " 98  FLAG_DOCUMENT_5               49650 non-null  int64  \n",
      " 99  FLAG_DOCUMENT_6               49650 non-null  int64  \n",
      " 100 FLAG_DOCUMENT_7               49650 non-null  int64  \n",
      " 101 FLAG_DOCUMENT_8               49650 non-null  int64  \n",
      " 102 FLAG_DOCUMENT_9               49650 non-null  int64  \n",
      " 103 FLAG_DOCUMENT_10              49650 non-null  int64  \n",
      " 104 FLAG_DOCUMENT_11              49650 non-null  int64  \n",
      " 105 FLAG_DOCUMENT_12              49650 non-null  int64  \n",
      " 106 FLAG_DOCUMENT_13              49650 non-null  int64  \n",
      " 107 FLAG_DOCUMENT_14              49650 non-null  int64  \n",
      " 108 FLAG_DOCUMENT_15              49650 non-null  int64  \n",
      " 109 FLAG_DOCUMENT_16              49650 non-null  int64  \n",
      " 110 FLAG_DOCUMENT_17              49650 non-null  int64  \n",
      " 111 FLAG_DOCUMENT_18              49650 non-null  int64  \n",
      " 112 FLAG_DOCUMENT_19              49650 non-null  int64  \n",
      " 113 FLAG_DOCUMENT_20              49650 non-null  int64  \n",
      " 114 FLAG_DOCUMENT_21              49650 non-null  int64  \n",
      " 115 AMT_REQ_CREDIT_BUREAU_HOUR    42094 non-null  float64\n",
      " 116 AMT_REQ_CREDIT_BUREAU_DAY     42094 non-null  float64\n",
      " 117 AMT_REQ_CREDIT_BUREAU_WEEK    42094 non-null  float64\n",
      " 118 AMT_REQ_CREDIT_BUREAU_MON     42094 non-null  float64\n",
      " 119 AMT_REQ_CREDIT_BUREAU_QRT     42094 non-null  float64\n",
      " 120 AMT_REQ_CREDIT_BUREAU_YEAR    42094 non-null  float64\n",
      "dtypes: float64(65), int64(40), object(16)\n",
      "memory usage: 46.2+ MB\n"
     ]
    }
   ],
   "source": [
    "data_under.info(verbose=True, null_counts=True)"
   ]
  },
  {
   "cell_type": "code",
   "execution_count": 35,
   "metadata": {
    "scrolled": true
   },
   "outputs": [
    {
     "data": {
      "text/plain": [
       "AMT_GOODS_PRICE                0.080564\n",
       "NAME_TYPE_SUITE                0.356495\n",
       "OWN_CAR_AGE                   67.599194\n",
       "OCCUPATION_TYPE               28.624371\n",
       "EXT_SOURCE_1                  57.850957\n",
       "                                ...    \n",
       "AMT_REQ_CREDIT_BUREAU_DAY     15.218530\n",
       "AMT_REQ_CREDIT_BUREAU_WEEK    15.218530\n",
       "AMT_REQ_CREDIT_BUREAU_MON     15.218530\n",
       "AMT_REQ_CREDIT_BUREAU_QRT     15.218530\n",
       "AMT_REQ_CREDIT_BUREAU_YEAR    15.218530\n",
       "Length: 64, dtype: float64"
      ]
     },
     "execution_count": 35,
     "metadata": {},
     "output_type": "execute_result"
    }
   ],
   "source": [
    "a = data_under.isna().mean()*100\n",
    "a[a>0]"
   ]
  },
  {
   "cell_type": "code",
   "execution_count": 36,
   "metadata": {},
   "outputs": [
    {
     "name": "stdout",
     "output_type": "stream",
     "text": [
      "49\n"
     ]
    },
    {
     "data": {
      "text/plain": [
       "OWN_CAR_AGE                     67.599194\n",
       "EXT_SOURCE_1                    57.850957\n",
       "APARTMENTS_AVG                  54.066465\n",
       "BASEMENTAREA_AVG                61.399799\n",
       "YEARS_BEGINEXPLUATATION_AVG     52.106747\n",
       "YEARS_BUILD_AVG                 68.922457\n",
       "COMMONAREA_AVG                  72.010070\n",
       "ELEVATORS_AVG                   56.529708\n",
       "ENTRANCES_AVG                   53.707956\n",
       "FLOORSMAX_AVG                   53.131923\n",
       "FLOORSMIN_AVG                   70.203424\n",
       "LANDAREA_AVG                    62.110775\n",
       "LIVINGAPARTMENTS_AVG            70.626385\n",
       "LIVINGAREA_AVG                  53.377644\n",
       "NONLIVINGAPARTMENTS_AVG         71.538771\n",
       "NONLIVINGAREA_AVG               58.219537\n",
       "APARTMENTS_MODE                 54.066465\n",
       "BASEMENTAREA_MODE               61.399799\n",
       "YEARS_BEGINEXPLUATATION_MODE    52.106747\n",
       "YEARS_BUILD_MODE                68.922457\n",
       "COMMONAREA_MODE                 72.010070\n",
       "ELEVATORS_MODE                  56.529708\n",
       "ENTRANCES_MODE                  53.707956\n",
       "FLOORSMAX_MODE                  53.131923\n",
       "FLOORSMIN_MODE                  70.203424\n",
       "LANDAREA_MODE                   62.110775\n",
       "LIVINGAPARTMENTS_MODE           70.626385\n",
       "LIVINGAREA_MODE                 53.377644\n",
       "NONLIVINGAPARTMENTS_MODE        71.538771\n",
       "NONLIVINGAREA_MODE              58.219537\n",
       "APARTMENTS_MEDI                 54.066465\n",
       "BASEMENTAREA_MEDI               61.399799\n",
       "YEARS_BEGINEXPLUATATION_MEDI    52.106747\n",
       "YEARS_BUILD_MEDI                68.922457\n",
       "COMMONAREA_MEDI                 72.010070\n",
       "ELEVATORS_MEDI                  56.529708\n",
       "ENTRANCES_MEDI                  53.707956\n",
       "FLOORSMAX_MEDI                  53.131923\n",
       "FLOORSMIN_MEDI                  70.203424\n",
       "LANDAREA_MEDI                   62.110775\n",
       "LIVINGAPARTMENTS_MEDI           70.626385\n",
       "LIVINGAREA_MEDI                 53.377644\n",
       "NONLIVINGAPARTMENTS_MEDI        71.538771\n",
       "NONLIVINGAREA_MEDI              58.219537\n",
       "FONDKAPREMONT_MODE              70.735146\n",
       "HOUSETYPE_MODE                  53.415911\n",
       "TOTALAREA_MODE                  51.629406\n",
       "WALLSMATERIAL_MODE              54.088620\n",
       "EMERGENCYSTATE_MODE             50.791541\n",
       "dtype: float64"
      ]
     },
     "execution_count": 36,
     "metadata": {},
     "output_type": "execute_result"
    }
   ],
   "source": [
    "a = data_under.isna().mean()*100\n",
    "print(len(a[a>30]))\n",
    "a[a>30]"
   ]
  },
  {
   "cell_type": "markdown",
   "metadata": {},
   "source": [
    "Mamy 49 kolumn, w których liczba pustych miejsc jest większa od 30%. Po prostu usnę te kolumny"
   ]
  },
  {
   "cell_type": "code",
   "execution_count": 37,
   "metadata": {},
   "outputs": [],
   "source": [
    "for column in data_under.columns:\n",
    "    if data_under[column].isna().mean()*100 > 30:\n",
    "        data_under.drop([column], axis=1, inplace=True)"
   ]
  },
  {
   "cell_type": "markdown",
   "metadata": {},
   "source": [
    "Dla zwiększenia losowości, wymieszam te dane przed podziałem na próbę treningową i testową"
   ]
  },
  {
   "cell_type": "code",
   "execution_count": 38,
   "metadata": {},
   "outputs": [
    {
     "data": {
      "text/html": [
       "<div>\n",
       "<style scoped>\n",
       "    .dataframe tbody tr th:only-of-type {\n",
       "        vertical-align: middle;\n",
       "    }\n",
       "\n",
       "    .dataframe tbody tr th {\n",
       "        vertical-align: top;\n",
       "    }\n",
       "\n",
       "    .dataframe thead th {\n",
       "        text-align: right;\n",
       "    }\n",
       "</style>\n",
       "<table border=\"1\" class=\"dataframe\">\n",
       "  <thead>\n",
       "    <tr style=\"text-align: right;\">\n",
       "      <th></th>\n",
       "      <th>TARGET</th>\n",
       "      <th>NAME_CONTRACT_TYPE</th>\n",
       "      <th>CODE_GENDER</th>\n",
       "      <th>FLAG_OWN_CAR</th>\n",
       "      <th>FLAG_OWN_REALTY</th>\n",
       "      <th>CNT_CHILDREN</th>\n",
       "      <th>AMT_INCOME_TOTAL</th>\n",
       "      <th>AMT_CREDIT</th>\n",
       "      <th>AMT_ANNUITY</th>\n",
       "      <th>AMT_GOODS_PRICE</th>\n",
       "      <th>...</th>\n",
       "      <th>FLAG_DOCUMENT_18</th>\n",
       "      <th>FLAG_DOCUMENT_19</th>\n",
       "      <th>FLAG_DOCUMENT_20</th>\n",
       "      <th>FLAG_DOCUMENT_21</th>\n",
       "      <th>AMT_REQ_CREDIT_BUREAU_HOUR</th>\n",
       "      <th>AMT_REQ_CREDIT_BUREAU_DAY</th>\n",
       "      <th>AMT_REQ_CREDIT_BUREAU_WEEK</th>\n",
       "      <th>AMT_REQ_CREDIT_BUREAU_MON</th>\n",
       "      <th>AMT_REQ_CREDIT_BUREAU_QRT</th>\n",
       "      <th>AMT_REQ_CREDIT_BUREAU_YEAR</th>\n",
       "    </tr>\n",
       "  </thead>\n",
       "  <tbody>\n",
       "    <tr>\n",
       "      <th>0</th>\n",
       "      <td>1</td>\n",
       "      <td>Cash loans</td>\n",
       "      <td>F</td>\n",
       "      <td>N</td>\n",
       "      <td>Y</td>\n",
       "      <td>4</td>\n",
       "      <td>180000.0</td>\n",
       "      <td>314100.0</td>\n",
       "      <td>19111.5</td>\n",
       "      <td>225000.0</td>\n",
       "      <td>...</td>\n",
       "      <td>0</td>\n",
       "      <td>0</td>\n",
       "      <td>0</td>\n",
       "      <td>0</td>\n",
       "      <td>0.0</td>\n",
       "      <td>0.0</td>\n",
       "      <td>0.0</td>\n",
       "      <td>0.0</td>\n",
       "      <td>0.0</td>\n",
       "      <td>0.0</td>\n",
       "    </tr>\n",
       "    <tr>\n",
       "      <th>1</th>\n",
       "      <td>1</td>\n",
       "      <td>Revolving loans</td>\n",
       "      <td>F</td>\n",
       "      <td>N</td>\n",
       "      <td>Y</td>\n",
       "      <td>0</td>\n",
       "      <td>135000.0</td>\n",
       "      <td>405000.0</td>\n",
       "      <td>20250.0</td>\n",
       "      <td>405000.0</td>\n",
       "      <td>...</td>\n",
       "      <td>0</td>\n",
       "      <td>0</td>\n",
       "      <td>0</td>\n",
       "      <td>0</td>\n",
       "      <td>0.0</td>\n",
       "      <td>0.0</td>\n",
       "      <td>0.0</td>\n",
       "      <td>3.0</td>\n",
       "      <td>0.0</td>\n",
       "      <td>2.0</td>\n",
       "    </tr>\n",
       "    <tr>\n",
       "      <th>2</th>\n",
       "      <td>1</td>\n",
       "      <td>Cash loans</td>\n",
       "      <td>F</td>\n",
       "      <td>N</td>\n",
       "      <td>N</td>\n",
       "      <td>1</td>\n",
       "      <td>112500.0</td>\n",
       "      <td>284400.0</td>\n",
       "      <td>14854.5</td>\n",
       "      <td>225000.0</td>\n",
       "      <td>...</td>\n",
       "      <td>0</td>\n",
       "      <td>0</td>\n",
       "      <td>0</td>\n",
       "      <td>0</td>\n",
       "      <td>NaN</td>\n",
       "      <td>NaN</td>\n",
       "      <td>NaN</td>\n",
       "      <td>NaN</td>\n",
       "      <td>NaN</td>\n",
       "      <td>NaN</td>\n",
       "    </tr>\n",
       "    <tr>\n",
       "      <th>3</th>\n",
       "      <td>0</td>\n",
       "      <td>Cash loans</td>\n",
       "      <td>M</td>\n",
       "      <td>N</td>\n",
       "      <td>Y</td>\n",
       "      <td>0</td>\n",
       "      <td>247500.0</td>\n",
       "      <td>2214000.0</td>\n",
       "      <td>58531.5</td>\n",
       "      <td>2214000.0</td>\n",
       "      <td>...</td>\n",
       "      <td>0</td>\n",
       "      <td>0</td>\n",
       "      <td>0</td>\n",
       "      <td>0</td>\n",
       "      <td>0.0</td>\n",
       "      <td>0.0</td>\n",
       "      <td>0.0</td>\n",
       "      <td>0.0</td>\n",
       "      <td>1.0</td>\n",
       "      <td>2.0</td>\n",
       "    </tr>\n",
       "    <tr>\n",
       "      <th>4</th>\n",
       "      <td>1</td>\n",
       "      <td>Cash loans</td>\n",
       "      <td>M</td>\n",
       "      <td>Y</td>\n",
       "      <td>Y</td>\n",
       "      <td>2</td>\n",
       "      <td>225000.0</td>\n",
       "      <td>225000.0</td>\n",
       "      <td>24232.5</td>\n",
       "      <td>225000.0</td>\n",
       "      <td>...</td>\n",
       "      <td>0</td>\n",
       "      <td>0</td>\n",
       "      <td>0</td>\n",
       "      <td>0</td>\n",
       "      <td>0.0</td>\n",
       "      <td>0.0</td>\n",
       "      <td>0.0</td>\n",
       "      <td>2.0</td>\n",
       "      <td>0.0</td>\n",
       "      <td>1.0</td>\n",
       "    </tr>\n",
       "    <tr>\n",
       "      <th>...</th>\n",
       "      <td>...</td>\n",
       "      <td>...</td>\n",
       "      <td>...</td>\n",
       "      <td>...</td>\n",
       "      <td>...</td>\n",
       "      <td>...</td>\n",
       "      <td>...</td>\n",
       "      <td>...</td>\n",
       "      <td>...</td>\n",
       "      <td>...</td>\n",
       "      <td>...</td>\n",
       "      <td>...</td>\n",
       "      <td>...</td>\n",
       "      <td>...</td>\n",
       "      <td>...</td>\n",
       "      <td>...</td>\n",
       "      <td>...</td>\n",
       "      <td>...</td>\n",
       "      <td>...</td>\n",
       "      <td>...</td>\n",
       "      <td>...</td>\n",
       "    </tr>\n",
       "    <tr>\n",
       "      <th>49645</th>\n",
       "      <td>0</td>\n",
       "      <td>Cash loans</td>\n",
       "      <td>F</td>\n",
       "      <td>N</td>\n",
       "      <td>Y</td>\n",
       "      <td>1</td>\n",
       "      <td>166500.0</td>\n",
       "      <td>688500.0</td>\n",
       "      <td>24520.5</td>\n",
       "      <td>688500.0</td>\n",
       "      <td>...</td>\n",
       "      <td>0</td>\n",
       "      <td>0</td>\n",
       "      <td>0</td>\n",
       "      <td>0</td>\n",
       "      <td>0.0</td>\n",
       "      <td>0.0</td>\n",
       "      <td>0.0</td>\n",
       "      <td>0.0</td>\n",
       "      <td>0.0</td>\n",
       "      <td>2.0</td>\n",
       "    </tr>\n",
       "    <tr>\n",
       "      <th>49646</th>\n",
       "      <td>0</td>\n",
       "      <td>Cash loans</td>\n",
       "      <td>F</td>\n",
       "      <td>N</td>\n",
       "      <td>N</td>\n",
       "      <td>1</td>\n",
       "      <td>135000.0</td>\n",
       "      <td>835380.0</td>\n",
       "      <td>42781.5</td>\n",
       "      <td>675000.0</td>\n",
       "      <td>...</td>\n",
       "      <td>0</td>\n",
       "      <td>0</td>\n",
       "      <td>0</td>\n",
       "      <td>0</td>\n",
       "      <td>0.0</td>\n",
       "      <td>0.0</td>\n",
       "      <td>0.0</td>\n",
       "      <td>0.0</td>\n",
       "      <td>0.0</td>\n",
       "      <td>1.0</td>\n",
       "    </tr>\n",
       "    <tr>\n",
       "      <th>49647</th>\n",
       "      <td>0</td>\n",
       "      <td>Cash loans</td>\n",
       "      <td>F</td>\n",
       "      <td>Y</td>\n",
       "      <td>Y</td>\n",
       "      <td>1</td>\n",
       "      <td>171000.0</td>\n",
       "      <td>679500.0</td>\n",
       "      <td>28917.0</td>\n",
       "      <td>679500.0</td>\n",
       "      <td>...</td>\n",
       "      <td>0</td>\n",
       "      <td>0</td>\n",
       "      <td>0</td>\n",
       "      <td>0</td>\n",
       "      <td>0.0</td>\n",
       "      <td>0.0</td>\n",
       "      <td>0.0</td>\n",
       "      <td>0.0</td>\n",
       "      <td>1.0</td>\n",
       "      <td>2.0</td>\n",
       "    </tr>\n",
       "    <tr>\n",
       "      <th>49648</th>\n",
       "      <td>1</td>\n",
       "      <td>Cash loans</td>\n",
       "      <td>F</td>\n",
       "      <td>Y</td>\n",
       "      <td>Y</td>\n",
       "      <td>1</td>\n",
       "      <td>157500.0</td>\n",
       "      <td>1870677.0</td>\n",
       "      <td>51570.0</td>\n",
       "      <td>1561500.0</td>\n",
       "      <td>...</td>\n",
       "      <td>0</td>\n",
       "      <td>0</td>\n",
       "      <td>0</td>\n",
       "      <td>0</td>\n",
       "      <td>0.0</td>\n",
       "      <td>0.0</td>\n",
       "      <td>0.0</td>\n",
       "      <td>1.0</td>\n",
       "      <td>0.0</td>\n",
       "      <td>2.0</td>\n",
       "    </tr>\n",
       "    <tr>\n",
       "      <th>49649</th>\n",
       "      <td>1</td>\n",
       "      <td>Cash loans</td>\n",
       "      <td>F</td>\n",
       "      <td>N</td>\n",
       "      <td>N</td>\n",
       "      <td>0</td>\n",
       "      <td>270000.0</td>\n",
       "      <td>634482.0</td>\n",
       "      <td>20596.5</td>\n",
       "      <td>454500.0</td>\n",
       "      <td>...</td>\n",
       "      <td>0</td>\n",
       "      <td>0</td>\n",
       "      <td>0</td>\n",
       "      <td>0</td>\n",
       "      <td>0.0</td>\n",
       "      <td>0.0</td>\n",
       "      <td>0.0</td>\n",
       "      <td>0.0</td>\n",
       "      <td>0.0</td>\n",
       "      <td>1.0</td>\n",
       "    </tr>\n",
       "  </tbody>\n",
       "</table>\n",
       "<p>49650 rows × 72 columns</p>\n",
       "</div>"
      ],
      "text/plain": [
       "       TARGET NAME_CONTRACT_TYPE CODE_GENDER FLAG_OWN_CAR FLAG_OWN_REALTY  \\\n",
       "0           1         Cash loans           F            N               Y   \n",
       "1           1    Revolving loans           F            N               Y   \n",
       "2           1         Cash loans           F            N               N   \n",
       "3           0         Cash loans           M            N               Y   \n",
       "4           1         Cash loans           M            Y               Y   \n",
       "...       ...                ...         ...          ...             ...   \n",
       "49645       0         Cash loans           F            N               Y   \n",
       "49646       0         Cash loans           F            N               N   \n",
       "49647       0         Cash loans           F            Y               Y   \n",
       "49648       1         Cash loans           F            Y               Y   \n",
       "49649       1         Cash loans           F            N               N   \n",
       "\n",
       "       CNT_CHILDREN  AMT_INCOME_TOTAL  AMT_CREDIT  AMT_ANNUITY  \\\n",
       "0                 4          180000.0    314100.0      19111.5   \n",
       "1                 0          135000.0    405000.0      20250.0   \n",
       "2                 1          112500.0    284400.0      14854.5   \n",
       "3                 0          247500.0   2214000.0      58531.5   \n",
       "4                 2          225000.0    225000.0      24232.5   \n",
       "...             ...               ...         ...          ...   \n",
       "49645             1          166500.0    688500.0      24520.5   \n",
       "49646             1          135000.0    835380.0      42781.5   \n",
       "49647             1          171000.0    679500.0      28917.0   \n",
       "49648             1          157500.0   1870677.0      51570.0   \n",
       "49649             0          270000.0    634482.0      20596.5   \n",
       "\n",
       "       AMT_GOODS_PRICE  ... FLAG_DOCUMENT_18 FLAG_DOCUMENT_19  \\\n",
       "0             225000.0  ...                0                0   \n",
       "1             405000.0  ...                0                0   \n",
       "2             225000.0  ...                0                0   \n",
       "3            2214000.0  ...                0                0   \n",
       "4             225000.0  ...                0                0   \n",
       "...                ...  ...              ...              ...   \n",
       "49645         688500.0  ...                0                0   \n",
       "49646         675000.0  ...                0                0   \n",
       "49647         679500.0  ...                0                0   \n",
       "49648        1561500.0  ...                0                0   \n",
       "49649         454500.0  ...                0                0   \n",
       "\n",
       "      FLAG_DOCUMENT_20 FLAG_DOCUMENT_21 AMT_REQ_CREDIT_BUREAU_HOUR  \\\n",
       "0                    0                0                        0.0   \n",
       "1                    0                0                        0.0   \n",
       "2                    0                0                        NaN   \n",
       "3                    0                0                        0.0   \n",
       "4                    0                0                        0.0   \n",
       "...                ...              ...                        ...   \n",
       "49645                0                0                        0.0   \n",
       "49646                0                0                        0.0   \n",
       "49647                0                0                        0.0   \n",
       "49648                0                0                        0.0   \n",
       "49649                0                0                        0.0   \n",
       "\n",
       "       AMT_REQ_CREDIT_BUREAU_DAY  AMT_REQ_CREDIT_BUREAU_WEEK  \\\n",
       "0                            0.0                         0.0   \n",
       "1                            0.0                         0.0   \n",
       "2                            NaN                         NaN   \n",
       "3                            0.0                         0.0   \n",
       "4                            0.0                         0.0   \n",
       "...                          ...                         ...   \n",
       "49645                        0.0                         0.0   \n",
       "49646                        0.0                         0.0   \n",
       "49647                        0.0                         0.0   \n",
       "49648                        0.0                         0.0   \n",
       "49649                        0.0                         0.0   \n",
       "\n",
       "       AMT_REQ_CREDIT_BUREAU_MON  AMT_REQ_CREDIT_BUREAU_QRT  \\\n",
       "0                            0.0                        0.0   \n",
       "1                            3.0                        0.0   \n",
       "2                            NaN                        NaN   \n",
       "3                            0.0                        1.0   \n",
       "4                            2.0                        0.0   \n",
       "...                          ...                        ...   \n",
       "49645                        0.0                        0.0   \n",
       "49646                        0.0                        0.0   \n",
       "49647                        0.0                        1.0   \n",
       "49648                        1.0                        0.0   \n",
       "49649                        0.0                        0.0   \n",
       "\n",
       "       AMT_REQ_CREDIT_BUREAU_YEAR  \n",
       "0                             0.0  \n",
       "1                             2.0  \n",
       "2                             NaN  \n",
       "3                             2.0  \n",
       "4                             1.0  \n",
       "...                           ...  \n",
       "49645                         2.0  \n",
       "49646                         1.0  \n",
       "49647                         2.0  \n",
       "49648                         2.0  \n",
       "49649                         1.0  \n",
       "\n",
       "[49650 rows x 72 columns]"
      ]
     },
     "execution_count": 38,
     "metadata": {},
     "output_type": "execute_result"
    }
   ],
   "source": [
    "data_under = data_under.sample(frac=1).reset_index(drop=True)\n",
    "data_under"
   ]
  },
  {
   "cell_type": "markdown",
   "metadata": {},
   "source": [
    "Podział na zestaw treningowy i testowy"
   ]
  },
  {
   "cell_type": "code",
   "execution_count": 39,
   "metadata": {},
   "outputs": [],
   "source": [
    "X_train, X_test, y_train, y_test = train_test_split(data_under.drop('TARGET', axis=1),\n",
    "                                                    data_under['TARGET'],\n",
    "                                                    test_size=0.2,\n",
    "                                                    stratify=data_under['TARGET'],\n",
    "                                                    random_state=42)"
   ]
  },
  {
   "cell_type": "code",
   "execution_count": 40,
   "metadata": {},
   "outputs": [
    {
     "data": {
      "text/html": [
       "<div>\n",
       "<style scoped>\n",
       "    .dataframe tbody tr th:only-of-type {\n",
       "        vertical-align: middle;\n",
       "    }\n",
       "\n",
       "    .dataframe tbody tr th {\n",
       "        vertical-align: top;\n",
       "    }\n",
       "\n",
       "    .dataframe thead th {\n",
       "        text-align: right;\n",
       "    }\n",
       "</style>\n",
       "<table border=\"1\" class=\"dataframe\">\n",
       "  <thead>\n",
       "    <tr style=\"text-align: right;\">\n",
       "      <th></th>\n",
       "      <th>TARGET</th>\n",
       "      <th>CNT_CHILDREN</th>\n",
       "      <th>AMT_INCOME_TOTAL</th>\n",
       "      <th>AMT_CREDIT</th>\n",
       "      <th>AMT_ANNUITY</th>\n",
       "      <th>AMT_GOODS_PRICE</th>\n",
       "      <th>REGION_POPULATION_RELATIVE</th>\n",
       "      <th>DAYS_BIRTH</th>\n",
       "      <th>DAYS_EMPLOYED</th>\n",
       "      <th>DAYS_REGISTRATION</th>\n",
       "      <th>...</th>\n",
       "      <th>FLAG_DOCUMENT_18</th>\n",
       "      <th>FLAG_DOCUMENT_19</th>\n",
       "      <th>FLAG_DOCUMENT_20</th>\n",
       "      <th>FLAG_DOCUMENT_21</th>\n",
       "      <th>AMT_REQ_CREDIT_BUREAU_HOUR</th>\n",
       "      <th>AMT_REQ_CREDIT_BUREAU_DAY</th>\n",
       "      <th>AMT_REQ_CREDIT_BUREAU_WEEK</th>\n",
       "      <th>AMT_REQ_CREDIT_BUREAU_MON</th>\n",
       "      <th>AMT_REQ_CREDIT_BUREAU_QRT</th>\n",
       "      <th>AMT_REQ_CREDIT_BUREAU_YEAR</th>\n",
       "    </tr>\n",
       "  </thead>\n",
       "  <tbody>\n",
       "    <tr>\n",
       "      <th>count</th>\n",
       "      <td>49650.000000</td>\n",
       "      <td>49650.000000</td>\n",
       "      <td>4.965000e+04</td>\n",
       "      <td>4.965000e+04</td>\n",
       "      <td>49650.000000</td>\n",
       "      <td>4.961000e+04</td>\n",
       "      <td>49650.000000</td>\n",
       "      <td>49650.000000</td>\n",
       "      <td>49650.000000</td>\n",
       "      <td>49650.000000</td>\n",
       "      <td>...</td>\n",
       "      <td>49650.000000</td>\n",
       "      <td>49650.000000</td>\n",
       "      <td>49650.000000</td>\n",
       "      <td>49650.000000</td>\n",
       "      <td>42094.000000</td>\n",
       "      <td>42094.000000</td>\n",
       "      <td>42094.000000</td>\n",
       "      <td>42094.000000</td>\n",
       "      <td>42094.000000</td>\n",
       "      <td>42094.000000</td>\n",
       "    </tr>\n",
       "    <tr>\n",
       "      <th>mean</th>\n",
       "      <td>0.500000</td>\n",
       "      <td>0.433112</td>\n",
       "      <td>1.676093e+05</td>\n",
       "      <td>5.815305e+05</td>\n",
       "      <td>26921.708701</td>\n",
       "      <td>5.171736e+05</td>\n",
       "      <td>0.020063</td>\n",
       "      <td>-15545.045700</td>\n",
       "      <td>54528.852367</td>\n",
       "      <td>-4748.528701</td>\n",
       "      <td>...</td>\n",
       "      <td>0.006667</td>\n",
       "      <td>0.000504</td>\n",
       "      <td>0.000504</td>\n",
       "      <td>0.000383</td>\n",
       "      <td>0.006747</td>\n",
       "      <td>0.007269</td>\n",
       "      <td>0.035064</td>\n",
       "      <td>0.241103</td>\n",
       "      <td>0.261534</td>\n",
       "      <td>1.963677</td>\n",
       "    </tr>\n",
       "    <tr>\n",
       "      <th>std</th>\n",
       "      <td>0.500005</td>\n",
       "      <td>0.735284</td>\n",
       "      <td>5.328003e+05</td>\n",
       "      <td>3.791344e+05</td>\n",
       "      <td>13708.608891</td>\n",
       "      <td>3.460863e+05</td>\n",
       "      <td>0.013014</td>\n",
       "      <td>4328.151273</td>\n",
       "      <td>132695.013293</td>\n",
       "      <td>3418.657182</td>\n",
       "      <td>...</td>\n",
       "      <td>0.081378</td>\n",
       "      <td>0.022434</td>\n",
       "      <td>0.022434</td>\n",
       "      <td>0.019559</td>\n",
       "      <td>0.085829</td>\n",
       "      <td>0.099386</td>\n",
       "      <td>0.207722</td>\n",
       "      <td>0.801550</td>\n",
       "      <td>0.627602</td>\n",
       "      <td>1.897483</td>\n",
       "    </tr>\n",
       "    <tr>\n",
       "      <th>min</th>\n",
       "      <td>0.000000</td>\n",
       "      <td>0.000000</td>\n",
       "      <td>2.565000e+04</td>\n",
       "      <td>4.500000e+04</td>\n",
       "      <td>2052.000000</td>\n",
       "      <td>4.050000e+04</td>\n",
       "      <td>0.000533</td>\n",
       "      <td>-25184.000000</td>\n",
       "      <td>-17546.000000</td>\n",
       "      <td>-22928.000000</td>\n",
       "      <td>...</td>\n",
       "      <td>0.000000</td>\n",
       "      <td>0.000000</td>\n",
       "      <td>0.000000</td>\n",
       "      <td>0.000000</td>\n",
       "      <td>0.000000</td>\n",
       "      <td>0.000000</td>\n",
       "      <td>0.000000</td>\n",
       "      <td>0.000000</td>\n",
       "      <td>0.000000</td>\n",
       "      <td>0.000000</td>\n",
       "    </tr>\n",
       "    <tr>\n",
       "      <th>25%</th>\n",
       "      <td>0.000000</td>\n",
       "      <td>0.000000</td>\n",
       "      <td>1.125000e+05</td>\n",
       "      <td>2.779695e+05</td>\n",
       "      <td>16875.000000</td>\n",
       "      <td>2.385000e+05</td>\n",
       "      <td>0.009657</td>\n",
       "      <td>-19065.000000</td>\n",
       "      <td>-2487.000000</td>\n",
       "      <td>-7079.750000</td>\n",
       "      <td>...</td>\n",
       "      <td>0.000000</td>\n",
       "      <td>0.000000</td>\n",
       "      <td>0.000000</td>\n",
       "      <td>0.000000</td>\n",
       "      <td>0.000000</td>\n",
       "      <td>0.000000</td>\n",
       "      <td>0.000000</td>\n",
       "      <td>0.000000</td>\n",
       "      <td>0.000000</td>\n",
       "      <td>0.000000</td>\n",
       "    </tr>\n",
       "    <tr>\n",
       "      <th>50%</th>\n",
       "      <td>0.500000</td>\n",
       "      <td>0.000000</td>\n",
       "      <td>1.440000e+05</td>\n",
       "      <td>5.084955e+05</td>\n",
       "      <td>25184.250000</td>\n",
       "      <td>4.500000e+05</td>\n",
       "      <td>0.018801</td>\n",
       "      <td>-15109.500000</td>\n",
       "      <td>-1124.000000</td>\n",
       "      <td>-4294.000000</td>\n",
       "      <td>...</td>\n",
       "      <td>0.000000</td>\n",
       "      <td>0.000000</td>\n",
       "      <td>0.000000</td>\n",
       "      <td>0.000000</td>\n",
       "      <td>0.000000</td>\n",
       "      <td>0.000000</td>\n",
       "      <td>0.000000</td>\n",
       "      <td>0.000000</td>\n",
       "      <td>0.000000</td>\n",
       "      <td>2.000000</td>\n",
       "    </tr>\n",
       "    <tr>\n",
       "      <th>75%</th>\n",
       "      <td>1.000000</td>\n",
       "      <td>1.000000</td>\n",
       "      <td>2.025000e+05</td>\n",
       "      <td>7.819200e+05</td>\n",
       "      <td>33984.000000</td>\n",
       "      <td>6.750000e+05</td>\n",
       "      <td>0.026392</td>\n",
       "      <td>-11904.000000</td>\n",
       "      <td>-336.000000</td>\n",
       "      <td>-1858.000000</td>\n",
       "      <td>...</td>\n",
       "      <td>0.000000</td>\n",
       "      <td>0.000000</td>\n",
       "      <td>0.000000</td>\n",
       "      <td>0.000000</td>\n",
       "      <td>0.000000</td>\n",
       "      <td>0.000000</td>\n",
       "      <td>0.000000</td>\n",
       "      <td>0.000000</td>\n",
       "      <td>0.000000</td>\n",
       "      <td>3.000000</td>\n",
       "    </tr>\n",
       "    <tr>\n",
       "      <th>max</th>\n",
       "      <td>1.000000</td>\n",
       "      <td>14.000000</td>\n",
       "      <td>1.170000e+08</td>\n",
       "      <td>4.050000e+06</td>\n",
       "      <td>225000.000000</td>\n",
       "      <td>4.050000e+06</td>\n",
       "      <td>0.072508</td>\n",
       "      <td>-7678.000000</td>\n",
       "      <td>365243.000000</td>\n",
       "      <td>0.000000</td>\n",
       "      <td>...</td>\n",
       "      <td>1.000000</td>\n",
       "      <td>1.000000</td>\n",
       "      <td>1.000000</td>\n",
       "      <td>1.000000</td>\n",
       "      <td>2.000000</td>\n",
       "      <td>4.000000</td>\n",
       "      <td>7.000000</td>\n",
       "      <td>24.000000</td>\n",
       "      <td>19.000000</td>\n",
       "      <td>22.000000</td>\n",
       "    </tr>\n",
       "  </tbody>\n",
       "</table>\n",
       "<p>8 rows × 60 columns</p>\n",
       "</div>"
      ],
      "text/plain": [
       "             TARGET  CNT_CHILDREN  AMT_INCOME_TOTAL    AMT_CREDIT  \\\n",
       "count  49650.000000  49650.000000      4.965000e+04  4.965000e+04   \n",
       "mean       0.500000      0.433112      1.676093e+05  5.815305e+05   \n",
       "std        0.500005      0.735284      5.328003e+05  3.791344e+05   \n",
       "min        0.000000      0.000000      2.565000e+04  4.500000e+04   \n",
       "25%        0.000000      0.000000      1.125000e+05  2.779695e+05   \n",
       "50%        0.500000      0.000000      1.440000e+05  5.084955e+05   \n",
       "75%        1.000000      1.000000      2.025000e+05  7.819200e+05   \n",
       "max        1.000000     14.000000      1.170000e+08  4.050000e+06   \n",
       "\n",
       "         AMT_ANNUITY  AMT_GOODS_PRICE  REGION_POPULATION_RELATIVE  \\\n",
       "count   49650.000000     4.961000e+04                49650.000000   \n",
       "mean    26921.708701     5.171736e+05                    0.020063   \n",
       "std     13708.608891     3.460863e+05                    0.013014   \n",
       "min      2052.000000     4.050000e+04                    0.000533   \n",
       "25%     16875.000000     2.385000e+05                    0.009657   \n",
       "50%     25184.250000     4.500000e+05                    0.018801   \n",
       "75%     33984.000000     6.750000e+05                    0.026392   \n",
       "max    225000.000000     4.050000e+06                    0.072508   \n",
       "\n",
       "         DAYS_BIRTH  DAYS_EMPLOYED  DAYS_REGISTRATION  ...  FLAG_DOCUMENT_18  \\\n",
       "count  49650.000000   49650.000000       49650.000000  ...      49650.000000   \n",
       "mean  -15545.045700   54528.852367       -4748.528701  ...          0.006667   \n",
       "std     4328.151273  132695.013293        3418.657182  ...          0.081378   \n",
       "min   -25184.000000  -17546.000000      -22928.000000  ...          0.000000   \n",
       "25%   -19065.000000   -2487.000000       -7079.750000  ...          0.000000   \n",
       "50%   -15109.500000   -1124.000000       -4294.000000  ...          0.000000   \n",
       "75%   -11904.000000    -336.000000       -1858.000000  ...          0.000000   \n",
       "max    -7678.000000  365243.000000           0.000000  ...          1.000000   \n",
       "\n",
       "       FLAG_DOCUMENT_19  FLAG_DOCUMENT_20  FLAG_DOCUMENT_21  \\\n",
       "count      49650.000000      49650.000000      49650.000000   \n",
       "mean           0.000504          0.000504          0.000383   \n",
       "std            0.022434          0.022434          0.019559   \n",
       "min            0.000000          0.000000          0.000000   \n",
       "25%            0.000000          0.000000          0.000000   \n",
       "50%            0.000000          0.000000          0.000000   \n",
       "75%            0.000000          0.000000          0.000000   \n",
       "max            1.000000          1.000000          1.000000   \n",
       "\n",
       "       AMT_REQ_CREDIT_BUREAU_HOUR  AMT_REQ_CREDIT_BUREAU_DAY  \\\n",
       "count                42094.000000               42094.000000   \n",
       "mean                     0.006747                   0.007269   \n",
       "std                      0.085829                   0.099386   \n",
       "min                      0.000000                   0.000000   \n",
       "25%                      0.000000                   0.000000   \n",
       "50%                      0.000000                   0.000000   \n",
       "75%                      0.000000                   0.000000   \n",
       "max                      2.000000                   4.000000   \n",
       "\n",
       "       AMT_REQ_CREDIT_BUREAU_WEEK  AMT_REQ_CREDIT_BUREAU_MON  \\\n",
       "count                42094.000000               42094.000000   \n",
       "mean                     0.035064                   0.241103   \n",
       "std                      0.207722                   0.801550   \n",
       "min                      0.000000                   0.000000   \n",
       "25%                      0.000000                   0.000000   \n",
       "50%                      0.000000                   0.000000   \n",
       "75%                      0.000000                   0.000000   \n",
       "max                      7.000000                  24.000000   \n",
       "\n",
       "       AMT_REQ_CREDIT_BUREAU_QRT  AMT_REQ_CREDIT_BUREAU_YEAR  \n",
       "count               42094.000000                42094.000000  \n",
       "mean                    0.261534                    1.963677  \n",
       "std                     0.627602                    1.897483  \n",
       "min                     0.000000                    0.000000  \n",
       "25%                     0.000000                    0.000000  \n",
       "50%                     0.000000                    2.000000  \n",
       "75%                     0.000000                    3.000000  \n",
       "max                    19.000000                   22.000000  \n",
       "\n",
       "[8 rows x 60 columns]"
      ]
     },
     "execution_count": 40,
     "metadata": {},
     "output_type": "execute_result"
    }
   ],
   "source": [
    "data_under.describe()"
   ]
  },
  {
   "cell_type": "code",
   "execution_count": 41,
   "metadata": {},
   "outputs": [
    {
     "data": {
      "text/plain": [
       "AMT_GOODS_PRICE                0.080564\n",
       "NAME_TYPE_SUITE                0.356495\n",
       "OCCUPATION_TYPE               28.624371\n",
       "EXT_SOURCE_2                   0.229607\n",
       "EXT_SOURCE_3                  21.174220\n",
       "OBS_30_CNT_SOCIAL_CIRCLE       0.217523\n",
       "DEF_30_CNT_SOCIAL_CIRCLE       0.217523\n",
       "OBS_60_CNT_SOCIAL_CIRCLE       0.217523\n",
       "DEF_60_CNT_SOCIAL_CIRCLE       0.217523\n",
       "AMT_REQ_CREDIT_BUREAU_HOUR    15.218530\n",
       "AMT_REQ_CREDIT_BUREAU_DAY     15.218530\n",
       "AMT_REQ_CREDIT_BUREAU_WEEK    15.218530\n",
       "AMT_REQ_CREDIT_BUREAU_MON     15.218530\n",
       "AMT_REQ_CREDIT_BUREAU_QRT     15.218530\n",
       "AMT_REQ_CREDIT_BUREAU_YEAR    15.218530\n",
       "dtype: float64"
      ]
     },
     "execution_count": 41,
     "metadata": {},
     "output_type": "execute_result"
    }
   ],
   "source": [
    "a = data_under.isna().mean()*100\n",
    "a[a>0]"
   ]
  },
  {
   "cell_type": "code",
   "execution_count": 42,
   "metadata": {},
   "outputs": [],
   "source": [
    "numeric_columns = data_under.select_dtypes(include=np.number).columns\n",
    "numeric_columns = numeric_columns.drop('TARGET')"
   ]
  },
  {
   "cell_type": "code",
   "execution_count": 43,
   "metadata": {},
   "outputs": [
    {
     "data": {
      "text/plain": [
       "Index(['CNT_CHILDREN', 'AMT_INCOME_TOTAL', 'AMT_CREDIT', 'AMT_ANNUITY',\n",
       "       'AMT_GOODS_PRICE', 'REGION_POPULATION_RELATIVE', 'DAYS_BIRTH',\n",
       "       'DAYS_EMPLOYED', 'DAYS_REGISTRATION', 'DAYS_ID_PUBLISH', 'FLAG_MOBIL',\n",
       "       'FLAG_EMP_PHONE', 'FLAG_WORK_PHONE', 'FLAG_CONT_MOBILE', 'FLAG_PHONE',\n",
       "       'FLAG_EMAIL', 'CNT_FAM_MEMBERS', 'REGION_RATING_CLIENT',\n",
       "       'REGION_RATING_CLIENT_W_CITY', 'HOUR_APPR_PROCESS_START',\n",
       "       'REG_REGION_NOT_LIVE_REGION', 'REG_REGION_NOT_WORK_REGION',\n",
       "       'LIVE_REGION_NOT_WORK_REGION', 'REG_CITY_NOT_LIVE_CITY',\n",
       "       'REG_CITY_NOT_WORK_CITY', 'LIVE_CITY_NOT_WORK_CITY', 'EXT_SOURCE_2',\n",
       "       'EXT_SOURCE_3', 'OBS_30_CNT_SOCIAL_CIRCLE', 'DEF_30_CNT_SOCIAL_CIRCLE',\n",
       "       'OBS_60_CNT_SOCIAL_CIRCLE', 'DEF_60_CNT_SOCIAL_CIRCLE',\n",
       "       'DAYS_LAST_PHONE_CHANGE', 'FLAG_DOCUMENT_2', 'FLAG_DOCUMENT_3',\n",
       "       'FLAG_DOCUMENT_4', 'FLAG_DOCUMENT_5', 'FLAG_DOCUMENT_6',\n",
       "       'FLAG_DOCUMENT_7', 'FLAG_DOCUMENT_8', 'FLAG_DOCUMENT_9',\n",
       "       'FLAG_DOCUMENT_10', 'FLAG_DOCUMENT_11', 'FLAG_DOCUMENT_12',\n",
       "       'FLAG_DOCUMENT_13', 'FLAG_DOCUMENT_14', 'FLAG_DOCUMENT_15',\n",
       "       'FLAG_DOCUMENT_16', 'FLAG_DOCUMENT_17', 'FLAG_DOCUMENT_18',\n",
       "       'FLAG_DOCUMENT_19', 'FLAG_DOCUMENT_20', 'FLAG_DOCUMENT_21',\n",
       "       'AMT_REQ_CREDIT_BUREAU_HOUR', 'AMT_REQ_CREDIT_BUREAU_DAY',\n",
       "       'AMT_REQ_CREDIT_BUREAU_WEEK', 'AMT_REQ_CREDIT_BUREAU_MON',\n",
       "       'AMT_REQ_CREDIT_BUREAU_QRT', 'AMT_REQ_CREDIT_BUREAU_YEAR'],\n",
       "      dtype='object')"
      ]
     },
     "execution_count": 43,
     "metadata": {},
     "output_type": "execute_result"
    }
   ],
   "source": [
    "numeric_columns"
   ]
  },
  {
   "cell_type": "code",
   "execution_count": 44,
   "metadata": {},
   "outputs": [
    {
     "data": {
      "text/plain": [
       "Index(['NAME_CONTRACT_TYPE', 'CODE_GENDER', 'FLAG_OWN_CAR', 'FLAG_OWN_REALTY',\n",
       "       'NAME_TYPE_SUITE', 'NAME_INCOME_TYPE', 'NAME_EDUCATION_TYPE',\n",
       "       'NAME_FAMILY_STATUS', 'NAME_HOUSING_TYPE', 'OCCUPATION_TYPE',\n",
       "       'WEEKDAY_APPR_PROCESS_START', 'ORGANIZATION_TYPE'],\n",
       "      dtype='object')"
      ]
     },
     "execution_count": 44,
     "metadata": {},
     "output_type": "execute_result"
    }
   ],
   "source": [
    "categoric_columns = data_under.select_dtypes(exclude=np.number).columns\n",
    "categoric_columns"
   ]
  },
  {
   "cell_type": "code",
   "execution_count": 45,
   "metadata": {
    "scrolled": true
   },
   "outputs": [
    {
     "name": "stdout",
     "output_type": "stream",
     "text": [
      "Columns: NAME_CONTRACT_TYPE\n",
      "Unique values: 2\n"
     ]
    },
    {
     "data": {
      "image/png": "[encoded data removed]",
      "text/plain": [
       "<Figure size 432x288 with 1 Axes>"
      ]
     },
     "metadata": {
      "needs_background": "light"
     },
     "output_type": "display_data"
    },
    {
     "name": "stdout",
     "output_type": "stream",
     "text": [
      "Columns: CODE_GENDER\n",
      "Unique values: 3\n"
     ]
    },
    {
     "data": {
      "image/png": "[encoded data removed]",
      "text/plain": [
       "<Figure size 432x288 with 1 Axes>"
      ]
     },
     "metadata": {
      "needs_background": "light"
     },
     "output_type": "display_data"
    },
    {
     "name": "stdout",
     "output_type": "stream",
     "text": [
      "Columns: FLAG_OWN_CAR\n",
      "Unique values: 2\n"
     ]
    },
    {
     "data": {
      "image/png": "[encoded data removed]",
      "text/plain": [
       "<Figure size 432x288 with 1 Axes>"
      ]
     },
     "metadata": {
      "needs_background": "light"
     },
     "output_type": "display_data"
    },
    {
     "name": "stdout",
     "output_type": "stream",
     "text": [
      "Columns: FLAG_OWN_REALTY\n",
      "Unique values: 2\n"
     ]
    },
    {
     "data": {
      "image/png": "[encoded data removed]",
      "text/plain": [
       "<Figure size 432x288 with 1 Axes>"
      ]
     },
     "metadata": {
      "needs_background": "light"
     },
     "output_type": "display_data"
    },
    {
     "name": "stdout",
     "output_type": "stream",
     "text": [
      "Columns: NAME_TYPE_SUITE\n",
      "Unique values: 8\n"
     ]
    },
    {
     "data": {
      "image/png": "[encoded data removed]",
      "text/plain": [
       "<Figure size 432x288 with 1 Axes>"
      ]
     },
     "metadata": {
      "needs_background": "light"
     },
     "output_type": "display_data"
    },
    {
     "name": "stdout",
     "output_type": "stream",
     "text": [
      "Columns: NAME_INCOME_TYPE\n",
      "Unique values: 6\n"
     ]
    },
    {
     "data": {
      "image/png": "[encoded data removed]",
      "text/plain": [
       "<Figure size 432x288 with 1 Axes>"
      ]
     },
     "metadata": {
      "needs_background": "light"
     },
     "output_type": "display_data"
    },
    {
     "name": "stdout",
     "output_type": "stream",
     "text": [
      "Columns: NAME_EDUCATION_TYPE\n",
      "Unique values: 5\n"
     ]
    },
    {
     "data": {
      "image/png": "[encoded data removed]",
      "text/plain": [
       "<Figure size 432x288 with 1 Axes>"
      ]
     },
     "metadata": {
      "needs_background": "light"
     },
     "output_type": "display_data"
    },
    {
     "name": "stdout",
     "output_type": "stream",
     "text": [
      "Columns: NAME_FAMILY_STATUS\n",
      "Unique values: 5\n"
     ]
    },
    {
     "data": {
      "image/png": "[encoded data removed]",
      "text/plain": [
       "<Figure size 432x288 with 1 Axes>"
      ]
     },
     "metadata": {
      "needs_background": "light"
     },
     "output_type": "display_data"
    },
    {
     "name": "stdout",
     "output_type": "stream",
     "text": [
      "Columns: NAME_HOUSING_TYPE\n",
      "Unique values: 6\n"
     ]
    },
    {
     "data": {
      "image/png": "[encoded data removed]",
      "text/plain": [
       "<Figure size 432x288 with 1 Axes>"
      ]
     },
     "metadata": {
      "needs_background": "light"
     },
     "output_type": "display_data"
    },
    {
     "name": "stdout",
     "output_type": "stream",
     "text": [
      "Columns: OCCUPATION_TYPE\n",
      "Unique values: 19\n"
     ]
    },
    {
     "data": {
      "image/png": "[encoded data removed]",
      "text/plain": [
       "<Figure size 432x288 with 1 Axes>"
      ]
     },
     "metadata": {
      "needs_background": "light"
     },
     "output_type": "display_data"
    },
    {
     "name": "stdout",
     "output_type": "stream",
     "text": [
      "Columns: WEEKDAY_APPR_PROCESS_START\n",
      "Unique values: 7\n"
     ]
    },
    {
     "data": {
      "image/png": "[encoded data removed]",
      "text/plain": [
       "<Figure size 432x288 with 1 Axes>"
      ]
     },
     "metadata": {
      "needs_background": "light"
     },
     "output_type": "display_data"
    }
   ],
   "source": [
    "for column in categoric_columns:\n",
    "    if len(data_under[column].unique()) < 21:\n",
    "        print(f'Columns: {column}')\n",
    "        print(f'Unique values: {len(data_under[column].unique())}')\n",
    "        data_under[column].value_counts().plot.bar()\n",
    "        plt.show()"
   ]
  },
  {
   "cell_type": "code",
   "execution_count": 46,
   "metadata": {},
   "outputs": [
    {
     "name": "stdout",
     "output_type": "stream",
     "text": [
      "Columns: CNT_CHILDREN\n",
      "Unique values: 11\n"
     ]
    },
    {
     "data": {
      "image/png": "[encoded data removed]",
      "text/plain": [
       "<Figure size 432x288 with 1 Axes>"
      ]
     },
     "metadata": {
      "needs_background": "light"
     },
     "output_type": "display_data"
    },
    {
     "name": "stdout",
     "output_type": "stream",
     "text": [
      "Columns: FLAG_MOBIL\n",
      "Unique values: 1\n"
     ]
    },
    {
     "data": {
      "image/png": "[encoded data removed]",
      "text/plain": [
       "<Figure size 432x288 with 1 Axes>"
      ]
     },
     "metadata": {
      "needs_background": "light"
     },
     "output_type": "display_data"
    },
    {
     "name": "stdout",
     "output_type": "stream",
     "text": [
      "Columns: FLAG_EMP_PHONE\n",
      "Unique values: 2\n"
     ]
    },
    {
     "data": {
      "image/png": "[encoded data removed]",
      "text/plain": [
       "<Figure size 432x288 with 1 Axes>"
      ]
     },
     "metadata": {
      "needs_background": "light"
     },
     "output_type": "display_data"
    },
    {
     "name": "stdout",
     "output_type": "stream",
     "text": [
      "Columns: FLAG_WORK_PHONE\n",
      "Unique values: 2\n"
     ]
    },
    {
     "data": {
      "image/png": "[encoded data removed]",
      "text/plain": [
       "<Figure size 432x288 with 1 Axes>"
      ]
     },
     "metadata": {
      "needs_background": "light"
     },
     "output_type": "display_data"
    },
    {
     "name": "stdout",
     "output_type": "stream",
     "text": [
      "Columns: FLAG_CONT_MOBILE\n",
      "Unique values: 2\n"
     ]
    },
    {
     "data": {
      "image/png": "[encoded data removed]",
      "text/plain": [
       "<Figure size 432x288 with 1 Axes>"
      ]
     },
     "metadata": {
      "needs_background": "light"
     },
     "output_type": "display_data"
    },
    {
     "name": "stdout",
     "output_type": "stream",
     "text": [
      "Columns: FLAG_PHONE\n",
      "Unique values: 2\n"
     ]
    },
    {
     "data": {
      "image/png": "[encoded data removed]",
      "text/plain": [
       "<Figure size 432x288 with 1 Axes>"
      ]
     },
     "metadata": {
      "needs_background": "light"
     },
     "output_type": "display_data"
    },
    {
     "name": "stdout",
     "output_type": "stream",
     "text": [
      "Columns: FLAG_EMAIL\n",
      "Unique values: 2\n"
     ]
    },
    {
     "data": {
      "image/png": "[encoded data removed]",
      "text/plain": [
       "<Figure size 432x288 with 1 Axes>"
      ]
     },
     "metadata": {
      "needs_background": "light"
     },
     "output_type": "display_data"
    },
    {
     "name": "stdout",
     "output_type": "stream",
     "text": [
      "Columns: CNT_FAM_MEMBERS\n",
      "Unique values: 13\n"
     ]
    },
    {
     "data": {
      "image/png": "[encoded data removed]",
      "text/plain": [
       "<Figure size 432x288 with 1 Axes>"
      ]
     },
     "metadata": {
      "needs_background": "light"
     },
     "output_type": "display_data"
    },
    {
     "name": "stdout",
     "output_type": "stream",
     "text": [
      "Columns: REGION_RATING_CLIENT\n",
      "Unique values: 3\n"
     ]
    },
    {
     "data": {
      "image/png": "[encoded data removed]",
      "text/plain": [
       "<Figure size 432x288 with 1 Axes>"
      ]
     },
     "metadata": {
      "needs_background": "light"
     },
     "output_type": "display_data"
    },
    {
     "name": "stdout",
     "output_type": "stream",
     "text": [
      "Columns: REGION_RATING_CLIENT_W_CITY\n",
      "Unique values: 3\n"
     ]
    },
    {
     "data": {
      "image/png": "[encoded data removed]",
      "text/plain": [
       "<Figure size 432x288 with 1 Axes>"
      ]
     },
     "metadata": {
      "needs_background": "light"
     },
     "output_type": "display_data"
    },
    {
     "name": "stdout",
     "output_type": "stream",
     "text": [
      "Columns: REG_REGION_NOT_LIVE_REGION\n",
      "Unique values: 2\n"
     ]
    },
    {
     "data": {
      "image/png": "[encoded data removed]",
      "text/plain": [
       "<Figure size 432x288 with 1 Axes>"
      ]
     },
     "metadata": {
      "needs_background": "light"
     },
     "output_type": "display_data"
    },
    {
     "name": "stdout",
     "output_type": "stream",
     "text": [
      "Columns: REG_REGION_NOT_WORK_REGION\n",
      "Unique values: 2\n"
     ]
    },
    {
     "data": {
      "image/png": "[encoded data removed]",
      "text/plain": [
       "<Figure size 432x288 with 1 Axes>"
      ]
     },
     "metadata": {
      "needs_background": "light"
     },
     "output_type": "display_data"
    },
    {
     "name": "stdout",
     "output_type": "stream",
     "text": [
      "Columns: LIVE_REGION_NOT_WORK_REGION\n",
      "Unique values: 2\n"
     ]
    },
    {
     "data": {
      "image/png": "[encoded data removed]",
      "text/plain": [
       "<Figure size 432x288 with 1 Axes>"
      ]
     },
     "metadata": {
      "needs_background": "light"
     },
     "output_type": "display_data"
    },
    {
     "name": "stdout",
     "output_type": "stream",
     "text": [
      "Columns: REG_CITY_NOT_LIVE_CITY\n",
      "Unique values: 2\n"
     ]
    },
    {
     "data": {
      "image/png": "[encoded data removed]",
      "text/plain": [
       "<Figure size 432x288 with 1 Axes>"
      ]
     },
     "metadata": {
      "needs_background": "light"
     },
     "output_type": "display_data"
    },
    {
     "name": "stdout",
     "output_type": "stream",
     "text": [
      "Columns: REG_CITY_NOT_WORK_CITY\n",
      "Unique values: 2\n"
     ]
    },
    {
     "data": {
      "image/png": "[encoded data removed]",
      "text/plain": [
       "<Figure size 432x288 with 1 Axes>"
      ]
     },
     "metadata": {
      "needs_background": "light"
     },
     "output_type": "display_data"
    },
    {
     "name": "stdout",
     "output_type": "stream",
     "text": [
      "Columns: LIVE_CITY_NOT_WORK_CITY\n",
      "Unique values: 2\n"
     ]
    },
    {
     "data": {
      "image/png": "[encoded data removed]",
      "text/plain": [
       "<Figure size 432x288 with 1 Axes>"
      ]
     },
     "metadata": {
      "needs_background": "light"
     },
     "output_type": "display_data"
    },
    {
     "name": "stdout",
     "output_type": "stream",
     "text": [
      "Columns: DEF_30_CNT_SOCIAL_CIRCLE\n",
      "Unique values: 9\n"
     ]
    },
    {
     "data": {
      "image/png": "[encoded data removed]",
      "text/plain": [
       "<Figure size 432x288 with 1 Axes>"
      ]
     },
     "metadata": {
      "needs_background": "light"
     },
     "output_type": "display_data"
    },
    {
     "name": "stdout",
     "output_type": "stream",
     "text": [
      "Columns: DEF_60_CNT_SOCIAL_CIRCLE\n",
      "Unique values: 8\n"
     ]
    },
    {
     "data": {
      "image/png": "[encoded data removed]",
      "text/plain": [
       "<Figure size 432x288 with 1 Axes>"
      ]
     },
     "metadata": {
      "needs_background": "light"
     },
     "output_type": "display_data"
    },
    {
     "name": "stdout",
     "output_type": "stream",
     "text": [
      "Columns: FLAG_DOCUMENT_2\n",
      "Unique values: 2\n"
     ]
    },
    {
     "data": {
      "image/png": "[encoded data removed]",
      "text/plain": [
       "<Figure size 432x288 with 1 Axes>"
      ]
     },
     "metadata": {
      "needs_background": "light"
     },
     "output_type": "display_data"
    },
    {
     "name": "stdout",
     "output_type": "stream",
     "text": [
      "Columns: FLAG_DOCUMENT_3\n",
      "Unique values: 2\n"
     ]
    },
    {
     "data": {
      "image/png": "[encoded data removed]",
      "text/plain": [
       "<Figure size 432x288 with 1 Axes>"
      ]
     },
     "metadata": {
      "needs_background": "light"
     },
     "output_type": "display_data"
    },
    {
     "name": "stdout",
     "output_type": "stream",
     "text": [
      "Columns: FLAG_DOCUMENT_4\n",
      "Unique values: 2\n"
     ]
    },
    {
     "data": {
      "image/png": "[encoded data removed]",
      "text/plain": [
       "<Figure size 432x288 with 1 Axes>"
      ]
     },
     "metadata": {
      "needs_background": "light"
     },
     "output_type": "display_data"
    },
    {
     "name": "stdout",
     "output_type": "stream",
     "text": [
      "Columns: FLAG_DOCUMENT_5\n",
      "Unique values: 2\n"
     ]
    },
    {
     "data": {
      "image/png": "[encoded data removed]",
      "text/plain": [
       "<Figure size 432x288 with 1 Axes>"
      ]
     },
     "metadata": {
      "needs_background": "light"
     },
     "output_type": "display_data"
    },
    {
     "name": "stdout",
     "output_type": "stream",
     "text": [
      "Columns: FLAG_DOCUMENT_6\n",
      "Unique values: 2\n"
     ]
    },
    {
     "data": {
      "image/png": "[encoded data removed]",
      "text/plain": [
       "<Figure size 432x288 with 1 Axes>"
      ]
     },
     "metadata": {
      "needs_background": "light"
     },
     "output_type": "display_data"
    },
    {
     "name": "stdout",
     "output_type": "stream",
     "text": [
      "Columns: FLAG_DOCUMENT_7\n",
      "Unique values: 2\n"
     ]
    },
    {
     "data": {
      "image/png": "[encoded data removed]",
      "text/plain": [
       "<Figure size 432x288 with 1 Axes>"
      ]
     },
     "metadata": {
      "needs_background": "light"
     },
     "output_type": "display_data"
    },
    {
     "name": "stdout",
     "output_type": "stream",
     "text": [
      "Columns: FLAG_DOCUMENT_8\n",
      "Unique values: 2\n"
     ]
    },
    {
     "data": {
      "image/png": "[encoded data removed]",
      "text/plain": [
       "<Figure size 432x288 with 1 Axes>"
      ]
     },
     "metadata": {
      "needs_background": "light"
     },
     "output_type": "display_data"
    },
    {
     "name": "stdout",
     "output_type": "stream",
     "text": [
      "Columns: FLAG_DOCUMENT_9\n",
      "Unique values: 2\n"
     ]
    },
    {
     "data": {
      "image/png": "[encoded data removed]",
      "text/plain": [
       "<Figure size 432x288 with 1 Axes>"
      ]
     },
     "metadata": {
      "needs_background": "light"
     },
     "output_type": "display_data"
    },
    {
     "name": "stdout",
     "output_type": "stream",
     "text": [
      "Columns: FLAG_DOCUMENT_10\n",
      "Unique values: 1\n"
     ]
    },
    {
     "data": {
      "image/png": "[encoded data removed]",
      "text/plain": [
       "<Figure size 432x288 with 1 Axes>"
      ]
     },
     "metadata": {
      "needs_background": "light"
     },
     "output_type": "display_data"
    },
    {
     "name": "stdout",
     "output_type": "stream",
     "text": [
      "Columns: FLAG_DOCUMENT_11\n",
      "Unique values: 2\n"
     ]
    },
    {
     "data": {
      "image/png": "[encoded data removed]",
      "text/plain": [
       "<Figure size 432x288 with 1 Axes>"
      ]
     },
     "metadata": {
      "needs_background": "light"
     },
     "output_type": "display_data"
    },
    {
     "name": "stdout",
     "output_type": "stream",
     "text": [
      "Columns: FLAG_DOCUMENT_12\n",
      "Unique values: 1\n"
     ]
    },
    {
     "data": {
      "image/png": "[encoded data removed]",
      "text/plain": [
       "<Figure size 432x288 with 1 Axes>"
      ]
     },
     "metadata": {
      "needs_background": "light"
     },
     "output_type": "display_data"
    },
    {
     "name": "stdout",
     "output_type": "stream",
     "text": [
      "Columns: FLAG_DOCUMENT_13\n",
      "Unique values: 2\n"
     ]
    },
    {
     "data": {
      "image/png": "[encoded data removed]",
      "text/plain": [
       "<Figure size 432x288 with 1 Axes>"
      ]
     },
     "metadata": {
      "needs_background": "light"
     },
     "output_type": "display_data"
    },
    {
     "name": "stdout",
     "output_type": "stream",
     "text": [
      "Columns: FLAG_DOCUMENT_14\n",
      "Unique values: 2\n"
     ]
    },
    {
     "data": {
      "image/png": "[encoded data removed]",
      "text/plain": [
       "<Figure size 432x288 with 1 Axes>"
      ]
     },
     "metadata": {
      "needs_background": "light"
     },
     "output_type": "display_data"
    },
    {
     "name": "stdout",
     "output_type": "stream",
     "text": [
      "Columns: FLAG_DOCUMENT_15\n",
      "Unique values: 2\n"
     ]
    },
    {
     "data": {
      "image/png": "[encoded data removed]",
      "text/plain": [
       "<Figure size 432x288 with 1 Axes>"
      ]
     },
     "metadata": {
      "needs_background": "light"
     },
     "output_type": "display_data"
    },
    {
     "name": "stdout",
     "output_type": "stream",
     "text": [
      "Columns: FLAG_DOCUMENT_16\n",
      "Unique values: 2\n"
     ]
    },
    {
     "data": {
      "image/png": "[encoded data removed]",
      "text/plain": [
       "<Figure size 432x288 with 1 Axes>"
      ]
     },
     "metadata": {
      "needs_background": "light"
     },
     "output_type": "display_data"
    },
    {
     "name": "stdout",
     "output_type": "stream",
     "text": [
      "Columns: FLAG_DOCUMENT_17\n",
      "Unique values: 2\n"
     ]
    },
    {
     "data": {
      "image/png": "[encoded data removed]",
      "text/plain": [
       "<Figure size 432x288 with 1 Axes>"
      ]
     },
     "metadata": {
      "needs_background": "light"
     },
     "output_type": "display_data"
    },
    {
     "name": "stdout",
     "output_type": "stream",
     "text": [
      "Columns: FLAG_DOCUMENT_18\n",
      "Unique values: 2\n"
     ]
    },
    {
     "data": {
      "image/png": "[encoded data removed]",
      "text/plain": [
       "<Figure size 432x288 with 1 Axes>"
      ]
     },
     "metadata": {
      "needs_background": "light"
     },
     "output_type": "display_data"
    },
    {
     "name": "stdout",
     "output_type": "stream",
     "text": [
      "Columns: FLAG_DOCUMENT_19\n",
      "Unique values: 2\n"
     ]
    },
    {
     "data": {
      "image/png": "[encoded data removed]",
      "text/plain": [
       "<Figure size 432x288 with 1 Axes>"
      ]
     },
     "metadata": {
      "needs_background": "light"
     },
     "output_type": "display_data"
    },
    {
     "name": "stdout",
     "output_type": "stream",
     "text": [
      "Columns: FLAG_DOCUMENT_20\n",
      "Unique values: 2\n"
     ]
    },
    {
     "data": {
      "image/png": "[encoded data removed]",
      "text/plain": [
       "<Figure size 432x288 with 1 Axes>"
      ]
     },
     "metadata": {
      "needs_background": "light"
     },
     "output_type": "display_data"
    },
    {
     "name": "stdout",
     "output_type": "stream",
     "text": [
      "Columns: FLAG_DOCUMENT_21\n",
      "Unique values: 2\n"
     ]
    },
    {
     "data": {
      "image/png": "[encoded data removed]",
      "text/plain": [
       "<Figure size 432x288 with 1 Axes>"
      ]
     },
     "metadata": {
      "needs_background": "light"
     },
     "output_type": "display_data"
    },
    {
     "name": "stdout",
     "output_type": "stream",
     "text": [
      "Columns: AMT_REQ_CREDIT_BUREAU_HOUR\n",
      "Unique values: 4\n"
     ]
    },
    {
     "data": {
      "image/png": "[encoded data removed]",
      "text/plain": [
       "<Figure size 432x288 with 1 Axes>"
      ]
     },
     "metadata": {
      "needs_background": "light"
     },
     "output_type": "display_data"
    },
    {
     "name": "stdout",
     "output_type": "stream",
     "text": [
      "Columns: AMT_REQ_CREDIT_BUREAU_DAY\n",
      "Unique values: 6\n"
     ]
    },
    {
     "data": {
      "image/png": "[encoded data removed]",
      "text/plain": [
       "<Figure size 432x288 with 1 Axes>"
      ]
     },
     "metadata": {
      "needs_background": "light"
     },
     "output_type": "display_data"
    },
    {
     "name": "stdout",
     "output_type": "stream",
     "text": [
      "Columns: AMT_REQ_CREDIT_BUREAU_WEEK\n",
      "Unique values: 9\n"
     ]
    },
    {
     "data": {
      "image/png": "[encoded data removed]",
      "text/plain": [
       "<Figure size 432x288 with 1 Axes>"
      ]
     },
     "metadata": {
      "needs_background": "light"
     },
     "output_type": "display_data"
    },
    {
     "name": "stdout",
     "output_type": "stream",
     "text": [
      "Columns: AMT_REQ_CREDIT_BUREAU_QRT\n",
      "Unique values: 11\n"
     ]
    },
    {
     "data": {
      "image/png": "[encoded data removed]",
      "text/plain": [
       "<Figure size 432x288 with 1 Axes>"
      ]
     },
     "metadata": {
      "needs_background": "light"
     },
     "output_type": "display_data"
    },
    {
     "name": "stdout",
     "output_type": "stream",
     "text": [
      "Columns: AMT_REQ_CREDIT_BUREAU_YEAR\n",
      "Unique values: 18\n"
     ]
    },
    {
     "data": {
      "image/png": "[encoded data removed]",
      "text/plain": [
       "<Figure size 432x288 with 1 Axes>"
      ]
     },
     "metadata": {
      "needs_background": "light"
     },
     "output_type": "display_data"
    }
   ],
   "source": [
    "for column in numeric_columns:\n",
    "    if len(data_under[column].unique()) < 21:\n",
    "        print(f'Columns: {column}')\n",
    "        print(f'Unique values: {len(data_under[column].unique())}')\n",
    "        data_under[column].value_counts().plot.bar()\n",
    "        plt.show()"
   ]
  },
  {
   "cell_type": "markdown",
   "metadata": {},
   "source": [
    "## Transformery\n",
    "\n",
    "teraz zdefiniuję transformery, z których będę korzystać do przetwarzania danych"
   ]
  },
  {
   "cell_type": "code",
   "execution_count": 47,
   "metadata": {},
   "outputs": [],
   "source": [
    "class RemoveColumnsTransformer(BaseEstimator, TransformerMixin):\n",
    "    def __init__( self, columns_to_remove: list):\n",
    "        self.columns_to_remove = columns_to_remove\n",
    "    \n",
    "    def fit( self, X, y = None ):\n",
    "        return self \n",
    "    \n",
    "    def transform( self, X, y = None ):\n",
    "        return X.drop(self.columns_to_remove, axis=1)"
   ]
  },
  {
   "cell_type": "code",
   "execution_count": 48,
   "metadata": {},
   "outputs": [],
   "source": [
    "class SelectColumnsTransformer(BaseEstimator, TransformerMixin):\n",
    "    def __init__( self, columns_to_select: list):\n",
    "        self.columns_to_select = columns_to_select\n",
    "    \n",
    "    def fit( self, X, y = None ):\n",
    "        return self \n",
    "    \n",
    "    def transform( self, X, y = None ):\n",
    "        return X[self.columns_to_select]"
   ]
  },
  {
   "cell_type": "code",
   "execution_count": 49,
   "metadata": {},
   "outputs": [],
   "source": [
    "class ImputeNumColsTransformer(BaseEstimator, TransformerMixin):\n",
    "    def __init__( self, method='mean'):\n",
    "        self.method=method\n",
    "        self.impute_values = {}\n",
    "        \n",
    "    def fit( self, X, y = None ):\n",
    "        if self.method == 'mean':\n",
    "            for col in X:\n",
    "                mean = X[col].mean()\n",
    "                self.impute_values[col] = mean\n",
    "        # extra option is added here\n",
    "        elif self.method == 'median':\n",
    "            for col in X:\n",
    "                median = X[col].median()\n",
    "                self.impute_values[col] = median\n",
    "            \n",
    "        return self \n",
    "    \n",
    "    def transform( self, X, y = None ):\n",
    "        for col in X:\n",
    "            value_to_impute = self.impute_values[col]\n",
    "            X[col] = X[col].fillna(value_to_impute)\n",
    "        return X"
   ]
  },
  {
   "cell_type": "code",
   "execution_count": 50,
   "metadata": {},
   "outputs": [],
   "source": [
    "class ImputeCatColsTransformer(BaseEstimator, TransformerMixin):\n",
    "    def __init__( self, method='mode'):\n",
    "        self.method=method\n",
    "        self.impute_values = {}\n",
    "        \n",
    "    def fit( self, X, y = None ):\n",
    "        if self.method == 'mode':\n",
    "            for col in X:\n",
    "                mode = X[col].mode()[0]\n",
    "                self.impute_values[col] = mode\n",
    "        elif self.method == 'missing':\n",
    "            for col in X:\n",
    "                self.impute_values[col] = 'missing'\n",
    "        return self \n",
    "    \n",
    "    def transform( self, X, y = None ):\n",
    "        for col in X:\n",
    "            value_to_impute = self.impute_values[col]\n",
    "            X[col] = X[col].astype('object')\n",
    "            X[col] = X[col].fillna(value_to_impute)\n",
    "        return X"
   ]
  },
  {
   "cell_type": "markdown",
   "metadata": {},
   "source": [
    "## Pipeline"
   ]
  },
  {
   "cell_type": "code",
   "execution_count": 51,
   "metadata": {},
   "outputs": [],
   "source": [
    "num_steps = [\n",
    "            ('select_num_columns', SelectColumnsTransformer(numeric_columns)), \n",
    "            ('impute', ImputeNumColsTransformer(method='median')), \n",
    "            ('scaler', StandardScaler()), \n",
    "]\n",
    "\n",
    "cat_steps = [\n",
    "            ('select_cat_columns', SelectColumnsTransformer(categoric_columns)), \n",
    "            ('impute', ImputeCatColsTransformer(method='mode')), \n",
    "            ('ohe', OneHotEncoder(sparse=False, handle_unknown='ignore'))\n",
    "]\n",
    "\n",
    "num_pipeline = Pipeline(num_steps)\n",
    "cat_pipeline = Pipeline(cat_steps)\n",
    "\n",
    "transformer_list = [ ('categorical_pipeline', cat_pipeline), \n",
    "                     ('numerical_pipeline', num_pipeline ) \n",
    "                   ]\n",
    "\n",
    "combined_pipeline = FeatureUnion(transformer_list=transformer_list)"
   ]
  },
  {
   "cell_type": "code",
   "execution_count": 52,
   "metadata": {},
   "outputs": [],
   "source": [
    "from sklearn.model_selection import StratifiedKFold\n",
    "\n",
    "seed=123\n",
    "kfold = StratifiedKFold(n_splits=5, random_state=seed)"
   ]
  },
  {
   "cell_type": "code",
   "execution_count": 53,
   "metadata": {},
   "outputs": [
    {
     "data": {
      "text/plain": [
       "{'classifier__C': 0.1, 'classifier__penalty': 'l1'}"
      ]
     },
     "execution_count": 53,
     "metadata": {},
     "output_type": "execute_result"
    }
   ],
   "source": [
    "pipeline_1 = Pipeline(steps = [\n",
    "                            ('combined_pipeline', combined_pipeline), \n",
    "                            ('classifier', LogisticRegression())\n",
    "])\n",
    "\n",
    "param_grid_1 = {\n",
    "            'classifier__C': [0.001, 0.01, 0.1, 1, 10, 100, 1000],\n",
    "            'classifier__penalty': ['l1', 'l2']\n",
    "}\n",
    "\n",
    "grid_1 = GridSearchCV(pipeline_1, param_grid_1, cv=kfold, return_train_score=True)\n",
    "\n",
    "grid_1.fit(X_train, y_train)\n",
    "grid_1.best_params_"
   ]
  },
  {
   "cell_type": "code",
   "execution_count": 54,
   "metadata": {},
   "outputs": [],
   "source": [
    "def heatmap(values, xlabel, ylabel, xticklabels, yticklabels, cmap=None,\n",
    "            vmin=None, vmax=None, ax=None, fmt=\"%0.2f\"):\n",
    "    if ax is None:\n",
    "        ax = plt.gca()\n",
    "    img = ax.pcolor(values, cmap=cmap, vmin=vmin, vmax=vmax)\n",
    "    img.update_scalarmappable()\n",
    "    ax.set_xlabel(xlabel)\n",
    "    ax.set_ylabel(ylabel)\n",
    "    ax.set_xticks(np.arange(len(xticklabels)) + .5)\n",
    "    ax.set_yticks(np.arange(len(yticklabels)) + .5)\n",
    "    ax.set_xticklabels(xticklabels)\n",
    "    ax.set_yticklabels(yticklabels)\n",
    "    ax.set_aspect(1)\n",
    "\n",
    "    for p, color, value in zip(img.get_paths(), img.get_facecolors(),\n",
    "                               img.get_array()):\n",
    "        x, y = p.vertices[:-2, :].mean(0)\n",
    "        if np.mean(color[:3]) > 0.5:\n",
    "            c = 'k'\n",
    "        else:\n",
    "            c = 'w'\n",
    "        ax.text(x, y, fmt % value, color=c, ha=\"center\", va=\"center\")\n",
    "    return img"
   ]
  },
  {
   "cell_type": "code",
   "execution_count": 59,
   "metadata": {},
   "outputs": [
    {
     "data": {
      "image/png": "[encoded data removed]",
      "text/plain": [
       "<Figure size 432x288 with 1 Axes>"
      ]
     },
     "metadata": {
      "needs_background": "light"
     },
     "output_type": "display_data"
    }
   ],
   "source": [
    "results = pd.DataFrame(grid_1.cv_results_)\n",
    "scores = np.array(results.mean_test_score).reshape(7, 2)\n",
    "heatmap(scores, xlabel='penalty', xticklabels=param_grid_1['classifier__penalty'], ylabel='C', yticklabels=param_grid_1['classifier__C'], cmap=\"viridis\")\n",
    "plt.show()"
   ]
  },
  {
   "cell_type": "code",
   "execution_count": null,
   "metadata": {},
   "outputs": [],
   "source": [
    "#pipe_2 = Pipeline(steps = [\n",
    "#                        ('combined_pipeline', combined_pipeline), \n",
    "#                        ('classifier', SVC(C=1, probability=True))\n",
    "#])\n",
    "#\n",
    "#param_grid_2 = {\n",
    "#            'classifier__C': [1],          \n",
    "#            'classifier__gamma': [0.01]\n",
    "#}\n",
    "#\n",
    "#grid_2 = GridSearchCV(pipe_2, param_grid_2, cv=kfold, return_train_score=True)\n",
    "#\n",
    "#grid_2.fit(X_train, y_train)\n",
    "#grid_2.best_params_"
   ]
  },
  {
   "cell_type": "code",
   "execution_count": null,
   "metadata": {},
   "outputs": [],
   "source": [
    "#results = pd.DataFrame(grid_2.cv_results_)\n",
    "#scores = np.array(results.mean_test_score).reshape(2, 1)\n",
    "#heatmap(scores, xlabel='penalty', xticklabels=param_grid_1['log_reg__penalty'], ylabel='C', yticklabels=param_grid_1['log_reg__C'], cmap=\"viridis\")\n",
    "#plt.show()"
   ]
  },
  {
   "cell_type": "code",
   "execution_count": 74,
   "metadata": {},
   "outputs": [
    {
     "data": {
      "text/plain": [
       "{'classifier__max_depth': 10,\n",
       " 'classifier__max_leaf_nodes': 40,\n",
       " 'classifier__min_samples_split': 2}"
      ]
     },
     "execution_count": 74,
     "metadata": {},
     "output_type": "execute_result"
    }
   ],
   "source": [
    "pipe_3 = Pipeline(steps = [\n",
    "                        ('combined_pipeline', combined_pipeline),  \n",
    "                        ('classifier', DecisionTreeClassifier())\n",
    "])\n",
    "\n",
    "param_grid_3 = {\n",
    "            'classifier__max_depth': [5,9,10,11,20,30],\n",
    "            'classifier__min_samples_split': [2,3,5,10,20,30],\n",
    "            'classifier__max_leaf_nodes': [10,14,15,16,20,30,40,50,70]\n",
    "}\n",
    "\n",
    "\n",
    "grid_3 = GridSearchCV(pipe_3, param_grid_3, cv=kfold, return_train_score=True)\n",
    "\n",
    "grid_3.fit(X_train, y_train)\n",
    "grid_3.best_params_"
   ]
  },
  {
   "cell_type": "code",
   "execution_count": 75,
   "metadata": {},
   "outputs": [
    {
     "data": {
      "text/plain": [
       "{'classifier__max_depth': 100,\n",
       " 'classifier__max_leaf_nodes': 70,\n",
       " 'classifier__min_samples_split': 5}"
      ]
     },
     "execution_count": 75,
     "metadata": {},
     "output_type": "execute_result"
    }
   ],
   "source": [
    "pipe_4 = Pipeline(steps = [\n",
    "                        ('combined_pipeline', combined_pipeline), \n",
    "                        ('classifier', ExtraTreesClassifier())\n",
    "])\n",
    "\n",
    "param_grid_4 = {\n",
    "            'classifier__max_depth': [0.1, 1,5,10,20,30,40,100,200],\n",
    "            'classifier__min_samples_split': [2,3,5,10,20,30,40],\n",
    "            'classifier__max_leaf_nodes': [10,14,15,16,20,30,40,50,70]\n",
    "}\n",
    "\n",
    "grid_4 = GridSearchCV(pipe_4, param_grid_4, cv=kfold, return_train_score=True)\n",
    "\n",
    "grid_4.fit(X_train, y_train)\n",
    "grid_4.best_params_"
   ]
  },
  {
   "cell_type": "code",
   "execution_count": 76,
   "metadata": {},
   "outputs": [
    {
     "data": {
      "text/plain": [
       "{'classifier__max_depth': 10,\n",
       " 'classifier__max_leaf_nodes': 100,\n",
       " 'classifier__n_estimators': 200}"
      ]
     },
     "execution_count": 76,
     "metadata": {},
     "output_type": "execute_result"
    }
   ],
   "source": [
    "pipe_5 = Pipeline(steps = [\n",
    "                        ('combined_pipeline', combined_pipeline), \n",
    "                        ('classifier', RandomForestClassifier(n_estimators=500, max_leaf_nodes=16))\n",
    "])\n",
    "\n",
    "param_grid_5 = {'classifier__n_estimators': [10, 50, 100, 150, 200, 300, 500],\n",
    "              'classifier__max_leaf_nodes': [10, 20, 30, 50, 70, 100],\n",
    "              'classifier__max_depth': [10, 20, 30, 50, 70, 100]\n",
    "             }\n",
    "\n",
    "grid_5 = GridSearchCV(pipe_5, param_grid_5, cv=kfold, return_train_score=True)\n",
    "\n",
    "grid_5.fit(X_train, y_train)\n",
    "grid_5.best_params_"
   ]
  },
  {
   "cell_type": "code",
   "execution_count": 63,
   "metadata": {},
   "outputs": [
    {
     "data": {
      "text/plain": [
       "{'classifier__n_neighbors': 10}"
      ]
     },
     "execution_count": 63,
     "metadata": {},
     "output_type": "execute_result"
    }
   ],
   "source": [
    "pipe_6 = Pipeline(steps = [\n",
    "                        ('combined_pipeline', combined_pipeline), \n",
    "                        ('classifier', KNeighborsClassifier(n_neighbors=3))\n",
    "])\n",
    "\n",
    "param_grid_6 = {\n",
    "            'classifier__n_neighbors': [3, 5, 7, 10]\n",
    "}\n",
    "\n",
    "grid_6 = GridSearchCV(pipe_6, param_grid_6, cv=kfold, return_train_score=True)\n",
    "\n",
    "grid_6.fit(X_train, y_train)\n",
    "grid_6.best_params_"
   ]
  },
  {
   "cell_type": "code",
   "execution_count": 77,
   "metadata": {},
   "outputs": [
    {
     "data": {
      "text/plain": [
       "{'classifier__learning_rate': 0.5, 'classifier__n_estimators': 50}"
      ]
     },
     "execution_count": 77,
     "metadata": {},
     "output_type": "execute_result"
    }
   ],
   "source": [
    "pipe_7 = Pipeline(steps = [\n",
    "                        ('combined_pipeline', combined_pipeline),\n",
    "                        ('classifier', AdaBoostClassifier())\n",
    "])\n",
    "\n",
    "param_grid_7 = {'classifier__n_estimators': [2, 5, 10, 15, 20, 30, 50],\n",
    "            'classifier__learning_rate': [0.1, 0.5, 1, 2, 3]}\n",
    "\n",
    "grid_7 = GridSearchCV(pipe_7, param_grid_7, cv=kfold, return_train_score=True)\n",
    "\n",
    "grid_7.fit(X_train, y_train)\n",
    "grid_7.best_params_"
   ]
  },
  {
   "cell_type": "code",
   "execution_count": 68,
   "metadata": {},
   "outputs": [
    {
     "data": {
      "text/plain": [
       "{'classifier__learning_rate': 0.5, 'classifier__n_estimators': 15}"
      ]
     },
     "execution_count": 68,
     "metadata": {},
     "output_type": "execute_result"
    }
   ],
   "source": [
    "pipe_8 = Pipeline(steps = [\n",
    "                        ('combined_pipeline', combined_pipeline),\n",
    "                        ('classifier', GradientBoostingClassifier())\n",
    "])\n",
    "\n",
    "param_grid_8 = {'classifier__n_estimators': [2, 5, 10, 15, 20],\n",
    "            'classifier__learning_rate': [0.1, 0.5, 1]}\n",
    "\n",
    "grid_8 = GridSearchCV(pipe_8, param_grid_8, cv=kfold, return_train_score=True)\n",
    "\n",
    "grid_8.fit(X_train, y_train)\n",
    "grid_8.best_params_"
   ]
  },
  {
   "cell_type": "code",
   "execution_count": 78,
   "metadata": {},
   "outputs": [
    {
     "name": "stdout",
     "output_type": "stream",
     "text": [
      "Logistic Regression\n",
      "precision_score: 0.6795716639209226\n",
      "recall_score: 0.6646525679758308\n",
      "f1_score: 0.6720293249159963\n",
      "accuracy_score: 0.6756294058408862\n",
      "roc_auc_score: 0.7376570941200691\n",
      "Decission Tree\n",
      "precision_score: 0.665506742061766\n",
      "recall_score: 0.6163141993957704\n",
      "f1_score: 0.6399665376973753\n",
      "accuracy_score: 0.6532729103726083\n",
      "roc_auc_score: 0.7067922790855222\n",
      "Extra Tree\n",
      "precision_score: 0.645411812793787\n",
      "recall_score: 0.6360523665659618\n",
      "f1_score: 0.6406979103266383\n",
      "accuracy_score: 0.6433031218529708\n",
      "roc_auc_score: 0.6961485686816781\n",
      "Random Forest\n",
      "precision_score: 0.6724989707698641\n",
      "recall_score: 0.6580060422960725\n",
      "f1_score: 0.6651735722284434\n",
      "accuracy_score: 0.6687814702920443\n",
      "roc_auc_score: 0.730052766140425\n",
      "KNeighbors\n",
      "precision_score: 0.6381359961959105\n",
      "recall_score: 0.5405840886203424\n",
      "f1_score: 0.5853233017119179\n",
      "accuracy_score: 0.6170191339375629\n",
      "roc_auc_score: 0.6574711195893916\n",
      "Ada Boost\n",
      "precision_score: 0.6782077393075356\n",
      "recall_score: 0.6706948640483383\n",
      "f1_score: 0.6744303797468354\n",
      "accuracy_score: 0.676233635448137\n",
      "roc_auc_score: 0.7384721448934078\n",
      "Gradient Boost\n",
      "precision_score: 0.6808159901092108\n",
      "recall_score: 0.6654582074521651\n",
      "f1_score: 0.6730495009166837\n",
      "accuracy_score: 0.676737160120846\n",
      "roc_auc_score: 0.7391371219888667\n"
     ]
    }
   ],
   "source": [
    "from sklearn import  metrics\n",
    "\n",
    "models = []\n",
    "models.append(('Logistic Regression', grid_1.best_estimator_))\n",
    "#models.append(('SVM', grid_2.best_estimator_))\n",
    "models.append(('Decission Tree', grid_3.best_estimator_))\n",
    "models.append(('Extra Tree', grid_4.best_estimator_))\n",
    "models.append(('Random Forest', grid_5.best_estimator_))\n",
    "models.append(('KNeighbors', grid_6.best_estimator_))\n",
    "models.append(('Ada Boost', grid_7.best_estimator_))\n",
    "models.append(('Gradient Boost', grid_8.best_estimator_))\n",
    "\n",
    "precision_score = []\n",
    "recall_score = []\n",
    "f1_score = []\n",
    "accuracy_score = []\n",
    "roc_auc_score = []\n",
    "for name, model in models:\n",
    "    print(name)\n",
    "    print(\"precision_score: {}\".format(metrics.precision_score(y_test , model.predict(X_test)) ))\n",
    "    print(\"recall_score: {}\".format( metrics.recall_score(y_test , model.predict(X_test)) ))\n",
    "    print(\"f1_score: {}\".format( metrics.f1_score(y_test , model.predict(X_test)) ))\n",
    "    print(\"accuracy_score: {}\".format( metrics.accuracy_score(y_test , model.predict(X_test)) ))\n",
    "    print(\"roc_auc_score: {}\".format( metrics.roc_auc_score(y_test , model.predict_proba(X_test)[:,1]) ))\n",
    "    \n",
    "    precision_score.append(metrics.precision_score(y_test , model.predict(X_test)))\n",
    "    recall_score.append(metrics.recall_score(y_test , model.predict(X_test)))\n",
    "    f1_score.append( metrics.f1_score(y_test , model.predict(X_test)))\n",
    "    accuracy_score.append(metrics.accuracy_score(y_test , model.predict(X_test)))  \n",
    "    roc_auc_score.append(metrics.roc_auc_score(y_test , model.predict_proba(X_test)[:,1]))"
   ]
  },
  {
   "cell_type": "code",
   "execution_count": 79,
   "metadata": {},
   "outputs": [
    {
     "data": {
      "text/html": [
       "<div>\n",
       "<style scoped>\n",
       "    .dataframe tbody tr th:only-of-type {\n",
       "        vertical-align: middle;\n",
       "    }\n",
       "\n",
       "    .dataframe tbody tr th {\n",
       "        vertical-align: top;\n",
       "    }\n",
       "\n",
       "    .dataframe thead th {\n",
       "        text-align: right;\n",
       "    }\n",
       "</style>\n",
       "<table border=\"1\" class=\"dataframe\">\n",
       "  <thead>\n",
       "    <tr style=\"text-align: right;\">\n",
       "      <th></th>\n",
       "      <th>Method</th>\n",
       "      <th>precision_score</th>\n",
       "      <th>recall_score</th>\n",
       "      <th>f1_score</th>\n",
       "      <th>accuracy_score</th>\n",
       "      <th>roc_auc_score</th>\n",
       "    </tr>\n",
       "  </thead>\n",
       "  <tbody>\n",
       "    <tr>\n",
       "      <th>0</th>\n",
       "      <td>Logistic Regression</td>\n",
       "      <td>0.679572</td>\n",
       "      <td>0.664653</td>\n",
       "      <td>0.672029</td>\n",
       "      <td>0.675629</td>\n",
       "      <td>0.737657</td>\n",
       "    </tr>\n",
       "    <tr>\n",
       "      <th>1</th>\n",
       "      <td>Decission Tree</td>\n",
       "      <td>0.665507</td>\n",
       "      <td>0.616314</td>\n",
       "      <td>0.639967</td>\n",
       "      <td>0.653273</td>\n",
       "      <td>0.706792</td>\n",
       "    </tr>\n",
       "    <tr>\n",
       "      <th>2</th>\n",
       "      <td>Extra Tree</td>\n",
       "      <td>0.645412</td>\n",
       "      <td>0.636052</td>\n",
       "      <td>0.640698</td>\n",
       "      <td>0.643303</td>\n",
       "      <td>0.696149</td>\n",
       "    </tr>\n",
       "    <tr>\n",
       "      <th>3</th>\n",
       "      <td>Random Forest</td>\n",
       "      <td>0.672499</td>\n",
       "      <td>0.658006</td>\n",
       "      <td>0.665174</td>\n",
       "      <td>0.668781</td>\n",
       "      <td>0.730053</td>\n",
       "    </tr>\n",
       "    <tr>\n",
       "      <th>4</th>\n",
       "      <td>KNeighbors</td>\n",
       "      <td>0.638136</td>\n",
       "      <td>0.540584</td>\n",
       "      <td>0.585323</td>\n",
       "      <td>0.617019</td>\n",
       "      <td>0.657471</td>\n",
       "    </tr>\n",
       "    <tr>\n",
       "      <th>5</th>\n",
       "      <td>Ada Boost</td>\n",
       "      <td>0.678208</td>\n",
       "      <td>0.670695</td>\n",
       "      <td>0.674430</td>\n",
       "      <td>0.676234</td>\n",
       "      <td>0.738472</td>\n",
       "    </tr>\n",
       "    <tr>\n",
       "      <th>6</th>\n",
       "      <td>Gradient Boost</td>\n",
       "      <td>0.680816</td>\n",
       "      <td>0.665458</td>\n",
       "      <td>0.673050</td>\n",
       "      <td>0.676737</td>\n",
       "      <td>0.739137</td>\n",
       "    </tr>\n",
       "  </tbody>\n",
       "</table>\n",
       "</div>"
      ],
      "text/plain": [
       "                Method  precision_score  recall_score  f1_score  \\\n",
       "0  Logistic Regression         0.679572      0.664653  0.672029   \n",
       "1       Decission Tree         0.665507      0.616314  0.639967   \n",
       "2           Extra Tree         0.645412      0.636052  0.640698   \n",
       "3        Random Forest         0.672499      0.658006  0.665174   \n",
       "4           KNeighbors         0.638136      0.540584  0.585323   \n",
       "5            Ada Boost         0.678208      0.670695  0.674430   \n",
       "6       Gradient Boost         0.680816      0.665458  0.673050   \n",
       "\n",
       "   accuracy_score  roc_auc_score  \n",
       "0        0.675629       0.737657  \n",
       "1        0.653273       0.706792  \n",
       "2        0.643303       0.696149  \n",
       "3        0.668781       0.730053  \n",
       "4        0.617019       0.657471  \n",
       "5        0.676234       0.738472  \n",
       "6        0.676737       0.739137  "
      ]
     },
     "execution_count": 79,
     "metadata": {},
     "output_type": "execute_result"
    }
   ],
   "source": [
    "d = {'precision_score': precision_score, \n",
    "     'recall_score': recall_score, \n",
    "     'f1_score': f1_score,\n",
    "     'accuracy_score' : accuracy_score,\n",
    "     'roc_auc_score' : roc_auc_score\n",
    "    }\n",
    "df = pd.DataFrame(data=d)\n",
    "df.insert(loc=0, column='Method', value=['Logistic Regression','Decission Tree','Extra Tree','Random Forest','KNeighbors', 'Ada Boost', 'Gradient Boost'])\n",
    "df"
   ]
  }
 ],
 "metadata": {
  "kernelspec": {
   "display_name": "Python 3",
   "language": "python",
   "name": "python3"
  },
  "language_info": {
   "codemirror_mode": {
    "name": "ipython",
    "version": 3
   },
   "file_extension": ".py",
   "mimetype": "text/x-python",
   "name": "python",
   "nbconvert_exporter": "python",
   "pygments_lexer": "ipython3",
   "version": "3.7.3"
  }
 },
 "nbformat": 4,
 "nbformat_minor": 4
}
