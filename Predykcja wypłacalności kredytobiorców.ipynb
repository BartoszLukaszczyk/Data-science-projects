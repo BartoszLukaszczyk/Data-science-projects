{
 "cells": [
  {
   "cell_type": "markdown",
   "metadata": {},
   "source": [
    "# Loan Defaulters Predictions\n"
    "\n"
    "## Introduction\n",
    "\n",
    "In this project, I will face the problem of classification. In order to deal with this, I will use the familiar machine learning methods. I will also use libraries for data processing, analysis and visualization: Pandas, NumPy, Matplotlib and Scikitlearn . This is my first data science project, so it's mainly a training project\n",
    "\n",
    "##### The project is created on the basis of this dataset\n",
    "https://www.kaggle.com/gauravduttakiit/loan-defaulter"
   ]
  },
  {
   "cell_type": "markdown",
   "metadata": {},
   "source": [
    "### Imports"
   ]
  },
  {
   "cell_type": "code",
   "execution_count": 1,
   "metadata": {},
   "outputs": [
    {
     "name": "stderr",
     "output_type": "stream",
     "text": [
      "C:\\Users\\User\\Anaconda3\\lib\\site-packages\\statsmodels\\tools\\_testing.py:19: FutureWarning: pandas.util.testing is deprecated. Use the functions in the public API at pandas.testing instead.\n",
      "  import pandas.util.testing as tm\n"
     ]
    }
   ],
   "source": [
    "import pandas as pd\n",
    "import numpy as np\n",
    "\n",
    "import matplotlib.pyplot as plt\n",
    "\n",
    "from sklearn.pipeline import FeatureUnion, Pipeline\n",
    "from sklearn.base import BaseEstimator, TransformerMixin\n",
    "from sklearn.compose import ColumnTransformer\n",
    "\n",
    "from sklearn.impute import SimpleImputer\n",
    "from sklearn.preprocessing import MinMaxScaler, StandardScaler\n",
    "from sklearn.preprocessing import OneHotEncoder\n",
    "from sklearn.decomposition import PCA\n",
    "\n",
    "from sklearn.model_selection import train_test_split, GridSearchCV\n",
    "from sklearn.linear_model import LogisticRegression\n",
    "from sklearn.svm import SVC\n",
    "from sklearn.tree import DecisionTreeClassifier\n",
    "from sklearn.ensemble import ExtraTreesClassifier\n",
    "from sklearn.ensemble import RandomForestClassifier\n",
    "from sklearn.neighbors import KNeighborsClassifier\n",
    "from sklearn.ensemble import AdaBoostClassifier\n",
    "from sklearn.ensemble import GradientBoostingClassifier\n",
    "\n",
    "from sklearn.metrics import accuracy_score, precision_score, recall_score, f1_score\n",
    "\n",
    "import warnings\n",
    "warnings.filterwarnings('ignore')"
   ]
  },
  {
   "cell_type": "markdown",
   "metadata": {},
   "source": [
    "### Preliminary analysis of data"
   ]
  },
  {
   "cell_type": "code",
   "execution_count": 2,
   "metadata": {},
   "outputs": [
    {
     "data": {
      "text/html": [
       "<div>\n",
       "<style scoped>\n",
       "    .dataframe tbody tr th:only-of-type {\n",
       "        vertical-align: middle;\n",
       "    }\n",
       "\n",
       "    .dataframe tbody tr th {\n",
       "        vertical-align: top;\n",
       "    }\n",
       "\n",
       "    .dataframe thead th {\n",
       "        text-align: right;\n",
       "    }\n",
       "</style>\n",
       "<table border=\"1\" class=\"dataframe\">\n",
       "  <thead>\n",
       "    <tr style=\"text-align: right;\">\n",
       "      <th></th>\n",
       "      <th>SK_ID_CURR</th>\n",
       "      <th>TARGET</th>\n",
       "      <th>NAME_CONTRACT_TYPE</th>\n",
       "      <th>CODE_GENDER</th>\n",
       "      <th>FLAG_OWN_CAR</th>\n",
       "      <th>FLAG_OWN_REALTY</th>\n",
       "      <th>CNT_CHILDREN</th>\n",
       "      <th>AMT_INCOME_TOTAL</th>\n",
       "      <th>AMT_CREDIT</th>\n",
       "      <th>AMT_ANNUITY</th>\n",
       "      <th>...</th>\n",
       "      <th>FLAG_DOCUMENT_18</th>\n",
       "      <th>FLAG_DOCUMENT_19</th>\n",
       "      <th>FLAG_DOCUMENT_20</th>\n",
       "      <th>FLAG_DOCUMENT_21</th>\n",
       "      <th>AMT_REQ_CREDIT_BUREAU_HOUR</th>\n",
       "      <th>AMT_REQ_CREDIT_BUREAU_DAY</th>\n",
       "      <th>AMT_REQ_CREDIT_BUREAU_WEEK</th>\n",
       "      <th>AMT_REQ_CREDIT_BUREAU_MON</th>\n",
       "      <th>AMT_REQ_CREDIT_BUREAU_QRT</th>\n",
       "      <th>AMT_REQ_CREDIT_BUREAU_YEAR</th>\n",
       "    </tr>\n",
       "  </thead>\n",
       "  <tbody>\n",
       "    <tr>\n",
       "      <th>0</th>\n",
       "      <td>100002</td>\n",
       "      <td>1</td>\n",
       "      <td>Cash loans</td>\n",
       "      <td>M</td>\n",
       "      <td>N</td>\n",
       "      <td>Y</td>\n",
       "      <td>0</td>\n",
       "      <td>202500.0</td>\n",
       "      <td>406597.5</td>\n",
       "      <td>24700.5</td>\n",
       "      <td>...</td>\n",
       "      <td>0</td>\n",
       "      <td>0</td>\n",
       "      <td>0</td>\n",
       "      <td>0</td>\n",
       "      <td>0.0</td>\n",
       "      <td>0.0</td>\n",
       "      <td>0.0</td>\n",
       "      <td>0.0</td>\n",
       "      <td>0.0</td>\n",
       "      <td>1.0</td>\n",
       "    </tr>\n",
       "    <tr>\n",
       "      <th>1</th>\n",
       "      <td>100003</td>\n",
       "      <td>0</td>\n",
       "      <td>Cash loans</td>\n",
       "      <td>F</td>\n",
       "      <td>N</td>\n",
       "      <td>N</td>\n",
       "      <td>0</td>\n",
       "      <td>270000.0</td>\n",
       "      <td>1293502.5</td>\n",
       "      <td>35698.5</td>\n",
       "      <td>...</td>\n",
       "      <td>0</td>\n",
       "      <td>0</td>\n",
       "      <td>0</td>\n",
       "      <td>0</td>\n",
       "      <td>0.0</td>\n",
       "      <td>0.0</td>\n",
       "      <td>0.0</td>\n",
       "      <td>0.0</td>\n",
       "      <td>0.0</td>\n",
       "      <td>0.0</td>\n",
       "    </tr>\n",
       "    <tr>\n",
       "      <th>2</th>\n",
       "      <td>100004</td>\n",
       "      <td>0</td>\n",
       "      <td>Revolving loans</td>\n",
       "      <td>M</td>\n",
       "      <td>Y</td>\n",
       "      <td>Y</td>\n",
       "      <td>0</td>\n",
       "      <td>67500.0</td>\n",
       "      <td>135000.0</td>\n",
       "      <td>6750.0</td>\n",
       "      <td>...</td>\n",
       "      <td>0</td>\n",
       "      <td>0</td>\n",
       "      <td>0</td>\n",
       "      <td>0</td>\n",
       "      <td>0.0</td>\n",
       "      <td>0.0</td>\n",
       "      <td>0.0</td>\n",
       "      <td>0.0</td>\n",
       "      <td>0.0</td>\n",
       "      <td>0.0</td>\n",
       "    </tr>\n",
       "    <tr>\n",
       "      <th>3</th>\n",
       "      <td>100006</td>\n",
       "      <td>0</td>\n",
       "      <td>Cash loans</td>\n",
       "      <td>F</td>\n",
       "      <td>N</td>\n",
       "      <td>Y</td>\n",
       "      <td>0</td>\n",
       "      <td>135000.0</td>\n",
       "      <td>312682.5</td>\n",
       "      <td>29686.5</td>\n",
       "      <td>...</td>\n",
       "      <td>0</td>\n",
       "      <td>0</td>\n",
       "      <td>0</td>\n",
       "      <td>0</td>\n",
       "      <td>NaN</td>\n",
       "      <td>NaN</td>\n",
       "      <td>NaN</td>\n",
       "      <td>NaN</td>\n",
       "      <td>NaN</td>\n",
       "      <td>NaN</td>\n",
       "    </tr>\n",
       "    <tr>\n",
       "      <th>4</th>\n",
       "      <td>100007</td>\n",
       "      <td>0</td>\n",
       "      <td>Cash loans</td>\n",
       "      <td>M</td>\n",
       "      <td>N</td>\n",
       "      <td>Y</td>\n",
       "      <td>0</td>\n",
       "      <td>121500.0</td>\n",
       "      <td>513000.0</td>\n",
       "      <td>21865.5</td>\n",
       "      <td>...</td>\n",
       "      <td>0</td>\n",
       "      <td>0</td>\n",
       "      <td>0</td>\n",
       "      <td>0</td>\n",
       "      <td>0.0</td>\n",
       "      <td>0.0</td>\n",
       "      <td>0.0</td>\n",
       "      <td>0.0</td>\n",
       "      <td>0.0</td>\n",
       "      <td>0.0</td>\n",
       "    </tr>\n",
       "  </tbody>\n",
       "</table>\n",
       "<p>5 rows × 122 columns</p>\n",
       "</div>"
      ],
      "text/plain": [
       "   SK_ID_CURR  TARGET NAME_CONTRACT_TYPE CODE_GENDER FLAG_OWN_CAR  \\\n",
       "0      100002       1         Cash loans           M            N   \n",
       "1      100003       0         Cash loans           F            N   \n",
       "2      100004       0    Revolving loans           M            Y   \n",
       "3      100006       0         Cash loans           F            N   \n",
       "4      100007       0         Cash loans           M            N   \n",
       "\n",
       "  FLAG_OWN_REALTY  CNT_CHILDREN  AMT_INCOME_TOTAL  AMT_CREDIT  AMT_ANNUITY  \\\n",
       "0               Y             0          202500.0    406597.5      24700.5   \n",
       "1               N             0          270000.0   1293502.5      35698.5   \n",
       "2               Y             0           67500.0    135000.0       6750.0   \n",
       "3               Y             0          135000.0    312682.5      29686.5   \n",
       "4               Y             0          121500.0    513000.0      21865.5   \n",
       "\n",
       "   ...  FLAG_DOCUMENT_18 FLAG_DOCUMENT_19 FLAG_DOCUMENT_20 FLAG_DOCUMENT_21  \\\n",
       "0  ...                 0                0                0                0   \n",
       "1  ...                 0                0                0                0   \n",
       "2  ...                 0                0                0                0   \n",
       "3  ...                 0                0                0                0   \n",
       "4  ...                 0                0                0                0   \n",
       "\n",
       "  AMT_REQ_CREDIT_BUREAU_HOUR AMT_REQ_CREDIT_BUREAU_DAY  \\\n",
       "0                        0.0                       0.0   \n",
       "1                        0.0                       0.0   \n",
       "2                        0.0                       0.0   \n",
       "3                        NaN                       NaN   \n",
       "4                        0.0                       0.0   \n",
       "\n",
       "   AMT_REQ_CREDIT_BUREAU_WEEK  AMT_REQ_CREDIT_BUREAU_MON  \\\n",
       "0                         0.0                        0.0   \n",
       "1                         0.0                        0.0   \n",
       "2                         0.0                        0.0   \n",
       "3                         NaN                        NaN   \n",
       "4                         0.0                        0.0   \n",
       "\n",
       "   AMT_REQ_CREDIT_BUREAU_QRT  AMT_REQ_CREDIT_BUREAU_YEAR  \n",
       "0                        0.0                         1.0  \n",
       "1                        0.0                         0.0  \n",
       "2                        0.0                         0.0  \n",
       "3                        NaN                         NaN  \n",
       "4                        0.0                         0.0  \n",
       "\n",
       "[5 rows x 122 columns]"
      ]
     },
     "execution_count": 2,
     "metadata": {},
     "output_type": "execute_result"
    }
   ],
   "source": [
    "#data loading\n",
    "data = pd.read_csv('application_data.csv')\n",
    "data.head()"
   ]
  },
  {
   "cell_type": "code",
   "execution_count": 3,
   "metadata": {},
   "outputs": [
    {
     "data": {
      "text/html": [
       "<div>\n",
       "<style scoped>\n",
       "    .dataframe tbody tr th:only-of-type {\n",
       "        vertical-align: middle;\n",
       "    }\n",
       "\n",
       "    .dataframe tbody tr th {\n",
       "        vertical-align: top;\n",
       "    }\n",
       "\n",
       "    .dataframe thead th {\n",
       "        text-align: right;\n",
       "    }\n",
       "</style>\n",
       "<table border=\"1\" class=\"dataframe\">\n",
       "  <thead>\n",
       "    <tr style=\"text-align: right;\">\n",
       "      <th></th>\n",
       "      <th>TARGET</th>\n",
       "      <th>NAME_CONTRACT_TYPE</th>\n",
       "      <th>CODE_GENDER</th>\n",
       "      <th>FLAG_OWN_CAR</th>\n",
       "      <th>FLAG_OWN_REALTY</th>\n",
       "      <th>CNT_CHILDREN</th>\n",
       "      <th>AMT_INCOME_TOTAL</th>\n",
       "      <th>AMT_CREDIT</th>\n",
       "      <th>AMT_ANNUITY</th>\n",
       "      <th>AMT_GOODS_PRICE</th>\n",
       "      <th>...</th>\n",
       "      <th>FLAG_DOCUMENT_18</th>\n",
       "      <th>FLAG_DOCUMENT_19</th>\n",
       "      <th>FLAG_DOCUMENT_20</th>\n",
       "      <th>FLAG_DOCUMENT_21</th>\n",
       "      <th>AMT_REQ_CREDIT_BUREAU_HOUR</th>\n",
       "      <th>AMT_REQ_CREDIT_BUREAU_DAY</th>\n",
       "      <th>AMT_REQ_CREDIT_BUREAU_WEEK</th>\n",
       "      <th>AMT_REQ_CREDIT_BUREAU_MON</th>\n",
       "      <th>AMT_REQ_CREDIT_BUREAU_QRT</th>\n",
       "      <th>AMT_REQ_CREDIT_BUREAU_YEAR</th>\n",
       "    </tr>\n",
       "  </thead>\n",
       "  <tbody>\n",
       "    <tr>\n",
       "      <th>0</th>\n",
       "      <td>0</td>\n",
       "      <td>Cash loans</td>\n",
       "      <td>F</td>\n",
       "      <td>N</td>\n",
       "      <td>N</td>\n",
       "      <td>0</td>\n",
       "      <td>90000.0</td>\n",
       "      <td>450000.0</td>\n",
       "      <td>23562.0</td>\n",
       "      <td>450000.0</td>\n",
       "      <td>...</td>\n",
       "      <td>0</td>\n",
       "      <td>0</td>\n",
       "      <td>0</td>\n",
       "      <td>0</td>\n",
       "      <td>0.0</td>\n",
       "      <td>0.0</td>\n",
       "      <td>0.0</td>\n",
       "      <td>0.0</td>\n",
       "      <td>0.0</td>\n",
       "      <td>0.0</td>\n",
       "    </tr>\n",
       "    <tr>\n",
       "      <th>1</th>\n",
       "      <td>1</td>\n",
       "      <td>Cash loans</td>\n",
       "      <td>M</td>\n",
       "      <td>N</td>\n",
       "      <td>Y</td>\n",
       "      <td>2</td>\n",
       "      <td>180000.0</td>\n",
       "      <td>512446.5</td>\n",
       "      <td>40486.5</td>\n",
       "      <td>463500.0</td>\n",
       "      <td>...</td>\n",
       "      <td>0</td>\n",
       "      <td>0</td>\n",
       "      <td>0</td>\n",
       "      <td>0</td>\n",
       "      <td>0.0</td>\n",
       "      <td>0.0</td>\n",
       "      <td>1.0</td>\n",
       "      <td>0.0</td>\n",
       "      <td>1.0</td>\n",
       "      <td>1.0</td>\n",
       "    </tr>\n",
       "    <tr>\n",
       "      <th>2</th>\n",
       "      <td>0</td>\n",
       "      <td>Revolving loans</td>\n",
       "      <td>F</td>\n",
       "      <td>N</td>\n",
       "      <td>Y</td>\n",
       "      <td>0</td>\n",
       "      <td>117000.0</td>\n",
       "      <td>382500.0</td>\n",
       "      <td>19125.0</td>\n",
       "      <td>382500.0</td>\n",
       "      <td>...</td>\n",
       "      <td>0</td>\n",
       "      <td>0</td>\n",
       "      <td>0</td>\n",
       "      <td>0</td>\n",
       "      <td>0.0</td>\n",
       "      <td>0.0</td>\n",
       "      <td>0.0</td>\n",
       "      <td>0.0</td>\n",
       "      <td>0.0</td>\n",
       "      <td>2.0</td>\n",
       "    </tr>\n",
       "    <tr>\n",
       "      <th>3</th>\n",
       "      <td>0</td>\n",
       "      <td>Cash loans</td>\n",
       "      <td>F</td>\n",
       "      <td>N</td>\n",
       "      <td>Y</td>\n",
       "      <td>0</td>\n",
       "      <td>45000.0</td>\n",
       "      <td>95940.0</td>\n",
       "      <td>9472.5</td>\n",
       "      <td>90000.0</td>\n",
       "      <td>...</td>\n",
       "      <td>0</td>\n",
       "      <td>0</td>\n",
       "      <td>0</td>\n",
       "      <td>0</td>\n",
       "      <td>NaN</td>\n",
       "      <td>NaN</td>\n",
       "      <td>NaN</td>\n",
       "      <td>NaN</td>\n",
       "      <td>NaN</td>\n",
       "      <td>NaN</td>\n",
       "    </tr>\n",
       "    <tr>\n",
       "      <th>4</th>\n",
       "      <td>0</td>\n",
       "      <td>Revolving loans</td>\n",
       "      <td>F</td>\n",
       "      <td>N</td>\n",
       "      <td>N</td>\n",
       "      <td>2</td>\n",
       "      <td>112500.0</td>\n",
       "      <td>382500.0</td>\n",
       "      <td>19125.0</td>\n",
       "      <td>382500.0</td>\n",
       "      <td>...</td>\n",
       "      <td>0</td>\n",
       "      <td>0</td>\n",
       "      <td>0</td>\n",
       "      <td>0</td>\n",
       "      <td>0.0</td>\n",
       "      <td>0.0</td>\n",
       "      <td>0.0</td>\n",
       "      <td>0.0</td>\n",
       "      <td>1.0</td>\n",
       "      <td>4.0</td>\n",
       "    </tr>\n",
       "  </tbody>\n",
       "</table>\n",
       "<p>5 rows × 121 columns</p>\n",
       "</div>"
      ],
      "text/plain": [
       "   TARGET NAME_CONTRACT_TYPE CODE_GENDER FLAG_OWN_CAR FLAG_OWN_REALTY  \\\n",
       "0       0         Cash loans           F            N               N   \n",
       "1       1         Cash loans           M            N               Y   \n",
       "2       0    Revolving loans           F            N               Y   \n",
       "3       0         Cash loans           F            N               Y   \n",
       "4       0    Revolving loans           F            N               N   \n",
       "\n",
       "   CNT_CHILDREN  AMT_INCOME_TOTAL  AMT_CREDIT  AMT_ANNUITY  AMT_GOODS_PRICE  \\\n",
       "0             0           90000.0    450000.0      23562.0         450000.0   \n",
       "1             2          180000.0    512446.5      40486.5         463500.0   \n",
       "2             0          117000.0    382500.0      19125.0         382500.0   \n",
       "3             0           45000.0     95940.0       9472.5          90000.0   \n",
       "4             2          112500.0    382500.0      19125.0         382500.0   \n",
       "\n",
       "   ... FLAG_DOCUMENT_18 FLAG_DOCUMENT_19 FLAG_DOCUMENT_20 FLAG_DOCUMENT_21  \\\n",
       "0  ...                0                0                0                0   \n",
       "1  ...                0                0                0                0   \n",
       "2  ...                0                0                0                0   \n",
       "3  ...                0                0                0                0   \n",
       "4  ...                0                0                0                0   \n",
       "\n",
       "  AMT_REQ_CREDIT_BUREAU_HOUR  AMT_REQ_CREDIT_BUREAU_DAY  \\\n",
       "0                        0.0                        0.0   \n",
       "1                        0.0                        0.0   \n",
       "2                        0.0                        0.0   \n",
       "3                        NaN                        NaN   \n",
       "4                        0.0                        0.0   \n",
       "\n",
       "   AMT_REQ_CREDIT_BUREAU_WEEK  AMT_REQ_CREDIT_BUREAU_MON  \\\n",
       "0                         0.0                        0.0   \n",
       "1                         1.0                        0.0   \n",
       "2                         0.0                        0.0   \n",
       "3                         NaN                        NaN   \n",
       "4                         0.0                        0.0   \n",
       "\n",
       "   AMT_REQ_CREDIT_BUREAU_QRT  AMT_REQ_CREDIT_BUREAU_YEAR  \n",
       "0                        0.0                         0.0  \n",
       "1                        1.0                         1.0  \n",
       "2                        0.0                         2.0  \n",
       "3                        NaN                         NaN  \n",
       "4                        1.0                         4.0  \n",
       "\n",
       "[5 rows x 121 columns]"
      ]
     },
     "execution_count": 3,
     "metadata": {},
     "output_type": "execute_result"
    }
   ],
   "source": [
    "#deleting 'SK_ID_CURR' column, and data shuffling\n",
    "data = data.drop(['SK_ID_CURR'], axis=1)\n",
    "data = data.sample(frac=1).reset_index(drop=True)\n",
    "data.head()"
   ]
  },
  {
   "cell_type": "code",
   "execution_count": 4,
   "metadata": {},
   "outputs": [
    {
     "name": "stdout",
     "output_type": "stream",
     "text": [
      "Class 0: 282686\n",
      "Class 1: 24825\n",
      "Proportion: 11.39 : 1\n"
     ]
    },
    {
     "data": {
      "image/png": "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\n",
      "text/plain": [
       "<Figure size 432x288 with 1 Axes>"
      ]
     },
     "metadata": {
      "needs_background": "light"
     },
     "output_type": "display_data"
    }
   ],
   "source": [
    "target_count = data['TARGET'].value_counts()\n",
    "print('Class 0:', target_count[0])\n",
    "print('Class 1:', target_count[1])\n",
    "print('Proportion:', round(target_count[0] / target_count[1], 2), ': 1')\n",
    "\n",
    "target_count.plot(kind='bar', title='Count (target)');"
   ]
  },
  {
   "cell_type": "markdown",
   "metadata": {},
   "source": [
    "#### the target class is unbalanced, I'll downsampling majority class to get rid of this problem"
   ]
  },
  {
   "cell_type": "code",
   "execution_count": 5,
   "metadata": {},
   "outputs": [],
   "source": [
    "count_class_0, count_class_1 = data['TARGET'].value_counts()\n",
    "\n",
    "class_0 = data[data['TARGET'] == 0]\n",
    "class_1 = data[data['TARGET'] == 1]"
   ]
  },
  {
   "cell_type": "code",
   "execution_count": 6,
   "metadata": {},
   "outputs": [
    {
     "name": "stdout",
     "output_type": "stream",
     "text": [
      "Random under-sampling:\n",
      "1    24825\n",
      "0    24825\n",
      "Name: TARGET, dtype: int64\n"
     ]
    },
    {
     "data": {
      "image/png": "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\n",
      "text/plain": [
       "<Figure size 432x288 with 1 Axes>"
      ]
     },
     "metadata": {
      "needs_background": "light"
     },
     "output_type": "display_data"
    }
   ],
   "source": [
    "class_0_under = class_0.sample(count_class_1)\n",
    "data_under = pd.concat([class_0_under, class_1], axis=0)\n",
    "\n",
    "print('Random under-sampling:')\n",
    "print(data_under['TARGET'].value_counts())\n",
    "\n",
    "data_under['TARGET'].value_counts().plot(kind='bar', title='Count (target)');"
   ]
  },
  {
   "cell_type": "code",
   "execution_count": 7,
   "metadata": {
    "scrolled": true
   },
   "outputs": [
    {
     "name": "stdout",
     "output_type": "stream",
     "text": [
      "<class 'pandas.core.frame.DataFrame'>\n",
      "Int64Index: 49650 entries, 178338 to 307508\n",
      "Data columns (total 121 columns):\n",
      " #   Column                        Non-Null Count  Dtype  \n",
      "---  ------                        --------------  -----  \n",
      " 0   TARGET                        49650 non-null  int64  \n",
      " 1   NAME_CONTRACT_TYPE            49650 non-null  object \n",
      " 2   CODE_GENDER                   49650 non-null  object \n",
      " 3   FLAG_OWN_CAR                  49650 non-null  object \n",
      " 4   FLAG_OWN_REALTY               49650 non-null  object \n",
      " 5   CNT_CHILDREN                  49650 non-null  int64  \n",
      " 6   AMT_INCOME_TOTAL              49650 non-null  float64\n",
      " 7   AMT_CREDIT                    49650 non-null  float64\n",
      " 8   AMT_ANNUITY                   49650 non-null  float64\n",
      " 9   AMT_GOODS_PRICE               49612 non-null  float64\n",
      " 10  NAME_TYPE_SUITE               49472 non-null  object \n",
      " 11  NAME_INCOME_TYPE              49650 non-null  object \n",
      " 12  NAME_EDUCATION_TYPE           49650 non-null  object \n",
      " 13  NAME_FAMILY_STATUS            49650 non-null  object \n",
      " 14  NAME_HOUSING_TYPE             49650 non-null  object \n",
      " 15  REGION_POPULATION_RELATIVE    49650 non-null  float64\n",
      " 16  DAYS_BIRTH                    49650 non-null  int64  \n",
      " 17  DAYS_EMPLOYED                 49650 non-null  int64  \n",
      " 18  DAYS_REGISTRATION             49650 non-null  float64\n",
      " 19  DAYS_ID_PUBLISH               49650 non-null  int64  \n",
      " 20  OWN_CAR_AGE                   16022 non-null  float64\n",
      " 21  FLAG_MOBIL                    49650 non-null  int64  \n",
      " 22  FLAG_EMP_PHONE                49650 non-null  int64  \n",
      " 23  FLAG_WORK_PHONE               49650 non-null  int64  \n",
      " 24  FLAG_CONT_MOBILE              49650 non-null  int64  \n",
      " 25  FLAG_PHONE                    49650 non-null  int64  \n",
      " 26  FLAG_EMAIL                    49650 non-null  int64  \n",
      " 27  OCCUPATION_TYPE               35459 non-null  object \n",
      " 28  CNT_FAM_MEMBERS               49649 non-null  float64\n",
      " 29  REGION_RATING_CLIENT          49650 non-null  int64  \n",
      " 30  REGION_RATING_CLIENT_W_CITY   49650 non-null  int64  \n",
      " 31  WEEKDAY_APPR_PROCESS_START    49650 non-null  object \n",
      " 32  HOUR_APPR_PROCESS_START       49650 non-null  int64  \n",
      " 33  REG_REGION_NOT_LIVE_REGION    49650 non-null  int64  \n",
      " 34  REG_REGION_NOT_WORK_REGION    49650 non-null  int64  \n",
      " 35  LIVE_REGION_NOT_WORK_REGION   49650 non-null  int64  \n",
      " 36  REG_CITY_NOT_LIVE_CITY        49650 non-null  int64  \n",
      " 37  REG_CITY_NOT_WORK_CITY        49650 non-null  int64  \n",
      " 38  LIVE_CITY_NOT_WORK_CITY       49650 non-null  int64  \n",
      " 39  ORGANIZATION_TYPE             49650 non-null  object \n",
      " 40  EXT_SOURCE_1                  21112 non-null  float64\n",
      " 41  EXT_SOURCE_2                  49546 non-null  float64\n",
      " 42  EXT_SOURCE_3                  39114 non-null  float64\n",
      " 43  APARTMENTS_AVG                22853 non-null  float64\n",
      " 44  BASEMENTAREA_AVG              19218 non-null  float64\n",
      " 45  YEARS_BEGINEXPLUATATION_AVG   23802 non-null  float64\n",
      " 46  YEARS_BUILD_AVG               15448 non-null  float64\n",
      " 47  COMMONAREA_AVG                13919 non-null  float64\n",
      " 48  ELEVATORS_AVG                 21596 non-null  float64\n",
      " 49  ENTRANCES_AVG                 23039 non-null  float64\n",
      " 50  FLOORSMAX_AVG                 23317 non-null  float64\n",
      " 51  FLOORSMIN_AVG                 14815 non-null  float64\n",
      " 52  LANDAREA_AVG                  18908 non-null  float64\n",
      " 53  LIVINGAPARTMENTS_AVG          14600 non-null  float64\n",
      " 54  LIVINGAREA_AVG                23168 non-null  float64\n",
      " 55  NONLIVINGAPARTMENTS_AVG       14129 non-null  float64\n",
      " 56  NONLIVINGAREA_AVG             20701 non-null  float64\n",
      " 57  APARTMENTS_MODE               22853 non-null  float64\n",
      " 58  BASEMENTAREA_MODE             19218 non-null  float64\n",
      " 59  YEARS_BEGINEXPLUATATION_MODE  23802 non-null  float64\n",
      " 60  YEARS_BUILD_MODE              15448 non-null  float64\n",
      " 61  COMMONAREA_MODE               13919 non-null  float64\n",
      " 62  ELEVATORS_MODE                21596 non-null  float64\n",
      " 63  ENTRANCES_MODE                23039 non-null  float64\n",
      " 64  FLOORSMAX_MODE                23317 non-null  float64\n",
      " 65  FLOORSMIN_MODE                14815 non-null  float64\n",
      " 66  LANDAREA_MODE                 18908 non-null  float64\n",
      " 67  LIVINGAPARTMENTS_MODE         14600 non-null  float64\n",
      " 68  LIVINGAREA_MODE               23168 non-null  float64\n",
      " 69  NONLIVINGAPARTMENTS_MODE      14129 non-null  float64\n",
      " 70  NONLIVINGAREA_MODE            20701 non-null  float64\n",
      " 71  APARTMENTS_MEDI               22853 non-null  float64\n",
      " 72  BASEMENTAREA_MEDI             19218 non-null  float64\n",
      " 73  YEARS_BEGINEXPLUATATION_MEDI  23802 non-null  float64\n",
      " 74  YEARS_BUILD_MEDI              15448 non-null  float64\n",
      " 75  COMMONAREA_MEDI               13919 non-null  float64\n",
      " 76  ELEVATORS_MEDI                21596 non-null  float64\n",
      " 77  ENTRANCES_MEDI                23039 non-null  float64\n",
      " 78  FLOORSMAX_MEDI                23317 non-null  float64\n",
      " 79  FLOORSMIN_MEDI                14815 non-null  float64\n",
      " 80  LANDAREA_MEDI                 18908 non-null  float64\n",
      " 81  LIVINGAPARTMENTS_MEDI         14600 non-null  float64\n",
      " 82  LIVINGAREA_MEDI               23168 non-null  float64\n",
      " 83  NONLIVINGAPARTMENTS_MEDI      14129 non-null  float64\n",
      " 84  NONLIVINGAREA_MEDI            20701 non-null  float64\n",
      " 85  FONDKAPREMONT_MODE            14623 non-null  object \n",
      " 86  HOUSETYPE_MODE                23162 non-null  object \n",
      " 87  TOTALAREA_MODE                24046 non-null  float64\n",
      " 88  WALLSMATERIAL_MODE            22818 non-null  object \n",
      " 89  EMERGENCYSTATE_MODE           24499 non-null  object \n",
      " 90  OBS_30_CNT_SOCIAL_CIRCLE      49531 non-null  float64\n",
      " 91  DEF_30_CNT_SOCIAL_CIRCLE      49531 non-null  float64\n",
      " 92  OBS_60_CNT_SOCIAL_CIRCLE      49531 non-null  float64\n",
      " 93  DEF_60_CNT_SOCIAL_CIRCLE      49531 non-null  float64\n",
      " 94  DAYS_LAST_PHONE_CHANGE        49650 non-null  float64\n",
      " 95  FLAG_DOCUMENT_2               49650 non-null  int64  \n",
      " 96  FLAG_DOCUMENT_3               49650 non-null  int64  \n",
      " 97  FLAG_DOCUMENT_4               49650 non-null  int64  \n",
      " 98  FLAG_DOCUMENT_5               49650 non-null  int64  \n",
      " 99  FLAG_DOCUMENT_6               49650 non-null  int64  \n",
      " 100 FLAG_DOCUMENT_7               49650 non-null  int64  \n",
      " 101 FLAG_DOCUMENT_8               49650 non-null  int64  \n",
      " 102 FLAG_DOCUMENT_9               49650 non-null  int64  \n",
      " 103 FLAG_DOCUMENT_10              49650 non-null  int64  \n",
      " 104 FLAG_DOCUMENT_11              49650 non-null  int64  \n",
      " 105 FLAG_DOCUMENT_12              49650 non-null  int64  \n",
      " 106 FLAG_DOCUMENT_13              49650 non-null  int64  \n",
      " 107 FLAG_DOCUMENT_14              49650 non-null  int64  \n",
      " 108 FLAG_DOCUMENT_15              49650 non-null  int64  \n",
      " 109 FLAG_DOCUMENT_16              49650 non-null  int64  \n",
      " 110 FLAG_DOCUMENT_17              49650 non-null  int64  \n",
      " 111 FLAG_DOCUMENT_18              49650 non-null  int64  \n",
      " 112 FLAG_DOCUMENT_19              49650 non-null  int64  \n",
      " 113 FLAG_DOCUMENT_20              49650 non-null  int64  \n",
      " 114 FLAG_DOCUMENT_21              49650 non-null  int64  \n",
      " 115 AMT_REQ_CREDIT_BUREAU_HOUR    42078 non-null  float64\n",
      " 116 AMT_REQ_CREDIT_BUREAU_DAY     42078 non-null  float64\n",
      " 117 AMT_REQ_CREDIT_BUREAU_WEEK    42078 non-null  float64\n",
      " 118 AMT_REQ_CREDIT_BUREAU_MON     42078 non-null  float64\n",
      " 119 AMT_REQ_CREDIT_BUREAU_QRT     42078 non-null  float64\n",
      " 120 AMT_REQ_CREDIT_BUREAU_YEAR    42078 non-null  float64\n",
      "dtypes: float64(65), int64(40), object(16)\n",
      "memory usage: 46.2+ MB\n"
     ]
    }
   ],
   "source": [
    "data_under.info(verbose=True, null_counts=True)"
   ]
  },
  {
   "cell_type": "code",
   "execution_count": 8,
   "metadata": {
    "scrolled": true
   },
   "outputs": [
    {
     "data": {
      "text/plain": [
       "AMT_GOODS_PRICE                0.076536\n",
       "NAME_TYPE_SUITE                0.358510\n",
       "OWN_CAR_AGE                   67.730111\n",
       "OCCUPATION_TYPE               28.582075\n",
       "CNT_FAM_MEMBERS                0.002014\n",
       "                                ...    \n",
       "AMT_REQ_CREDIT_BUREAU_DAY     15.250755\n",
       "AMT_REQ_CREDIT_BUREAU_WEEK    15.250755\n",
       "AMT_REQ_CREDIT_BUREAU_MON     15.250755\n",
       "AMT_REQ_CREDIT_BUREAU_QRT     15.250755\n",
       "AMT_REQ_CREDIT_BUREAU_YEAR    15.250755\n",
       "Length: 65, dtype: float64"
      ]
     },
     "execution_count": 8,
     "metadata": {},
     "output_type": "execute_result"
    }
   ],
   "source": [
    "a = data_under.isna().mean()*100\n",
    "a[a>0]"
   ]
  },
  {
   "cell_type": "code",
   "execution_count": 9,
   "metadata": {},
   "outputs": [
    {
     "name": "stdout",
     "output_type": "stream",
     "text": [
      "49\n"
     ]
    },
    {
     "data": {
      "text/plain": [
       "OWN_CAR_AGE                     67.730111\n",
       "EXT_SOURCE_1                    57.478348\n",
       "APARTMENTS_AVG                  53.971803\n",
       "BASEMENTAREA_AVG                61.293051\n",
       "YEARS_BEGINEXPLUATATION_AVG     52.060423\n",
       "YEARS_BUILD_AVG                 68.886203\n",
       "COMMONAREA_AVG                  71.965760\n",
       "ELEVATORS_AVG                   56.503525\n",
       "ENTRANCES_AVG                   53.597180\n",
       "FLOORSMAX_AVG                   53.037261\n",
       "FLOORSMIN_AVG                   70.161128\n",
       "LANDAREA_AVG                    61.917422\n",
       "LIVINGAPARTMENTS_AVG            70.594159\n",
       "LIVINGAREA_AVG                  53.337362\n",
       "NONLIVINGAPARTMENTS_AVG         71.542800\n",
       "NONLIVINGAREA_AVG               58.306143\n",
       "APARTMENTS_MODE                 53.971803\n",
       "BASEMENTAREA_MODE               61.293051\n",
       "YEARS_BEGINEXPLUATATION_MODE    52.060423\n",
       "YEARS_BUILD_MODE                68.886203\n",
       "COMMONAREA_MODE                 71.965760\n",
       "ELEVATORS_MODE                  56.503525\n",
       "ENTRANCES_MODE                  53.597180\n",
       "FLOORSMAX_MODE                  53.037261\n",
       "FLOORSMIN_MODE                  70.161128\n",
       "LANDAREA_MODE                   61.917422\n",
       "LIVINGAPARTMENTS_MODE           70.594159\n",
       "LIVINGAREA_MODE                 53.337362\n",
       "NONLIVINGAPARTMENTS_MODE        71.542800\n",
       "NONLIVINGAREA_MODE              58.306143\n",
       "APARTMENTS_MEDI                 53.971803\n",
       "BASEMENTAREA_MEDI               61.293051\n",
       "YEARS_BEGINEXPLUATATION_MEDI    52.060423\n",
       "YEARS_BUILD_MEDI                68.886203\n",
       "COMMONAREA_MEDI                 71.965760\n",
       "ELEVATORS_MEDI                  56.503525\n",
       "ENTRANCES_MEDI                  53.597180\n",
       "FLOORSMAX_MEDI                  53.037261\n",
       "FLOORSMIN_MEDI                  70.161128\n",
       "LANDAREA_MEDI                   61.917422\n",
       "LIVINGAPARTMENTS_MEDI           70.594159\n",
       "LIVINGAREA_MEDI                 53.337362\n",
       "NONLIVINGAPARTMENTS_MEDI        71.542800\n",
       "NONLIVINGAREA_MEDI              58.306143\n",
       "FONDKAPREMONT_MODE              70.547835\n",
       "HOUSETYPE_MODE                  53.349446\n",
       "TOTALAREA_MODE                  51.568983\n",
       "WALLSMATERIAL_MODE              54.042296\n",
       "EMERGENCYSTATE_MODE             50.656596\n",
       "dtype: float64"
      ]
     },
     "execution_count": 9,
     "metadata": {},
     "output_type": "execute_result"
    }
   ],
   "source": [
    "a = data_under.isna().mean()*100\n",
    "print(len(a[a>30]))\n",
    "a[a>30]"
   ]
  },
  {
   "cell_type": "markdown",
   "metadata": {},
   "source": [
    "#### There are 49 columns with more than 30% empty seats. I will simply drop these columns"
   ]
  },
  {
   "cell_type": "code",
   "execution_count": 10,
   "metadata": {},
   "outputs": [],
   "source": [
    "for column in data_under.columns:\n",
    "    if data_under[column].isna().mean()*100 > 30:\n",
    "        data_under.drop([column], axis=1, inplace=True)"
   ]
  },
  {
   "cell_type": "code",
   "execution_count": 12,
   "metadata": {},
   "outputs": [
    {
     "data": {
      "text/plain": [
       "AMT_GOODS_PRICE                0.076536\n",
       "NAME_TYPE_SUITE                0.358510\n",
       "OCCUPATION_TYPE               28.582075\n",
       "CNT_FAM_MEMBERS                0.002014\n",
       "EXT_SOURCE_2                   0.209466\n",
       "EXT_SOURCE_3                  21.220544\n",
       "OBS_30_CNT_SOCIAL_CIRCLE       0.239678\n",
       "DEF_30_CNT_SOCIAL_CIRCLE       0.239678\n",
       "OBS_60_CNT_SOCIAL_CIRCLE       0.239678\n",
       "DEF_60_CNT_SOCIAL_CIRCLE       0.239678\n",
       "AMT_REQ_CREDIT_BUREAU_HOUR    15.250755\n",
       "AMT_REQ_CREDIT_BUREAU_DAY     15.250755\n",
       "AMT_REQ_CREDIT_BUREAU_WEEK    15.250755\n",
       "AMT_REQ_CREDIT_BUREAU_MON     15.250755\n",
       "AMT_REQ_CREDIT_BUREAU_QRT     15.250755\n",
       "AMT_REQ_CREDIT_BUREAU_YEAR    15.250755\n",
       "dtype: float64"
      ]
     },
     "execution_count": 12,
     "metadata": {},
     "output_type": "execute_result"
    }
   ],
   "source": [
    "a = data_under.isna().mean()*100\n",
    "a[a>0]"
   ]
  },
  {
   "cell_type": "markdown",
   "metadata": {},
   "source": [
    "#### I will assign the names of numerical and categorical columns, to separate variables, it will be necessary for the pipeline construction."
   ]
  },
  {
   "cell_type": "code",
   "execution_count": 15,
   "metadata": {},
   "outputs": [],
   "source": [
    "numeric_columns = data_under.select_dtypes(include=np.number).columns\n",
    "numeric_columns = numeric_columns.drop('TARGET')"
   ]
  },
  {
   "cell_type": "code",
   "execution_count": 16,
   "metadata": {},
   "outputs": [
    {
     "data": {
      "text/plain": [
       "Index(['CNT_CHILDREN', 'AMT_INCOME_TOTAL', 'AMT_CREDIT', 'AMT_ANNUITY',\n",
       "       'AMT_GOODS_PRICE', 'REGION_POPULATION_RELATIVE', 'DAYS_BIRTH',\n",
       "       'DAYS_EMPLOYED', 'DAYS_REGISTRATION', 'DAYS_ID_PUBLISH', 'FLAG_MOBIL',\n",
       "       'FLAG_EMP_PHONE', 'FLAG_WORK_PHONE', 'FLAG_CONT_MOBILE', 'FLAG_PHONE',\n",
       "       'FLAG_EMAIL', 'CNT_FAM_MEMBERS', 'REGION_RATING_CLIENT',\n",
       "       'REGION_RATING_CLIENT_W_CITY', 'HOUR_APPR_PROCESS_START',\n",
       "       'REG_REGION_NOT_LIVE_REGION', 'REG_REGION_NOT_WORK_REGION',\n",
       "       'LIVE_REGION_NOT_WORK_REGION', 'REG_CITY_NOT_LIVE_CITY',\n",
       "       'REG_CITY_NOT_WORK_CITY', 'LIVE_CITY_NOT_WORK_CITY', 'EXT_SOURCE_2',\n",
       "       'EXT_SOURCE_3', 'OBS_30_CNT_SOCIAL_CIRCLE', 'DEF_30_CNT_SOCIAL_CIRCLE',\n",
       "       'OBS_60_CNT_SOCIAL_CIRCLE', 'DEF_60_CNT_SOCIAL_CIRCLE',\n",
       "       'DAYS_LAST_PHONE_CHANGE', 'FLAG_DOCUMENT_2', 'FLAG_DOCUMENT_3',\n",
       "       'FLAG_DOCUMENT_4', 'FLAG_DOCUMENT_5', 'FLAG_DOCUMENT_6',\n",
       "       'FLAG_DOCUMENT_7', 'FLAG_DOCUMENT_8', 'FLAG_DOCUMENT_9',\n",
       "       'FLAG_DOCUMENT_10', 'FLAG_DOCUMENT_11', 'FLAG_DOCUMENT_12',\n",
       "       'FLAG_DOCUMENT_13', 'FLAG_DOCUMENT_14', 'FLAG_DOCUMENT_15',\n",
       "       'FLAG_DOCUMENT_16', 'FLAG_DOCUMENT_17', 'FLAG_DOCUMENT_18',\n",
       "       'FLAG_DOCUMENT_19', 'FLAG_DOCUMENT_20', 'FLAG_DOCUMENT_21',\n",
       "       'AMT_REQ_CREDIT_BUREAU_HOUR', 'AMT_REQ_CREDIT_BUREAU_DAY',\n",
       "       'AMT_REQ_CREDIT_BUREAU_WEEK', 'AMT_REQ_CREDIT_BUREAU_MON',\n",
       "       'AMT_REQ_CREDIT_BUREAU_QRT', 'AMT_REQ_CREDIT_BUREAU_YEAR',\n",
       "       'INCOME_PER_PERSON'],\n",
       "      dtype='object')"
      ]
     },
     "execution_count": 16,
     "metadata": {},
     "output_type": "execute_result"
    }
   ],
   "source": [
    "numeric_columns"
   ]
  },
  {
   "cell_type": "code",
   "execution_count": 17,
   "metadata": {},
   "outputs": [
    {
     "data": {
      "text/plain": [
       "Index(['NAME_CONTRACT_TYPE', 'CODE_GENDER', 'FLAG_OWN_CAR', 'FLAG_OWN_REALTY',\n",
       "       'NAME_TYPE_SUITE', 'NAME_INCOME_TYPE', 'NAME_EDUCATION_TYPE',\n",
       "       'NAME_FAMILY_STATUS', 'NAME_HOUSING_TYPE', 'OCCUPATION_TYPE',\n",
       "       'WEEKDAY_APPR_PROCESS_START', 'ORGANIZATION_TYPE'],\n",
       "      dtype='object')"
      ]
     },
     "execution_count": 17,
     "metadata": {},
     "output_type": "execute_result"
    }
   ],
   "source": [
    "categoric_columns = data_under.select_dtypes(exclude=np.number).columns\n",
    "categoric_columns"
   ]
  },
  {
   "cell_type": "code",
   "execution_count": 18,
   "metadata": {},
   "outputs": [
    {
     "name": "stdout",
     "output_type": "stream",
     "text": [
      "Columns: NAME_CONTRACT_TYPE\n",
      "Unique values: 2\n"
     ]
    },
    {
     "data": {
      "image/png": "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\n",
      "text/plain": [
       "<Figure size 432x288 with 1 Axes>"
      ]
     },
     "metadata": {
      "needs_background": "light"
     },
     "output_type": "display_data"
    },
    {
     "name": "stdout",
     "output_type": "stream",
     "text": [
      "Columns: CODE_GENDER\n",
      "Unique values: 2\n"
     ]
    },
    {
     "data": {
      "image/png": "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\n",
      "text/plain": [
       "<Figure size 432x288 with 1 Axes>"
      ]
     },
     "metadata": {
      "needs_background": "light"
     },
     "output_type": "display_data"
    },
    {
     "name": "stdout",
     "output_type": "stream",
     "text": [
      "Columns: FLAG_OWN_CAR\n",
      "Unique values: 2\n"
     ]
    },
    {
     "data": {
      "image/png": "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\n",
      "text/plain": [
       "<Figure size 432x288 with 1 Axes>"
      ]
     },
     "metadata": {
      "needs_background": "light"
     },
     "output_type": "display_data"
    },
    {
     "name": "stdout",
     "output_type": "stream",
     "text": [
      "Columns: FLAG_OWN_REALTY\n",
      "Unique values: 2\n"
     ]
    },
    {
     "data": {
      "image/png": "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\n",
      "text/plain": [
       "<Figure size 432x288 with 1 Axes>"
      ]
     },
     "metadata": {
      "needs_background": "light"
     },
     "output_type": "display_data"
    },
    {
     "name": "stdout",
     "output_type": "stream",
     "text": [
      "Columns: NAME_TYPE_SUITE\n",
      "Unique values: 8\n"
     ]
    },
    {
     "data": {
      "image/png": "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\n",
      "text/plain": [
       "<Figure size 432x288 with 1 Axes>"
      ]
     },
     "metadata": {
      "needs_background": "light"
     },
     "output_type": "display_data"
    },
    {
     "name": "stdout",
     "output_type": "stream",
     "text": [
      "Columns: NAME_INCOME_TYPE\n",
      "Unique values: 7\n"
     ]
    },
    {
     "data": {
      "image/png": "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\n",
      "text/plain": [
       "<Figure size 432x288 with 1 Axes>"
      ]
     },
     "metadata": {
      "needs_background": "light"
     },
     "output_type": "display_data"
    },
    {
     "name": "stdout",
     "output_type": "stream",
     "text": [
      "Columns: NAME_EDUCATION_TYPE\n",
      "Unique values: 5\n"
     ]
    },
    {
     "data": {
      "image/png": "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\n",
      "text/plain": [
       "<Figure size 432x288 with 1 Axes>"
      ]
     },
     "metadata": {
      "needs_background": "light"
     },
     "output_type": "display_data"
    },
    {
     "name": "stdout",
     "output_type": "stream",
     "text": [
      "Columns: NAME_FAMILY_STATUS\n",
      "Unique values: 6\n"
     ]
    },
    {
     "data": {
      "image/png": "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\n",
      "text/plain": [
       "<Figure size 432x288 with 1 Axes>"
      ]
     },
     "metadata": {
      "needs_background": "light"
     },
     "output_type": "display_data"
    },
    {
     "name": "stdout",
     "output_type": "stream",
     "text": [
      "Columns: NAME_HOUSING_TYPE\n",
      "Unique values: 6\n"
     ]
    },
    {
     "data": {
      "image/png": "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\n",
      "text/plain": [
       "<Figure size 432x288 with 1 Axes>"
      ]
     },
     "metadata": {
      "needs_background": "light"
     },
     "output_type": "display_data"
    },
    {
     "name": "stdout",
     "output_type": "stream",
     "text": [
      "Columns: OCCUPATION_TYPE\n",
      "Unique values: 19\n"
     ]
    },
    {
     "data": {
      "image/png": "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\n",
      "text/plain": [
       "<Figure size 432x288 with 1 Axes>"
      ]
     },
     "metadata": {
      "needs_background": "light"
     },
     "output_type": "display_data"
    },
    {
     "name": "stdout",
     "output_type": "stream",
     "text": [
      "Columns: WEEKDAY_APPR_PROCESS_START\n",
      "Unique values: 7\n"
     ]
    },
    {
     "data": {
      "image/png": "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\n",
      "text/plain": [
       "<Figure size 432x288 with 1 Axes>"
      ]
     },
     "metadata": {
      "needs_background": "light"
     },
     "output_type": "display_data"
    }
   ],
   "source": [
    "for column in categoric_columns:\n",
    "    if len(data_under[column].unique()) < 21:\n",
    "        print(f'Columns: {column}')\n",
    "        print(f'Unique values: {len(data_under[column].unique())}')\n",
    "        data_under[column].value_counts().plot.bar()\n",
    "        plt.show()"
   ]
  },
  {
   "cell_type": "code",
   "execution_count": 19,
   "metadata": {
    "scrolled": true
   },
   "outputs": [
    {
     "name": "stdout",
     "output_type": "stream",
     "text": [
      "Columns: CNT_CHILDREN\n",
      "Unique values: 10\n"
     ]
    },
    {
     "data": {
      "image/png": "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\n",
      "text/plain": [
       "<Figure size 432x288 with 1 Axes>"
      ]
     },
     "metadata": {
      "needs_background": "light"
     },
     "output_type": "display_data"
    },
    {
     "name": "stdout",
     "output_type": "stream",
     "text": [
      "Columns: FLAG_MOBIL\n",
      "Unique values: 1\n"
     ]
    },
    {
     "data": {
      "image/png": "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\n",
      "text/plain": [
       "<Figure size 432x288 with 1 Axes>"
      ]
     },
     "metadata": {
      "needs_background": "light"
     },
     "output_type": "display_data"
    },
    {
     "name": "stdout",
     "output_type": "stream",
     "text": [
      "Columns: FLAG_EMP_PHONE\n",
      "Unique values: 2\n"
     ]
    },
    {
     "data": {
      "image/png": "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\n",
      "text/plain": [
       "<Figure size 432x288 with 1 Axes>"
      ]
     },
     "metadata": {
      "needs_background": "light"
     },
     "output_type": "display_data"
    },
    {
     "name": "stdout",
     "output_type": "stream",
     "text": [
      "Columns: FLAG_WORK_PHONE\n",
      "Unique values: 2\n"
     ]
    },
    {
     "data": {
      "image/png": "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\n",
      "text/plain": [
       "<Figure size 432x288 with 1 Axes>"
      ]
     },
     "metadata": {
      "needs_background": "light"
     },
     "output_type": "display_data"
    },
    {
     "name": "stdout",
     "output_type": "stream",
     "text": [
      "Columns: FLAG_CONT_MOBILE\n",
      "Unique values: 2\n"
     ]
    },
    {
     "data": {
      "image/png": "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\n",
      "text/plain": [
       "<Figure size 432x288 with 1 Axes>"
      ]
     },
     "metadata": {
      "needs_background": "light"
     },
     "output_type": "display_data"
    },
    {
     "name": "stdout",
     "output_type": "stream",
     "text": [
      "Columns: FLAG_PHONE\n",
      "Unique values: 2\n"
     ]
    },
    {
     "data": {
      "image/png": "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\n",
      "text/plain": [
       "<Figure size 432x288 with 1 Axes>"
      ]
     },
     "metadata": {
      "needs_background": "light"
     },
     "output_type": "display_data"
    },
    {
     "name": "stdout",
     "output_type": "stream",
     "text": [
      "Columns: FLAG_EMAIL\n",
      "Unique values: 2\n"
     ]
    },
    {
     "data": {
      "image/png": "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\n",
      "text/plain": [
       "<Figure size 432x288 with 1 Axes>"
      ]
     },
     "metadata": {
      "needs_background": "light"
     },
     "output_type": "display_data"
    },
    {
     "name": "stdout",
     "output_type": "stream",
     "text": [
      "Columns: CNT_FAM_MEMBERS\n",
      "Unique values: 13\n"
     ]
    },
    {
     "data": {
      "image/png": "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\n",
      "text/plain": [
       "<Figure size 432x288 with 1 Axes>"
      ]
     },
     "metadata": {
      "needs_background": "light"
     },
     "output_type": "display_data"
    },
    {
     "name": "stdout",
     "output_type": "stream",
     "text": [
      "Columns: REGION_RATING_CLIENT\n",
      "Unique values: 3\n"
     ]
    },
    {
     "data": {
      "image/png": "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\n",
      "text/plain": [
       "<Figure size 432x288 with 1 Axes>"
      ]
     },
     "metadata": {
      "needs_background": "light"
     },
     "output_type": "display_data"
    },
    {
     "name": "stdout",
     "output_type": "stream",
     "text": [
      "Columns: REGION_RATING_CLIENT_W_CITY\n",
      "Unique values: 3\n"
     ]
    },
    {
     "data": {
      "image/png": "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\n",
      "text/plain": [
       "<Figure size 432x288 with 1 Axes>"
      ]
     },
     "metadata": {
      "needs_background": "light"
     },
     "output_type": "display_data"
    },
    {
     "name": "stdout",
     "output_type": "stream",
     "text": [
      "Columns: REG_REGION_NOT_LIVE_REGION\n",
      "Unique values: 2\n"
     ]
    },
    {
     "data": {
      "image/png": "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\n",
      "text/plain": [
       "<Figure size 432x288 with 1 Axes>"
      ]
     },
     "metadata": {
      "needs_background": "light"
     },
     "output_type": "display_data"
    },
    {
     "name": "stdout",
     "output_type": "stream",
     "text": [
      "Columns: REG_REGION_NOT_WORK_REGION\n",
      "Unique values: 2\n"
     ]
    },
    {
     "data": {
      "image/png": "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\n",
      "text/plain": [
       "<Figure size 432x288 with 1 Axes>"
      ]
     },
     "metadata": {
      "needs_background": "light"
     },
     "output_type": "display_data"
    },
    {
     "name": "stdout",
     "output_type": "stream",
     "text": [
      "Columns: LIVE_REGION_NOT_WORK_REGION\n",
      "Unique values: 2\n"
     ]
    },
    {
     "data": {
      "image/png": "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\n",
      "text/plain": [
       "<Figure size 432x288 with 1 Axes>"
      ]
     },
     "metadata": {
      "needs_background": "light"
     },
     "output_type": "display_data"
    },
    {
     "name": "stdout",
     "output_type": "stream",
     "text": [
      "Columns: REG_CITY_NOT_LIVE_CITY\n",
      "Unique values: 2\n"
     ]
    },
    {
     "data": {
      "image/png": "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\n",
      "text/plain": [
       "<Figure size 432x288 with 1 Axes>"
      ]
     },
     "metadata": {
      "needs_background": "light"
     },
     "output_type": "display_data"
    },
    {
     "name": "stdout",
     "output_type": "stream",
     "text": [
      "Columns: REG_CITY_NOT_WORK_CITY\n",
      "Unique values: 2\n"
     ]
    },
    {
     "data": {
      "image/png": "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\n",
      "text/plain": [
       "<Figure size 432x288 with 1 Axes>"
      ]
     },
     "metadata": {
      "needs_background": "light"
     },
     "output_type": "display_data"
    },
    {
     "name": "stdout",
     "output_type": "stream",
     "text": [
      "Columns: LIVE_CITY_NOT_WORK_CITY\n",
      "Unique values: 2\n"
     ]
    },
    {
     "data": {
      "image/png": "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\n",
      "text/plain": [
       "<Figure size 432x288 with 1 Axes>"
      ]
     },
     "metadata": {
      "needs_background": "light"
     },
     "output_type": "display_data"
    },
    {
     "name": "stdout",
     "output_type": "stream",
     "text": [
      "Columns: DEF_30_CNT_SOCIAL_CIRCLE\n",
      "Unique values: 8\n"
     ]
    },
    {
     "data": {
      "image/png": "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\n",
      "text/plain": [
       "<Figure size 432x288 with 1 Axes>"
      ]
     },
     "metadata": {
      "needs_background": "light"
     },
     "output_type": "display_data"
    },
    {
     "name": "stdout",
     "output_type": "stream",
     "text": [
      "Columns: DEF_60_CNT_SOCIAL_CIRCLE\n",
      "Unique values: 7\n"
     ]
    },
    {
     "data": {
      "image/png": "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\n",
      "text/plain": [
       "<Figure size 432x288 with 1 Axes>"
      ]
     },
     "metadata": {
      "needs_background": "light"
     },
     "output_type": "display_data"
    },
    {
     "name": "stdout",
     "output_type": "stream",
     "text": [
      "Columns: FLAG_DOCUMENT_2\n",
      "Unique values: 2\n"
     ]
    },
    {
     "data": {
      "image/png": "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\n",
      "text/plain": [
       "<Figure size 432x288 with 1 Axes>"
      ]
     },
     "metadata": {
      "needs_background": "light"
     },
     "output_type": "display_data"
    },
    {
     "name": "stdout",
     "output_type": "stream",
     "text": [
      "Columns: FLAG_DOCUMENT_3\n",
      "Unique values: 2\n"
     ]
    },
    {
     "data": {
      "image/png": "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\n",
      "text/plain": [
       "<Figure size 432x288 with 1 Axes>"
      ]
     },
     "metadata": {
      "needs_background": "light"
     },
     "output_type": "display_data"
    },
    {
     "name": "stdout",
     "output_type": "stream",
     "text": [
      "Columns: FLAG_DOCUMENT_4\n",
      "Unique values: 2\n"
     ]
    },
    {
     "data": {
      "image/png": "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\n",
      "text/plain": [
       "<Figure size 432x288 with 1 Axes>"
      ]
     },
     "metadata": {
      "needs_background": "light"
     },
     "output_type": "display_data"
    },
    {
     "name": "stdout",
     "output_type": "stream",
     "text": [
      "Columns: FLAG_DOCUMENT_5\n",
      "Unique values: 2\n"
     ]
    },
    {
     "data": {
      "image/png": "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\n",
      "text/plain": [
       "<Figure size 432x288 with 1 Axes>"
      ]
     },
     "metadata": {
      "needs_background": "light"
     },
     "output_type": "display_data"
    },
    {
     "name": "stdout",
     "output_type": "stream",
     "text": [
      "Columns: FLAG_DOCUMENT_6\n",
      "Unique values: 2\n"
     ]
    },
    {
     "data": {
      "image/png": "iVBORw0KGgoAAAANSUhEUgAAAYMAAAD1CAYAAACyaJl6AAAABHNCSVQICAgIfAhkiAAAAAlwSFlzAAALEgAACxIB0t1+/AAAADh0RVh0U29mdHdhcmUAbWF0cGxvdGxpYiB2ZXJzaW9uMy4xLjAsIGh0dHA6Ly9tYXRwbG90bGliLm9yZy+17YcXAAAMhklEQVR4nO3df6jd9X3H8eerSdMJpY1tbsXdpLsB72hjYf0RYqD/DB0mqWPxjwqRMYMEAiVCC4M17h9ZW0H/mUOwhbCExjKahm5gsOlCiMoYazXX6nQxuNylVi+R5pZEZynVxb73x/lkO1zPzT03Jufc5D4fcLnn+/5+zsnnQOSZc873XlNVSJIWtw8MewOSpOEzBpIkYyBJMgaSJIyBJAljIEkClg57AxdrxYoVNTY2NuxtSNIV49lnn/1VVY30OnfFxmBsbIyJiYlhb0OSrhhJfjHbOd8mkiQZA0mSMZAkYQwkSRgDSRLGQJKEMZAkYQwkSVzBP3R2JRjb+aNhb+Gq8soDtw17C9JVy1cGkiRjIEkyBpIkjIEkCWMgScIYSJIwBpIkjIEkCWMgScIYSJIwBpIkjIEkCWMgScIYSJIwBpIkjIEkCWMgScIYSJIwBpIkjIEkCWMgScIYSJKYRwySLEnyXJLH2/HqJE8nOZHkB0mWtfmH2vFkOz/W9Rj3tvnLSTZ0zTe22WSSnZfu6UmS+jGfVwZfBY53HT8IPFRV48BZYFubbwPOVtUNwENtHUnWAFuAG4GNwLdbYJYAjwCbgDXAnW2tJGlA+opBkpXAbcDft+MANwM/bEv2Are325vbMe38LW39ZmBfVb1dVT8HJoF17Wuyqk5W1TvAvrZWkjQg/b4y+Dvgr4DfteOPA29U1bl2PAWMttujwGsA7fybbf3/zWfcZ7a5JGlA5oxBkj8FTlfVs93jHktrjnPznffay/YkE0kmpqenL7BrSdJ89PPK4IvAnyV5hc5bODfTeaWwPMnStmYlcKrdngJWAbTzHwXOdM9n3Ge2+XtU1a6qWltVa0dGRvrYuiSpH3PGoKruraqVVTVG5wPgJ6rqz4EngS+3ZVuBx9rtA+2Ydv6Jqqo239KuNloNjAPPAEeB8XZ10rL2Zxy4JM9OktSXpXMvmdXXgX1JvgU8B+xu893A95JM0nlFsAWgqo4l2Q+8BJwDdlTVuwBJ7gEOAUuAPVV17H3sS5I0T/OKQVU9BTzVbp+kcyXQzDW/Be6Y5f73A/f3mB8EDs5nL5KkS8efQJYkGQNJkjGQJGEMJEkYA0kSxkCShDGQJGEMJEkYA0kSxkCShDGQJGEMJEkYA0kSxkCShDGQJGEMJEkYA0kSxkCShDGQJGEMJEkYA0kSxkCShDGQJGEMJEkYA0kSxkCShDGQJGEMJEkYA0kSxkCShDGQJGEMJEkYA0kSxkCShDGQJGEMJEkYA0kSfcQgye8leSbJvyc5luRv2nx1kqeTnEjygyTL2vxD7XiynR/reqx72/zlJBu65hvbbDLJzkv/NCVJF9LPK4O3gZur6o+AzwIbk6wHHgQeqqpx4Cywra3fBpytqhuAh9o6kqwBtgA3AhuBbydZkmQJ8AiwCVgD3NnWSpIGZM4YVMev2+EH21cBNwM/bPO9wO3t9uZ2TDt/S5K0+b6qeruqfg5MAuva12RVnayqd4B9ba0kaUD6+syg/Qv+eeA0cBj4L+CNqjrXlkwBo+32KPAaQDv/JvDx7vmM+8w277WP7UkmkkxMT0/3s3VJUh/6ikFVvVtVnwVW0vmX/Kd7LWvfM8u5+c577WNXVa2tqrUjIyNzb1yS1Jd5XU1UVW8ATwHrgeVJlrZTK4FT7fYUsAqgnf8ocKZ7PuM+s80lSQPSz9VEI0mWt9vXAH8CHAeeBL7clm0FHmu3D7Rj2vknqqrafEu72mg1MA48AxwFxtvVScvofMh84FI8OUlSf5bOvYTrgb3tqp8PAPur6vEkLwH7knwLeA7Y3dbvBr6XZJLOK4ItAFV1LMl+4CXgHLCjqt4FSHIPcAhYAuypqmOX7BlKkuY0Zwyq6gXgcz3mJ+l8fjBz/lvgjlke637g/h7zg8DBPvYrSboM/AlkSZIxkCQZA0kSxkCShDGQJGEMJEkYA0kSxkCShDGQJGEMJEkYA0kSxkCShDGQJGEMJEkYA0kSxkCShDGQJGEMJEkYA0kSxkCShDGQJGEMJEkYA0kSxkCShDGQJGEMJEkYA0kSxkCShDGQJGEMJEkYA0kSxkCShDGQJGEMJEkYA0kSxkCSRB8xSLIqyZNJjic5luSrbf6xJIeTnGjfr23zJHk4yWSSF5J8vuuxtrb1J5Js7Zp/IcmL7T4PJ8nleLKSpN76eWVwDvjLqvo0sB7YkWQNsBM4UlXjwJF2DLAJGG9f24HvQCcewH3ATcA64L7zAWlrtnfdb+P7f2qSpH7NGYOqer2qftZuvwUcB0aBzcDetmwvcHu7vRl4tDp+CixPcj2wAThcVWeq6ixwGNjYzn2kqn5SVQU82vVYkqQBmNdnBknGgM8BTwPXVdXr0AkG8Im2bBR4retuU212oflUj3mvP397kokkE9PT0/PZuiTpAvqOQZIPA/8IfK2q/vtCS3vM6iLm7x1W7aqqtVW1dmRkZK4tS5L61FcMknyQTgj+oar+qY1/2d7ioX0/3eZTwKquu68ETs0xX9ljLkkakH6uJgqwGzheVX/bdeoAcP6KoK3AY13zu9pVReuBN9vbSIeAW5Nc2z44vhU41M69lWR9+7Pu6nosSdIALO1jzReBvwBeTPJ8m/018ACwP8k24FXgjnbuIPAlYBL4DXA3QFWdSfJN4Ghb942qOtNufwX4LnAN8OP2JUkakDljUFX/Su/39QFu6bG+gB2zPNYeYE+P+QTwmbn2Ikm6PPwJZEmSMZAkGQNJEsZAkoQxkCRhDCRJGANJEsZAkoQxkCRhDCRJGANJEsZAkoQxkCRhDCRJGANJEsZAkoQxkCRhDCRJGANJEsZAkoQxkCRhDCRJGANJEsZAkoQxkCRhDCRJGANJEsZAkoQxkCRhDCRJGANJEsZAkoQxkCRhDCRJGANJEsZAkkQfMUiyJ8npJP/RNftYksNJTrTv17Z5kjycZDLJC0k+33WfrW39iSRbu+ZfSPJiu8/DSXKpn6Qk6cL6eWXwXWDjjNlO4EhVjQNH2jHAJmC8fW0HvgOdeAD3ATcB64D7zgekrdnedb+Zf5Yk6TKbMwZV9S/AmRnjzcDednsvcHvX/NHq+CmwPMn1wAbgcFWdqaqzwGFgYzv3kar6SVUV8GjXY0mSBuRiPzO4rqpeB2jfP9Hmo8BrXeum2uxC86ke856SbE8ykWRienr6IrcuSZrpUn+A3Ov9/rqIeU9Vtauq1lbV2pGRkYvcoiRppouNwS/bWzy076fbfApY1bVuJXBqjvnKHnNJ0gBdbAwOAOevCNoKPNY1v6tdVbQeeLO9jXQIuDXJte2D41uBQ+3cW0nWt6uI7up6LEnSgCyda0GS7wN/DKxIMkXnqqAHgP1JtgGvAne05QeBLwGTwG+AuwGq6kySbwJH27pvVNX5D6W/QueKpWuAH7cvSdIAzRmDqrpzllO39FhbwI5ZHmcPsKfHfAL4zFz7kCRdPv4EsiTJGEiSjIEkCWMgScIYSJIwBpIkjIEkCWMgScIYSJIwBpIkjIEkCWMgScIYSJIwBpIkjIEkCWMgScIYSJIwBpIkjIEkCWMgScIYSJIwBpIkjIEkCVg67A1IGo6xnT8a9hauKq88cNuwt/C++MpAkmQMJEnGQJKEMZAkYQwkSRgDSRLGQJKEMZAkYQwkSRgDSRLGQJKEMZAksYBikGRjkpeTTCbZOez9SNJisiBikGQJ8AiwCVgD3JlkzXB3JUmLx4KIAbAOmKyqk1X1DrAP2DzkPUnSorFQ/n8Go8BrXcdTwE0zFyXZDmxvh79O8vIA9rYYrAB+NexNzCUPDnsHGhL/fl46fzDbiYUSg/SY1XsGVbuAXZd/O4tLkomqWjvsfUi9+PdzMBbK20RTwKqu45XAqSHtRZIWnYUSg6PAeJLVSZYBW4ADQ96TJC0aC+Jtoqo6l+Qe4BCwBNhTVceGvK3FxLfetJD593MAUvWet+YlSYvMQnmbSJI0RMZAkmQMJEkL5ANkDVaST9H5Ce9ROj/PcQo4UFXHh7oxSUPjK4NFJsnX6fy6jwDP0LmsN8D3/QWBWsiS3D3sPVzNvJpokUnyn8CNVfU/M+bLgGNVNT6cnUkXluTVqvrksPdxtfJtosXnd8DvA7+YMb++nZOGJskLs50CrhvkXhYbY7D4fA04kuQE///LAT8J3ADcM7RdSR3XARuAszPmAf5t8NtZPIzBIlNV/5zkD+n82vBROv+RTQFHq+rdoW5OgseBD1fV8zNPJHlq8NtZPPzMQJLk1USSJGMgScIYSJIwBpIkjIEkCfhfVXU2/+ufqnMAAAAASUVORK5CYII=\n",
      "text/plain": [
       "<Figure size 432x288 with 1 Axes>"
      ]
     },
     "metadata": {
      "needs_background": "light"
     },
     "output_type": "display_data"
    },
    {
     "name": "stdout",
     "output_type": "stream",
     "text": [
      "Columns: FLAG_DOCUMENT_7\n",
      "Unique values: 2\n"
     ]
    },
    {
     "data": {
      "image/png": "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\n",
      "text/plain": [
       "<Figure size 432x288 with 1 Axes>"
      ]
     },
     "metadata": {
      "needs_background": "light"
     },
     "output_type": "display_data"
    },
    {
     "name": "stdout",
     "output_type": "stream",
     "text": [
      "Columns: FLAG_DOCUMENT_8\n",
      "Unique values: 2\n"
     ]
    },
    {
     "data": {
      "image/png": "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\n",
      "text/plain": [
       "<Figure size 432x288 with 1 Axes>"
      ]
     },
     "metadata": {
      "needs_background": "light"
     },
     "output_type": "display_data"
    },
    {
     "name": "stdout",
     "output_type": "stream",
     "text": [
      "Columns: FLAG_DOCUMENT_9\n",
      "Unique values: 2\n"
     ]
    },
    {
     "data": {
      "image/png": "iVBORw0KGgoAAAANSUhEUgAAAYMAAAD1CAYAAACyaJl6AAAABHNCSVQICAgIfAhkiAAAAAlwSFlzAAALEgAACxIB0t1+/AAAADh0RVh0U29mdHdhcmUAbWF0cGxvdGxpYiB2ZXJzaW9uMy4xLjAsIGh0dHA6Ly9tYXRwbG90bGliLm9yZy+17YcXAAAOIElEQVR4nO3cb4hddX7H8ffHZN1KFze6jsEmsRGc0o3CuhpiwCetlvxxS+ODFSKlBgkMiMIuFLqxT0J1LfqkFosrhBqMS7vZsO1isNnNhqiUUv9krFYbrc006+oQMbNNtC6y2rjfPri/tJfJncydmMyNzvsFl3PO9/c7Z74HRj85f+6kqpAkzW3nDLoBSdLgGQaSJMNAkmQYSJIwDCRJGAaSJGD+oBs4VRdddFEtXbp00G1I0qfGCy+88POqGuo19qkNg6VLlzI6OjroNiTpUyPJz6Ya8zaRJMkwkCT1GQZJ3kjySpKXkoy22oVJ9iQ50JYXtHqSPJhkLMnLSa7uOs6GNv9Akg1d9Wva8cfavjndJypJmtpMrgx+t6quqqrlbXsTsLeqhoG9bRtgLTDcPiPAw9AJD2AzcC2wAth8PEDanJGu/dac8hlJkmbsk9wmWgdsa+vbgJu66o9Vx7PAgiSXAKuBPVV1pKqOAnuANW3s/Kp6pjp/Ne+xrmNJkmZBv2FQwE+SvJBkpNUWVtXbAG15casvAt7q2ne81U5WH+9RlyTNkn5fLb2uqg4luRjYk+TfTzK31/3+OoX6iQfuBNEIwKWXXnryjiVJfevryqCqDrXlYeCHdO75v9Nu8dCWh9v0cWBJ1+6LgUPT1Bf3qPfqY0tVLa+q5UNDPb83IUk6BdNeGST5deCcqnq/ra8C7gZ2AhuA+9ry8bbLTuDOJNvpPCx+r6reTrIb+POuh8argLuq6kiS95OsBJ4DbgX+6vSd4uAs3fQPg27hM+WN+7426Bakz6x+bhMtBH7Y3vacD/xtVf04yT5gR5KNwJvAzW3+LuBGYAz4ALgNoP1P/x5gX5t3d1Udaeu3A48C5wE/ah9J0iyZNgyq6iDwlR71/wJu6FEv4I4pjrUV2NqjPgpc2Ue/kqQzwG8gS5IMA0mSYSBJwjCQJGEYSJIwDCRJGAaSJAwDSRKGgSQJw0CShGEgScIwkCRhGEiSMAwkSRgGkiQMA0kShoEkCcNAkoRhIEnCMJAkYRhIkjAMJEkYBpIkDANJEoaBJAnDQJKEYSBJwjCQJGEYSJIwDCRJGAaSJAwDSRKGgSSJGYRBknlJXkzyRNu+LMlzSQ4k+X6Sc1v98217rI0v7TrGXa3+epLVXfU1rTaWZNPpOz1JUj9mcmXwDeC1ru37gQeqahg4Cmxs9Y3A0aq6HHigzSPJMmA9cAWwBvhOC5h5wEPAWmAZcEubK0maJX2FQZLFwNeAv27bAa4HftCmbANuauvr2jZt/IY2fx2wvao+rKqfAmPAivYZq6qDVfURsL3NlSTNkn6vDP4S+BPgV237S8C7VXWsbY8Di9r6IuAtgDb+Xpv/f/VJ+0xVlyTNkmnDIMnvA4er6oXuco+pNc3YTOu9ehlJMppkdGJi4iRdS5Jmop8rg+uAP0jyBp1bONfTuVJYkGR+m7MYONTWx4ElAG38i8CR7vqkfaaqn6CqtlTV8qpaPjQ01EfrkqR+TBsGVXVXVS2uqqV0HgA/WVV/CDwFfL1N2wA83tZ3tm3a+JNVVa2+vr1tdBkwDDwP7AOG29tJ57afsfO0nJ0kqS/zp58ypW8B25N8G3gReKTVHwG+m2SMzhXBeoCq2p9kB/AqcAy4o6o+BkhyJ7AbmAdsrar9n6AvSdIMzSgMqupp4Om2fpDOm0CT5/wSuHmK/e8F7u1R3wXsmkkvkqTTx28gS5IMA0mSYSBJwjCQJGEYSJIwDCRJGAaSJAwDSRKGgSQJw0CShGEgScIwkCRhGEiSMAwkSRgGkiQMA0kShoEkCcNAkoRhIEnCMJAkYRhIkjAMJEkYBpIkDANJEoaBJAnDQJKEYSBJwjCQJGEYSJIwDCRJGAaSJAwDSRKGgSSJPsIgya8leT7JvybZn+TPWv2yJM8lOZDk+0nObfXPt+2xNr6061h3tfrrSVZ31de02liSTaf/NCVJJ9PPlcGHwPVV9RXgKmBNkpXA/cADVTUMHAU2tvkbgaNVdTnwQJtHkmXAeuAKYA3wnSTzkswDHgLWAsuAW9pcSdIsmTYMquMXbfNz7VPA9cAPWn0bcFNbX9e2aeM3JEmrb6+qD6vqp8AYsKJ9xqrqYFV9BGxvcyVJs6SvZwbtX/AvAYeBPcB/Au9W1bE2ZRxY1NYXAW8BtPH3gC911yftM1VdkjRL+gqDqvq4qq4CFtP5l/yXe01ry0wxNtP6CZKMJBlNMjoxMTF945KkvszobaKqehd4GlgJLEgyvw0tBg619XFgCUAb/yJwpLs+aZ+p6r1+/paqWl5Vy4eGhmbSuiTpJPp5m2goyYK2fh7we8BrwFPA19u0DcDjbX1n26aNP1lV1err29tGlwHDwPPAPmC4vZ10Lp2HzDtPx8lJkvozf/opXAJsa2/9nAPsqKonkrwKbE/ybeBF4JE2/xHgu0nG6FwRrAeoqv1JdgCvAseAO6rqY4AkdwK7gXnA1qraf9rOUJI0rWnDoKpeBr7ao36QzvODyfVfAjdPcax7gXt71HcBu/roV5J0BvgNZEmSYSBJMgwkSRgGkiQMA0kShoEkCcNAkoRhIEnCMJAkYRhIkjAMJEkYBpIkDANJEoaBJAnDQJKEYSBJwjCQJGEYSJIwDCRJGAaSJAwDSRKGgSQJw0CShGEgScIwkCRhGEiSMAwkSRgGkiQMA0kShoEkCcNAkoRhIEnCMJAk0UcYJFmS5KkkryXZn+QbrX5hkj1JDrTlBa2eJA8mGUvycpKru461oc0/kGRDV/2aJK+0fR5MkjNxspKk3vq5MjgG/HFVfRlYCdyRZBmwCdhbVcPA3rYNsBYYbp8R4GHohAewGbgWWAFsPh4gbc5I135rPvmpSZL6NW0YVNXbVfUvbf194DVgEbAO2NambQNuauvrgMeq41lgQZJLgNXAnqo6UlVHgT3AmjZ2flU9U1UFPNZ1LEnSLJjRM4MkS4GvAs8BC6vqbegEBnBxm7YIeKtrt/FWO1l9vEddkjRL+g6DJF8A/g74ZlX998mm9qjVKdR79TCSZDTJ6MTExHQtS5L61FcYJPkcnSD4m6r6+1Z+p93ioS0Pt/o4sKRr98XAoWnqi3vUT1BVW6pqeVUtHxoa6qd1SVIf+nmbKMAjwGtV9RddQzuB428EbQAe76rf2t4qWgm8124j7QZWJbmgPTheBexuY+8nWdl+1q1dx5IkzYL5fcy5Dvgj4JUkL7XanwL3ATuSbATeBG5uY7uAG4Ex4APgNoCqOpLkHmBfm3d3VR1p67cDjwLnAT9qH0nSLJk2DKrqn+h9Xx/ghh7zC7hjimNtBbb2qI8CV07XiyTpzPAbyJIkw0CSZBhIkjAMJEkYBpIkDANJEoaBJAnDQJKEYSBJwjCQJGEYSJIwDCRJGAaSJAwDSRKGgSQJw0CShGEgScIwkCRhGEiSMAwkSRgGkiQMA0kShoEkCcNAkoRhIEnCMJAkYRhIkjAMJEkYBpIkDANJEoaBJAnDQJKEYSBJoo8wSLI1yeEk/9ZVuzDJniQH2vKCVk+SB5OMJXk5ydVd+2xo8w8k2dBVvybJK22fB5PkdJ+kJOnk+rkyeBRYM6m2CdhbVcPA3rYNsBYYbp8R4GHohAewGbgWWAFsPh4gbc5I136Tf5Yk6QybNgyq6h+BI5PK64BtbX0bcFNX/bHqeBZYkOQSYDWwp6qOVNVRYA+wpo2dX1XPVFUBj3UdS5I0S071mcHCqnoboC0vbvVFwFtd88Zb7WT18R51SdIsOt0PkHvd769TqPc+eDKSZDTJ6MTExCm2KEma7FTD4J12i4e2PNzq48CSrnmLgUPT1Bf3qPdUVVuqanlVLR8aGjrF1iVJk51qGOwEjr8RtAF4vKt+a3uraCXwXruNtBtYleSC9uB4FbC7jb2fZGV7i+jWrmNJkmbJ/OkmJPke8DvARUnG6bwVdB+wI8lG4E3g5jZ9F3AjMAZ8ANwGUFVHktwD7Gvz7q6q4w+lb6fzxtJ5wI/aR5I0i6YNg6q6ZYqhG3rMLeCOKY6zFdjaoz4KXDldH5KkM8dvIEuSDANJkmEgScIwkCRhGEiSMAwkSRgGkiQMA0kShoEkCcNAkoRhIEnCMJAkYRhIkjAMJEkYBpIkDANJEoaBJAnDQJKEYSBJwjCQJGEYSJIwDCRJGAaSJAwDSRKGgSQJw0CShGEgScIwkCRhGEiSMAwkSRgGkiQMA0kShoEkibMoDJKsSfJ6krEkmwbdjyTNJWdFGCSZBzwErAWWAbckWTbYriRp7jgrwgBYAYxV1cGq+gjYDqwbcE+SNGfMH3QDzSLgra7tceDayZOSjAAjbfMXSV6fhd7mgouAnw+6ienk/kF3oAH5VPx+fkr85lQDZ0sYpEetTihUbQG2nPl25pYko1W1fNB9SL34+zk7zpbbROPAkq7txcChAfUiSXPO2RIG+4DhJJclORdYD+wccE+SNGecFbeJqupYkjuB3cA8YGtV7R9wW3OJt950NvP3cxak6oRb85KkOeZsuU0kSRogw0CSZBhIks6SB8iaXUl+m843vBfR+T7HIWBnVb020MYkDYxXBnNMkm/R+XMfAZ6n81pvgO/5BwJ1Nkty26B7+CzzbaI5Jsl/AFdU1f9Mqp8L7K+q4cF0Jp1ckjer6tJB9/FZ5W2iuedXwG8AP5tUv6SNSQOT5OWphoCFs9nLXGMYzD3fBPYmOcD//3HAS4HLgTsH1pXUsRBYDRydVA/wz7PfztxhGMwxVfXjJL9F58+GL6LzH9k4sK+qPh5ocxI8AXyhql6aPJDk6dlvZ+7wmYEkybeJJEmGgSQJw0CShGEgScIwkCQB/wvbQOilc+SjUAAAAABJRU5ErkJggg==\n",
      "text/plain": [
       "<Figure size 432x288 with 1 Axes>"
      ]
     },
     "metadata": {
      "needs_background": "light"
     },
     "output_type": "display_data"
    },
    {
     "name": "stdout",
     "output_type": "stream",
     "text": [
      "Columns: FLAG_DOCUMENT_10\n",
      "Unique values: 2\n"
     ]
    },
    {
     "data": {
      "image/png": "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\n",
      "text/plain": [
       "<Figure size 432x288 with 1 Axes>"
      ]
     },
     "metadata": {
      "needs_background": "light"
     },
     "output_type": "display_data"
    },
    {
     "name": "stdout",
     "output_type": "stream",
     "text": [
      "Columns: FLAG_DOCUMENT_11\n",
      "Unique values: 2\n"
     ]
    },
    {
     "data": {
      "image/png": "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\n",
      "text/plain": [
       "<Figure size 432x288 with 1 Axes>"
      ]
     },
     "metadata": {
      "needs_background": "light"
     },
     "output_type": "display_data"
    },
    {
     "name": "stdout",
     "output_type": "stream",
     "text": [
      "Columns: FLAG_DOCUMENT_12\n",
      "Unique values: 1\n"
     ]
    },
    {
     "data": {
      "image/png": "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\n",
      "text/plain": [
       "<Figure size 432x288 with 1 Axes>"
      ]
     },
     "metadata": {
      "needs_background": "light"
     },
     "output_type": "display_data"
    },
    {
     "name": "stdout",
     "output_type": "stream",
     "text": [
      "Columns: FLAG_DOCUMENT_13\n",
      "Unique values: 2\n"
     ]
    },
    {
     "data": {
      "image/png": "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\n",
      "text/plain": [
       "<Figure size 432x288 with 1 Axes>"
      ]
     },
     "metadata": {
      "needs_background": "light"
     },
     "output_type": "display_data"
    },
    {
     "name": "stdout",
     "output_type": "stream",
     "text": [
      "Columns: FLAG_DOCUMENT_14\n",
      "Unique values: 2\n"
     ]
    },
    {
     "data": {
      "image/png": "iVBORw0KGgoAAAANSUhEUgAAAYMAAAD1CAYAAACyaJl6AAAABHNCSVQICAgIfAhkiAAAAAlwSFlzAAALEgAACxIB0t1+/AAAADh0RVh0U29mdHdhcmUAbWF0cGxvdGxpYiB2ZXJzaW9uMy4xLjAsIGh0dHA6Ly9tYXRwbG90bGliLm9yZy+17YcXAAAOJElEQVR4nO3df6jd9X3H8eerSe1knVXrNbgkXQTvWKNQqxcN+E+nI0Y7Fv+oEBlLkMAFidDCYI37R6YV9J85BCuEGYxlayrdisGlzUJUxpg/cp1OGzOXO2v1EjG3S3QWqU773h/nk+1wc27uuTE5J3qfDzic7/f9eX+/93Pgyivf7/dzrqkqJEkL22eGPQFJ0vAZBpIkw0CSZBhIkjAMJEkYBpIkYPGwJ3CizjvvvFqxYsWwpyFJnxjPPffcL6pqpNfYJzYMVqxYwcTExLCnIUmfGEl+PtuYt4kkSYaBJMkwkCTRZxgkeS3JS0leSDLRaucm2Z3kQHs/p9WT5L4kk0leTHJZ13k2tP4DSTZ01S9v559sx+Zkf1BJ0uzmc2Xw+1V1aVWNtf3NwJ6qGgX2tH2A64DR9hoHHoBOeAC3A1cCVwC3Hw2Q1jPeddyaE/5EkqR5+zi3idYC29r2NuCGrvrD1fE0cHaSC4Brgd1VdbiqjgC7gTVt7Kyqeqo6f0L14a5zSZIGoN8wKOAfkzyXZLzVllTVmwDt/fxWXwq80XXsVKsdrz7Vo36MJONJJpJMTE9P9zl1SdJc+v2ewVVVdTDJ+cDuJP9+nN5e9/vrBOrHFqu2AFsAxsbG/B8xSNJJ0lcYVNXB9n4oyY/o3PN/K8kFVfVmu9VzqLVPAcu7Dl8GHGz1r82oP9nqy3r0f+Kt2PwPw57Cp8prd3992FOQPrXmvE2U5DeT/NbRbWA18FNgB3B0RdAG4NG2vQNY31YVrQLeabeRdgGrk5zTHhyvBna1sXeTrGqriNZ3nUuSNAD9XBksAX7UVnsuBv62qn6SZC/wSJKNwOvAja1/J3A9MAm8B9wMUFWHk9wJ7G19d1TV4bZ9C/AQcCbw4/aSJA3InGFQVa8CX+lR/y/gmh71AjbNcq6twNYe9Qngkj7mK0k6BfwGsiTJMJAkGQaSJAwDSRKGgSQJw0CShGEgScIwkCRhGEiSMAwkSRgGkiQMA0kShoEkCcNAkoRhIEnCMJAkYRhIkjAMJEkYBpIkDANJEoaBJAnDQJKEYSBJwjCQJGEYSJIwDCRJGAaSJAwDSRKGgSQJw0CShGEgScIwkCQxjzBIsijJ80kea/sXJnkmyYEkP0hyRqt/ru1PtvEVXee4rdVfSXJtV31Nq00m2XzyPp4kqR/zuTL4JrC/a/8e4N6qGgWOABtbfSNwpKouAu5tfSRZCawDLgbWAN9tAbMIuB+4DlgJ3NR6JUkD0lcYJFkGfB3467Yf4Grgh61lG3BD217b9mnj17T+tcD2qnq/qn4GTAJXtNdkVb1aVR8A21uvJGlA+r0y+Cvgz4Bft/0vAm9X1YdtfwpY2raXAm8AtPF3Wv//1WccM1tdkjQgc4ZBkj8EDlXVc93lHq01x9h8673mMp5kIsnE9PT0cWYtSZqPfq4MrgL+KMlrdG7hXE3nSuHsJItbzzLgYNueApYDtPEvAIe76zOOma1+jKraUlVjVTU2MjLSx9QlSf2YMwyq6raqWlZVK+g8AH68qv4YeAL4RmvbADzatne0fdr441VVrb6urTa6EBgFngX2AqNtddIZ7WfsOCmfTpLUl8Vzt8zq28D2JN8BngcebPUHge8lmaRzRbAOoKr2JXkEeBn4ENhUVR8BJLkV2AUsArZW1b6PMS9J0jzNKwyq6kngybb9Kp2VQDN7fgXcOMvxdwF39ajvBHbOZy6SpJPHbyBLkgwDSZJhIEnCMJAkYRhIkjAMJEkYBpIkDANJEoaBJAnDQJKEYSBJwjCQJGEYSJIwDCRJGAaSJAwDSRKGgSQJw0CShGEgScIwkCRhGEiSMAwkSRgGkiQMA0kShoEkCcNAkoRhIEnCMJAkYRhIkjAMJEkYBpIkDANJEoaBJIk+wiDJbyR5Nsm/JdmX5C9a/cIkzyQ5kOQHSc5o9c+1/ck2vqLrXLe1+itJru2qr2m1ySSbT/7HlCQdTz9XBu8DV1fVV4BLgTVJVgH3APdW1ShwBNjY+jcCR6rqIuDe1keSlcA64GJgDfDdJIuSLALuB64DVgI3tV5J0oDMGQbV8cu2+9n2KuBq4Ietvg24oW2vbfu08WuSpNW3V9X7VfUzYBK4or0mq+rVqvoA2N56JUkD0tczg/Yv+BeAQ8Bu4D+Bt6vqw9YyBSxt20uBNwDa+DvAF7vrM46ZrS5JGpC+wqCqPqqqS4FldP4l/+Vebe09s4zNt36MJONJJpJMTE9Pzz1xSVJf5rWaqKreBp4EVgFnJ1nchpYBB9v2FLAcoI1/ATjcXZ9xzGz1Xj9/S1WNVdXYyMjIfKYuSTqOflYTjSQ5u22fCfwBsB94AvhGa9sAPNq2d7R92vjjVVWtvq6tNroQGAWeBfYCo2110hl0HjLvOBkfTpLUn8Vzt3ABsK2t+vkM8EhVPZbkZWB7ku8AzwMPtv4Hge8lmaRzRbAOoKr2JXkEeBn4ENhUVR8BJLkV2AUsArZW1b6T9gklSXOaMwyq6kXgqz3qr9J5fjCz/ivgxlnOdRdwV4/6TmBnH/OVJJ0CfgNZkmQYSJIMA0kShoEkCcNAkoRhIEnCMJAkYRhIkjAMJEkYBpIkDANJEoaBJAnDQJKEYSBJwjCQJGEYSJIwDCRJGAaSJAwDSRKGgSQJw0CShGEgScIwkCRhGEiSMAwkSRgGkiQMA0kShoEkCcNAkoRhIEnCMJAkYRhIkjAMJEn0EQZJlid5Isn+JPuSfLPVz02yO8mB9n5OqyfJfUkmk7yY5LKuc21o/QeSbOiqX57kpXbMfUlyKj6sJKm3fq4MPgT+tKq+DKwCNiVZCWwG9lTVKLCn7QNcB4y21zjwAHTCA7gduBK4Arj9aIC0nvGu49Z8/I8mSerXnGFQVW9W1b+27XeB/cBSYC2wrbVtA25o22uBh6vjaeDsJBcA1wK7q+pwVR0BdgNr2thZVfVUVRXwcNe5JEkDMK9nBklWAF8FngGWVNWb0AkM4PzWthR4o+uwqVY7Xn2qR12SNCB9h0GSzwN/B3yrqv77eK09anUC9V5zGE8ykWRienp6rilLkvrUVxgk+SydIPibqvr7Vn6r3eKhvR9q9Slgedfhy4CDc9SX9agfo6q2VNVYVY2NjIz0M3VJUh/6WU0U4EFgf1X9ZdfQDuDoiqANwKNd9fVtVdEq4J12G2kXsDrJOe3B8WpgVxt7N8mq9rPWd51LkjQAi/vouQr4E+ClJC+02p8DdwOPJNkIvA7c2MZ2AtcDk8B7wM0AVXU4yZ3A3tZ3R1Udbtu3AA8BZwI/bi9J0oDMGQZV9c/0vq8PcE2P/gI2zXKurcDWHvUJ4JK55iJJOjX8BrIkyTCQJBkGkiQMA0kShoEkCcNAkoRhIEnCMJAkYRhIkjAMJEkYBpIkDANJEoaBJAnDQJKEYSBJwjCQJGEYSJIwDCRJGAaSJAwDSRKGgSQJw0CShGEgScIwkCRhGEiSMAwkSRgGkiQMA0kShoEkCcNAkoRhIEnCMJAkYRhIkugjDJJsTXIoyU+7aucm2Z3kQHs/p9WT5L4kk0leTHJZ1zEbWv+BJBu66pcneakdc1+SnOwPKUk6vn6uDB4C1syobQb2VNUosKftA1wHjLbXOPAAdMIDuB24ErgCuP1ogLSe8a7jZv4sSdIpNmcYVNU/AYdnlNcC29r2NuCGrvrD1fE0cHaSC4Brgd1VdbiqjgC7gTVt7KyqeqqqCni461ySpAE50WcGS6rqTYD2fn6rLwXe6OqbarXj1ad61CVJA3SyHyD3ut9fJ1DvffJkPMlEkonp6ekTnKIkaaYTDYO32i0e2vuhVp8Clnf1LQMOzlFf1qPeU1VtqaqxqhobGRk5walLkmY60TDYARxdEbQBeLSrvr6tKloFvNNuI+0CVic5pz04Xg3samPvJlnVVhGt7zqXJGlAFs/VkOT7wNeA85JM0VkVdDfwSJKNwOvAja19J3A9MAm8B9wMUFWHk9wJ7G19d1TV0YfSt9BZsXQm8OP2kiQN0JxhUFU3zTJ0TY/eAjbNcp6twNYe9QngkrnmIUk6dfwGsiTJMJAkGQaSJAwDSRKGgSQJw0CShGEgScIwkCRhGEiSMAwkSRgGkiQMA0kShoEkCcNAkoRhIEnCMJAkYRhIkjAMJEkYBpIkDANJEoaBJAnDQJKEYSBJwjCQJGEYSJIwDCRJGAaSJAwDSRKGgSQJw0CShGEgScIwkCRhGEiSOI3CIMmaJK8kmUyyedjzkaSF5LQIgySLgPuB64CVwE1JVg53VpK0cJwWYQBcAUxW1atV9QGwHVg75DlJ0oKxeNgTaJYCb3TtTwFXzmxKMg6Mt91fJnllAHNbCM4DfjHsScwl9wx7BhqST8Tv5yfE78w2cLqEQXrU6phC1RZgy6mfzsKSZKKqxoY9D6kXfz8H43S5TTQFLO/aXwYcHNJcJGnBOV3CYC8wmuTCJGcA64AdQ56TJC0Yp8Vtoqr6MMmtwC5gEbC1qvYNeVoLibfedDrz93MAUnXMrXlJ0gJzutwmkiQNkWEgSTIMJEmnyQNkDVaS36PzDe+ldL7PcRDYUVX7hzoxSUPjlcECk+TbdP7cR4Bn6SzrDfB9/0CgTmdJbh72HD7NXE20wCT5D+DiqvqfGfUzgH1VNTqcmUnHl+T1qvrSsOfxaeVtooXn18BvAz+fUb+gjUlDk+TF2YaAJYOcy0JjGCw83wL2JDnA//9xwC8BFwG3Dm1WUscS4FrgyIx6gH8Z/HQWDsNggamqnyT5XTp/Nnwpnf/IpoC9VfXRUCcnwWPA56vqhZkDSZ4c/HQWDp8ZSJJcTSRJMgwkSRgGkiQMA0kShoEkCfhf4tPmU6FB+doAAAAASUVORK5CYII=\n",
      "text/plain": [
       "<Figure size 432x288 with 1 Axes>"
      ]
     },
     "metadata": {
      "needs_background": "light"
     },
     "output_type": "display_data"
    },
    {
     "name": "stdout",
     "output_type": "stream",
     "text": [
      "Columns: FLAG_DOCUMENT_15\n",
      "Unique values: 2\n"
     ]
    },
    {
     "data": {
      "image/png": "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\n",
      "text/plain": [
       "<Figure size 432x288 with 1 Axes>"
      ]
     },
     "metadata": {
      "needs_background": "light"
     },
     "output_type": "display_data"
    },
    {
     "name": "stdout",
     "output_type": "stream",
     "text": [
      "Columns: FLAG_DOCUMENT_16\n",
      "Unique values: 2\n"
     ]
    },
    {
     "data": {
      "image/png": "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\n",
      "text/plain": [
       "<Figure size 432x288 with 1 Axes>"
      ]
     },
     "metadata": {
      "needs_background": "light"
     },
     "output_type": "display_data"
    },
    {
     "name": "stdout",
     "output_type": "stream",
     "text": [
      "Columns: FLAG_DOCUMENT_17\n",
      "Unique values: 2\n"
     ]
    },
    {
     "data": {
      "image/png": "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\n",
      "text/plain": [
       "<Figure size 432x288 with 1 Axes>"
      ]
     },
     "metadata": {
      "needs_background": "light"
     },
     "output_type": "display_data"
    },
    {
     "name": "stdout",
     "output_type": "stream",
     "text": [
      "Columns: FLAG_DOCUMENT_18\n",
      "Unique values: 2\n"
     ]
    },
    {
     "data": {
      "image/png": "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\n",
      "text/plain": [
       "<Figure size 432x288 with 1 Axes>"
      ]
     },
     "metadata": {
      "needs_background": "light"
     },
     "output_type": "display_data"
    },
    {
     "name": "stdout",
     "output_type": "stream",
     "text": [
      "Columns: FLAG_DOCUMENT_19\n",
      "Unique values: 2\n"
     ]
    },
    {
     "data": {
      "image/png": "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\n",
      "text/plain": [
       "<Figure size 432x288 with 1 Axes>"
      ]
     },
     "metadata": {
      "needs_background": "light"
     },
     "output_type": "display_data"
    },
    {
     "name": "stdout",
     "output_type": "stream",
     "text": [
      "Columns: FLAG_DOCUMENT_20\n",
      "Unique values: 2\n"
     ]
    },
    {
     "data": {
      "image/png": "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\n",
      "text/plain": [
       "<Figure size 432x288 with 1 Axes>"
      ]
     },
     "metadata": {
      "needs_background": "light"
     },
     "output_type": "display_data"
    },
    {
     "name": "stdout",
     "output_type": "stream",
     "text": [
      "Columns: FLAG_DOCUMENT_21\n",
      "Unique values: 2\n"
     ]
    },
    {
     "data": {
      "image/png": "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\n",
      "text/plain": [
       "<Figure size 432x288 with 1 Axes>"
      ]
     },
     "metadata": {
      "needs_background": "light"
     },
     "output_type": "display_data"
    },
    {
     "name": "stdout",
     "output_type": "stream",
     "text": [
      "Columns: AMT_REQ_CREDIT_BUREAU_HOUR\n",
      "Unique values: 5\n"
     ]
    },
    {
     "data": {
      "image/png": "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\n",
      "text/plain": [
       "<Figure size 432x288 with 1 Axes>"
      ]
     },
     "metadata": {
      "needs_background": "light"
     },
     "output_type": "display_data"
    },
    {
     "name": "stdout",
     "output_type": "stream",
     "text": [
      "Columns: AMT_REQ_CREDIT_BUREAU_DAY\n",
      "Unique values: 8\n"
     ]
    },
    {
     "data": {
      "image/png": "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\n",
      "text/plain": [
       "<Figure size 432x288 with 1 Axes>"
      ]
     },
     "metadata": {
      "needs_background": "light"
     },
     "output_type": "display_data"
    },
    {
     "name": "stdout",
     "output_type": "stream",
     "text": [
      "Columns: AMT_REQ_CREDIT_BUREAU_WEEK\n",
      "Unique values: 9\n"
     ]
    },
    {
     "data": {
      "image/png": "iVBORw0KGgoAAAANSUhEUgAAAYMAAAD+CAYAAADYr2m5AAAABHNCSVQICAgIfAhkiAAAAAlwSFlzAAALEgAACxIB0t1+/AAAADh0RVh0U29mdHdhcmUAbWF0cGxvdGxpYiB2ZXJzaW9uMy4xLjAsIGh0dHA6Ly9tYXRwbG90bGliLm9yZy+17YcXAAAX+UlEQVR4nO3df4zc9X3n8ecLGwhJmtiEDXK8bu1L9tSYqBjYGqvcSSnkzJrkanoKOtMq9iHUTVOjEF3Vw6R/0CT4BNK1NEjA1Y0NdtXGoTSR3dScz8ePVvSC8QLGYBzqraHxxgQvtSFwtFCb1/3x/SwM69nd2fV6Z6b7ekij+c77+/l+9z3+jvc13+98Z7+yTURETG+nNbuBiIhovoRBREQkDCIiImEQEREkDCIiApjZ7AYm6pxzzvH8+fOb3UZERFt5/PHHX7bdMbzetmEwf/58+vr6mt1GRERbkfQP9eo5TBQREQmDiIhIGEREBAmDiIggYRARESQMIiKChEFERJAwiIgIEgYREcE4voEsaQbQB/zY9uckLQA2A2cDTwBfsP2WpDOBTcBFwD8C/9n2C2UdNwLXAseBL9veXuo9wDeBGcC3bN8ySc+P+Wv+arJW9Y4XbvnspK8zIqKZxrNncD2wr+bxrcBttruAo1S/5Cn3R21/AritjEPSQmAFcB7QA9wpaUYJmTuAZcBC4OoyNiIipkhDYSCpE/gs8K3yWMClwH1lyEbgyjK9vDymzL+sjF8ObLb9pu3ngX5gcbn12z5g+y2qvY3lJ/vEIiKicY3uGfwh8N+At8vjjwCv2D5WHg8Ac8v0XOAgQJn/ahn/Tn3YMiPVTyCpV1KfpL7BwcEGW4+IiLGMGQaSPgcctv14bbnOUI8xb7z1E4v2Otvdtrs7Ok74C6wRETFBjXyAfAnwK5KuAN4HfIhqT2GWpJnl3X8ncKiMHwDmAQOSZgIfBo7U1IfULjNSPSIipsCYewa2b7TdaXs+1QfAD9r+deAh4PNl2CpgS5neWh5T5j9o26W+QtKZ5UykLuAxYBfQJWmBpDPKz9g6Kc8uIiIacjIXt7kB2CzpZuBJYH2prwf+RFI/1R7BCgDbeyXdCzwLHANW2z4OIOk6YDvVqaUbbO89ib4iImKcxhUGth8GHi7TB6jOBBo+5p+Bq0ZYfi2wtk59G7BtPL1ERMTkyTeQIyIiYRAREQmDiIggYRARESQMIiKChEFERJAwiIgIEgYREUHCICIiSBhERAQJg4iIIGEQEREkDCIigoRBRESQMIiICBIGERFBwiAiImggDCS9T9Jjkp6StFfS10r9HknPS9pdbotKXZJul9QvaY+kC2vWtUrS/nJbVVO/SNLTZZnbJelUPNmIiKivkctevglcavt1SacDj0i6v8z7Hdv3DRu/jOpi913AxcBdwMWSzgZuAroBA49L2mr7aBnTCzxKdfnLHuB+IiJiSoy5Z+DK6+Xh6eXmURZZDmwqyz0KzJI0B7gc2GH7SAmAHUBPmfch2z+wbWATcOVJPKeIiBinhj4zkDRD0m7gMNUv9J1l1tpyKOg2SWeW2lzgYM3iA6U2Wn2gTr1eH72S+iT1DQ4ONtJ6REQ0oKEwsH3c9iKgE1gs6VPAjcDPA78InA3cUIbXO97vCdTr9bHOdrft7o6OjkZaj4iIBozrbCLbrwAPAz22XyyHgt4E7gYWl2EDwLyaxTqBQ2PUO+vUIyJiijRyNlGHpFll+izgM8APy7F+ypk/VwLPlEW2AivLWUVLgFdtvwhsB5ZKmi1pNrAU2F7mvSZpSVnXSmDL5D7NiIgYTSNnE80BNkqaQRUe99r+vqQHJXVQHebZDfxmGb8NuALoB94ArgGwfUTSN4BdZdzXbR8p018C7gHOojqLKGcSRURMoTHDwPYe4II69UtHGG9g9QjzNgAb6tT7gE+N1UtERJwa+QZyREQkDCIiImEQEREkDCIigoRBRESQMIiICBIGERFBwiAiIkgYREQECYOIiCBhEBERJAwiIoKEQUREkDCIiAgSBhERQcIgIiJo7LKX75P0mKSnJO2V9LVSXyBpp6T9kr4j6YxSP7M87i/z59es68ZSf07S5TX1nlLrl7Rm8p9mRESMppE9gzeBS22fDywCesq1jW8FbrPdBRwFri3jrwWO2v4EcFsZh6SFwArgPKAHuFPSjHI5zTuAZcBC4OoyNiIipsiYYeDK6+Xh6eVm4FLgvlLfCFxZppeXx5T5l5UL3S8HNtt+0/bzVNdIXlxu/bYP2H4L2FzGRkTEFGnoM4PyDn43cBjYAfw98IrtY2XIADC3TM8FDgKU+a8CH6mtD1tmpHq9Pnol9UnqGxwcbKT1iIhoQENhYPu47UVAJ9U7+U/WG1buNcK88dbr9bHOdrft7o6OjrEbj4iIhozrbCLbrwAPA0uAWZJmllmdwKEyPQDMAyjzPwwcqa0PW2akekRETJFGzibqkDSrTJ8FfAbYBzwEfL4MWwVsKdNby2PK/Adtu9RXlLONFgBdwGPALqCrnJ10BtWHzFsn48lFRERjZo49hDnAxnLWz2nAvba/L+lZYLOkm4EngfVl/HrgTyT1U+0RrACwvVfSvcCzwDFgte3jAJKuA7YDM4ANtvdO2jOMiIgxjRkGtvcAF9SpH6D6/GB4/Z+Bq0ZY11pgbZ36NmBbA/1GRMQpkG8gR0REwiAiIhIGERFBwiAiIkgYREQECYOIiCBhEBERJAwiIoKEQUREkDCIiAgSBhERQcIgIiJIGEREBAmDiIggYRARESQMIiKCxi57OU/SQ5L2Sdor6fpS/z1JP5a0u9yuqFnmRkn9kp6TdHlNvafU+iWtqakvkLRT0n5J3ymXv4yIiCnSyJ7BMeC3bX8SWAKslrSwzLvN9qJy2wZQ5q0AzgN6gDslzSiXzbwDWAYsBK6uWc+tZV1dwFHg2kl6fhER0YAxw8D2i7afKNOvAfuAuaMsshzYbPtN288D/VSXx1wM9Ns+YPstYDOwXJKAS4H7yvIbgSsn+oQiImL8xvWZgaT5VNdD3llK10naI2mDpNmlNhc4WLPYQKmNVP8I8IrtY8PqERExRRoOA0kfBP4C+IrtnwJ3AR8HFgEvAr8/NLTO4p5AvV4PvZL6JPUNDg422npERIyhoTCQdDpVEPyp7e8C2H7J9nHbbwN/THUYCKp39vNqFu8EDo1SfxmYJWnmsPoJbK+z3W27u6Ojo5HWIyKiAY2cTSRgPbDP9h/U1OfUDPtV4JkyvRVYIelMSQuALuAxYBfQVc4cOoPqQ+attg08BHy+LL8K2HJyTysiIsZj5thDuAT4AvC0pN2l9lWqs4EWUR3SeQH4IoDtvZLuBZ6lOhNpte3jAJKuA7YDM4ANtveW9d0AbJZ0M/AkVfhERMQUGTMMbD9C/eP620ZZZi2wtk59W73lbB/g3cNMERExxfIN5IiISBhERETCICIiSBhERAQJg4iIIGEQEREkDCIigoRBRESQMIiICBIGERFBwiAiIkgYREQECYOIiCBhEBERJAwiIoKEQUREkDCIiAgauwbyPEkPSdonaa+k60v9bEk7JO0v97NLXZJul9QvaY+kC2vWtaqM3y9pVU39IklPl2VuL9ddjoiIKdLInsEx4LdtfxJYAqyWtBBYAzxguwt4oDwGWAZ0lVsvcBdU4QHcBFxMdYnLm4YCpIzprVmu5+SfWkRENGrMMLD9ou0nyvRrwD5gLrAc2FiGbQSuLNPLgU2uPArMkjQHuBzYYfuI7aPADqCnzPuQ7R/YNrCpZl0RETEFxvWZgaT5wAXATuBc2y9CFRjAR8uwucDBmsUGSm20+kCder2f3yupT1Lf4ODgeFqPiIhRNBwGkj4I/AXwFds/HW1onZonUD+xaK+z3W27u6OjY6yWIyKiQQ2FgaTTqYLgT21/t5RfKod4KPeHS30AmFezeCdwaIx6Z516RERMkUbOJhKwHthn+w9qZm0Fhs4IWgVsqamvLGcVLQFeLYeRtgNLJc0uHxwvBbaXea9JWlJ+1sqadUVExBSY2cCYS4AvAE9L2l1qXwVuAe6VdC3wI+CqMm8bcAXQD7wBXANg+4ikbwC7yriv2z5Spr8E3AOcBdxfbhERMUXGDAPbj1D/uD7AZXXGG1g9wro2ABvq1PuAT43VS0REnBr5BnJERCQMIiIiYRARESQMIiKChEFERJAwiIgIEgYREUHCICIiSBhERAQJg4iIIGEQEREkDCIigoRBRESQMIiICBIGERFBwiAiImjsspcbJB2W9ExN7fck/VjS7nK7ombejZL6JT0n6fKaek+p9UtaU1NfIGmnpP2SviPpjMl8ghERMbZG9gzuAXrq1G+zvajctgFIWgisAM4ry9wpaYakGcAdwDJgIXB1GQtwa1lXF3AUuPZknlBERIzfmGFg+2+AI2ONK5YDm22/aft5qusgLy63ftsHbL8FbAaWSxJwKXBfWX4jcOU4n0NERJykk/nM4DpJe8phpNmlNhc4WDNmoNRGqn8EeMX2sWH1iIiYQhMNg7uAjwOLgBeB3y911RnrCdTrktQrqU9S3+Dg4Pg6joiIEU0oDGy/ZPu47beBP6Y6DATVO/t5NUM7gUOj1F8GZkmaOaw+0s9dZ7vbdndHR8dEWo+IiDomFAaS5tQ8/FVg6EyjrcAKSWdKWgB0AY8Bu4CucubQGVQfMm+1beAh4PNl+VXAlon0FBEREzdzrAGSvg18GjhH0gBwE/BpSYuoDum8AHwRwPZeSfcCzwLHgNW2j5f1XAdsB2YAG2zvLT/iBmCzpJuBJ4H1k/bsIiKiIWOGge2r65RH/IVtey2wtk59G7CtTv0A7x5mioiIJsg3kCMiImEQEREJg4iIIGEQEREkDCIigoRBRESQMIiICBIGERFBwiAiIkgYREQECYOIiCBhEBERJAwiIoKEQUREkDCIiAgSBhERQcIgIiJoIAwkbZB0WNIzNbWzJe2QtL/czy51SbpdUr+kPZIurFlmVRm/X9KqmvpFkp4uy9wuSZP9JCMiYnSN7BncA/QMq60BHrDdBTxQHgMsA7rKrRe4C6rwoLp28sVUl7i8aShAypjemuWG/6yIiDjFxgwD238DHBlWXg5sLNMbgStr6ptceRSYJWkOcDmww/YR20eBHUBPmfch2z+wbWBTzboiImKKTPQzg3NtvwhQ7j9a6nOBgzXjBkpttPpAnXpdknol9UnqGxwcnGDrEREx3GR/gFzveL8nUK/L9jrb3ba7Ozo6JthiREQMN9EweKkc4qHcHy71AWBezbhO4NAY9c469YiImEITDYOtwNAZQauALTX1leWsoiXAq+Uw0nZgqaTZ5YPjpcD2Mu81SUvKWUQra9YVERFTZOZYAyR9G/g0cI6kAaqzgm4B7pV0LfAj4KoyfBtwBdAPvAFcA2D7iKRvALvKuK/bHvpQ+ktUZyydBdxfbhERMYXGDAPbV48w67I6Yw2sHmE9G4ANdep9wKfG6iMiIk6dfAM5IiISBhERkTCIiAgSBhERQcIgIiJIGEREBAmDiIggYRARESQMIiKChEFERJAwiIgIEgYREUHCICIiSBhERAQJg4iIIGEQERGcZBhIekHS05J2S+ortbMl7ZC0v9zPLnVJul1Sv6Q9ki6sWc+qMn6/pFUj/byIiDg1JmPP4JdtL7LdXR6vAR6w3QU8UB4DLAO6yq0XuAuq8KC6lObFwGLgpqEAiYiIqXEqDhMtBzaW6Y3AlTX1Ta48CsySNAe4HNhh+4jto8AOoOcU9BURESM42TAw8L8lPS6pt9TOtf0iQLn/aKnPBQ7WLDtQaiPVTyCpV1KfpL7BwcGTbD0iIobMPMnlL7F9SNJHgR2SfjjKWNWpeZT6iUV7HbAOoLu7u+6YiIgYv5PaM7B9qNwfBr5Hdcz/pXL4h3J/uAwfAObVLN4JHBqlHhERU2TCYSDpA5J+ZmgaWAo8A2wFhs4IWgVsKdNbgZXlrKIlwKvlMNJ2YKmk2eWD46WlFhERU+RkDhOdC3xP0tB6/sz2/5K0C7hX0rXAj4CryvhtwBVAP/AGcA2A7SOSvgHsKuO+bvvISfQVERHjNOEwsH0AOL9O/R+By+rUDaweYV0bgA0T7SUiIk5OvoEcEREJg4iISBhERAQJg4iIIGEQEREkDCIigoRBRESQMIiICBIGERFBwiAiIkgYREQECYOIiCBhEBERnPyVzmKSzF/zV5O+zhdu+eykrzMi/nXKnkFERCQMIiIiYRAREbRQGEjqkfScpH5Ja5rdT0TEdNISYSBpBnAHsAxYCFwtaWFzu4qImD5aIgyAxUC/7QO23wI2A8ub3FNExLTRKqeWzgUO1jweAC4ePkhSL9BbHr4u6blJ7uMc4OWxBunWSf6p49NQj9A+fTZZ+pxc6XNynYo+f65esVXCQHVqPqFgrwPWnbImpD7b3adq/ZOhHXqE9DnZ0ufkSp8napXDRAPAvJrHncChJvUSETHttEoY7AK6JC2QdAawAtja5J4iIqaNljhMZPuYpOuA7cAMYIPtvU1o5ZQdgppE7dAjpM/Jlj4nV/ocRvYJh+YjImKaaZXDRBER0UQJg4iISBhERETCAElnS5rd7D5iarXDdm+HHmPyNWu7T8swkPSzkjZLGgR2ArskHS61+c3trn1JOlfShZIukHRus/sZrh22ezv0OFyrb/chrdxnK2z3aXk2kaQfAH8I3Gf7eKnNAK4CvmJ7STP7q6e8eOdSfTP7kO2XmtzSOyQtAv4n8GHgx6XcCbwC/JbtJ5rVW6122O7t0OOQNtruLd9nK2z36RoG+213jXdeM7TJC3k38EXbO4fVlwB/ZPv85nT2Xu2w3duhxyFttN1bvs9W2O4t8aWzJnhc0p3ARt79A3nzgFXAk03rqr57GPmFfDfQ9Bcy8IHh/QHYflTSB5rR0AjaYbu3Q49D2mW7t0OfTd/u03XP4AzgWqo/kz2X6g/lHQT+Elhv+80mtvceY7xj6Lf9ianuqU4ftwMfBzbx3hfySuB529c1q7da7bDd26HHIW203Vu+z1bY7tMyDNpJO7yQASQt470v5AFgq+1tTW0sTql22e7t0mczJQyGkfQ5299vdh+18kI+9Vpxuw/XDj3G5Juq7T4tTy0dwy82u4HhbN9v+zdt/0fbnyvTbREE5YJE7aDltnsd7dAj0D7bvU36nJLtPl0/QEbSz/Puu21TXT9hq+2bmtrYOEjqLRf8aWX1LlzUNJIWA7a9q1xnuwf4YStvd0mbbK9s5R7raKntPoqW6LPmT/cfsv1/JP0a8EvAPuDmqehhWoaBpBuAq6mutfxYKXcC35a02fYtTWtufFrihQzvhOtcYKft12tm/UOTWjqBpJuAZcBMSTuoLq36MLBG0gW21zazPwBJw6/jIeCXJc0CsP0rU99VfZIuBvbZ/qmks4A1wIXAs8B/b2pzo5D076iuu/6M7T9qdj/F3VS/j98vaRXwQeC7wGVUewb/5VQ3MC0/M5D0d8B5tv9lWP0MYG8rncs9GknX2L67Bfr4MrCa6l3MIuB621vKvCdsX9jM/oZIepqqvzOBnwCdNb/Idtr+haY2SPXvRfXL9FtUe6wCvk31rhHbf9287t5L0l7g/HI9knXAG8B9VL/Azrf9n5raYCHpMduLy/RvUL1WvwcsBf6yFd78Sdpj+xckzaT6PtHHbB+XJOCpqXhtTss9A+Bt4GOc+K51TpnXLr5G9Y6i2X4DuMj26+Wr8/dJmm/7m7TQ3gtwrHy78w1Jf2/7pwC2/0lSq2z3buB64HeB37G9W9I/tVII1DjN9rEy3V0T+o+UL3q1itNrpnuB/2B7UNL/AB4Fmh4GwGnlzegHgPdTfcn0CNUbl9NHW3CyTNcw+ArwgKT9vHu65s8CnwBa4lTNIZL2jDQLaJW/rzJj6NCQ7RckfZoqEH6O1gqDtyS93/YbwEVDRUkfpkXeBNh+G7hN0p+X+5do3f+nz9TsnT4lqdt2n6R/C/zLWAtPodNU/eG306iOhgwC2P5/ko6NvuiUWQ/8kOpKj78L/LmkA8ASqsPZp9y0PEwEIOk0quOGtadr7hr6uyCtovwyuBw4OnwW8H9tf2zquxrWiPQg8F9t766pzQQ2AL9ue0bTmqsh6cx6X96RdA4wx/bTTWhrVJI+C1xi+6vN7mW4EqLfBP498DLV5wUHy+3Ltp9qYnvvkPQCVdiL6tDbL9n+iaQPAo/YXtTM/oZI+hiA7UPlM6LPAD+y/djoS07Sz5+uYdAuJK0H7rb9SJ15f2b715rQ1vA+OqkOwfykzrxLbP9tE9qKKSLpZ4B/Q7UHM+AW+iOKo5H0fuBc2883u5dWkDCIiIh86SwiIhIGERFBwiAiIkgYREQE8P8B5r6pylRe2u4AAAAASUVORK5CYII=\n",
      "text/plain": [
       "<Figure size 432x288 with 1 Axes>"
      ]
     },
     "metadata": {
      "needs_background": "light"
     },
     "output_type": "display_data"
    },
    {
     "name": "stdout",
     "output_type": "stream",
     "text": [
      "Columns: AMT_REQ_CREDIT_BUREAU_MON\n",
      "Unique values: 19\n"
     ]
    },
    {
     "data": {
      "image/png": "iVBORw0KGgoAAAANSUhEUgAAAYMAAAEFCAYAAAABjYvXAAAABHNCSVQICAgIfAhkiAAAAAlwSFlzAAALEgAACxIB0t1+/AAAADh0RVh0U29mdHdhcmUAbWF0cGxvdGxpYiB2ZXJzaW9uMy4xLjAsIGh0dHA6Ly9tYXRwbG90bGliLm9yZy+17YcXAAAarElEQVR4nO3df7RddXnn8feHBCz+JMgVKQHD2HQUbYmaQtayM0PRgYDTgba4BrpWyTjMxLHQ6rQzY+zMGuoPOuhMa4epUukQgS41Iq0l1diQIrSrM4KkGIEYaVKgkoIQG6BaZ7DgM3/sb+rp5dzcc+7dufcS3q+1zrr7PPu7n/N8d07Oc/Y++9ybqkKS9Ox2yHwXIEmafzYDSZLNQJJkM5AkYTOQJGEzkCQBi+e7gJk66qijatmyZfNdhiQ9Yxx11FFs3rx5c1WtnrzuGdsMli1bxtatW+e7DEl6Rkly1LC4p4kkSTYDSZLNQJKEzUCShM1AkoTNQJLECM0gyfcl+WKSLyfZnuTdLX51kvuSbGu3FS2eJJcn2ZXkziSvHci1JsnOdlszEH9dkrvaNpcnyYGYrCRpuFG+Z/AEcFpVfSvJocCfJPlcW/cfqur6SePPBJa32ynAFcApSY4ELgFWAgX8aZKNVfVoG7MWuBXYBKwGPockaU5M2wyq++s332p3D223/f1FnLOBa9t2tyY5IskxwKnAlqraC5BkC7A6yS3AC6vqCy1+LXAOYzaDZes+O9K4+y970zhpJelZYaTPDJIsSrINeITuBf22turSdirog0me02LHAg8MbL67xfYX3z0kLkmaIyM1g6p6qqpWAEuBk5O8GngX8ArgR4AjgXe24cPO99cM4k+TZG2SrUm27tmzZ5TSJUkjGOtqoqp6DLgFWF1VD1XnCeCjwMlt2G7guIHNlgIPThNfOiQ+7PGvrKqVVbVyYmJinNIlSfsxytVEE0mOaMuHA28Evto+B6Bd+XMOcHfbZCNwQbuqaBXweFU9BGwGTk+yJMkS4HRgc1v3zSSrWq4LgBv6naYkaX9GuZroGOCaJIvomsd1VfWZJJ9PMkF3mmcb8G/b+E3AWcAu4NvAWwCqam+S9wK3t3Hv2fdhMvA24GrgcLoPjr2SSJLm0ChXE90JvGZI/LQpxhdw0RTr1gPrh8S3Aq+erhZJ0oHhN5AlSTYDSZLNQJKEzUCShM1AkoTNQJKEzUCShM1AkoTNQJKEzUCShM1AkoTNQJKEzUCShM1AkoTNQJKEzUCShM1AkoTNQJKEzUCShM1AkoTNQJLECM0gyfcl+WKSLyfZnuTdLX5CktuS7EzyySSHtfhz2v1dbf2ygVzvavF7kpwxEF/dYruSrOt/mpKk/RnlyOAJ4LSqOglYAaxOsgp4P/DBqloOPApc2MZfCDxaVT8AfLCNI8mJwHnAq4DVwIeTLEqyCPgQcCZwInB+GytJmiPTNoPqfKvdPbTdCjgNuL7FrwHOactnt/u09W9IkhbfUFVPVNV9wC7g5HbbVVX3VtV3gA1trCRpjoz0mUF7B78NeATYAvw58FhVPdmG7AaObcvHAg8AtPWPAy8ejE/aZqq4JGmOjNQMquqpqloBLKV7J//KYcPaz0yxbtz40yRZm2Rrkq179uyZvnBJ0kjGupqoqh4DbgFWAUckWdxWLQUebMu7geMA2voXAXsH45O2mSo+7PGvrKqVVbVyYmJinNIlSfsxytVEE0mOaMuHA28EdgA3A+e2YWuAG9ryxnaftv7zVVUtfl672ugEYDnwReB2YHm7Oukwug+ZN/YxOUnSaBZPP4RjgGvaVT+HANdV1WeSfAXYkOR9wJeAq9r4q4DfTrKL7ojgPICq2p7kOuArwJPARVX1FECSi4HNwCJgfVVt722GkqRpTdsMqupO4DVD4vfSfX4wOf7/gDdPketS4NIh8U3AphHqlSQdAH4DWZJkM5Ak2QwkSdgMJEnYDCRJ2AwkSdgMJEnYDCRJ2AwkSdgMJEnYDCRJ2AwkSdgMJEnYDCRJ2AwkSdgMJEnYDCRJ2AwkSdgMJEnYDCRJjNAMkhyX5OYkO5JsT/L2Fv/lJH+ZZFu7nTWwzbuS7EpyT5IzBuKrW2xXknUD8ROS3JZkZ5JPJjms74lKkqY2ypHBk8AvVtUrgVXARUlObOs+WFUr2m0TQFt3HvAqYDXw4SSLkiwCPgScCZwInD+Q5/0t13LgUeDCnuYnSRrBtM2gqh6qqjva8jeBHcCx+9nkbGBDVT1RVfcBu4CT221XVd1bVd8BNgBnJwlwGnB92/4a4JyZTkiSNL6xPjNIsgx4DXBbC12c5M4k65MsabFjgQcGNtvdYlPFXww8VlVPTopLkubIyM0gyfOB3wHeUVV/DVwBvBxYATwE/Oq+oUM2rxnEh9WwNsnWJFv37NkzaumSpGmM1AySHErXCD5WVb8LUFUPV9VTVfVd4LfoTgNB987+uIHNlwIP7if+DeCIJIsnxZ+mqq6sqpVVtXJiYmKU0iVJIxjlaqIAVwE7qurXBuLHDAz7CeDutrwROC/Jc5KcACwHvgjcDixvVw4dRvch88aqKuBm4Ny2/RrghtlNS5I0jsXTD+H1wM8AdyXZ1mK/RHc10Aq6Uzr3A28FqKrtSa4DvkJ3JdJFVfUUQJKLgc3AImB9VW1v+d4JbEjyPuBLdM1HkjRHpm0GVfUnDD+vv2k/21wKXDokvmnYdlV1L987zSRJmmN+A1mSZDOQJNkMJEnYDCRJ2AwkSdgMJEnYDCRJ2AwkSdgMJEnYDCRJ2AwkSdgMJEnYDCRJ2AwkSdgMJEnYDCRJ2AwkSdgMJEnYDCRJ2AwkSYzQDJIcl+TmJDuSbE/y9hY/MsmWJDvbzyUtniSXJ9mV5M4krx3ItaaN35lkzUD8dUnuattcniQHYrKSpOFGOTJ4EvjFqnolsAq4KMmJwDrgpqpaDtzU7gOcCSxvt7XAFdA1D+AS4BTgZOCSfQ2kjVk7sN3q2U9NkjSqaZtBVT1UVXe05W8CO4BjgbOBa9qwa4Bz2vLZwLXVuRU4IskxwBnAlqraW1WPAluA1W3dC6vqC1VVwLUDuSRJc2CszwySLANeA9wGHF1VD0HXMICXtGHHAg8MbLa7xfYX3z0kLkmaIyM3gyTPB34HeEdV/fX+hg6J1Qziw2pYm2Rrkq179uyZrmRJ0ohGagZJDqVrBB+rqt9t4YfbKR7az0dafDdw3MDmS4EHp4kvHRJ/mqq6sqpWVtXKiYmJUUqXJI1glKuJAlwF7KiqXxtYtRHYd0XQGuCGgfgF7aqiVcDj7TTSZuD0JEvaB8enA5vbum8mWdUe64KBXJKkObB4hDGvB34GuCvJthb7JeAy4LokFwJfA97c1m0CzgJ2Ad8G3gJQVXuTvBe4vY17T1XtbctvA64GDgc+126SpDkybTOoqj9h+Hl9gDcMGV/ARVPkWg+sHxLfCrx6ulokSQeG30CWJNkMJEk2A0kSNgNJEjYDSRI2A0kSNgNJEjYDSRI2A0kSNgNJEjYDSRI2A0kSNgNJEjYDSRI2A0kSNgNJEjYDSRI2A0kSNgNJEjYDSRI2A0kSIzSDJOuTPJLk7oHYLyf5yyTb2u2sgXXvSrIryT1JzhiIr26xXUnWDcRPSHJbkp1JPpnksD4nKEma3ihHBlcDq4fEP1hVK9ptE0CSE4HzgFe1bT6cZFGSRcCHgDOBE4Hz21iA97dcy4FHgQtnMyFJ0vimbQZV9cfA3hHznQ1sqKonquo+YBdwcrvtqqp7q+o7wAbg7CQBTgOub9tfA5wz5hwkSbM0m88MLk5yZzuNtKTFjgUeGBizu8Wmir8YeKyqnpwUlyTNoZk2gyuAlwMrgIeAX23xDBlbM4gPlWRtkq1Jtu7Zs2e8iiVJU5pRM6iqh6vqqar6LvBbdKeBoHtnf9zA0KXAg/uJfwM4IsniSfGpHvfKqlpZVSsnJiZmUrokaYgZNYMkxwzc/Qlg35VGG4HzkjwnyQnAcuCLwO3A8nbl0GF0HzJvrKoCbgbObduvAW6YSU2SpJlbPN2AJJ8ATgWOSrIbuAQ4NckKulM69wNvBaiq7UmuA74CPAlcVFVPtTwXA5uBRcD6qtreHuKdwIYk7wO+BFzV2+wkSSOZthlU1flDwlO+YFfVpcClQ+KbgE1D4vfyvdNMkqR54DeQJUk2A0mSzUCShM1AkoTNQJKEzUCShM1AkoTNQJKEzUCShM1AkoTNQJKEzUCShM1AkoTNQJKEzUCShM1AkoTNQJKEzUCShM1AkoTNQJLECM0gyfokjyS5eyB2ZJItSXa2n0taPEkuT7IryZ1JXjuwzZo2fmeSNQPx1yW5q21zeZL0PUlJ0v6NcmRwNbB6UmwdcFNVLQduavcBzgSWt9ta4AromgdwCXAKcDJwyb4G0sasHdhu8mNJkg6waZtBVf0xsHdS+GzgmrZ8DXDOQPza6twKHJHkGOAMYEtV7a2qR4EtwOq27oVV9YWqKuDagVySpDky088Mjq6qhwDaz5e0+LHAAwPjdrfY/uK7h8QlSXOo7w+Qh53vrxnEhydP1ibZmmTrnj17ZliiJGmymTaDh9spHtrPR1p8N3DcwLilwIPTxJcOiQ9VVVdW1cqqWjkxMTHD0iVJk820GWwE9l0RtAa4YSB+QbuqaBXweDuNtBk4PcmS9sHx6cDmtu6bSVa1q4guGMglSZoji6cbkOQTwKnAUUl2010VdBlwXZILga8Bb27DNwFnAbuAbwNvAaiqvUneC9zexr2nqvZ9KP02uiuWDgc+126SpDk0bTOoqvOnWPWGIWMLuGiKPOuB9UPiW4FXT1eHJOnA8RvIkiSbgSTJZiBJwmYgScJmIEnCZiBJwmYgScJmIEnCZiBJwmYgScJmIEnCZiBJwmYgScJmIEnCZiBJwmYgScJmIEnCZiBJwmYgScJmIElils0gyf1J7kqyLcnWFjsyyZYkO9vPJS2eJJcn2ZXkziSvHcizpo3fmWTN7KYkSRpXH0cGP1ZVK6pqZbu/DripqpYDN7X7AGcCy9ttLXAFdM0DuAQ4BTgZuGRfA5EkzY0DcZrobOCatnwNcM5A/Nrq3AockeQY4AxgS1XtrapHgS3A6gNQlyRpCotnuX0BNyYp4CNVdSVwdFU9BFBVDyV5SRt7LPDAwLa7W2yq+LxZtu6z0465/7I3zUElkjQ3ZtsMXl9VD7YX/C1JvrqfsRkSq/3En54gWUt3ionjjz9+3FolSVOY1Wmiqnqw/XwE+DTdOf+H2+kf2s9H2vDdwHEDmy8FHtxPfNjjXVlVK6tq5cTExGxKlyQNmHEzSPK8JC/YtwycDtwNbAT2XRG0BrihLW8ELmhXFa0CHm+nkzYDpydZ0j44Pr3FJElzZDaniY4GPp1kX56PV9UfJLkduC7JhcDXgDe38ZuAs4BdwLeBtwBU1d4k7wVub+PeU1V7Z1GXJGlMM24GVXUvcNKQ+F8BbxgSL+CiKXKtB9bPtBZJ0uz4DWRJks1AkmQzkCRhM5AkYTOQJGEzkCRhM5AkYTOQJGEzkCRhM5AkYTOQJGEzkCRhM5AkYTOQJGEzkCRhM5AkYTOQJGEzkCRhM5AkYTOQJAGL57uAg92ydZ+ddsz9l71pDiqRpKktmCODJKuT3JNkV5J1812PJD2bLIhmkGQR8CHgTOBE4PwkJ85vVZL07LFQThOdDOyqqnsBkmwAzga+Mq9VLSCebpJ0IC2UZnAs8MDA/d3AKfNUy0Gvr8YySp4+c43a7OZyfguxpj5zzfX8NH9SVfNdA0neDJxRVf+63f8Z4OSq+rlJ49YCa9vdfwjcM03qo4Bv9FRmX7msae5zWdPc57Kmuc81Sp5vAFTV6skrFsqRwW7guIH7S4EHJw+qqiuBK0dNmmRrVa2cfXn95bKmuc9lTXOfy5rmPtds8yyID5CB24HlSU5IchhwHrBxnmuSpGeNBXFkUFVPJrkY2AwsAtZX1fZ5LkuSnjUWRDMAqKpNwKae0458SmkOc1nT3OeyprnPZU1zn2tWeRbEB8iSpPm1UD4zkCTNI5uBJOngbAZJjkyyZL7rOFD6mt/Bvp8Odv77qU8HzWcGSY4HPgC8AXgMCPBC4PPAuqq6fx5rO5ruW9YFPFhVD88gRy/zOxD7qY/59ZlnodbUh4X8PNcz28HUDL4A/DpwfVU91WKLgDcD76iqVTPIOasXgiQrgN8EXgT8ZQsvpftP/LNVdccYuXqZX5/7qa/59byfFlxNAzlfBKxm4DkFbK6qx8bI0evzPMkr6H4P2GBNG6tqx5h5Zj23vmvqM9dCnF+f+wkOrmaws6qWj7tuivF9vaBsA95aVbdNiq8CPlJVJ41RUy/z63k/9TK/nvfTgqupbXcBcAlwI3//OfVPgXdX1bUj5unz3++dwPnABrrfArCvpvOADVV12Yh5eplbnzX1mWshzq/P/fR3quqguLWd8mG6X3D3/e12SotdN2aubcApQ+KrgC+PkWfnftbtmo/59byfeplfz/tpwdXUtrkHOGJIfAnwZ/P07/dnwKFD4oftb/4Ham591nSwz6/P/bTvtmC+dNaDC4ALgXfTHTaF7jeh/j5w1Zi5nleT3hECVNWtSZ43Rp7PJfkscC3f+62sx7Va/2DMmvqaX5/7qa/59bmfFmJN0O3nYYfh323rRtXnv9936ZrJX0yKH9PWjaqvufVZU5+5FuL8+txPwEF0mqhPSS4HXs7wF4L7quriMXKdyffO64XukG5jdd+4fsbra3597qcFWtMa4L/QnWrY95w6nu5Uw3ur6upxc85WktXAbwA7J9X0A8DFVTVS0+tzbn3V1GeuhTi/PvfT3+V8NjSDJP+sqj4z5jbPmBfxmczvQObRcO0y0DP4+8+pzVX1aE/5Z/I8P4Tuj0sN1nR7tQ+nx8jT29z6qqnPXAtxfn3uJ3j2NIN3V9Ul813HoCRrq/uV3H3k6mV+fe6nvubX835acDX1aSE+z/XMcVB96SzJK5K8M8nlSf5HW35ln/9B0v2BnV5SzeCxT07yI235xCS/kOSs2c4vybUAPb+QjD2/A5ynz1x91kSScf5Gx2FJLkjyxnb/p5P8RpKLgPf1WFMvR4jjzG2EXL0dtR7M85tpnoPmyOCAXGo1/HHeWlUfGWP8K+gO426rqm8NxFePef7zEuBMut80u4XuCpJbgDfSHa5eOmKeyX8nIsCP0X1piar656PWNCT3j9Idtt5dVTeOsd3PA5+uqgemHTx9rlOAHVX110kOB9YBr6X7e9q/UlWPj5Hr5cBP0H1e9CTd+dlPjJNjxMd5XVX96YhjP0b3HHgu3aXOzwd+l+5LaFTVv+yppmOq6qEe8ow8t7mqqc9cC3F+M81zMDWDPwNeVVV/Oyl+GLC9xrj+eprHeUtVfXTEsT8PXATsAFYAb6+qG9q6O6rqtWM87l0tx3OArwNLB17wbquqHx4xzx10L4z/i+4KiQCfoGuaVNUfjVHTF6vq5Lb8b+jm+mngdOD3R23ASR4H/gb481bLp6pqz6h1TMq1HTipur+RcSXwbeB6uhfLk6rqJ0fM8/PAjwN/BJxFd7nxo3TN4Wer6paZ1DdbSe6sqh9Ospjumvfvr6qnkoTusueRngeanSQvqapHesr14qr6qz5yzcpMrkddiDfgq8DLhsRfBtzT4+N8bYyxdwHPb8vLgK10DQHgS2M+7peGLbf728bIcwjw7+iOLla02L0z3BeDNd0OTLTl5wF3jZOn1XU63eWRe+gu31wDvGDMmnYMLN8xi/10F7CoLT8XuKUtHz/uv13b7kXAZe15+lfttqPFnnYN+37y3E13LfkS4JvAkS3+fYNzn+0N+NwYY18KXAF8CHgx8Mtt/10HHDPm474Q+K/AbwM/PWndh8fMtXrS/r8KuBP4OHD0GHmOnHR7MXB/+zc4csyaLgOOassrgXuBXXSXiP6TMfLcAfxn4OV9/ZsfTN8zeAdwU5Khl1qNkyjJnVOtAo4eI9WiaqeGqur+JKcC1yd5GeOfd/5OkudW1beB1w3U+iLGuK64qr4LfDDJp9rPh5n5Hzk6pF1lcQjdUeae9hh/k+TJMfJUq+tG4MYkh9KdEjsf+O/AxBi57h44evtykpVVtTXJDwJ/O93GkywGnqI7GntBK/Rrrb5xXUd3Ku7Uqvo6QJKX0jW8T9FdpjiKq+gayiLgPwGfSnIv3RciN4xTUJKpjkxDdxQ6qquBz9K9CbgZ+BjwJrqr8X6z/RzVR+lOx/0O8K+S/BRdU3iCbo7j+BW+952QXwUeojva+0ngI8A5I+b5Bk+/nv9YuhfkAv7BGDW9qarWteX/BvyLqrq9PT8/TtcgRrEEOAK4OcnX6Y6oP1lVT/vb8SPrq6sshBvdi9Iq4KeAc9vyohnkeZjuP8PLJt2W0f2OolHzfJ727nsgtpju+wtPjVnTc6aIHwX80Cz22ZvozqXPZNv76d7Z3Nd+vrTFn89478KnfKcNHD5mTS+ie3H6c+A2ugZwL93pnpPGyPN2uneRV9K9+L6lxSeAP57Bvpry6HR/66YY//10p4ege0E4Fzh5BjU91Z6jNw+5/d+Z/Psx6ch5nOfBsPF0De9/070bv2PMXHfsJ+84z89/T9dUfmggdt+4+7tt91VgcVu+ddK6cY6mB+f2j+i+gf719m+3dka1zWSjg/1G9+7rR6dY9/Ex8izd9wI5ZN3r53ueB3D/PRc4YYzxP3gAangBcBLdUdTIpwQm5XhVe6F9RQ/13Aj8x8Fa6I4y3wn84Tz9O90NLJ9i3QNj5PnywPL7Jq0b+QWujd8BHDIptgbYDvzFmLl2A78A/GJ7Q5CBdXeOmWsp3RHcr7Xn1kxPrf5cey6cRnc67deBf0z3jfLfHiPP0xoj3dHiauCjM6ntoPkAWVrI2um0dXSnTF7Swg8DG4HLqqcvno1Z07l0L9b3DFl3TlX93oh53gN8oAaulmvxH6Cb27lj1PQB4Maq+sNJ8dXA/6zxfhHf5EulP1xVe9rpuQ9U1QWj5hrI+eN0RyvLquql427fcpwKvA34QbozBQ8Avwesr6qRTq8m2VBV583k8afMaTOQ5tc4V6jNlb5q6nNuCyVXu4Lv5VV190KpqY88NgNpniX5WlUdP991DOqrpj7nthBzHUw1HUxXE0kLVo9XqPWmr5r6nNtCzHWw17SPzUCaG0fT/aKzyZ8NBPg/c18O0F9Nfc5tIeY62GsCbAbSXPkM3RcQt01ekeSWuS8H6K+mPue2EHMd7DV12/mZgSTpoPqtpZKkmbEZSJJsBpIkm4EkCZuBJAn4/x28CpJVeyLQAAAAAElFTkSuQmCC\n",
      "text/plain": [
       "<Figure size 432x288 with 1 Axes>"
      ]
     },
     "metadata": {
      "needs_background": "light"
     },
     "output_type": "display_data"
    },
    {
     "name": "stdout",
     "output_type": "stream",
     "text": [
      "Columns: AMT_REQ_CREDIT_BUREAU_QRT\n",
      "Unique values: 10\n"
     ]
    },
    {
     "data": {
      "image/png": "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\n",
      "text/plain": [
       "<Figure size 432x288 with 1 Axes>"
      ]
     },
     "metadata": {
      "needs_background": "light"
     },
     "output_type": "display_data"
    }
   ],
   "source": [
    "for column in numeric_columns:\n",
    "    if len(data_under[column].unique()) < 21:\n",
    "        print(f'Columns: {column}')\n",
    "        print(f'Unique values: {len(data_under[column].unique())}')\n",
    "        data_under[column].value_counts().plot.bar()\n",
    "        plt.show()"
   ]
  },
  {
   "cell_type": "markdown",
   "metadata": {},
   "source": [
    "#### I delete columns where one value represents 99% of the content of this column."
   ]
  },
  {
   "cell_type": "code",
   "execution_count": 20,
   "metadata": {},
   "outputs": [],
   "source": [
    "for column in numeric_columns:\n",
    "    if max(data_under[column].value_counts())/len(data_under[column]) > 0.99:\n",
    "        data_under = data_under.drop(column, axis=1)\n",
    "        numeric_columns = numeric_columns.drop(column)"
   ]
  },
  {
   "cell_type": "code",
   "execution_count": 21,
   "metadata": {
    "scrolled": true
   },
   "outputs": [
    {
     "name": "stdout",
     "output_type": "stream",
     "text": [
      "Columns: CNT_CHILDREN\n",
      "Unique values: 10\n"
     ]
    },
    {
     "data": {
      "image/png": "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\n",
      "text/plain": [
       "<Figure size 432x288 with 1 Axes>"
      ]
     },
     "metadata": {
      "needs_background": "light"
     },
     "output_type": "display_data"
    },
    {
     "name": "stdout",
     "output_type": "stream",
     "text": [
      "Columns: FLAG_EMP_PHONE\n",
      "Unique values: 2\n"
     ]
    },
    {
     "data": {
      "image/png": "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\n",
      "text/plain": [
       "<Figure size 432x288 with 1 Axes>"
      ]
     },
     "metadata": {
      "needs_background": "light"
     },
     "output_type": "display_data"
    },
    {
     "name": "stdout",
     "output_type": "stream",
     "text": [
      "Columns: FLAG_WORK_PHONE\n",
      "Unique values: 2\n"
     ]
    },
    {
     "data": {
      "image/png": "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\n",
      "text/plain": [
       "<Figure size 432x288 with 1 Axes>"
      ]
     },
     "metadata": {
      "needs_background": "light"
     },
     "output_type": "display_data"
    },
    {
     "name": "stdout",
     "output_type": "stream",
     "text": [
      "Columns: FLAG_PHONE\n",
      "Unique values: 2\n"
     ]
    },
    {
     "data": {
      "image/png": "iVBORw0KGgoAAAANSUhEUgAAAYMAAAD1CAYAAACyaJl6AAAABHNCSVQICAgIfAhkiAAAAAlwSFlzAAALEgAACxIB0t1+/AAAADh0RVh0U29mdHdhcmUAbWF0cGxvdGxpYiB2ZXJzaW9uMy4xLjAsIGh0dHA6Ly9tYXRwbG90bGliLm9yZy+17YcXAAARdklEQVR4nO3dYYxdZZ3H8e9vW0CyrtsiA+m2ZUt0NlpILDhbmvjGBVMKvigmksALaQhJXVMSTcyG4hsUJIEXSkKCJDV0KRvXSlBDg8VugxhjVqCD1kJBtrOAMLaBcVsQQhYW/O+L+zTeDHdmbqftTGG+n+Tknvs/z3Puc5K2vznPee40VYUkaW77q9kegCRp9hkGkiTDQJJkGEiSMAwkSRgGkiRg/mwPYLpOP/30WrZs2WwPQ5LeUx5//PE/VtXA+Pp7NgyWLVvG8PDwbA9Dkt5Tkvy+V91pIkmSYSBJMgwkSRgGkiQMA0kShoEkCcNAkoRhIEniPfyls/eKZRt/MttDeN94/pbPzvYQpPct7wwkSYaBJMkwkCRhGEiS6CMMknwgyWNJfptkb5JvtPrdSZ5LsrttK1o9SW5PMpJkT5Lzu861Lsm+tq3rqn8yyROtz+1JcjwuVpLUWz+rid4ELqyq15OcBPwyyYPt2L9U1X3j2l8CDLbtAuBO4IIkpwE3AENAAY8n2VZVh1qb9cAjwHZgDfAgkqQZMeWdQXW83t6e1LaapMta4J7W7xFgQZJFwMXAzqo62AJgJ7CmHftQVf2qqgq4B7jsKK5JknSE+npmkGRekt3Ay3T+QX+0Hbq5TQXdluSUVlsMvNjVfbTVJquP9qhLkmZIX2FQVe9U1QpgCbAyybnA9cDHgH8ETgOua817zffXNOrvkmR9kuEkw2NjY/0MXZLUhyNaTVRVrwA/B9ZU1YE2FfQm8K/AytZsFFja1W0JsH+K+pIe9V6fv6mqhqpqaGDgXf+FpyRpmvpZTTSQZEHbPxX4DPC7NtdPW/lzGfBk67INuKqtKloFvFpVB4AdwOokC5MsBFYDO9qx15Ksaue6Crj/2F6mJGky/awmWgRsSTKPTnjcW1UPJPlZkgE60zy7gX9u7bcDlwIjwBvA1QBVdTDJTcCu1u7GqjrY9r8E3A2cSmcVkSuJJGkGTRkGVbUHOK9H/cIJ2hewYYJjm4HNPerDwLlTjUWSdHz4DWRJkmEgSTIMJEkYBpIkDANJEoaBJAnDQJKEYSBJwjCQJGEYSJIwDCRJGAaSJAwDSRKGgSQJw0CShGEgScIwkCRhGEiSMAwkSfQRBkk+kOSxJL9NsjfJN1r97CSPJtmX5AdJTm71U9r7kXZ8Wde5rm/1Z5Jc3FVf02ojSTYe+8uUJE2mnzuDN4ELq+oTwApgTZJVwK3AbVU1CBwCrmntrwEOVdVHgdtaO5IsB64AzgHWAN9JMi/JPOAO4BJgOXBlaytJmiFThkF1vN7entS2Ai4E7mv1LcBlbX9te087flGStPrWqnqzqp4DRoCVbRupqmer6i1ga2srSZohfT0zaD/B7wZeBnYC/w28UlVvtyajwOK2vxh4EaAdfxX4cHd9XJ+J6pKkGdJXGFTVO1W1AlhC5yf5j/dq1l4zwbEjrb9LkvVJhpMMj42NTT1wSVJfjmg1UVW9AvwcWAUsSDK/HVoC7G/7o8BSgHb8b4GD3fVxfSaq9/r8TVU1VFVDAwMDRzJ0SdIk+llNNJBkQds/FfgM8DTwMPD51mwdcH/b39be047/rKqq1a9oq43OBgaBx4BdwGBbnXQynYfM247FxUmS+jN/6iYsAra0VT9/BdxbVQ8keQrYmuSbwG+Au1r7u4B/SzJC547gCoCq2pvkXuAp4G1gQ1W9A5DkWmAHMA/YXFV7j9kVSpKmNGUYVNUe4Lwe9WfpPD8YX/9f4PIJznUzcHOP+nZgex/jlSQdB34DWZJkGEiSDANJEoaBJAnDQJKEYSBJwjCQJGEYSJIwDCRJGAaSJAwDSRKGgSQJw0CShGEgScIwkCRhGEiSMAwkSRgGkiQMA0kShoEkiT7CIMnSJA8neTrJ3iRfbvWvJ/lDkt1tu7Srz/VJRpI8k+TirvqaVhtJsrGrfnaSR5PsS/KDJCcf6wuVJE2snzuDt4GvVtXHgVXAhiTL27HbqmpF27YDtGNXAOcAa4DvJJmXZB5wB3AJsBy4sus8t7ZzDQKHgGuO0fVJkvowZRhU1YGq+nXbfw14Glg8SZe1wNaqerOqngNGgJVtG6mqZ6vqLWArsDZJgAuB+1r/LcBl070gSdKRO6JnBkmWAecBj7bStUn2JNmcZGGrLQZe7Oo22moT1T8MvFJVb4+r9/r89UmGkwyPjY0dydAlSZPoOwySfBD4IfCVqvoTcCfwEWAFcAD41uGmPbrXNOrvLlZtqqqhqhoaGBjod+iSpCnM76dRkpPoBMH3qupHAFX1Utfx7wIPtLejwNKu7kuA/W2/V/2PwIIk89vdQXd7SdIM6Gc1UYC7gKer6ttd9UVdzT4HPNn2twFXJDklydnAIPAYsAsYbCuHTqbzkHlbVRXwMPD51n8dcP/RXZYk6Uj0c2fwKeALwBNJdrfa1+isBlpBZ0rneeCLAFW1N8m9wFN0ViJtqKp3AJJcC+wA5gGbq2pvO991wNYk3wR+Qyd8JEkzZMowqKpf0ntef/skfW4Gbu5R396rX1U9S2e1kSRpFvgNZEmSYSBJMgwkSRgGkiQMA0kShoEkCcNAkoRhIEnCMJAkYRhIkjAMJEkYBpIkDANJEoaBJAnDQJKEYSBJwjCQJGEYSJIwDCRJ9BEGSZYmeTjJ00n2Jvlyq5+WZGeSfe11Yasnye1JRpLsSXJ+17nWtfb7kqzrqn8yyROtz+1Jev2fy5Kk46SfO4O3ga9W1ceBVcCGJMuBjcBDVTUIPNTeA1wCDLZtPXAndMIDuAG4AFgJ3HA4QFqb9V391hz9pUmS+jVlGFTVgar6ddt/DXgaWAysBba0ZluAy9r+WuCe6ngEWJBkEXAxsLOqDlbVIWAnsKYd+1BV/aqqCrin61ySpBlwRM8MkiwDzgMeBc6sqgPQCQzgjNZsMfBiV7fRVpusPtqjLkmaIX2HQZIPAj8EvlJVf5qsaY9aTaPeawzrkwwnGR4bG5tqyJKkPvUVBklOohME36uqH7XyS22Kh/b6cquPAku7ui8B9k9RX9Kj/i5VtamqhqpqaGBgoJ+hS5L60M9qogB3AU9X1be7Dm0DDq8IWgfc31W/qq0qWgW82qaRdgCrkyxsD45XAzvasdeSrGqfdVXXuSRJM2B+H20+BXwBeCLJ7lb7GnALcG+Sa4AXgMvbse3ApcAI8AZwNUBVHUxyE7Crtbuxqg62/S8BdwOnAg+2TZI0Q6YMg6r6Jb3n9QEu6tG+gA0TnGszsLlHfRg4d6qxSJKOD7+BLEkyDCRJhoEkCcNAkoRhIEnCMJAkYRhIkjAMJEkYBpIkDANJEoaBJAnDQJKEYSBJwjCQJGEYSJIwDCRJGAaSJAwDSRKGgSSJPsIgyeYkLyd5sqv29SR/SLK7bZd2Hbs+yUiSZ5Jc3FVf02ojSTZ21c9O8miSfUl+kOTkY3mBkqSp9XNncDewpkf9tqpa0bbtAEmWA1cA57Q+30kyL8k84A7gEmA5cGVrC3BrO9cgcAi45mguSJJ05KYMg6r6BXCwz/OtBbZW1ZtV9RwwAqxs20hVPVtVbwFbgbVJAlwI3Nf6bwEuO8JrkCQdpaN5ZnBtkj1tGmlhqy0GXuxqM9pqE9U/DLxSVW+Pq0uSZtB0w+BO4CPACuAA8K1WT4+2NY16T0nWJxlOMjw2NnZkI5YkTWhaYVBVL1XVO1X1Z+C7dKaBoPOT/dKupkuA/ZPU/wgsSDJ/XH2iz91UVUNVNTQwMDCdoUuSephWGCRZ1PX2c8DhlUbbgCuSnJLkbGAQeAzYBQy2lUMn03nIvK2qCngY+Hzrvw64fzpjkiRN3/ypGiT5PvBp4PQko8ANwKeTrKAzpfM88EWAqtqb5F7gKeBtYENVvdPOcy2wA5gHbK6qve0jrgO2Jvkm8BvgrmN2dZKkvkwZBlV1ZY/yhP9gV9XNwM096tuB7T3qz/KXaSZJ0izwG8iSJMNAkmQYSJIwDCRJGAaSJAwDSRJ9LC2V9P60bONPZnsI7yvP3/LZ2R7CUfHOQJJkGEiSDANJEoaBJAnDQJKEYSBJwjCQJGEYSJIwDCRJGAaSJAwDSRKGgSQJw0CSRB9hkGRzkpeTPNlVOy3JziT72uvCVk+S25OMJNmT5PyuPuta+31J1nXVP5nkidbn9iQ51hcpSZpcP3cGdwNrxtU2Ag9V1SDwUHsPcAkw2Lb1wJ3QCQ/gBuACYCVww+EAaW3Wd/Ub/1mSpONsyjCoql8AB8eV1wJb2v4W4LKu+j3V8QiwIMki4GJgZ1UdrKpDwE5gTTv2oar6VVUVcE/XuSRJM2S6zwzOrKoDAO31jFZfDLzY1W601Sarj/aoS5Jm0LF+gNxrvr+mUe998mR9kuEkw2NjY9McoiRpvOmGwUttiof2+nKrjwJLu9otAfZPUV/So95TVW2qqqGqGhoYGJjm0CVJ4003DLYBh1cErQPu76pf1VYVrQJebdNIO4DVSRa2B8ergR3t2GtJVrVVRFd1nUuSNEPmT9UgyfeBTwOnJxmlsyroFuDeJNcALwCXt+bbgUuBEeAN4GqAqjqY5CZgV2t3Y1Udfij9JTorlk4FHmybJGkGTRkGVXXlBIcu6tG2gA0TnGczsLlHfRg4d6pxSJKOH7+BLEkyDCRJhoEkCcNAkoRhIEnCMJAkYRhIkjAMJEkYBpIkDANJEoaBJAnDQJKEYSBJwjCQJGEYSJIwDCRJGAaSJAwDSRKGgSSJowyDJM8neSLJ7iTDrXZakp1J9rXXha2eJLcnGUmyJ8n5XedZ19rvS7Lu6C5JknSkjsWdwT9V1YqqGmrvNwIPVdUg8FB7D3AJMNi29cCd0AkP4AbgAmAlcMPhAJEkzYzjMU20FtjS9rcAl3XV76mOR4AFSRYBFwM7q+pgVR0CdgJrjsO4JEkTONowKOA/kjyeZH2rnVlVBwDa6xmtvhh4savvaKtNVJckzZD5R9n/U1W1P8kZwM4kv5ukbXrUapL6u0/QCZz1AGedddaRjlWSNIGjujOoqv3t9WXgx3Tm/F9q0z+015db81FgaVf3JcD+Seq9Pm9TVQ1V1dDAwMDRDF2S1GXaYZDkr5P8zeF9YDXwJLANOLwiaB1wf9vfBlzVVhWtAl5t00g7gNVJFrYHx6tbTZI0Q45mmuhM4MdJDp/n36vqp0l2AfcmuQZ4Abi8td8OXAqMAG8AVwNU1cEkNwG7Wrsbq+rgUYxLknSEph0GVfUs8Ike9f8BLupRL2DDBOfaDGye7lgkSUfHbyBLkgwDSZJhIEnCMJAkYRhIkjAMJEkYBpIkDANJEoaBJAnDQJKEYSBJwjCQJGEYSJIwDCRJGAaSJAwDSRKGgSQJw0CShGEgScIwkCRxAoVBkjVJnkkykmTjbI9HkuaSEyIMkswD7gAuAZYDVyZZPrujkqS544QIA2AlMFJVz1bVW8BWYO0sj0mS5oz5sz2AZjHwYtf7UeCC8Y2SrAfWt7evJ3lmBsY2F5wO/HG2BzGV3DrbI9As8c/nsfX3vYonShikR63eVajaBGw6/sOZW5IMV9XQbI9D6sU/nzPjRJkmGgWWdr1fAuyfpbFI0pxzooTBLmAwydlJTgauALbN8pgkac44IaaJqurtJNcCO4B5wOaq2jvLw5pLnHrTicw/nzMgVe+ampckzTEnyjSRJGkWGQaSJMNAknSCPEDWzEryMTrf8F5M5/sc+4FtVfX0rA5M0qzxzmCOSXIdnV/3EeAxOst6A3zfXxCoE1mSq2d7DO9nriaaY5L8F3BOVf3fuPrJwN6qGpydkUmTS/JCVZ012+N4v3KaaO75M/B3wO/H1Re1Y9KsSbJnokPAmTM5lrnGMJh7vgI8lGQff/nlgGcBHwWunbVRSR1nAhcDh8bVA/znzA9n7jAM5piq+mmSf6Dza8MX0/lLNgrsqqp3ZnVwEjwAfLCqdo8/kOTnMz+cucNnBpIkVxNJkgwDSRKGgSQJw0CShGEgSQL+HxQrQInPAVQlAAAAAElFTkSuQmCC\n",
      "text/plain": [
       "<Figure size 432x288 with 1 Axes>"
      ]
     },
     "metadata": {
      "needs_background": "light"
     },
     "output_type": "display_data"
    },
    {
     "name": "stdout",
     "output_type": "stream",
     "text": [
      "Columns: FLAG_EMAIL\n",
      "Unique values: 2\n"
     ]
    },
    {
     "data": {
      "image/png": "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\n",
      "text/plain": [
       "<Figure size 432x288 with 1 Axes>"
      ]
     },
     "metadata": {
      "needs_background": "light"
     },
     "output_type": "display_data"
    },
    {
     "name": "stdout",
     "output_type": "stream",
     "text": [
      "Columns: CNT_FAM_MEMBERS\n",
      "Unique values: 13\n"
     ]
    },
    {
     "data": {
      "image/png": "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\n",
      "text/plain": [
       "<Figure size 432x288 with 1 Axes>"
      ]
     },
     "metadata": {
      "needs_background": "light"
     },
     "output_type": "display_data"
    },
    {
     "name": "stdout",
     "output_type": "stream",
     "text": [
      "Columns: REGION_RATING_CLIENT\n",
      "Unique values: 3\n"
     ]
    },
    {
     "data": {
      "image/png": "iVBORw0KGgoAAAANSUhEUgAAAYMAAAD1CAYAAACyaJl6AAAABHNCSVQICAgIfAhkiAAAAAlwSFlzAAALEgAACxIB0t1+/AAAADh0RVh0U29mdHdhcmUAbWF0cGxvdGxpYiB2ZXJzaW9uMy4xLjAsIGh0dHA6Ly9tYXRwbG90bGliLm9yZy+17YcXAAASFklEQVR4nO3dcayddX3H8fdnLTA2py1yJaStK3E30cpmwbvSxWRxYMoFlxQTTeCPtSEk3UzJNDOL1X+6qST4x0ZGomRdqBSzrRLU0GhZ1yDGmAn0Il2hMtI7ZHJthetaEMIGKX73x/k1O7mce++5t+09xb5fyZPzPN/n93vO78lJ+rnn9/wOpKqQJJ3dfm3QA5AkDZ5hIEkyDCRJhoEkCcNAkoRhIEkCFg96APN14YUX1sqVKwc9DEl6U3n00Ud/XlVDU+tv2jBYuXIlY2Njgx6GJL2pJPmvXnWniSRJhoEkyTCQJGEYSJIwDCRJGAaSJAwDSRKGgSSJN/GPzhbayi3fHvQQTptnbv3woIcgacD8ZiBJMgwkSYaBJIk+wiDJryd5JMm/JzmY5K9b/a4kP06yv22rWz1Jbk8ynuRAksu7rrUxyaG2beyqvz/J463P7UlyOm5WktRbPw+QXwWurKqXk5wDfD/J/e3cX1bVvVPaXwMMt+0K4A7giiQXAFuBEaCAR5Psqqpjrc0m4CFgNzAK3I8kaUHM+s2gOl5uh+e0rWbosh64u/V7CFiS5GLgamBvVR1tAbAXGG3n3lpVP6iqAu4GrjuJe5IkzVFfzwySLEqyH3iezj/oD7dTt7SpoNuSnNdqy4Bnu7pPtNpM9YkedUnSAukrDKrq9apaDSwH1iS5FPgM8G7g94ELgE+35r3m+2se9TdIsinJWJKxycnJfoYuSerDnFYTVdULwHeB0ao60qaCXgW+AqxpzSaAFV3dlgOHZ6kv71Hv9f7bqmqkqkaGht7wf22TJM1TP6uJhpIsafvnAx8C/qPN9dNW/lwHPNG67AI2tFVFa4EXq+oIsAdYl2RpkqXAOmBPO/dSkrXtWhuA+07tbUqSZtLPaqKLgR1JFtEJj3uq6ltJvpNkiM40z37gz1r73cC1wDjwCnAjQFUdTfJ5YF9r97mqOtr2Pw7cBZxPZxWRK4kkaQHNGgZVdQC4rEf9ymnaF7B5mnPbge096mPApbONRZJ0evgLZEmSYSBJMgwkSRgGkiQMA0kShoEkCcNAkoRhIEnCMJAkYRhIkjAMJEkYBpIkDANJEoaBJAnDQJKEYSBJwjCQJGEYSJIwDCRJ9BEGSX49ySNJ/j3JwSR/3eqXJHk4yaEkX0tybquf147H2/mVXdf6TKs/leTqrvpoq40n2XLqb1OSNJN+vhm8ClxZVe8DVgOjSdYCXwRuq6ph4BhwU2t/E3Csqn4HuK21I8kq4HrgvcAo8OUki5IsAr4EXAOsAm5obSVJC2TWMKiOl9vhOW0r4Erg3lbfAVzX9te3Y9r5q5Kk1XdW1atV9WNgHFjTtvGqerqqXgN2traSpAXS1zOD9hf8fuB5YC/wn8ALVXW8NZkAlrX9ZcCzAO38i8Dbu+tT+kxXlyQtkL7CoKper6rVwHI6f8m/p1ez9pppzs21/gZJNiUZSzI2OTk5+8AlSX2Z02qiqnoB+C6wFliSZHE7tRw43PYngBUA7fzbgKPd9Sl9pqv3ev9tVTVSVSNDQ0NzGbokaQb9rCYaSrKk7Z8PfAh4EngQ+GhrthG4r+3vase089+pqmr169tqo0uAYeARYB8w3FYnnUvnIfOuU3FzkqT+LJ69CRcDO9qqn18D7qmqbyX5EbAzyReAx4A7W/s7ga8mGafzjeB6gKo6mOQe4EfAcWBzVb0OkORmYA+wCNheVQdP2R1KkmY1axhU1QHgsh71p+k8P5ha/1/gY9Nc6xbglh713cDuPsYrSToN/AWyJMkwkCQZBpIkDANJEoaBJAnDQJKEYSBJwjCQJGEYSJIwDCRJGAaSJAwDSRKGgSQJw0CShGEgScIwkCRhGEiSMAwkSRgGkiQMA0kSfYRBkhVJHkzyZJKDST7R6n+V5KdJ9rft2q4+n0kynuSpJFd31UdbbTzJlq76JUkeTnIoydeSnHuqb1SSNL1+vhkcBz5VVe8B1gKbk6xq526rqtVt2w3Qzl0PvBcYBb6cZFGSRcCXgGuAVcANXdf5YrvWMHAMuOkU3Z8kqQ+zhkFVHamqH7b9l4AngWUzdFkP7KyqV6vqx8A4sKZt41X1dFW9BuwE1icJcCVwb+u/A7huvjckSZq7OT0zSLISuAx4uJVuTnIgyfYkS1ttGfBsV7eJVpuu/nbghao6PqUuSVogfYdBkrcAXwc+WVW/AO4A3gWsBo4Af3OiaY/uNY96rzFsSjKWZGxycrLfoUuSZtFXGCQ5h04Q/GNVfQOgqp6rqter6pfAP9CZBoLOX/YrurovBw7PUP85sCTJ4in1N6iqbVU1UlUjQ0ND/QxdktSHflYTBbgTeLKq/rarfnFXs48AT7T9XcD1Sc5LcgkwDDwC7AOG28qhc+k8ZN5VVQU8CHy09d8I3HdytyVJmovFszfhA8CfAI8n2d9qn6WzGmg1nSmdZ4A/Baiqg0nuAX5EZyXS5qp6HSDJzcAeYBGwvaoOtut9GtiZ5AvAY3TCR5K0QGYNg6r6Pr3n9XfP0OcW4JYe9d29+lXV0/z/NJMkaYH5C2RJkmEgSTIMJEkYBpIkDANJEoaBJAnDQJKEYSBJwjCQJGEYSJIwDCRJGAaSJAwDSRKGgSQJw0CShGEgScIwkCRhGEiSMAwkSfQRBklWJHkwyZNJDib5RKtfkGRvkkPtdWmrJ8ntScaTHEhyede1Nrb2h5Js7Kq/P8njrc/tSXr9P5clSadJP98MjgOfqqr3AGuBzUlWAVuAB6pqGHigHQNcAwy3bRNwB3TCA9gKXAGsAbaeCJDWZlNXv9GTvzVJUr9mDYOqOlJVP2z7LwFPAsuA9cCO1mwHcF3bXw/cXR0PAUuSXAxcDeytqqNVdQzYC4y2c2+tqh9UVQF3d11LkrQA5vTMIMlK4DLgYeCiqjoCncAA3tGaLQOe7eo20Woz1Sd61CVJC6TvMEjyFuDrwCer6hczNe1Rq3nUe41hU5KxJGOTk5OzDVmS1Ke+wiDJOXSC4B+r6hut/Fyb4qG9Pt/qE8CKru7LgcOz1Jf3qL9BVW2rqpGqGhkaGupn6JKkPvSzmijAncCTVfW3Xad2ASdWBG0E7uuqb2iritYCL7ZppD3AuiRL24PjdcCedu6lJGvbe23oupYkaQEs7qPNB4A/AR5Psr/VPgvcCtyT5CbgJ8DH2rndwLXAOPAKcCNAVR1N8nlgX2v3uao62vY/DtwFnA/c3zZJ0gKZNQyq6vv0ntcHuKpH+wI2T3Ot7cD2HvUx4NLZxiJJOj38BbIkyTCQJBkGkiQMA0kShoEkCcNAkoRhIEnCMJAkYRhIkjAMJEkYBpIkDANJEoaBJAnDQJKEYSBJwjCQJGEYSJIwDCRJGAaSJAwDSRJ9hEGS7UmeT/JEV+2vkvw0yf62Xdt17jNJxpM8leTqrvpoq40n2dJVvyTJw0kOJflaknNP5Q1KkmbXzzeDu4DRHvXbqmp123YDJFkFXA+8t/X5cpJFSRYBXwKuAVYBN7S2AF9s1xoGjgE3ncwNSZLmbtYwqKrvAUf7vN56YGdVvVpVPwbGgTVtG6+qp6vqNWAnsD5JgCuBe1v/HcB1c7wHSdJJOplnBjcnOdCmkZa22jLg2a42E602Xf3twAtVdXxKXZK0gOYbBncA7wJWA0eAv2n19Ghb86j3lGRTkrEkY5OTk3MbsSRpWvMKg6p6rqper6pfAv9AZxoIOn/Zr+hquhw4PEP958CSJIun1Kd7321VNVJVI0NDQ/MZuiSph3mFQZKLuw4/ApxYabQLuD7JeUkuAYaBR4B9wHBbOXQunYfMu6qqgAeBj7b+G4H75jMmSdL8LZ6tQZJ/Bj4IXJhkAtgKfDDJajpTOs8AfwpQVQeT3AP8CDgObK6q19t1bgb2AIuA7VV1sL3Fp4GdSb4APAbcecruTpLUl1nDoKpu6FGe9h/sqroFuKVHfTewu0f9af5/mkmSNAD+AlmSZBhIkgwDSRKGgSQJw0CShGEgScIwkCRhGEiSMAwkSRgGkiQMA0kShoEkCcNAkoRhIEnCMJAkYRhIkjAMJEkYBpIkDANJEoaBJIk+wiDJ9iTPJ3miq3ZBkr1JDrXXpa2eJLcnGU9yIMnlXX02tvaHkmzsqr8/yeOtz+1JcqpvUpI0s36+GdwFjE6pbQEeqKph4IF2DHANMNy2TcAd0AkPYCtwBbAG2HoiQFqbTV39pr6XJOk0mzUMqup7wNEp5fXAjra/A7iuq353dTwELElyMXA1sLeqjlbVMWAvMNrOvbWqflBVBdzddS1J0gKZ7zODi6rqCEB7fUerLwOe7Wo30Woz1Sd61HtKsinJWJKxycnJeQ5dkjTVqX6A3Gu+v+ZR76mqtlXVSFWNDA0NzXOIkqSp5hsGz7UpHtrr860+AazoarccODxLfXmPuiRpAc03DHYBJ1YEbQTu66pvaKuK1gIvtmmkPcC6JEvbg+N1wJ527qUka9sqog1d15IkLZDFszVI8s/AB4ELk0zQWRV0K3BPkpuAnwAfa813A9cC48ArwI0AVXU0yeeBfa3d56rqxEPpj9NZsXQ+cH/bJEkLaNYwqKobpjl1VY+2BWye5jrbge096mPApbONQ5qvlVu+PeghnFbP3PrhQQ9BvwL8BbIkyTCQJBkGkiQMA0kShoEkCcNAkoRhIEnCMJAkYRhIkjAMJEkYBpIkDANJEoaBJAnDQJKEYSBJwjCQJGEYSJIwDCRJGAaSJE4yDJI8k+TxJPuTjLXaBUn2JjnUXpe2epLcnmQ8yYEkl3ddZ2NrfyjJxpO7JUnSXJ2KbwZ/VFWrq2qkHW8BHqiqYeCBdgxwDTDctk3AHdAJD2ArcAWwBth6IkAkSQvjdEwTrQd2tP0dwHVd9bur4yFgSZKLgauBvVV1tKqOAXuB0dMwLknSNE42DAr41ySPJtnUahdV1RGA9vqOVl8GPNvVd6LVpqtLkhbI4pPs/4GqOpzkHcDeJP8xQ9v0qNUM9TdeoBM4mwDe+c53znWskqRpnNQ3g6o63F6fB75JZ87/uTb9Q3t9vjWfAFZ0dV8OHJ6h3uv9tlXVSFWNDA0NnczQJUld5h0GSX4zyW+d2AfWAU8Au4ATK4I2Ave1/V3AhraqaC3wYptG2gOsS7K0PThe12qSpAVyMtNEFwHfTHLiOv9UVf+SZB9wT5KbgJ8AH2vtdwPXAuPAK8CNAFV1NMnngX2t3eeq6uhJjEuSNEfzDoOqehp4X4/6fwNX9agXsHmaa20Hts93LJJ+da3c8u1BD+G0eubWDw96CIC/QJYkYRhIkjAMJEkYBpIkDANJEoaBJAnDQJKEYSBJwjCQJGEYSJIwDCRJGAaSJAwDSRKGgSQJw0CShGEgScIwkCRhGEiSMAwkSRgGkiTOoDBIMprkqSTjSbYMejySdDY5I8IgySLgS8A1wCrghiSrBjsqSTp7nBFhAKwBxqvq6ap6DdgJrB/wmCTprLF40ANolgHPdh1PAFdMbZRkE7CpHb6c5KkFGNugXAj8fCHeKF9ciHc5qyzYZwd+fqfBr/rn99u9imdKGKRHrd5QqNoGbDv9wxm8JGNVNTLocWju/Oze3M7Wz+9MmSaaAFZ0HS8HDg9oLJJ01jlTwmAfMJzkkiTnAtcDuwY8Jkk6a5wR00RVdTzJzcAeYBGwvaoODnhYg3ZWTIf9ivKze3M7Kz+/VL1hal6SdJY5U6aJJEkDZBhIkgwDSZJhcEZI8u4kVyV5y5T66KDGpP4lWZPk99v+qiR/keTaQY9LmgsfIA9Ykj8HNgNPAquBT1TVfe3cD6vq8kGOTzNLspXOf1NrMbCXzi/nvwt8CNhTVbcMbnQ6GUlurKqvDHocC8UwGLAkjwN/UFUvJ1kJ3At8tar+LsljVXXZQAeoGbXPbzVwHvAzYHlV/SLJ+cDDVfV7Ax2g5i3JT6rqnYMex0I5I35ncJZbVFUvA1TVM0k+CNyb5Lfp/Z/p0JnleFW9DryS5D+r6hcAVfU/SX454LFpFkkOTHcKuGghxzJohsHg/SzJ6qraD9C+IfwxsB343cEOTX14LclvVNUrwPtPFJO8DTAMznwXAVcDx6bUA/zbwg9ncAyDwdsAHO8uVNVxYEOSvx/MkDQHf1hVrwJUVfc//ucAGwczJM3Bt4C3nPhjrFuS7y78cAbHZwaSJJeWSpIMA0kShoEkCcNAkoRhIEkC/g/eoZMMFQ+kSwAAAABJRU5ErkJggg==\n",
      "text/plain": [
       "<Figure size 432x288 with 1 Axes>"
      ]
     },
     "metadata": {
      "needs_background": "light"
     },
     "output_type": "display_data"
    },
    {
     "name": "stdout",
     "output_type": "stream",
     "text": [
      "Columns: REGION_RATING_CLIENT_W_CITY\n",
      "Unique values: 3\n"
     ]
    },
    {
     "data": {
      "image/png": "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\n",
      "text/plain": [
       "<Figure size 432x288 with 1 Axes>"
      ]
     },
     "metadata": {
      "needs_background": "light"
     },
     "output_type": "display_data"
    },
    {
     "name": "stdout",
     "output_type": "stream",
     "text": [
      "Columns: REG_REGION_NOT_LIVE_REGION\n",
      "Unique values: 2\n"
     ]
    },
    {
     "data": {
      "image/png": "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\n",
      "text/plain": [
       "<Figure size 432x288 with 1 Axes>"
      ]
     },
     "metadata": {
      "needs_background": "light"
     },
     "output_type": "display_data"
    },
    {
     "name": "stdout",
     "output_type": "stream",
     "text": [
      "Columns: REG_REGION_NOT_WORK_REGION\n",
      "Unique values: 2\n"
     ]
    },
    {
     "data": {
      "image/png": "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\n",
      "text/plain": [
       "<Figure size 432x288 with 1 Axes>"
      ]
     },
     "metadata": {
      "needs_background": "light"
     },
     "output_type": "display_data"
    },
    {
     "name": "stdout",
     "output_type": "stream",
     "text": [
      "Columns: LIVE_REGION_NOT_WORK_REGION\n",
      "Unique values: 2\n"
     ]
    },
    {
     "data": {
      "image/png": "iVBORw0KGgoAAAANSUhEUgAAAYMAAAD1CAYAAACyaJl6AAAABHNCSVQICAgIfAhkiAAAAAlwSFlzAAALEgAACxIB0t1+/AAAADh0RVh0U29mdHdhcmUAbWF0cGxvdGxpYiB2ZXJzaW9uMy4xLjAsIGh0dHA6Ly9tYXRwbG90bGliLm9yZy+17YcXAAAMh0lEQVR4nO3cf6jV933H8eerWrtAaU3rbcjU7gq5ozWF9YcYof+MZERtxswfDRjGIkEQioEWBqvZP2FtA8k/ywikBZlSU0atdINIaidiEsZYm3jTZMmMZN7ZNF4M9RZNllKazPS9P87H7XA913uu0XOu3ucDLvd839/POfdzwfDMOed7bqoKSdLC9oFhb0CSNHzGQJJkDCRJxkCShDGQJGEMJEnA4mFv4FItW7asRkdHh70NSbpqPP/887+qqpFe567aGIyOjjI+Pj7sbUjSVSPJL2Y658tEkiRjIEkyBpIkjIEkCWMgScIYSJIwBpIkjIEkiav4Q2dXg9EdPxr2Fq4prz10x7C3IF2zfGYgSTIGkiRjIEnCGEiSMAaSJIyBJAljIEnCGEiSMAaSJIyBJAljIEnCGEiSMAaSJIyBJAljIEnCGEiSMAaSJIyBJAljIEnCGEiSMAaSJIyBJAljIEnCGEiSMAaSJIyBJAljIEnCGEiSmEMMkixK8kKSJ9vxqiTPJjme5AdJlrT5h9rxRDs/2vUY97f5q0nWd803tNlEkh2X79eTJPVjLs8Mvgoc6zp+GHikqsaAs8DWNt8KnK2qm4BH2jqSrAY2AzcDG4Bvt8AsAh4DNgKrgbvbWknSgPQVgyQrgDuAv2/HAW4FftiW7AHubLc3tWPa+dva+k3A3qp6p6p+DkwAa9vXRFWdqKp3gb1trSRpQPp9ZvB3wF8Bv2vHHwferKpz7XgSWN5uLwdOArTzb7X1/zefdp+Z5pKkAZk1Bkn+FDhdVc93j3ssrVnOzXXeay/bkownGZ+amrrIriVJc9HPM4MvAn+W5DU6L+HcSueZwtIki9uaFcCpdnsSWAnQzn8UONM9n3afmeYXqKqdVbWmqtaMjIz0sXVJUj9mjUFV3V9VK6pqlM4bwE9V1Z8DTwNfbsu2AE+02/vbMe38U1VVbb65XW20ChgDngOOAGPt6qQl7Wfsvyy/nSSpL4tnXzKjrwN7k3wLeAHY1ea7gO8lmaDzjGAzQFUdTbIPeAU4B2yvqvcAktwHHAQWAbur6uj72JckaY7mFIOqegZ4pt0+QedKoOlrfgvcNcP9HwQe7DE/AByYy14kSZePn0CWJBkDSZIxkCRhDCRJGANJEsZAkoQxkCRhDCRJGANJEsZAkoQxkCRhDCRJGANJEsZAkoQxkCRhDCRJGANJEsZAkoQxkCRhDCRJGANJEsZAkoQxkCRhDCRJGANJEsZAkoQxkCRhDCRJGANJEsZAkoQxkCRhDCRJGANJEsZAkoQxkCTRRwyS/F6S55L8e5KjSf6mzVcleTbJ8SQ/SLKkzT/Ujifa+dGux7q/zV9Nsr5rvqHNJpLsuPy/piTpYvp5ZvAOcGtV/RHwWWBDknXAw8AjVTUGnAW2tvVbgbNVdRPwSFtHktXAZuBmYAPw7SSLkiwCHgM2AquBu9taSdKAzBqD6vh1O/xg+yrgVuCHbb4HuLPd3tSOaedvS5I231tV71TVz4EJYG37mqiqE1X1LrC3rZUkDUhf7xm0/4N/ETgNHAL+C3izqs61JZPA8nZ7OXASoJ1/C/h493zafWaaS5IGpK8YVNV7VfVZYAWd/5P/dK9l7XtmODfX+QWSbEsynmR8ampq9o1Lkvoyp6uJqupN4BlgHbA0yeJ2agVwqt2eBFYCtPMfBc50z6fdZ6Z5r5+/s6rWVNWakZGRuWxdknQR/VxNNJJkabt9HfAnwDHgaeDLbdkW4Il2e387pp1/qqqqzTe3q41WAWPAc8ARYKxdnbSEzpvM+y/HLydJ6s/i2ZdwI7CnXfXzAWBfVT2Z5BVgb5JvAS8Au9r6XcD3kkzQeUawGaCqjibZB7wCnAO2V9V7AEnuAw4Ci4DdVXX0sv2GkqRZzRqDqnoJ+FyP+Qk67x9Mn/8WuGuGx3oQeLDH/ABwoI/9SpKuAD+BLEkyBpIkYyBJwhhIkjAGkiSMgSQJYyBJwhhIkjAGkiSMgSQJYyBJwhhIkjAGkiSMgSQJYyBJwhhIkjAGkiSMgSQJYyBJwhhIkjAGkiSMgSQJYyBJwhhIkjAGkiSMgSQJYyBJwhhIkjAGkiSMgSQJYyBJwhhIkjAGkiSMgSQJYyBJoo8YJFmZ5Okkx5IcTfLVNv9YkkNJjrfv17d5kjyaZCLJS0k+3/VYW9r640m2dM2/kOTldp9Hk+RK/LKSpN76eWZwDvjLqvo0sA7YnmQ1sAM4XFVjwOF2DLARGGtf24DvQCcewAPALcBa4IHzAWlrtnXdb8P7/9UkSf2aNQZV9UZV/azdfhs4BiwHNgF72rI9wJ3t9ibg8er4KbA0yY3AeuBQVZ2pqrPAIWBDO/eRqvpJVRXweNdjSZIGYE7vGSQZBT4HPAvcUFVvQCcYwCfasuXAya67TbbZxeaTPea9fv62JONJxqempuaydUnSRfQdgyQfBv4R+FpV/ffFlvaY1SXMLxxW7ayqNVW1ZmRkZLYtS5L61FcMknyQTgj+oar+qY1/2V7ioX0/3eaTwMquu68ATs0yX9FjLkkakH6uJgqwCzhWVX/bdWo/cP6KoC3AE13ze9pVReuAt9rLSAeB25Nc3944vh042M69nWRd+1n3dD2WJGkAFvex5ovAXwAvJ3mxzf4aeAjYl2Qr8DpwVzt3APgSMAH8BrgXoKrOJPkmcKSt+0ZVnWm3vwJ8F7gO+HH7kiQNyKwxqKp/pffr+gC39VhfwPYZHms3sLvHfBz4zGx7kSRdGX4CWZJkDCRJxkCShDGQJGEMJEkYA0kSxkCShDGQJGEMJEkYA0kSxkCShDGQJGEMJEkYA0kSxkCShDGQJGEMJEkYA0kSxkCShDGQJGEMJEkYA0kSxkCShDGQJGEMJEkYA0kSxkCShDGQJGEMJEkYA0kSxkCShDGQJGEMJEkYA0kSfcQgye4kp5P8R9fsY0kOJTnevl/f5knyaJKJJC8l+XzXfba09ceTbOmafyHJy+0+jybJ5f4lJUkX188zg+8CG6bNdgCHq2oMONyOATYCY+1rG/Ad6MQDeAC4BVgLPHA+IG3Ntq77Tf9ZkqQrbNYYVNW/AGemjTcBe9rtPcCdXfPHq+OnwNIkNwLrgUNVdaaqzgKHgA3t3Eeq6idVVcDjXY8lSRqQS33P4IaqegOgff9Emy8HTnatm2yzi80ne8wlSQN0ud9A7vV6f13CvPeDJ9uSjCcZn5qausQtSpKmu9QY/LK9xEP7frrNJ4GVXetWAKdmma/oMe+pqnZW1ZqqWjMyMnKJW5ckTXepMdgPnL8iaAvwRNf8nnZV0TrgrfYy0kHg9iTXtzeObwcOtnNvJ1nXriK6p+uxJEkDsni2BUm+D/wxsCzJJJ2rgh4C9iXZCrwO3NWWHwC+BEwAvwHuBaiqM0m+CRxp675RVefflP4KnSuWrgN+3L4kSQM0awyq6u4ZTt3WY20B22d4nN3A7h7zceAzs+1DknTl+AlkSZIxkCQZA0kSxkCShDGQJGEMJEkYA0kSxkCShDGQJGEMJEkYA0kSxkCShDGQJGEMJEkYA0kSxkCShDGQJGEMJEkYA0kSxkCShDGQJGEMJEkYA0kSxkCShDGQJGEMJEkYA0kSxkCShDGQJAGLh70BScMxuuNHw97CNeW1h+4Y9hbeF58ZSJKMgSTJGEiSMAaSJIyBJIl5FIMkG5K8mmQiyY5h70eSFpJ5EYMki4DHgI3AauDuJKuHuytJWjjmRQyAtcBEVZ2oqneBvcCmIe9JkhaM+fKhs+XAya7jSeCW6YuSbAO2tcNfJ3l1AHtbCJYBvxr2JmaTh4e9Aw2J/z4vnz+Y6cR8iUF6zOqCQdVOYOeV387CkmS8qtYMex9SL/77HIz58jLRJLCy63gFcGpIe5GkBWe+xOAIMJZkVZIlwGZg/5D3JEkLxrx4maiqziW5DzgILAJ2V9XRIW9rIfGlN81n/vscgFRd8NK8JGmBmS8vE0mShsgYSJKMgSRpnryBrMFK8ik6n/BeTufzHKeA/VV1bKgbkzQ0PjNYYJJ8nc6f+wjwHJ3LegN83z8QqPksyb3D3sO1zKuJFpgk/wncXFX/M22+BDhaVWPD2Zl0cUler6pPDnsf1ypfJlp4fgf8PvCLafMb2zlpaJK8NNMp4IZB7mWhMQYLz9eAw0mO8/9/HPCTwE3AfUPbldRxA7AeODttHuDfBr+dhcMYLDBV9c9J/pDOnw1fTuc/skngSFW9N9TNSfAk8OGqenH6iSTPDH47C4fvGUiSvJpIkmQMJEkYA0kSxkCShDGQJAH/C9HnNv9OugdxAAAAAElFTkSuQmCC\n",
      "text/plain": [
       "<Figure size 432x288 with 1 Axes>"
      ]
     },
     "metadata": {
      "needs_background": "light"
     },
     "output_type": "display_data"
    },
    {
     "name": "stdout",
     "output_type": "stream",
     "text": [
      "Columns: REG_CITY_NOT_LIVE_CITY\n",
      "Unique values: 2\n"
     ]
    },
    {
     "data": {
      "image/png": "iVBORw0KGgoAAAANSUhEUgAAAYMAAAD1CAYAAACyaJl6AAAABHNCSVQICAgIfAhkiAAAAAlwSFlzAAALEgAACxIB0t1+/AAAADh0RVh0U29mdHdhcmUAbWF0cGxvdGxpYiB2ZXJzaW9uMy4xLjAsIGh0dHA6Ly9tYXRwbG90bGliLm9yZy+17YcXAAAMh0lEQVR4nO3df6jV933H8eerWrtAaU3rbcjU7gq5ozWF9YcYof+MZERtxswfDRjGIkEQioEWBqvZP2FtA8k/ywikBZlSU0atdINIaidiEsZYm3jTZMmMZN7ZNF4M9RZNllKazPS9P87H7XA913uu0XOu3ucDLvd839/POX4OGJ6ec773JlWFJGlh+8CwNyBJGj5jIEkyBpIkYyBJwhhIkjAGkiRg8bA3cKmWLVtWo6Ojw96GJF01nn/++V9V1Uivc1dtDEZHRxkfHx/2NiTpqpHkFzOd820iSZIxkCQZA0kSxkCShDGQJGEMJEkYA0kSxkCSxFX8Q2dXg9EdPxr2Fq4prz10x7C3IF2zfGUgSTIGkiRjIEnCGEiSMAaSJIyBJAljIEnCGEiSMAaSJIyBJAljIEnCGEiSMAaSJIyBJAljIEnCGEiSMAaSJIyBJIk5xCDJoiQvJHmyHa9K8myS40l+kGRJm3+oHU+086Ndj3F/m7+aZH3XfEObTSTZcfmeniSpH3N5ZfBV4FjX8cPAI1U1BpwFtrb5VuBsVd0EPNLWkWQ1sBm4GdgAfLsFZhHwGLARWA3c3dZKkgakrxgkWQHcAfx9Ow5wK/DDtmQPcGe7vakd087f1tZvAvZW1TtV9XNgAljbviaq6kRVvQvsbWslSQPS7yuDvwP+CvhdO/448GZVnWvHk8Dydns5cBKgnX+rrf+/+bT7zDSXJA3IrDFI8qfA6ap6vnvcY2nNcm6u81572ZZkPMn41NTURXYtSZqLfl4ZfBH4sySv0XkL51Y6rxSWJlnc1qwATrXbk8BKgHb+o8CZ7vm0+8w0v0BV7ayqNVW1ZmRkpI+tS5L6MWsMqur+qlpRVaN0PgB+qqr+HHga+HJbtgV4ot3e345p55+qqmrzze1qo1XAGPAccAQYa1cnLWl/xv7L8uwkSX1ZPPuSGX0d2JvkW8ALwK423wV8L8kEnVcEmwGq6miSfcArwDlge1W9B5DkPuAgsAjYXVVH38e+JElzNKcYVNUzwDPt9gk6VwJNX/Nb4K4Z7v8g8GCP+QHgwFz2Ikm6fPwJZEmSMZAkGQNJEsZAkoQxkCRhDCRJGANJEsZAkoQxkCRhDCRJGANJEsZAkoQxkCRhDCRJGANJEsZAkoQxkCRhDCRJGANJEsZAkoQxkCRhDCRJGANJEsZAkoQxkCRhDCRJGANJEsZAkoQxkCRhDCRJGANJEsZAkoQxkCRhDCRJGANJEsZAkoQxkCTRRwyS/F6S55L8e5KjSf6mzVcleTbJ8SQ/SLKkzT/Ujifa+dGux7q/zV9Nsr5rvqHNJpLsuPxPU5J0Mf28MngHuLWq/gj4LLAhyTrgYeCRqhoDzgJb2/qtwNmqugl4pK0jyWpgM3AzsAH4dpJFSRYBjwEbgdXA3W2tJGlAZo1Bdfy6HX6wfRVwK/DDNt8D3Nlub2rHtPO3JUmb762qd6rq58AEsLZ9TVTViap6F9jb1kqSBqSvzwzav+BfBE4Dh4D/At6sqnNtySSwvN1eDpwEaOffAj7ePZ92n5nmkqQB6SsGVfVeVX0WWEHnX/Kf7rWsfc8M5+Y6v0CSbUnGk4xPTU3NvnFJUl/mdDVRVb0JPAOsA5YmWdxOrQBOtduTwEqAdv6jwJnu+bT7zDTv9efvrKo1VbVmZGRkLluXJF1EP1cTjSRZ2m5fB/wJcAx4GvhyW7YFeKLd3t+Oaeefqqpq883taqNVwBjwHHAEGGtXJy2h8yHz/svx5CRJ/Vk8+xJuBPa0q34+AOyrqieTvALsTfIt4AVgV1u/C/hekgk6rwg2A1TV0ST7gFeAc8D2qnoPIMl9wEFgEbC7qo5etmcoSZrVrDGoqpeAz/WYn6Dz+cH0+W+Bu2Z4rAeBB3vMDwAH+tivJOkK8CeQJUnGQJJkDCRJGANJEsZAkoQxkCRhDCRJGANJEsZAkoQxkCRhDCRJGANJEsZAkoQxkCRhDCRJGANJEsZAkoQxkCRhDCRJGANJEsZAkoQxkCRhDCRJGANJEsZAkoQxkCRhDCRJGANJEsZAkoQxkCRhDCRJGANJEsZAkoQxkCRhDCRJGANJEsZAkkQfMUiyMsnTSY4lOZrkq23+sSSHkhxv369v8yR5NMlEkpeSfL7rsba09ceTbOmafyHJy+0+jybJlXiykqTe+nllcA74y6r6NLAO2J5kNbADOFxVY8DhdgywERhrX9uA70AnHsADwC3AWuCB8wFpa7Z13W/D+39qkqR+zRqDqnqjqn7Wbr8NHAOWA5uAPW3ZHuDOdnsT8Hh1/BRYmuRGYD1wqKrOVNVZ4BCwoZ37SFX9pKoKeLzrsSRJAzCnzwySjAKfA54FbqiqN6ATDOATbdly4GTX3Sbb7GLzyR5zSdKA9B2DJB8G/hH4WlX998WW9pjVJcx77WFbkvEk41NTU7NtWZLUp75ikOSDdELwD1X1T238y/YWD+376TafBFZ23X0FcGqW+Yoe8wtU1c6qWlNVa0ZGRvrZuiSpD/1cTRRgF3Csqv6269R+4PwVQVuAJ7rm97SritYBb7W3kQ4Ctye5vn1wfDtwsJ17O8m69mfd0/VYkqQBWNzHmi8CfwG8nOTFNvtr4CFgX5KtwOvAXe3cAeBLwATwG+BegKo6k+SbwJG27htVdabd/grwXeA64MftS5I0ILPGoKr+ld7v6wPc1mN9AdtneKzdwO4e83HgM7PtRZJ0ZfgTyJIkYyBJMgaSJIyBJAljIEnCGEiSMAaSJIyBJAljIEnCGEiSMAaSJIyBJAljIEnCGEiSMAaSJIyBJAljIEnCGEiSMAaSJIyBJAljIEnCGEiSMAaSJIyBJAljIEnCGEiSMAaSJIyBJAljIEnCGEiSMAaSJIyBJAljIEnCGEiSMAaSJIyBJAljIEmijxgk2Z3kdJL/6Jp9LMmhJMfb9+vbPEkeTTKR5KUkn++6z5a2/niSLV3zLyR5ud3n0SS53E9SknRx/bwy+C6wYdpsB3C4qsaAw+0YYCMw1r62Ad+BTjyAB4BbgLXAA+cD0tZs67rf9D9LknSFzRqDqvoX4My08SZgT7u9B7iza/54dfwUWJrkRmA9cKiqzlTVWeAQsKGd+0hV/aSqCni867EkSQNyqZ8Z3FBVbwC0759o8+XAya51k212sflkj7kkaYAu9wfIvd7vr0uY937wZFuS8STjU1NTl7hFSdJ0lxqDX7a3eGjfT7f5JLCya90K4NQs8xU95j1V1c6qWlNVa0ZGRi5x65Kk6S41BvuB81cEbQGe6Jrf064qWge81d5GOgjcnuT69sHx7cDBdu7tJOvaVUT3dD2WJGlAFs+2IMn3gT8GliWZpHNV0EPAviRbgdeBu9ryA8CXgAngN8C9AFV1Jsk3gSNt3Teq6vyH0l+hc8XSdcCP25ckaYBmjUFV3T3Dqdt6rC1g+wyPsxvY3WM+Dnxmtn1Ikq4cfwJZkmQMJEnGQJKEMZAkYQwkSRgDSRLGQJKEMZAkYQwkSRgDSRLGQJKEMZAkYQwkSRgDSRLGQJKEMZAkYQwkSRgDSRLGQJJEH/8PZEnXptEdPxr2Fq4prz10x7C38L74ykCSZAwkScZAkoQxkCRhDCRJGANJEsZAkoQxkCRhDCRJGANJEsZAkoQxkCRhDCRJGANJEsZAkoQxkCRhDCRJGANJEvMoBkk2JHk1yUSSHcPejyQtJPMiBkkWAY8BG4HVwN1JVg93V5K0cMyLGABrgYmqOlFV7wJ7gU1D3pMkLRiLh72BZjlwsut4Erhl+qIk24Bt7fDXSV4dwN4WgmXAr4a9idnk4WHvQEPi38/L5w9mOjFfYpAes7pgULUT2Hnlt7OwJBmvqjXD3ofUi38/B2O+vE00CazsOl4BnBrSXiRpwZkvMTgCjCVZlWQJsBnYP+Q9SdKCMS/eJqqqc0nuAw4Ci4DdVXV0yNtaSHzrTfOZfz8HIFUXvDUvSVpg5svbRJKkITIGkiRjIEmaJx8ga7CSfIrOT3gvp/PzHKeA/VV1bKgbkzQ0vjJYYJJ8nc6v+wjwHJ3LegN8318QqPksyb3D3sO1zKuJFpgk/wncXFX/M22+BDhaVWPD2Zl0cUler6pPDnsf1yrfJlp4fgf8PvCLafMb2zlpaJK8NNMp4IZB7mWhMQYLz9eAw0mO8/+/HPCTwE3AfUPbldRxA7AeODttHuDfBr+dhcMYLDBV9c9J/pDOrw1fTuc/skngSFW9N9TNSfAk8OGqenH6iSTPDH47C4efGUiSvJpIkmQMJEkYA0kSxkCShDGQJAH/Cz8UNv9gk5LPAAAAAElFTkSuQmCC\n",
      "text/plain": [
       "<Figure size 432x288 with 1 Axes>"
      ]
     },
     "metadata": {
      "needs_background": "light"
     },
     "output_type": "display_data"
    },
    {
     "name": "stdout",
     "output_type": "stream",
     "text": [
      "Columns: REG_CITY_NOT_WORK_CITY\n",
      "Unique values: 2\n"
     ]
    },
    {
     "data": {
      "image/png": "iVBORw0KGgoAAAANSUhEUgAAAYMAAAD1CAYAAACyaJl6AAAABHNCSVQICAgIfAhkiAAAAAlwSFlzAAALEgAACxIB0t1+/AAAADh0RVh0U29mdHdhcmUAbWF0cGxvdGxpYiB2ZXJzaW9uMy4xLjAsIGh0dHA6Ly9tYXRwbG90bGliLm9yZy+17YcXAAARdklEQVR4nO3dYYxdZZ3H8e9vW0CyrtsiA+m2ZUt0NlpILDhbmvjGBVMKvigmksALaQhJXVMSTcyG4hsUJIEXSkKCJDV0KRvXSlBDg8VugxhjVqCD1kJBtrOAMLaBcVsQQhYW/O+L+zTeDHdmbqftTGG+n+Tknvs/z3Puc5K2vznPee40VYUkaW77q9kegCRp9hkGkiTDQJJkGEiSMAwkSRgGkiRg/mwPYLpOP/30WrZs2WwPQ5LeUx5//PE/VtXA+Pp7NgyWLVvG8PDwbA9Dkt5Tkvy+V91pIkmSYSBJMgwkSRgGkiQMA0kShoEkCcNAkoRhIEniPfyls/eKZRt/MttDeN94/pbPzvYQpPct7wwkSYaBJMkwkCRhGEiS6CMMknwgyWNJfptkb5JvtPrdSZ5LsrttK1o9SW5PMpJkT5Lzu861Lsm+tq3rqn8yyROtz+1JcjwuVpLUWz+rid4ELqyq15OcBPwyyYPt2L9U1X3j2l8CDLbtAuBO4IIkpwE3AENAAY8n2VZVh1qb9cAjwHZgDfAgkqQZMeWdQXW83t6e1LaapMta4J7W7xFgQZJFwMXAzqo62AJgJ7CmHftQVf2qqgq4B7jsKK5JknSE+npmkGRekt3Ay3T+QX+0Hbq5TQXdluSUVlsMvNjVfbTVJquP9qhLkmZIX2FQVe9U1QpgCbAyybnA9cDHgH8ETgOua817zffXNOrvkmR9kuEkw2NjY/0MXZLUhyNaTVRVrwA/B9ZU1YE2FfQm8K/AytZsFFja1W0JsH+K+pIe9V6fv6mqhqpqaGDgXf+FpyRpmvpZTTSQZEHbPxX4DPC7NtdPW/lzGfBk67INuKqtKloFvFpVB4AdwOokC5MsBFYDO9qx15Ksaue6Crj/2F6mJGky/awmWgRsSTKPTnjcW1UPJPlZkgE60zy7gX9u7bcDlwIjwBvA1QBVdTDJTcCu1u7GqjrY9r8E3A2cSmcVkSuJJGkGTRkGVbUHOK9H/cIJ2hewYYJjm4HNPerDwLlTjUWSdHz4DWRJkmEgSTIMJEkYBpIkDANJEoaBJAnDQJKEYSBJwjCQJGEYSJIwDCRJGAaSJAwDSRKGgSQJw0CShGEgScIwkCRhGEiSMAwkSfQRBkk+kOSxJL9NsjfJN1r97CSPJtmX5AdJTm71U9r7kXZ8Wde5rm/1Z5Jc3FVf02ojSTYe+8uUJE2mnzuDN4ELq+oTwApgTZJVwK3AbVU1CBwCrmntrwEOVdVHgdtaO5IsB64AzgHWAN9JMi/JPOAO4BJgOXBlaytJmiFThkF1vN7entS2Ai4E7mv1LcBlbX9te087flGStPrWqnqzqp4DRoCVbRupqmer6i1ga2srSZohfT0zaD/B7wZeBnYC/w28UlVvtyajwOK2vxh4EaAdfxX4cHd9XJ+J6pKkGdJXGFTVO1W1AlhC5yf5j/dq1l4zwbEjrb9LkvVJhpMMj42NTT1wSVJfjmg1UVW9AvwcWAUsSDK/HVoC7G/7o8BSgHb8b4GD3fVxfSaq9/r8TVU1VFVDAwMDRzJ0SdIk+llNNJBkQds/FfgM8DTwMPD51mwdcH/b39be047/rKqq1a9oq43OBgaBx4BdwGBbnXQynYfM247FxUmS+jN/6iYsAra0VT9/BdxbVQ8keQrYmuSbwG+Au1r7u4B/SzJC547gCoCq2pvkXuAp4G1gQ1W9A5DkWmAHMA/YXFV7j9kVSpKmNGUYVNUe4Lwe9WfpPD8YX/9f4PIJznUzcHOP+nZgex/jlSQdB34DWZJkGEiSDANJEoaBJAnDQJKEYSBJwjCQJGEYSJIwDCRJGAaSJAwDSRKGgSQJw0CShGEgScIwkCRhGEiSMAwkSRgGkiQMA0kShoEkiT7CIMnSJA8neTrJ3iRfbvWvJ/lDkt1tu7Srz/VJRpI8k+TirvqaVhtJsrGrfnaSR5PsS/KDJCcf6wuVJE2snzuDt4GvVtXHgVXAhiTL27HbqmpF27YDtGNXAOcAa4DvJJmXZB5wB3AJsBy4sus8t7ZzDQKHgGuO0fVJkvowZRhU1YGq+nXbfw14Glg8SZe1wNaqerOqngNGgJVtG6mqZ6vqLWArsDZJgAuB+1r/LcBl070gSdKRO6JnBkmWAecBj7bStUn2JNmcZGGrLQZe7Oo22moT1T8MvFJVb4+r9/r89UmGkwyPjY0dydAlSZPoOwySfBD4IfCVqvoTcCfwEWAFcAD41uGmPbrXNOrvLlZtqqqhqhoaGBjod+iSpCnM76dRkpPoBMH3qupHAFX1Utfx7wIPtLejwNKu7kuA/W2/V/2PwIIk89vdQXd7SdIM6Gc1UYC7gKer6ttd9UVdzT4HPNn2twFXJDklydnAIPAYsAsYbCuHTqbzkHlbVRXwMPD51n8dcP/RXZYk6Uj0c2fwKeALwBNJdrfa1+isBlpBZ0rneeCLAFW1N8m9wFN0ViJtqKp3AJJcC+wA5gGbq2pvO991wNYk3wR+Qyd8JEkzZMowqKpf0ntef/skfW4Gbu5R396rX1U9S2e1kSRpFvgNZEmSYSBJMgwkSRgGkiQMA0kShoEkCcNAkoRhIEnCMJAkYRhIkjAMJEkYBpIkDANJEoaBJAnDQJKEYSBJwjCQJGEYSJIwDCRJ9BEGSZYmeTjJ00n2Jvlyq5+WZGeSfe11Yasnye1JRpLsSXJ+17nWtfb7kqzrqn8yyROtz+1Jev2fy5Kk46SfO4O3ga9W1ceBVcCGJMuBjcBDVTUIPNTeA1wCDLZtPXAndMIDuAG4AFgJ3HA4QFqb9V391hz9pUmS+jVlGFTVgar6ddt/DXgaWAysBba0ZluAy9r+WuCe6ngEWJBkEXAxsLOqDlbVIWAnsKYd+1BV/aqqCrin61ySpBlwRM8MkiwDzgMeBc6sqgPQCQzgjNZsMfBiV7fRVpusPtqjLkmaIX2HQZIPAj8EvlJVf5qsaY9aTaPeawzrkwwnGR4bG5tqyJKkPvUVBklOohME36uqH7XyS22Kh/b6cquPAku7ui8B9k9RX9Kj/i5VtamqhqpqaGBgoJ+hS5L60M9qogB3AU9X1be7Dm0DDq8IWgfc31W/qq0qWgW82qaRdgCrkyxsD45XAzvasdeSrGqfdVXXuSRJM2B+H20+BXwBeCLJ7lb7GnALcG+Sa4AXgMvbse3ApcAI8AZwNUBVHUxyE7Crtbuxqg62/S8BdwOnAg+2TZI0Q6YMg6r6Jb3n9QEu6tG+gA0TnGszsLlHfRg4d6qxSJKOD7+BLEkyDCRJhoEkCcNAkoRhIEnCMJAkYRhIkjAMJEkYBpIkDANJEoaBJAnDQJKEYSBJwjCQJGEYSJIwDCRJGAaSJAwDSRKGgSSJPsIgyeYkLyd5sqv29SR/SLK7bZd2Hbs+yUiSZ5Jc3FVf02ojSTZ21c9O8miSfUl+kOTkY3mBkqSp9XNncDewpkf9tqpa0bbtAEmWA1cA57Q+30kyL8k84A7gEmA5cGVrC3BrO9cgcAi45mguSJJ05KYMg6r6BXCwz/OtBbZW1ZtV9RwwAqxs20hVPVtVbwFbgbVJAlwI3Nf6bwEuO8JrkCQdpaN5ZnBtkj1tGmlhqy0GXuxqM9pqE9U/DLxSVW+Pq0uSZtB0w+BO4CPACuAA8K1WT4+2NY16T0nWJxlOMjw2NnZkI5YkTWhaYVBVL1XVO1X1Z+C7dKaBoPOT/dKupkuA/ZPU/wgsSDJ/XH2iz91UVUNVNTQwMDCdoUuSephWGCRZ1PX2c8DhlUbbgCuSnJLkbGAQeAzYBQy2lUMn03nIvK2qCngY+Hzrvw64fzpjkiRN3/ypGiT5PvBp4PQko8ANwKeTrKAzpfM88EWAqtqb5F7gKeBtYENVvdPOcy2wA5gHbK6qve0jrgO2Jvkm8BvgrmN2dZKkvkwZBlV1ZY/yhP9gV9XNwM096tuB7T3qz/KXaSZJ0izwG8iSJMNAkmQYSJIwDCRJGAaSJAwDSRJ9LC2V9P60bONPZnsI7yvP3/LZ2R7CUfHOQJJkGEiSDANJEoaBJAnDQJKEYSBJwjCQJGEYSJIwDCRJGAaSJAwDSRKGgSQJw0CSRB9hkGRzkpeTPNlVOy3JziT72uvCVk+S25OMJNmT5PyuPuta+31J1nXVP5nkidbn9iQ51hcpSZpcP3cGdwNrxtU2Ag9V1SDwUHsPcAkw2Lb1wJ3QCQ/gBuACYCVww+EAaW3Wd/Ub/1mSpONsyjCoql8AB8eV1wJb2v4W4LKu+j3V8QiwIMki4GJgZ1UdrKpDwE5gTTv2oar6VVUVcE/XuSRJM2S6zwzOrKoDAO31jFZfDLzY1W601Sarj/aoS5Jm0LF+gNxrvr+mUe998mR9kuEkw2NjY9McoiRpvOmGwUttiof2+nKrjwJLu9otAfZPUV/So95TVW2qqqGqGhoYGJjm0CVJ4003DLYBh1cErQPu76pf1VYVrQJebdNIO4DVSRa2B8ergR3t2GtJVrVVRFd1nUuSNEPmT9UgyfeBTwOnJxmlsyroFuDeJNcALwCXt+bbgUuBEeAN4GqAqjqY5CZgV2t3Y1Udfij9JTorlk4FHmybJGkGTRkGVXXlBIcu6tG2gA0TnGczsLlHfRg4d6pxSJKOH7+BLEkyDCRJhoEkCcNAkoRhIEnCMJAkYRhIkjAMJEkYBpIkDANJEoaBJAnDQJKEYSBJwjCQJGEYSJIwDCRJGAaSJAwDSRKGgSSJowyDJM8neSLJ7iTDrXZakp1J9rXXha2eJLcnGUmyJ8n5XedZ19rvS7Lu6C5JknSkjsWdwT9V1YqqGmrvNwIPVdUg8FB7D3AJMNi29cCd0AkP4AbgAmAlcMPhAJEkzYzjMU20FtjS9rcAl3XV76mOR4AFSRYBFwM7q+pgVR0CdgJrjsO4JEkTONowKOA/kjyeZH2rnVlVBwDa6xmtvhh4savvaKtNVJckzZD5R9n/U1W1P8kZwM4kv5ukbXrUapL6u0/QCZz1AGedddaRjlWSNIGjujOoqv3t9WXgx3Tm/F9q0z+015db81FgaVf3JcD+Seq9Pm9TVQ1V1dDAwMDRDF2S1GXaYZDkr5P8zeF9YDXwJLANOLwiaB1wf9vfBlzVVhWtAl5t00g7gNVJFrYHx6tbTZI0Q45mmuhM4MdJDp/n36vqp0l2AfcmuQZ4Abi8td8OXAqMAG8AVwNU1cEkNwG7Wrsbq+rgUYxLknSEph0GVfUs8Ike9f8BLupRL2DDBOfaDGye7lgkSUfHbyBLkgwDSZJhIEnCMJAkYRhIkjAMJEkYBpIkDANJEoaBJAnDQJKEYSBJwjCQJGEYSJIwDCRJGAaSJAwDSRKGgSQJw0CShGEgScIwkCRxAoVBkjVJnkkykmTjbI9HkuaSEyIMkswD7gAuAZYDVyZZPrujkqS544QIA2AlMFJVz1bVW8BWYO0sj0mS5oz5sz2AZjHwYtf7UeCC8Y2SrAfWt7evJ3lmBsY2F5wO/HG2BzGV3DrbI9As8c/nsfX3vYonShikR63eVajaBGw6/sOZW5IMV9XQbI9D6sU/nzPjRJkmGgWWdr1fAuyfpbFI0pxzooTBLmAwydlJTgauALbN8pgkac44IaaJqurtJNcCO4B5wOaq2jvLw5pLnHrTicw/nzMgVe+ampckzTEnyjSRJGkWGQaSJMNAknSCPEDWzEryMTrf8F5M5/sc+4FtVfX0rA5M0qzxzmCOSXIdnV/3EeAxOst6A3zfXxCoE1mSq2d7DO9nriaaY5L8F3BOVf3fuPrJwN6qGpydkUmTS/JCVZ012+N4v3KaaO75M/B3wO/H1Re1Y9KsSbJnokPAmTM5lrnGMJh7vgI8lGQff/nlgGcBHwWunbVRSR1nAhcDh8bVA/znzA9n7jAM5piq+mmSf6Dza8MX0/lLNgrsqqp3ZnVwEjwAfLCqdo8/kOTnMz+cucNnBpIkVxNJkgwDSRKGgSQJw0CShGEgSQL+HxQrQInPAVQlAAAAAElFTkSuQmCC\n",
      "text/plain": [
       "<Figure size 432x288 with 1 Axes>"
      ]
     },
     "metadata": {
      "needs_background": "light"
     },
     "output_type": "display_data"
    },
    {
     "name": "stdout",
     "output_type": "stream",
     "text": [
      "Columns: LIVE_CITY_NOT_WORK_CITY\n",
      "Unique values: 2\n"
     ]
    },
    {
     "data": {
      "image/png": "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\n",
      "text/plain": [
       "<Figure size 432x288 with 1 Axes>"
      ]
     },
     "metadata": {
      "needs_background": "light"
     },
     "output_type": "display_data"
    },
    {
     "name": "stdout",
     "output_type": "stream",
     "text": [
      "Columns: DEF_30_CNT_SOCIAL_CIRCLE\n",
      "Unique values: 8\n"
     ]
    },
    {
     "data": {
      "image/png": "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\n",
      "text/plain": [
       "<Figure size 432x288 with 1 Axes>"
      ]
     },
     "metadata": {
      "needs_background": "light"
     },
     "output_type": "display_data"
    },
    {
     "name": "stdout",
     "output_type": "stream",
     "text": [
      "Columns: DEF_60_CNT_SOCIAL_CIRCLE\n",
      "Unique values: 7\n"
     ]
    },
    {
     "data": {
      "image/png": "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\n",
      "text/plain": [
       "<Figure size 432x288 with 1 Axes>"
      ]
     },
     "metadata": {
      "needs_background": "light"
     },
     "output_type": "display_data"
    },
    {
     "name": "stdout",
     "output_type": "stream",
     "text": [
      "Columns: FLAG_DOCUMENT_3\n",
      "Unique values: 2\n"
     ]
    },
    {
     "data": {
      "image/png": "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\n",
      "text/plain": [
       "<Figure size 432x288 with 1 Axes>"
      ]
     },
     "metadata": {
      "needs_background": "light"
     },
     "output_type": "display_data"
    },
    {
     "name": "stdout",
     "output_type": "stream",
     "text": [
      "Columns: FLAG_DOCUMENT_5\n",
      "Unique values: 2\n"
     ]
    },
    {
     "data": {
      "image/png": "iVBORw0KGgoAAAANSUhEUgAAAYMAAAD1CAYAAACyaJl6AAAABHNCSVQICAgIfAhkiAAAAAlwSFlzAAALEgAACxIB0t1+/AAAADh0RVh0U29mdHdhcmUAbWF0cGxvdGxpYiB2ZXJzaW9uMy4xLjAsIGh0dHA6Ly9tYXRwbG90bGliLm9yZy+17YcXAAAOJElEQVR4nO3df6jd9X3H8eerSe1knU2s1+CSuAjescbCrF404D+bjhh1LP5RITKWIIELotDCYI37R6YV9J+5CVYINZiUral0KwYbm4aojDF/5DqdNmYud9bqJWJSEp2lVKd974/zyXZ2PTf33JicE73PBxzO9/v+fL7f+z5w5ZXv9/s511QVkqT57TPDbkCSNHyGgSTJMJAkGQaSJAwDSRKGgSQJWDjsBk7UOeecUytWrBh2G5L0ifHcc8/9vKpGeo19YsNgxYoVTExMDLsNSfrESPKzmcb6uk2U5LUkLyV5IclEq52dZHeSA+19casnyX1JJpO8mOSSrvNsaPMPJNnQVb+0nX+yHZsT/7iSpLmayzODP6yqi6tqrO1vAvZU1Siwp+0DXAOMttc48AB0wgO4HbgcuAy4/ViAtDnjXcetOeFPJEmas4/zAHktsLVtbwWu76pvq46ngUVJzgOuBnZX1ZGqOgrsBta0sbOq6qnq/G2MbV3nkiQNQL9hUMCPkzyXZLzVllTVmwDt/dxWXwq80XXsVKsdrz7Voy5JGpB+HyBfUVUHk5wL7E7y78eZ2+t+f51A/aMn7gTROMD5559//I4lSX3r68qgqg6290PAD+jc83+r3eKhvR9q06eA5V2HLwMOzlJf1qPeq4/NVTVWVWMjIz1XR0mSTsCsYZDkN5P81rFtYDXwE2AHcGxF0Abgkba9A1jfVhWtAt5pt5F2AauTLG4PjlcDu9rYu0lWtVVE67vOJUkagH5uEy0BftBWey4E/r6qfpRkL/Bwko3A68ANbf5O4FpgEvglcBNAVR1Jciewt827o6qOtO2bgYeAM4HH2kuSNCD5pP7PbcbGxup0/9LZik0/HHYLnyqv3X3dsFuQPtGSPNf19YD/x79NJEkyDCRJhoEkCcNAkoRhIEnCMJAkYRhIkjAMJEkYBpIkDANJEoaBJAnDQJKEYSBJwjCQJGEYSJIwDCRJGAaSJAwDSRKGgSQJw0CShGEgScIwkCRhGEiSMAwkSRgGkiQMA0kShoEkCcNAkoRhIEnCMJAkYRhIkjAMJEkYBpIk5hAGSRYkeT7Jo23/giTPJDmQ5HtJzmj1z7X9yTa+ousct7X6K0mu7qqvabXJJJtO3seTJPVjLlcGXwP2d+3fA9xbVaPAUWBjq28EjlbVhcC9bR5JVgLrgIuANcC3WsAsAO4HrgFWAje2uZKkAekrDJIsA64Dvt32A1wJfL9N2Qpc37bXtn3a+FVt/lpge1W9V1U/BSaBy9prsqperar3ge1triRpQPq9Mvgb4C+AX7f9LwJvV9UHbX8KWNq2lwJvALTxd9r8/61PO2amuiRpQGYNgyR/DByqque6yz2m1ixjc6336mU8yUSSicOHDx+na0nSXPRzZXAF8CdJXqNzC+dKOlcKi5IsbHOWAQfb9hSwHKCNfwE40l2fdsxM9Y+oqs1VNVZVYyMjI320Lknqx6xhUFW3VdWyqlpB5wHw41X1p8ATwFfbtA3AI217R9unjT9eVdXq69pqowuAUeBZYC8w2lYnndF+xo6T8ukkSX1ZOPuUGX0D2J7km8DzwIOt/iDwnSSTdK4I1gFU1b4kDwMvAx8At1TVhwBJbgV2AQuALVW172P0JUmaozmFQVU9CTzZtl+lsxJo+pxfATfMcPxdwF096juBnXPpRZJ08vgNZEmSYSBJMgwkSRgGkiQMA0kShoEkCcNAkoRhIEnCMJAkYRhIkjAMJEkYBpIkDANJEoaBJAnDQJKEYSBJwjCQJGEYSJIwDCRJGAaSJAwDSRKGgSQJw0CShGEgScIwkCRhGEiSMAwkSRgGkiQMA0kShoEkCcNAkoRhIEnCMJAkYRhIkugjDJL8RpJnk/xbkn1J/qrVL0jyTJIDSb6X5IxW/1zbn2zjK7rOdVurv5Lk6q76mlabTLLp5H9MSdLx9HNl8B5wZVX9PnAxsCbJKuAe4N6qGgWOAhvb/I3A0aq6ELi3zSPJSmAdcBGwBvhWkgVJFgD3A9cAK4Eb21xJ0oDMGgbV8Yu2+9n2KuBK4PutvhW4vm2vbfu08auSpNW3V9V7VfVTYBK4rL0mq+rVqnof2N7mSpIGpK9nBu1f8C8Ah4DdwH8Cb1fVB23KFLC0bS8F3gBo4+8AX+yuTztmpnqvPsaTTCSZOHz4cD+tS5L60FcYVNWHVXUxsIzOv+S/1Gtae88MY3Ot9+pjc1WNVdXYyMjI7I1Lkvoyp9VEVfU28CSwCliUZGEbWgYcbNtTwHKANv4F4Eh3fdoxM9UlSQPSz2qikSSL2vaZwB8B+4EngK+2aRuAR9r2jrZPG3+8qqrV17XVRhcAo8CzwF5gtK1OOoPOQ+YdJ+PDSZL6s3D2KZwHbG2rfj4DPFxVjyZ5Gdie5JvA88CDbf6DwHeSTNK5IlgHUFX7kjwMvAx8ANxSVR8CJLkV2AUsALZU1b6T9gklSbOaNQyq6kXgKz3qr9J5fjC9/ivghhnOdRdwV4/6TmBnH/1Kkk4Bv4EsSTIMJEmGgSQJw0CShGEgScIwkCRhGEiSMAwkSRgGkiQMA0kShoEkCcNAkoRhIEnCMJAkYRhIkjAMJEkYBpIkDANJEoaBJAnDQJKEYSBJwjCQJGEYSJIwDCRJGAaSJAwDSRKGgSQJw0CShGEgScIwkCRhGEiSMAwkSRgGkiT6CIMky5M8kWR/kn1JvtbqZyfZneRAe1/c6klyX5LJJC8muaTrXBva/ANJNnTVL03yUjvmviQ5FR9WktRbP1cGHwB/XlVfAlYBtyRZCWwC9lTVKLCn7QNcA4y21zjwAHTCA7gduBy4DLj9WIC0OeNdx635+B9NktSvWcOgqt6sqn9t2+8C+4GlwFpga5u2Fbi+ba8FtlXH08CiJOcBVwO7q+pIVR0FdgNr2thZVfVUVRWwretckqQBmNMzgyQrgK8AzwBLqupN6AQGcG6bthR4o+uwqVY7Xn2qR12SNCB9h0GSzwP/AHy9qv7reFN71OoE6r16GE8ykWTi8OHDs7UsSepTX2GQ5LN0guDvquofW/mtdouH9n6o1aeA5V2HLwMOzlJf1qP+EVW1uarGqmpsZGSkn9YlSX3oZzVRgAeB/VX1111DO4BjK4I2AI901de3VUWrgHfabaRdwOoki9uD49XArjb2bpJV7Wet7zqXJGkAFvYx5wrgz4CXkrzQan8J3A08nGQj8DpwQxvbCVwLTAK/BG4CqKojSe4E9rZ5d1TVkbZ9M/AQcCbwWHtJkgZk1jCoqn+m9319gKt6zC/glhnOtQXY0qM+AXx5tl4kSaeG30CWJBkGkiTDQJKEYSBJwjCQJGEYSJIwDCRJGAaSJAwDSRKGgSQJw0CShGEgScIwkCRhGEiSMAwkSRgGkiQMA0kShoEkCcNAkoRhIEnCMJAkYRhIkjAMJEkYBpIkDANJEoaBJAnDQJKEYSBJwjCQJGEYSJIwDCRJGAaSJAwDSRJ9hEGSLUkOJflJV+3sJLuTHGjvi1s9Se5LMpnkxSSXdB2zoc0/kGRDV/3SJC+1Y+5LkpP9ISVJx9fPlcFDwJpptU3AnqoaBfa0fYBrgNH2GgcegE54ALcDlwOXAbcfC5A2Z7zruOk/S5J0is0aBlX1T8CRaeW1wNa2vRW4vqu+rTqeBhYlOQ+4GthdVUeq6iiwG1jTxs6qqqeqqoBtXeeSJA3IiT4zWFJVbwK093NbfSnwRte8qVY7Xn2qR12SNEAn+wFyr/v9dQL13idPxpNMJJk4fPjwCbYoSZruRMPgrXaLh/Z+qNWngOVd85YBB2epL+tR76mqNlfVWFWNjYyMnGDrkqTpTjQMdgDHVgRtAB7pqq9vq4pWAe+020i7gNVJFrcHx6uBXW3s3SSr2iqi9V3nkiQNyMLZJiT5LvAHwDlJpuisCrobeDjJRuB14IY2fSdwLTAJ/BK4CaCqjiS5E9jb5t1RVcceSt9MZ8XSmcBj7SVJGqBZw6Cqbpxh6Koecwu4ZYbzbAG29KhPAF+erQ9J0qnjN5AlSYaBJMkwkCRhGEiSMAwkSRgGkiQMA0kShoEkCcNAkoRhIEnCMJAkYRhIkjAMJEkYBpIkDANJEoaBJAnDQJKEYSBJwjCQJGEYSJIwDCRJGAaSJAwDSRKGgSQJw0CShGEgScIwkCRhGEiSMAwkSRgGkiQMA0kShoEkCcNAkoRhIEkCFg67gWOSrAH+FlgAfLuq7h5yS9Kn2opNPxx2C58qr9193bBb+FhOiyuDJAuA+4FrgJXAjUlWDrcrSZo/ToswAC4DJqvq1ap6H9gOrB1yT5I0b5wut4mWAm907U8Bl0+flGQcGG+7v0jyygB6mw/OAX4+7CZmk3uG3YGGxN/Pk+d3Zho4XcIgPWr1kULVZmDzqW9nfkkyUVVjw+5D6sXfz8E4XW4TTQHLu/aXAQeH1IskzTunSxjsBUaTXJDkDGAdsGPIPUnSvHFa3Caqqg+S3ArsorO0dEtV7RtyW/OJt950OvP3cwBS9ZFb85KkeeZ0uU0kSRoiw0CSZBhIkk6TB8garCS/R+cb3kvpfJ/jILCjqvYPtTFJQ+OVwTyT5Bt0/txHgGfpLOsN8N0km4bZm3Q8SW4adg+fZq4mmmeS/AdwUVX997T6GcC+qhodTmfS8SV5varOH3Yfn1beJpp/fg38NvCzafXz2pg0NElenGkIWDLIXuYbw2D++TqwJ8kB/u+PA54PXAjcOrSupI4lwNXA0Wn1AP8y+HbmD8NgnqmqHyX5XTp/Nnwpnf/IpoC9VfXhUJuT4FHg81X1wvSBJE8Ovp35w2cGkiRXE0mSDANJEoaBJAnDQJKEYSBJAv4HJ9zfc1K2dqwAAAAASUVORK5CYII=\n",
      "text/plain": [
       "<Figure size 432x288 with 1 Axes>"
      ]
     },
     "metadata": {
      "needs_background": "light"
     },
     "output_type": "display_data"
    },
    {
     "name": "stdout",
     "output_type": "stream",
     "text": [
      "Columns: FLAG_DOCUMENT_6\n",
      "Unique values: 2\n"
     ]
    },
    {
     "data": {
      "image/png": "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\n",
      "text/plain": [
       "<Figure size 432x288 with 1 Axes>"
      ]
     },
     "metadata": {
      "needs_background": "light"
     },
     "output_type": "display_data"
    },
    {
     "name": "stdout",
     "output_type": "stream",
     "text": [
      "Columns: FLAG_DOCUMENT_8\n",
      "Unique values: 2\n"
     ]
    },
    {
     "data": {
      "image/png": "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\n",
      "text/plain": [
       "<Figure size 432x288 with 1 Axes>"
      ]
     },
     "metadata": {
      "needs_background": "light"
     },
     "output_type": "display_data"
    },
    {
     "name": "stdout",
     "output_type": "stream",
     "text": [
      "Columns: AMT_REQ_CREDIT_BUREAU_HOUR\n",
      "Unique values: 5\n"
     ]
    },
    {
     "data": {
      "image/png": "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\n",
      "text/plain": [
       "<Figure size 432x288 with 1 Axes>"
      ]
     },
     "metadata": {
      "needs_background": "light"
     },
     "output_type": "display_data"
    },
    {
     "name": "stdout",
     "output_type": "stream",
     "text": [
      "Columns: AMT_REQ_CREDIT_BUREAU_DAY\n",
      "Unique values: 8\n"
     ]
    },
    {
     "data": {
      "image/png": "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\n",
      "text/plain": [
       "<Figure size 432x288 with 1 Axes>"
      ]
     },
     "metadata": {
      "needs_background": "light"
     },
     "output_type": "display_data"
    },
    {
     "name": "stdout",
     "output_type": "stream",
     "text": [
      "Columns: AMT_REQ_CREDIT_BUREAU_WEEK\n",
      "Unique values: 9\n"
     ]
    },
    {
     "data": {
      "image/png": "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\n",
      "text/plain": [
       "<Figure size 432x288 with 1 Axes>"
      ]
     },
     "metadata": {
      "needs_background": "light"
     },
     "output_type": "display_data"
    },
    {
     "name": "stdout",
     "output_type": "stream",
     "text": [
      "Columns: AMT_REQ_CREDIT_BUREAU_MON\n",
      "Unique values: 19\n"
     ]
    },
    {
     "data": {
      "image/png": "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\n",
      "text/plain": [
       "<Figure size 432x288 with 1 Axes>"
      ]
     },
     "metadata": {
      "needs_background": "light"
     },
     "output_type": "display_data"
    },
    {
     "name": "stdout",
     "output_type": "stream",
     "text": [
      "Columns: AMT_REQ_CREDIT_BUREAU_QRT\n",
      "Unique values: 10\n"
     ]
    },
    {
     "data": {
      "image/png": "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\n",
      "text/plain": [
       "<Figure size 432x288 with 1 Axes>"
      ]
     },
     "metadata": {
      "needs_background": "light"
     },
     "output_type": "display_data"
    }
   ],
   "source": [
    "for column in numeric_columns:\n",
    "    if len(data_under[column].unique()) < 21:\n",
    "        print(f'Columns: {column}')\n",
    "        print(f'Unique values: {len(data_under[column].unique())}')\n",
    "        data_under[column].value_counts().plot.bar()\n",
    "        plt.show()"
   ]
  },
  {
   "cell_type": "markdown",
   "metadata": {},
   "source": [
    "#### I add an extra column with the income per capita in family, I simply divide the values in 'AMT_INCOME_TOTAL' column by the values in 'CNT_FAM_MEMBERS' column"
   ]
  },
  {
   "cell_type": "code",
   "execution_count": 13,
   "metadata": {},
   "outputs": [],
   "source": [
    "income_per_capita = []\n",
    "for x in range(len(data_under)):\n",
    "    income_per_capita.append(data_under['AMT_INCOME_TOTAL'][x] / (data_under['CNT_FAM_MEMBERS'][x]))\n",
    "\n",
    "data_under['INCOME_PER_CAPITA'] = income_per_capita"
   ]
  },
  {
   "cell_type": "markdown",
   "metadata": {},
   "source": [
    "#### To increase the randomness, I will shuffle this data before dividing it into a training and test sample"
   ]
  },
  {
   "cell_type": "code",
   "execution_count": 11,
   "metadata": {},
   "outputs": [
    {
     "data": {
      "text/html": [
       "<div>\n",
       "<style scoped>\n",
       "    .dataframe tbody tr th:only-of-type {\n",
       "        vertical-align: middle;\n",
       "    }\n",
       "\n",
       "    .dataframe tbody tr th {\n",
       "        vertical-align: top;\n",
       "    }\n",
       "\n",
       "    .dataframe thead th {\n",
       "        text-align: right;\n",
       "    }\n",
       "</style>\n",
       "<table border=\"1\" class=\"dataframe\">\n",
       "  <thead>\n",
       "    <tr style=\"text-align: right;\">\n",
       "      <th></th>\n",
       "      <th>TARGET</th>\n",
       "      <th>NAME_CONTRACT_TYPE</th>\n",
       "      <th>CODE_GENDER</th>\n",
       "      <th>FLAG_OWN_CAR</th>\n",
       "      <th>FLAG_OWN_REALTY</th>\n",
       "      <th>CNT_CHILDREN</th>\n",
       "      <th>AMT_INCOME_TOTAL</th>\n",
       "      <th>AMT_CREDIT</th>\n",
       "      <th>AMT_ANNUITY</th>\n",
       "      <th>AMT_GOODS_PRICE</th>\n",
       "      <th>...</th>\n",
       "      <th>FLAG_DOCUMENT_18</th>\n",
       "      <th>FLAG_DOCUMENT_19</th>\n",
       "      <th>FLAG_DOCUMENT_20</th>\n",
       "      <th>FLAG_DOCUMENT_21</th>\n",
       "      <th>AMT_REQ_CREDIT_BUREAU_HOUR</th>\n",
       "      <th>AMT_REQ_CREDIT_BUREAU_DAY</th>\n",
       "      <th>AMT_REQ_CREDIT_BUREAU_WEEK</th>\n",
       "      <th>AMT_REQ_CREDIT_BUREAU_MON</th>\n",
       "      <th>AMT_REQ_CREDIT_BUREAU_QRT</th>\n",
       "      <th>AMT_REQ_CREDIT_BUREAU_YEAR</th>\n",
       "    </tr>\n",
       "  </thead>\n",
       "  <tbody>\n",
       "    <tr>\n",
       "      <th>0</th>\n",
       "      <td>1</td>\n",
       "      <td>Cash loans</td>\n",
       "      <td>F</td>\n",
       "      <td>N</td>\n",
       "      <td>N</td>\n",
       "      <td>0</td>\n",
       "      <td>112500.0</td>\n",
       "      <td>900000.0</td>\n",
       "      <td>26316.0</td>\n",
       "      <td>900000.0</td>\n",
       "      <td>...</td>\n",
       "      <td>0</td>\n",
       "      <td>0</td>\n",
       "      <td>0</td>\n",
       "      <td>0</td>\n",
       "      <td>0.0</td>\n",
       "      <td>0.0</td>\n",
       "      <td>0.0</td>\n",
       "      <td>3.0</td>\n",
       "      <td>0.0</td>\n",
       "      <td>5.0</td>\n",
       "    </tr>\n",
       "    <tr>\n",
       "      <th>1</th>\n",
       "      <td>1</td>\n",
       "      <td>Cash loans</td>\n",
       "      <td>F</td>\n",
       "      <td>N</td>\n",
       "      <td>N</td>\n",
       "      <td>1</td>\n",
       "      <td>90000.0</td>\n",
       "      <td>521280.0</td>\n",
       "      <td>26613.0</td>\n",
       "      <td>450000.0</td>\n",
       "      <td>...</td>\n",
       "      <td>0</td>\n",
       "      <td>0</td>\n",
       "      <td>0</td>\n",
       "      <td>0</td>\n",
       "      <td>0.0</td>\n",
       "      <td>0.0</td>\n",
       "      <td>0.0</td>\n",
       "      <td>0.0</td>\n",
       "      <td>0.0</td>\n",
       "      <td>4.0</td>\n",
       "    </tr>\n",
       "    <tr>\n",
       "      <th>2</th>\n",
       "      <td>0</td>\n",
       "      <td>Cash loans</td>\n",
       "      <td>M</td>\n",
       "      <td>N</td>\n",
       "      <td>N</td>\n",
       "      <td>2</td>\n",
       "      <td>135000.0</td>\n",
       "      <td>675000.0</td>\n",
       "      <td>32602.5</td>\n",
       "      <td>675000.0</td>\n",
       "      <td>...</td>\n",
       "      <td>0</td>\n",
       "      <td>0</td>\n",
       "      <td>0</td>\n",
       "      <td>0</td>\n",
       "      <td>NaN</td>\n",
       "      <td>NaN</td>\n",
       "      <td>NaN</td>\n",
       "      <td>NaN</td>\n",
       "      <td>NaN</td>\n",
       "      <td>NaN</td>\n",
       "    </tr>\n",
       "    <tr>\n",
       "      <th>3</th>\n",
       "      <td>0</td>\n",
       "      <td>Revolving loans</td>\n",
       "      <td>F</td>\n",
       "      <td>N</td>\n",
       "      <td>Y</td>\n",
       "      <td>0</td>\n",
       "      <td>103500.0</td>\n",
       "      <td>180000.0</td>\n",
       "      <td>9000.0</td>\n",
       "      <td>180000.0</td>\n",
       "      <td>...</td>\n",
       "      <td>0</td>\n",
       "      <td>0</td>\n",
       "      <td>0</td>\n",
       "      <td>0</td>\n",
       "      <td>0.0</td>\n",
       "      <td>0.0</td>\n",
       "      <td>0.0</td>\n",
       "      <td>0.0</td>\n",
       "      <td>0.0</td>\n",
       "      <td>0.0</td>\n",
       "    </tr>\n",
       "    <tr>\n",
       "      <th>4</th>\n",
       "      <td>0</td>\n",
       "      <td>Cash loans</td>\n",
       "      <td>M</td>\n",
       "      <td>Y</td>\n",
       "      <td>Y</td>\n",
       "      <td>2</td>\n",
       "      <td>180000.0</td>\n",
       "      <td>473760.0</td>\n",
       "      <td>49878.0</td>\n",
       "      <td>450000.0</td>\n",
       "      <td>...</td>\n",
       "      <td>0</td>\n",
       "      <td>0</td>\n",
       "      <td>0</td>\n",
       "      <td>0</td>\n",
       "      <td>0.0</td>\n",
       "      <td>0.0</td>\n",
       "      <td>0.0</td>\n",
       "      <td>0.0</td>\n",
       "      <td>0.0</td>\n",
       "      <td>0.0</td>\n",
       "    </tr>\n",
       "    <tr>\n",
       "      <th>...</th>\n",
       "      <td>...</td>\n",
       "      <td>...</td>\n",
       "      <td>...</td>\n",
       "      <td>...</td>\n",
       "      <td>...</td>\n",
       "      <td>...</td>\n",
       "      <td>...</td>\n",
       "      <td>...</td>\n",
       "      <td>...</td>\n",
       "      <td>...</td>\n",
       "      <td>...</td>\n",
       "      <td>...</td>\n",
       "      <td>...</td>\n",
       "      <td>...</td>\n",
       "      <td>...</td>\n",
       "      <td>...</td>\n",
       "      <td>...</td>\n",
       "      <td>...</td>\n",
       "      <td>...</td>\n",
       "      <td>...</td>\n",
       "      <td>...</td>\n",
       "    </tr>\n",
       "    <tr>\n",
       "      <th>49645</th>\n",
       "      <td>0</td>\n",
       "      <td>Cash loans</td>\n",
       "      <td>F</td>\n",
       "      <td>N</td>\n",
       "      <td>N</td>\n",
       "      <td>0</td>\n",
       "      <td>67500.0</td>\n",
       "      <td>448056.0</td>\n",
       "      <td>17019.0</td>\n",
       "      <td>315000.0</td>\n",
       "      <td>...</td>\n",
       "      <td>0</td>\n",
       "      <td>0</td>\n",
       "      <td>0</td>\n",
       "      <td>0</td>\n",
       "      <td>0.0</td>\n",
       "      <td>0.0</td>\n",
       "      <td>0.0</td>\n",
       "      <td>1.0</td>\n",
       "      <td>0.0</td>\n",
       "      <td>0.0</td>\n",
       "    </tr>\n",
       "    <tr>\n",
       "      <th>49646</th>\n",
       "      <td>0</td>\n",
       "      <td>Cash loans</td>\n",
       "      <td>F</td>\n",
       "      <td>N</td>\n",
       "      <td>Y</td>\n",
       "      <td>0</td>\n",
       "      <td>72000.0</td>\n",
       "      <td>104256.0</td>\n",
       "      <td>11074.5</td>\n",
       "      <td>90000.0</td>\n",
       "      <td>...</td>\n",
       "      <td>0</td>\n",
       "      <td>0</td>\n",
       "      <td>0</td>\n",
       "      <td>0</td>\n",
       "      <td>NaN</td>\n",
       "      <td>NaN</td>\n",
       "      <td>NaN</td>\n",
       "      <td>NaN</td>\n",
       "      <td>NaN</td>\n",
       "      <td>NaN</td>\n",
       "    </tr>\n",
       "    <tr>\n",
       "      <th>49647</th>\n",
       "      <td>0</td>\n",
       "      <td>Cash loans</td>\n",
       "      <td>M</td>\n",
       "      <td>N</td>\n",
       "      <td>Y</td>\n",
       "      <td>0</td>\n",
       "      <td>180000.0</td>\n",
       "      <td>593010.0</td>\n",
       "      <td>23107.5</td>\n",
       "      <td>495000.0</td>\n",
       "      <td>...</td>\n",
       "      <td>0</td>\n",
       "      <td>0</td>\n",
       "      <td>0</td>\n",
       "      <td>0</td>\n",
       "      <td>0.0</td>\n",
       "      <td>0.0</td>\n",
       "      <td>0.0</td>\n",
       "      <td>0.0</td>\n",
       "      <td>0.0</td>\n",
       "      <td>1.0</td>\n",
       "    </tr>\n",
       "    <tr>\n",
       "      <th>49648</th>\n",
       "      <td>1</td>\n",
       "      <td>Cash loans</td>\n",
       "      <td>M</td>\n",
       "      <td>Y</td>\n",
       "      <td>Y</td>\n",
       "      <td>0</td>\n",
       "      <td>247500.0</td>\n",
       "      <td>1185282.0</td>\n",
       "      <td>34785.0</td>\n",
       "      <td>1035000.0</td>\n",
       "      <td>...</td>\n",
       "      <td>0</td>\n",
       "      <td>0</td>\n",
       "      <td>0</td>\n",
       "      <td>0</td>\n",
       "      <td>0.0</td>\n",
       "      <td>0.0</td>\n",
       "      <td>0.0</td>\n",
       "      <td>1.0</td>\n",
       "      <td>0.0</td>\n",
       "      <td>3.0</td>\n",
       "    </tr>\n",
       "    <tr>\n",
       "      <th>49649</th>\n",
       "      <td>0</td>\n",
       "      <td>Cash loans</td>\n",
       "      <td>F</td>\n",
       "      <td>N</td>\n",
       "      <td>Y</td>\n",
       "      <td>0</td>\n",
       "      <td>148500.0</td>\n",
       "      <td>121500.0</td>\n",
       "      <td>5971.5</td>\n",
       "      <td>121500.0</td>\n",
       "      <td>...</td>\n",
       "      <td>0</td>\n",
       "      <td>0</td>\n",
       "      <td>0</td>\n",
       "      <td>0</td>\n",
       "      <td>0.0</td>\n",
       "      <td>0.0</td>\n",
       "      <td>1.0</td>\n",
       "      <td>0.0</td>\n",
       "      <td>0.0</td>\n",
       "      <td>6.0</td>\n",
       "    </tr>\n",
       "  </tbody>\n",
       "</table>\n",
       "<p>49650 rows × 72 columns</p>\n",
       "</div>"
      ],
      "text/plain": [
       "       TARGET NAME_CONTRACT_TYPE CODE_GENDER FLAG_OWN_CAR FLAG_OWN_REALTY  \\\n",
       "0           1         Cash loans           F            N               N   \n",
       "1           1         Cash loans           F            N               N   \n",
       "2           0         Cash loans           M            N               N   \n",
       "3           0    Revolving loans           F            N               Y   \n",
       "4           0         Cash loans           M            Y               Y   \n",
       "...       ...                ...         ...          ...             ...   \n",
       "49645       0         Cash loans           F            N               N   \n",
       "49646       0         Cash loans           F            N               Y   \n",
       "49647       0         Cash loans           M            N               Y   \n",
       "49648       1         Cash loans           M            Y               Y   \n",
       "49649       0         Cash loans           F            N               Y   \n",
       "\n",
       "       CNT_CHILDREN  AMT_INCOME_TOTAL  AMT_CREDIT  AMT_ANNUITY  \\\n",
       "0                 0          112500.0    900000.0      26316.0   \n",
       "1                 1           90000.0    521280.0      26613.0   \n",
       "2                 2          135000.0    675000.0      32602.5   \n",
       "3                 0          103500.0    180000.0       9000.0   \n",
       "4                 2          180000.0    473760.0      49878.0   \n",
       "...             ...               ...         ...          ...   \n",
       "49645             0           67500.0    448056.0      17019.0   \n",
       "49646             0           72000.0    104256.0      11074.5   \n",
       "49647             0          180000.0    593010.0      23107.5   \n",
       "49648             0          247500.0   1185282.0      34785.0   \n",
       "49649             0          148500.0    121500.0       5971.5   \n",
       "\n",
       "       AMT_GOODS_PRICE  ... FLAG_DOCUMENT_18 FLAG_DOCUMENT_19  \\\n",
       "0             900000.0  ...                0                0   \n",
       "1             450000.0  ...                0                0   \n",
       "2             675000.0  ...                0                0   \n",
       "3             180000.0  ...                0                0   \n",
       "4             450000.0  ...                0                0   \n",
       "...                ...  ...              ...              ...   \n",
       "49645         315000.0  ...                0                0   \n",
       "49646          90000.0  ...                0                0   \n",
       "49647         495000.0  ...                0                0   \n",
       "49648        1035000.0  ...                0                0   \n",
       "49649         121500.0  ...                0                0   \n",
       "\n",
       "      FLAG_DOCUMENT_20 FLAG_DOCUMENT_21 AMT_REQ_CREDIT_BUREAU_HOUR  \\\n",
       "0                    0                0                        0.0   \n",
       "1                    0                0                        0.0   \n",
       "2                    0                0                        NaN   \n",
       "3                    0                0                        0.0   \n",
       "4                    0                0                        0.0   \n",
       "...                ...              ...                        ...   \n",
       "49645                0                0                        0.0   \n",
       "49646                0                0                        NaN   \n",
       "49647                0                0                        0.0   \n",
       "49648                0                0                        0.0   \n",
       "49649                0                0                        0.0   \n",
       "\n",
       "       AMT_REQ_CREDIT_BUREAU_DAY  AMT_REQ_CREDIT_BUREAU_WEEK  \\\n",
       "0                            0.0                         0.0   \n",
       "1                            0.0                         0.0   \n",
       "2                            NaN                         NaN   \n",
       "3                            0.0                         0.0   \n",
       "4                            0.0                         0.0   \n",
       "...                          ...                         ...   \n",
       "49645                        0.0                         0.0   \n",
       "49646                        NaN                         NaN   \n",
       "49647                        0.0                         0.0   \n",
       "49648                        0.0                         0.0   \n",
       "49649                        0.0                         1.0   \n",
       "\n",
       "       AMT_REQ_CREDIT_BUREAU_MON  AMT_REQ_CREDIT_BUREAU_QRT  \\\n",
       "0                            3.0                        0.0   \n",
       "1                            0.0                        0.0   \n",
       "2                            NaN                        NaN   \n",
       "3                            0.0                        0.0   \n",
       "4                            0.0                        0.0   \n",
       "...                          ...                        ...   \n",
       "49645                        1.0                        0.0   \n",
       "49646                        NaN                        NaN   \n",
       "49647                        0.0                        0.0   \n",
       "49648                        1.0                        0.0   \n",
       "49649                        0.0                        0.0   \n",
       "\n",
       "       AMT_REQ_CREDIT_BUREAU_YEAR  \n",
       "0                             5.0  \n",
       "1                             4.0  \n",
       "2                             NaN  \n",
       "3                             0.0  \n",
       "4                             0.0  \n",
       "...                           ...  \n",
       "49645                         0.0  \n",
       "49646                         NaN  \n",
       "49647                         1.0  \n",
       "49648                         3.0  \n",
       "49649                         6.0  \n",
       "\n",
       "[49650 rows x 72 columns]"
      ]
     },
     "execution_count": 11,
     "metadata": {},
     "output_type": "execute_result"
    }
   ],
   "source": [
    "data_under = data_under.sample(frac=1).reset_index(drop=True)\n",
    "data_under"
   ]
  },
  {
   "cell_type": "code",
   "execution_count": 14,
   "metadata": {},
   "outputs": [
    {
     "data": {
      "text/html": [
       "<div>\n",
       "<style scoped>\n",
       "    .dataframe tbody tr th:only-of-type {\n",
       "        vertical-align: middle;\n",
       "    }\n",
       "\n",
       "    .dataframe tbody tr th {\n",
       "        vertical-align: top;\n",
       "    }\n",
       "\n",
       "    .dataframe thead th {\n",
       "        text-align: right;\n",
       "    }\n",
       "</style>\n",
       "<table border=\"1\" class=\"dataframe\">\n",
       "  <thead>\n",
       "    <tr style=\"text-align: right;\">\n",
       "      <th></th>\n",
       "      <th>TARGET</th>\n",
       "      <th>CNT_CHILDREN</th>\n",
       "      <th>AMT_INCOME_TOTAL</th>\n",
       "      <th>AMT_CREDIT</th>\n",
       "      <th>AMT_ANNUITY</th>\n",
       "      <th>AMT_GOODS_PRICE</th>\n",
       "      <th>REGION_POPULATION_RELATIVE</th>\n",
       "      <th>DAYS_BIRTH</th>\n",
       "      <th>DAYS_EMPLOYED</th>\n",
       "      <th>DAYS_REGISTRATION</th>\n",
       "      <th>...</th>\n",
       "      <th>FLAG_DOCUMENT_19</th>\n",
       "      <th>FLAG_DOCUMENT_20</th>\n",
       "      <th>FLAG_DOCUMENT_21</th>\n",
       "      <th>AMT_REQ_CREDIT_BUREAU_HOUR</th>\n",
       "      <th>AMT_REQ_CREDIT_BUREAU_DAY</th>\n",
       "      <th>AMT_REQ_CREDIT_BUREAU_WEEK</th>\n",
       "      <th>AMT_REQ_CREDIT_BUREAU_MON</th>\n",
       "      <th>AMT_REQ_CREDIT_BUREAU_QRT</th>\n",
       "      <th>AMT_REQ_CREDIT_BUREAU_YEAR</th>\n",
       "      <th>INCOME_PER_PERSON</th>\n",
       "    </tr>\n",
       "  </thead>\n",
       "  <tbody>\n",
       "    <tr>\n",
       "      <th>count</th>\n",
       "      <td>49650.000000</td>\n",
       "      <td>49650.000000</td>\n",
       "      <td>4.965000e+04</td>\n",
       "      <td>4.965000e+04</td>\n",
       "      <td>49650.000000</td>\n",
       "      <td>4.961200e+04</td>\n",
       "      <td>49650.000000</td>\n",
       "      <td>49650.000000</td>\n",
       "      <td>49650.000000</td>\n",
       "      <td>49650.000000</td>\n",
       "      <td>...</td>\n",
       "      <td>49650.000000</td>\n",
       "      <td>49650.000000</td>\n",
       "      <td>49650.000000</td>\n",
       "      <td>42078.000000</td>\n",
       "      <td>42078.000000</td>\n",
       "      <td>42078.000000</td>\n",
       "      <td>42078.000000</td>\n",
       "      <td>42078.000000</td>\n",
       "      <td>42078.000000</td>\n",
       "      <td>4.964900e+04</td>\n",
       "    </tr>\n",
       "    <tr>\n",
       "      <th>mean</th>\n",
       "      <td>0.500000</td>\n",
       "      <td>0.436193</td>\n",
       "      <td>1.671771e+05</td>\n",
       "      <td>5.791850e+05</td>\n",
       "      <td>26794.856737</td>\n",
       "      <td>5.147644e+05</td>\n",
       "      <td>0.020123</td>\n",
       "      <td>-15508.881551</td>\n",
       "      <td>53951.336536</td>\n",
       "      <td>-4768.609104</td>\n",
       "      <td>...</td>\n",
       "      <td>0.000443</td>\n",
       "      <td>0.000463</td>\n",
       "      <td>0.000423</td>\n",
       "      <td>0.006654</td>\n",
       "      <td>0.007391</td>\n",
       "      <td>0.035125</td>\n",
       "      <td>0.249038</td>\n",
       "      <td>0.261300</td>\n",
       "      <td>1.955321</td>\n",
       "      <td>9.206049e+04</td>\n",
       "    </tr>\n",
       "    <tr>\n",
       "      <th>std</th>\n",
       "      <td>0.500005</td>\n",
       "      <td>0.739926</td>\n",
       "      <td>5.325573e+05</td>\n",
       "      <td>3.772901e+05</td>\n",
       "      <td>13478.723655</td>\n",
       "      <td>3.437612e+05</td>\n",
       "      <td>0.013081</td>\n",
       "      <td>4325.438479</td>\n",
       "      <td>132119.444707</td>\n",
       "      <td>3426.949957</td>\n",
       "      <td>...</td>\n",
       "      <td>0.021046</td>\n",
       "      <td>0.021518</td>\n",
       "      <td>0.020562</td>\n",
       "      <td>0.086405</td>\n",
       "      <td>0.108649</td>\n",
       "      <td>0.210367</td>\n",
       "      <td>0.847462</td>\n",
       "      <td>0.624918</td>\n",
       "      <td>1.897472</td>\n",
       "      <td>1.872159e+05</td>\n",
       "    </tr>\n",
       "    <tr>\n",
       "      <th>min</th>\n",
       "      <td>0.000000</td>\n",
       "      <td>0.000000</td>\n",
       "      <td>2.565000e+04</td>\n",
       "      <td>4.500000e+04</td>\n",
       "      <td>2722.500000</td>\n",
       "      <td>4.500000e+04</td>\n",
       "      <td>0.000533</td>\n",
       "      <td>-25201.000000</td>\n",
       "      <td>-17170.000000</td>\n",
       "      <td>-22928.000000</td>\n",
       "      <td>...</td>\n",
       "      <td>0.000000</td>\n",
       "      <td>0.000000</td>\n",
       "      <td>0.000000</td>\n",
       "      <td>0.000000</td>\n",
       "      <td>0.000000</td>\n",
       "      <td>0.000000</td>\n",
       "      <td>0.000000</td>\n",
       "      <td>0.000000</td>\n",
       "      <td>0.000000</td>\n",
       "      <td>5.142857e+03</td>\n",
       "    </tr>\n",
       "    <tr>\n",
       "      <th>25%</th>\n",
       "      <td>0.000000</td>\n",
       "      <td>0.000000</td>\n",
       "      <td>1.125000e+05</td>\n",
       "      <td>2.765092e+05</td>\n",
       "      <td>16942.500000</td>\n",
       "      <td>2.385000e+05</td>\n",
       "      <td>0.009657</td>\n",
       "      <td>-19014.750000</td>\n",
       "      <td>-2470.000000</td>\n",
       "      <td>-7150.750000</td>\n",
       "      <td>...</td>\n",
       "      <td>0.000000</td>\n",
       "      <td>0.000000</td>\n",
       "      <td>0.000000</td>\n",
       "      <td>0.000000</td>\n",
       "      <td>0.000000</td>\n",
       "      <td>0.000000</td>\n",
       "      <td>0.000000</td>\n",
       "      <td>0.000000</td>\n",
       "      <td>0.000000</td>\n",
       "      <td>4.500000e+04</td>\n",
       "    </tr>\n",
       "    <tr>\n",
       "      <th>50%</th>\n",
       "      <td>0.500000</td>\n",
       "      <td>0.000000</td>\n",
       "      <td>1.440000e+05</td>\n",
       "      <td>5.084955e+05</td>\n",
       "      <td>24999.750000</td>\n",
       "      <td>4.500000e+05</td>\n",
       "      <td>0.018801</td>\n",
       "      <td>-15052.500000</td>\n",
       "      <td>-1122.000000</td>\n",
       "      <td>-4301.000000</td>\n",
       "      <td>...</td>\n",
       "      <td>0.000000</td>\n",
       "      <td>0.000000</td>\n",
       "      <td>0.000000</td>\n",
       "      <td>0.000000</td>\n",
       "      <td>0.000000</td>\n",
       "      <td>0.000000</td>\n",
       "      <td>0.000000</td>\n",
       "      <td>0.000000</td>\n",
       "      <td>2.000000</td>\n",
       "      <td>7.425000e+04</td>\n",
       "    </tr>\n",
       "    <tr>\n",
       "      <th>75%</th>\n",
       "      <td>1.000000</td>\n",
       "      <td>1.000000</td>\n",
       "      <td>2.025000e+05</td>\n",
       "      <td>7.819200e+05</td>\n",
       "      <td>33732.000000</td>\n",
       "      <td>6.750000e+05</td>\n",
       "      <td>0.026392</td>\n",
       "      <td>-11879.500000</td>\n",
       "      <td>-343.000000</td>\n",
       "      <td>-1869.000000</td>\n",
       "      <td>...</td>\n",
       "      <td>0.000000</td>\n",
       "      <td>0.000000</td>\n",
       "      <td>0.000000</td>\n",
       "      <td>0.000000</td>\n",
       "      <td>0.000000</td>\n",
       "      <td>0.000000</td>\n",
       "      <td>0.000000</td>\n",
       "      <td>0.000000</td>\n",
       "      <td>3.000000</td>\n",
       "      <td>1.125000e+05</td>\n",
       "    </tr>\n",
       "    <tr>\n",
       "      <th>max</th>\n",
       "      <td>1.000000</td>\n",
       "      <td>19.000000</td>\n",
       "      <td>1.170000e+08</td>\n",
       "      <td>4.050000e+06</td>\n",
       "      <td>225000.000000</td>\n",
       "      <td>4.050000e+06</td>\n",
       "      <td>0.072508</td>\n",
       "      <td>-7673.000000</td>\n",
       "      <td>365243.000000</td>\n",
       "      <td>0.000000</td>\n",
       "      <td>...</td>\n",
       "      <td>1.000000</td>\n",
       "      <td>1.000000</td>\n",
       "      <td>1.000000</td>\n",
       "      <td>4.000000</td>\n",
       "      <td>6.000000</td>\n",
       "      <td>8.000000</td>\n",
       "      <td>17.000000</td>\n",
       "      <td>19.000000</td>\n",
       "      <td>22.000000</td>\n",
       "      <td>3.900000e+07</td>\n",
       "    </tr>\n",
       "  </tbody>\n",
       "</table>\n",
       "<p>8 rows × 61 columns</p>\n",
       "</div>"
      ],
      "text/plain": [
       "             TARGET  CNT_CHILDREN  AMT_INCOME_TOTAL    AMT_CREDIT  \\\n",
       "count  49650.000000  49650.000000      4.965000e+04  4.965000e+04   \n",
       "mean       0.500000      0.436193      1.671771e+05  5.791850e+05   \n",
       "std        0.500005      0.739926      5.325573e+05  3.772901e+05   \n",
       "min        0.000000      0.000000      2.565000e+04  4.500000e+04   \n",
       "25%        0.000000      0.000000      1.125000e+05  2.765092e+05   \n",
       "50%        0.500000      0.000000      1.440000e+05  5.084955e+05   \n",
       "75%        1.000000      1.000000      2.025000e+05  7.819200e+05   \n",
       "max        1.000000     19.000000      1.170000e+08  4.050000e+06   \n",
       "\n",
       "         AMT_ANNUITY  AMT_GOODS_PRICE  REGION_POPULATION_RELATIVE  \\\n",
       "count   49650.000000     4.961200e+04                49650.000000   \n",
       "mean    26794.856737     5.147644e+05                    0.020123   \n",
       "std     13478.723655     3.437612e+05                    0.013081   \n",
       "min      2722.500000     4.500000e+04                    0.000533   \n",
       "25%     16942.500000     2.385000e+05                    0.009657   \n",
       "50%     24999.750000     4.500000e+05                    0.018801   \n",
       "75%     33732.000000     6.750000e+05                    0.026392   \n",
       "max    225000.000000     4.050000e+06                    0.072508   \n",
       "\n",
       "         DAYS_BIRTH  DAYS_EMPLOYED  DAYS_REGISTRATION  ...  FLAG_DOCUMENT_19  \\\n",
       "count  49650.000000   49650.000000       49650.000000  ...      49650.000000   \n",
       "mean  -15508.881551   53951.336536       -4768.609104  ...          0.000443   \n",
       "std     4325.438479  132119.444707        3426.949957  ...          0.021046   \n",
       "min   -25201.000000  -17170.000000      -22928.000000  ...          0.000000   \n",
       "25%   -19014.750000   -2470.000000       -7150.750000  ...          0.000000   \n",
       "50%   -15052.500000   -1122.000000       -4301.000000  ...          0.000000   \n",
       "75%   -11879.500000    -343.000000       -1869.000000  ...          0.000000   \n",
       "max    -7673.000000  365243.000000           0.000000  ...          1.000000   \n",
       "\n",
       "       FLAG_DOCUMENT_20  FLAG_DOCUMENT_21  AMT_REQ_CREDIT_BUREAU_HOUR  \\\n",
       "count      49650.000000      49650.000000                42078.000000   \n",
       "mean           0.000463          0.000423                    0.006654   \n",
       "std            0.021518          0.020562                    0.086405   \n",
       "min            0.000000          0.000000                    0.000000   \n",
       "25%            0.000000          0.000000                    0.000000   \n",
       "50%            0.000000          0.000000                    0.000000   \n",
       "75%            0.000000          0.000000                    0.000000   \n",
       "max            1.000000          1.000000                    4.000000   \n",
       "\n",
       "       AMT_REQ_CREDIT_BUREAU_DAY  AMT_REQ_CREDIT_BUREAU_WEEK  \\\n",
       "count               42078.000000                42078.000000   \n",
       "mean                    0.007391                    0.035125   \n",
       "std                     0.108649                    0.210367   \n",
       "min                     0.000000                    0.000000   \n",
       "25%                     0.000000                    0.000000   \n",
       "50%                     0.000000                    0.000000   \n",
       "75%                     0.000000                    0.000000   \n",
       "max                     6.000000                    8.000000   \n",
       "\n",
       "       AMT_REQ_CREDIT_BUREAU_MON  AMT_REQ_CREDIT_BUREAU_QRT  \\\n",
       "count               42078.000000               42078.000000   \n",
       "mean                    0.249038                   0.261300   \n",
       "std                     0.847462                   0.624918   \n",
       "min                     0.000000                   0.000000   \n",
       "25%                     0.000000                   0.000000   \n",
       "50%                     0.000000                   0.000000   \n",
       "75%                     0.000000                   0.000000   \n",
       "max                    17.000000                  19.000000   \n",
       "\n",
       "       AMT_REQ_CREDIT_BUREAU_YEAR  INCOME_PER_PERSON  \n",
       "count                42078.000000       4.964900e+04  \n",
       "mean                     1.955321       9.206049e+04  \n",
       "std                      1.897472       1.872159e+05  \n",
       "min                      0.000000       5.142857e+03  \n",
       "25%                      0.000000       4.500000e+04  \n",
       "50%                      2.000000       7.425000e+04  \n",
       "75%                      3.000000       1.125000e+05  \n",
       "max                     22.000000       3.900000e+07  \n",
       "\n",
       "[8 rows x 61 columns]"
      ]
     },
     "execution_count": 14,
     "metadata": {},
     "output_type": "execute_result"
    }
   ],
   "source": [
    "data_under.describe()"
   ]
  },
  {
   "cell_type": "markdown",
   "metadata": {},
   "source": [
    "#### Split into training and test set"
   ]
  },
  {
   "cell_type": "code",
   "execution_count": 22,
   "metadata": {},
   "outputs": [],
   "source": [
    "X_train, X_test, y_train, y_test = train_test_split(data_under.drop('TARGET', axis=1),\n",
    "                                                    data_under['TARGET'],\n",
    "                                                    test_size=0.2,\n",
    "                                                    stratify=data_under['TARGET'],\n",
    "                                                    random_state=42)"
   ]
  },
  {
   "cell_type": "markdown",
   "metadata": {},
   "source": [
    "## Transformers\n",
    "\n",
    "#### Now I will define the transformers I will use for data processing"
   ]
  },
  {
   "cell_type": "code",
   "execution_count": 23,
   "metadata": {},
   "outputs": [],
   "source": [
    "class RemoveColumnsTransformer(BaseEstimator, TransformerMixin):\n",
    "    def __init__( self, columns_to_remove: list):\n",
    "        self.columns_to_remove = columns_to_remove\n",
    "    \n",
    "    def fit( self, X, y = None ):\n",
    "        return self \n",
    "    \n",
    "    def transform( self, X, y = None ):\n",
    "        return X.drop(self.columns_to_remove, axis=1)"
   ]
  },
  {
   "cell_type": "code",
   "execution_count": 24,
   "metadata": {},
   "outputs": [],
   "source": [
    "class SelectColumnsTransformer(BaseEstimator, TransformerMixin):\n",
    "    def __init__( self, columns_to_select: list):\n",
    "        self.columns_to_select = columns_to_select\n",
    "    \n",
    "    def fit( self, X, y = None ):\n",
    "        return self \n",
    "    \n",
    "    def transform( self, X, y = None ):\n",
    "        return X[self.columns_to_select]"
   ]
  },
  {
   "cell_type": "code",
   "execution_count": 25,
   "metadata": {},
   "outputs": [],
   "source": [
    "class ImputeNumColsTransformer(BaseEstimator, TransformerMixin):\n",
    "    def __init__( self, method='mean'):\n",
    "        self.method=method\n",
    "        self.impute_values = {}\n",
    "        \n",
    "    def fit( self, X, y = None ):\n",
    "        if self.method == 'mean':\n",
    "            for col in X:\n",
    "                mean = X[col].mean()\n",
    "                self.impute_values[col] = mean\n",
    "        # extra option is added here\n",
    "        elif self.method == 'median':\n",
    "            for col in X:\n",
    "                median = X[col].median()\n",
    "                self.impute_values[col] = median\n",
    "            \n",
    "        return self \n",
    "    \n",
    "    def transform( self, X, y = None ):\n",
    "        for col in X:\n",
    "            value_to_impute = self.impute_values[col]\n",
    "            X[col] = X[col].fillna(value_to_impute)\n",
    "        return X"
   ]
  },
  {
   "cell_type": "code",
   "execution_count": 26,
   "metadata": {},
   "outputs": [],
   "source": [
    "class ImputeCatColsTransformer(BaseEstimator, TransformerMixin):\n",
    "    def __init__( self, method='mode'):\n",
    "        self.method=method\n",
    "        self.impute_values = {}\n",
    "        \n",
    "    def fit( self, X, y = None ):\n",
    "        if self.method == 'mode':\n",
    "            for col in X:\n",
    "                mode = X[col].mode()[0]\n",
    "                self.impute_values[col] = mode\n",
    "        elif self.method == 'missing':\n",
    "            for col in X:\n",
    "                self.impute_values[col] = 'missing'\n",
    "        return self \n",
    "    \n",
    "    def transform( self, X, y = None ):\n",
    "        for col in X:\n",
    "            value_to_impute = self.impute_values[col]\n",
    "            X[col] = X[col].astype('object')\n",
    "            X[col] = X[col].fillna(value_to_impute)\n",
    "        return X"
   ]
  },
  {
   "cell_type": "markdown",
   "metadata": {},
   "source": [
    "## Pipeline\n",
    "\n",
    "#### I will create a pipeline where I will fill in the empty values in the data and scale them for the numerical data, and for the categorical data in addition to filling in the empty values, I will use one hot encoder so that the models, I will teach will be able to process the data. Additionally, I will combine these two piplines into one by using the feature union class."
   ]
  },
  {
   "cell_type": "code",
   "execution_count": 27,
   "metadata": {},
   "outputs": [],
   "source": [
    "num_steps = [\n",
    "            ('select_num_columns', SelectColumnsTransformer(numeric_columns)), \n",
    "            ('impute', ImputeNumColsTransformer(method='median')), \n",
    "            ('scaler', StandardScaler()), \n",
    "]\n",
    "\n",
    "cat_steps = [\n",
    "            ('select_cat_columns', SelectColumnsTransformer(categoric_columns)), \n",
    "            ('impute', ImputeCatColsTransformer(method='mode')), \n",
    "            ('ohe', OneHotEncoder(sparse=False, handle_unknown='ignore'))\n",
    "]\n",
    "\n",
    "num_pipeline = Pipeline(num_steps)\n",
    "cat_pipeline = Pipeline(cat_steps)\n",
    "\n",
    "transformer_list = [ ('categorical_pipeline', cat_pipeline), \n",
    "                     ('numerical_pipeline', num_pipeline ) \n",
    "                   ]\n",
    "\n",
    "combined_pipeline = FeatureUnion(transformer_list=transformer_list)"
   ]
  },
  {
   "cell_type": "code",
   "execution_count": 28,
   "metadata": {},
   "outputs": [],
   "source": [
    "from sklearn.model_selection import StratifiedKFold\n",
    "\n",
    "seed=123\n",
    "kfold = StratifiedKFold(n_splits=5, random_state=seed)"
   ]
  },
  {
   "cell_type": "markdown",
   "metadata": {},
   "source": [
    "## Models Building"
   ]
  },
  {
   "cell_type": "markdown",
   "metadata": {},
   "source": [
    "#### Logistic regression"
   ]
  },
  {
   "cell_type": "code",
   "execution_count": 29,
   "metadata": {},
   "outputs": [
    {
     "data": {
      "text/plain": [
       "{'classifier__C': 100, 'classifier__penalty': 'l2'}"
      ]
     },
     "execution_count": 29,
     "metadata": {},
     "output_type": "execute_result"
    }
   ],
   "source": [
    "pipeline_1 = Pipeline(steps = [\n",
    "                            ('combined_pipeline', combined_pipeline), \n",
    "                            ('classifier', LogisticRegression())\n",
    "])\n",
    "\n",
    "param_grid_1 = {\n",
    "            'classifier__C': [0.001, 0.01, 0.1, 1, 10, 100, 1000],\n",
    "            'classifier__penalty': ['l1', 'l2']\n",
    "}\n",
    "\n",
    "grid_1 = GridSearchCV(pipeline_1, param_grid_1, cv=kfold, return_train_score=True)\n",
    "\n",
    "grid_1.fit(X_train, y_train)\n",
    "grid_1.best_params_"
   ]
  },
  {
   "cell_type": "markdown",
   "metadata": {},
   "source": [
    "#### SVM"
   ]
  },
  {
   "cell_type": "code",
   "execution_count": 30,
   "metadata": {},
   "outputs": [],
   "source": [
    "#pipe_2 = Pipeline(steps = [\n",
    "#                        ('combined_pipeline', combined_pipeline), \n",
    "#                        ('classifier', SVC(C=1, probability=True))\n",
    "#])\n",
    "#\n",
    "#param_grid_2 = {\n",
    "#            'classifier__C': [0.01, 0.1, 1, 10],          \n",
    "#            'classifier__gamma': [0.001, 0.01, 0.1, 1]\n",
    "#}\n",
    "#\n",
    "#grid_2 = GridSearchCV(pipe_2, param_grid_2, cv=kfold, return_train_score=True)\n",
    "#\n",
    "#grid_2.fit(X_train, y_train)\n",
    "#grid_2.best_params_"
   ]
  },
  {
   "cell_type": "markdown",
   "metadata": {},
   "source": [
    "I resigned from the SVM model, because the calculation time was several times longer than with other models, and the result was not better at all"
   ]
  },
  {
   "cell_type": "markdown",
   "metadata": {},
   "source": [
    "#### Decision Tree"
   ]
  },
  {
   "cell_type": "code",
   "execution_count": 31,
   "metadata": {},
   "outputs": [
    {
     "data": {
      "text/plain": [
       "{'classifier__max_depth': 10,\n",
       " 'classifier__max_leaf_nodes': 70,\n",
       " 'classifier__min_samples_split': 2}"
      ]
     },
     "execution_count": 31,
     "metadata": {},
     "output_type": "execute_result"
    }
   ],
   "source": [
    "pipe_3 = Pipeline(steps = [\n",
    "                        ('combined_pipeline', combined_pipeline),  \n",
    "                        ('classifier', DecisionTreeClassifier())\n",
    "])\n",
    "\n",
    "param_grid_3 = {\n",
    "            'classifier__max_depth': [5,9,10,11,20,30],\n",
    "            'classifier__min_samples_split': [2,3,5,10,20,30],\n",
    "            'classifier__max_leaf_nodes': [10,14,15,16,20,30,40,50,70]\n",
    "}\n",
    "\n",
    "\n",
    "grid_3 = GridSearchCV(pipe_3, param_grid_3, cv=kfold, return_train_score=True)\n",
    "\n",
    "grid_3.fit(X_train, y_train)\n",
    "grid_3.best_params_"
   ]
  },
  {
   "cell_type": "markdown",
   "metadata": {},
   "source": [
    "#### Extra Tree"
   ]
  },
  {
   "cell_type": "code",
   "execution_count": 32,
   "metadata": {},
   "outputs": [
    {
     "data": {
      "text/plain": [
       "{'classifier__max_depth': 200,\n",
       " 'classifier__max_leaf_nodes': 70,\n",
       " 'classifier__min_samples_split': 2}"
      ]
     },
     "execution_count": 32,
     "metadata": {},
     "output_type": "execute_result"
    }
   ],
   "source": [
    "pipe_4 = Pipeline(steps = [\n",
    "                        ('combined_pipeline', combined_pipeline), \n",
    "                        ('classifier', ExtraTreesClassifier())\n",
    "])\n",
    "\n",
    "param_grid_4 = {\n",
    "            'classifier__max_depth': [0.1, 1,5,10,20,30,40,100,200],\n",
    "            'classifier__min_samples_split': [2,3,5,10,20,30,40],\n",
    "            'classifier__max_leaf_nodes': [10,14,15,16,20,30,40,50,70]\n",
    "}\n",
    "\n",
    "grid_4 = GridSearchCV(pipe_4, param_grid_4, cv=kfold, return_train_score=True)\n",
    "\n",
    "grid_4.fit(X_train, y_train)\n",
    "grid_4.best_params_"
   ]
  },
  {
   "cell_type": "markdown",
   "metadata": {},
   "source": [
    "#### Random Forrest"
   ]
  },
  {
   "cell_type": "code",
   "execution_count": 33,
   "metadata": {},
   "outputs": [
    {
     "data": {
      "text/plain": [
       "{'classifier__max_depth': 20,\n",
       " 'classifier__max_leaf_nodes': 100,\n",
       " 'classifier__n_estimators': 150}"
      ]
     },
     "execution_count": 33,
     "metadata": {},
     "output_type": "execute_result"
    }
   ],
   "source": [
    "pipe_5 = Pipeline(steps = [\n",
    "                        ('combined_pipeline', combined_pipeline), \n",
    "                        ('classifier', RandomForestClassifier(n_estimators=500, max_leaf_nodes=16))\n",
    "])\n",
    "\n",
    "param_grid_5 = {'classifier__n_estimators': [10, 50, 100, 150, 200, 300, 500],\n",
    "              'classifier__max_leaf_nodes': [10, 20, 30, 50, 70, 100],\n",
    "              'classifier__max_depth': [10, 20, 30, 50, 70, 100]\n",
    "             }\n",
    "\n",
    "grid_5 = GridSearchCV(pipe_5, param_grid_5, cv=kfold, return_train_score=True)\n",
    "\n",
    "grid_5.fit(X_train, y_train)\n",
    "grid_5.best_params_"
   ]
  },
  {
   "cell_type": "markdown",
   "metadata": {},
   "source": [
    "#### K Neighbors"
   ]
  },
  {
   "cell_type": "code",
   "execution_count": 34,
   "metadata": {},
   "outputs": [],
   "source": [
    "#pipe_6 = Pipeline(steps = [\n",
    "#                        ('combined_pipeline', combined_pipeline), \n",
    "#                        ('classifier', KNeighborsClassifier(n_neighbors=3))\n",
    "#])\n",
    "#\n",
    "#param_grid_6 = {\n",
    "#            'classifier__n_neighbors': [3, 5, 7, 10]\n",
    "#}\n",
    "#\n",
    "#grid_6 = GridSearchCV(pipe_6, param_grid_6, cv=kfold, return_train_score=True)\n",
    "#\n",
    "#grid_6.fit(X_train, y_train)\n",
    "#grid_6.best_params_"
   ]
  },
  {
   "cell_type": "markdown",
   "metadata": {},
   "source": [
    "I also resigned from this model because, like with SVM, the calculations took a long time and the result was no better than other models"
   ]
  },
  {
   "cell_type": "markdown",
   "metadata": {},
   "source": [
    "#### Ada Boost"
   ]
  },
  {
   "cell_type": "code",
   "execution_count": 35,
   "metadata": {},
   "outputs": [
    {
     "data": {
      "text/plain": [
       "{'classifier__learning_rate': 0.5, 'classifier__n_estimators': 50}"
      ]
     },
     "execution_count": 35,
     "metadata": {},
     "output_type": "execute_result"
    }
   ],
   "source": [
    "pipe_7 = Pipeline(steps = [\n",
    "                        ('combined_pipeline', combined_pipeline),\n",
    "                        ('classifier', AdaBoostClassifier())\n",
    "])\n",
    "\n",
    "param_grid_7 = {'classifier__n_estimators': [2, 5, 10, 15, 20, 30, 50],\n",
    "            'classifier__learning_rate': [0.1, 0.5, 1, 2, 3]}\n",
    "\n",
    "grid_7 = GridSearchCV(pipe_7, param_grid_7, cv=kfold, return_train_score=True)\n",
    "\n",
    "grid_7.fit(X_train, y_train)\n",
    "grid_7.best_params_"
   ]
  },
  {
   "cell_type": "markdown",
   "metadata": {},
   "source": [
    "#### Gradient Boost"
   ]
  },
  {
   "cell_type": "code",
   "execution_count": 36,
   "metadata": {},
   "outputs": [
    {
     "data": {
      "text/plain": [
       "{'classifier__learning_rate': 0.5, 'classifier__n_estimators': 20}"
      ]
     },
     "execution_count": 36,
     "metadata": {},
     "output_type": "execute_result"
    }
   ],
   "source": [
    "pipe_8 = Pipeline(steps = [\n",
    "                        ('combined_pipeline', combined_pipeline),\n",
    "                        ('classifier', GradientBoostingClassifier())\n",
    "])\n",
    "\n",
    "param_grid_8 = {'classifier__n_estimators': [2, 5, 10, 15, 20],\n",
    "            'classifier__learning_rate': [0.1, 0.5, 1]}\n",
    "\n",
    "grid_8 = GridSearchCV(pipe_8, param_grid_8, cv=kfold, return_train_score=True)\n",
    "\n",
    "grid_8.fit(X_train, y_train)\n",
    "grid_8.best_params_"
   ]
  },
  {
   "cell_type": "markdown",
   "metadata": {},
   "source": [
    "## Scoring\n",
    "\n",
    "\n",
    "#### In this step I will check the effectiveness of the learned models."
   ]
  },
  {
   "cell_type": "code",
   "execution_count": 37,
   "metadata": {},
   "outputs": [
    {
     "name": "stdout",
     "output_type": "stream",
     "text": [
      "Logistic Regression\n",
      "precision_score: 0.6695617844453218\n",
      "recall_score: 0.6831822759315207\n",
      "f1_score: 0.6763034592762436\n",
      "accuracy_score: 0.6730110775427997\n",
      "roc_auc_score: 0.7347084374103112\n",
      "Decission Tree\n",
      "precision_score: 0.6436170212765957\n",
      "recall_score: 0.6580060422960725\n",
      "f1_score: 0.6507319988048998\n",
      "accuracy_score: 0.6468277945619335\n",
      "roc_auc_score: 0.7033263052850314\n",
      "Extra Tree\n",
      "precision_score: 0.6398594573492095\n",
      "recall_score: 0.660221550855992\n",
      "f1_score: 0.6498810467882633\n",
      "accuracy_score: 0.6443101711983887\n",
      "roc_auc_score: 0.6927095103793017\n",
      "Random Forest\n",
      "precision_score: 0.6677412855127947\n",
      "recall_score: 0.667472306143001\n",
      "f1_score: 0.6676067687348912\n",
      "accuracy_score: 0.6676737160120846\n",
      "roc_auc_score: 0.7250374778535347\n",
      "Ada Boost\n",
      "precision_score: 0.6651321056845476\n",
      "recall_score: 0.6692849949647532\n",
      "f1_score: 0.6672020881437606\n",
      "accuracy_score: 0.6661631419939577\n",
      "roc_auc_score: 0.7297311594048572\n",
      "Gradient Boost\n",
      "precision_score: 0.668981940861282\n",
      "recall_score: 0.6789526686807653\n",
      "f1_score: 0.6739304278288685\n",
      "accuracy_score: 0.6715005035246727\n",
      "roc_auc_score: 0.734922726963873\n"
     ]
    }
   ],
   "source": [
    "from sklearn import  metrics\n",
    "\n",
    "models = []\n",
    "models.append(('Logistic Regression', grid_1.best_estimator_))\n",
    "#models.append(('SVM', grid_2.best_estimator_))\n",
    "models.append(('Decission Tree', grid_3.best_estimator_))\n",
    "models.append(('Extra Tree', grid_4.best_estimator_))\n",
    "models.append(('Random Forest', grid_5.best_estimator_))\n",
    "#models.append(('KNeighbors', grid_6.best_estimator_))\n",
    "models.append(('Ada Boost', grid_7.best_estimator_))\n",
    "models.append(('Gradient Boost', grid_8.best_estimator_))\n",
    "\n",
    "precision_score = []\n",
    "recall_score = []\n",
    "f1_score = []\n",
    "accuracy_score = []\n",
    "roc_auc_score = []\n",
    "for name, model in models:\n",
    "    print(name)\n",
    "    print(\"precision_score: {}\".format(metrics.precision_score(y_test , model.predict(X_test)) ))\n",
    "    print(\"recall_score: {}\".format( metrics.recall_score(y_test , model.predict(X_test)) ))\n",
    "    print(\"f1_score: {}\".format( metrics.f1_score(y_test , model.predict(X_test)) ))\n",
    "    print(\"accuracy_score: {}\".format( metrics.accuracy_score(y_test , model.predict(X_test)) ))\n",
    "    print(\"roc_auc_score: {}\".format( metrics.roc_auc_score(y_test , model.predict_proba(X_test)[:,1]) ))\n",
    "    \n",
    "    precision_score.append(metrics.precision_score(y_test , model.predict(X_test)))\n",
    "    recall_score.append(metrics.recall_score(y_test , model.predict(X_test)))\n",
    "    f1_score.append( metrics.f1_score(y_test , model.predict(X_test)))\n",
    "    accuracy_score.append(metrics.accuracy_score(y_test , model.predict(X_test)))  \n",
    "    roc_auc_score.append(metrics.roc_auc_score(y_test , model.predict_proba(X_test)[:,1]))"
   ]
  },
  {
   "cell_type": "code",
   "execution_count": 38,
   "metadata": {},
   "outputs": [
    {
     "data": {
      "text/html": [
       "<div>\n",
       "<style scoped>\n",
       "    .dataframe tbody tr th:only-of-type {\n",
       "        vertical-align: middle;\n",
       "    }\n",
       "\n",
       "    .dataframe tbody tr th {\n",
       "        vertical-align: top;\n",
       "    }\n",
       "\n",
       "    .dataframe thead th {\n",
       "        text-align: right;\n",
       "    }\n",
       "</style>\n",
       "<table border=\"1\" class=\"dataframe\">\n",
       "  <thead>\n",
       "    <tr style=\"text-align: right;\">\n",
       "      <th></th>\n",
       "      <th>Method</th>\n",
       "      <th>precision_score</th>\n",
       "      <th>recall_score</th>\n",
       "      <th>f1_score</th>\n",
       "      <th>accuracy_score</th>\n",
       "      <th>roc_auc_score</th>\n",
       "    </tr>\n",
       "  </thead>\n",
       "  <tbody>\n",
       "    <tr>\n",
       "      <th>0</th>\n",
       "      <td>Logistic Regression</td>\n",
       "      <td>0.669562</td>\n",
       "      <td>0.683182</td>\n",
       "      <td>0.676303</td>\n",
       "      <td>0.673011</td>\n",
       "      <td>0.734708</td>\n",
       "    </tr>\n",
       "    <tr>\n",
       "      <th>1</th>\n",
       "      <td>Decission Tree</td>\n",
       "      <td>0.643617</td>\n",
       "      <td>0.658006</td>\n",
       "      <td>0.650732</td>\n",
       "      <td>0.646828</td>\n",
       "      <td>0.703326</td>\n",
       "    </tr>\n",
       "    <tr>\n",
       "      <th>2</th>\n",
       "      <td>Extra Tree</td>\n",
       "      <td>0.639859</td>\n",
       "      <td>0.660222</td>\n",
       "      <td>0.649881</td>\n",
       "      <td>0.644310</td>\n",
       "      <td>0.692710</td>\n",
       "    </tr>\n",
       "    <tr>\n",
       "      <th>3</th>\n",
       "      <td>Random Forest</td>\n",
       "      <td>0.667741</td>\n",
       "      <td>0.667472</td>\n",
       "      <td>0.667607</td>\n",
       "      <td>0.667674</td>\n",
       "      <td>0.725037</td>\n",
       "    </tr>\n",
       "    <tr>\n",
       "      <th>4</th>\n",
       "      <td>Ada Boost</td>\n",
       "      <td>0.665132</td>\n",
       "      <td>0.669285</td>\n",
       "      <td>0.667202</td>\n",
       "      <td>0.666163</td>\n",
       "      <td>0.729731</td>\n",
       "    </tr>\n",
       "    <tr>\n",
       "      <th>5</th>\n",
       "      <td>Gradient Boost</td>\n",
       "      <td>0.668982</td>\n",
       "      <td>0.678953</td>\n",
       "      <td>0.673930</td>\n",
       "      <td>0.671501</td>\n",
       "      <td>0.734923</td>\n",
       "    </tr>\n",
       "  </tbody>\n",
       "</table>\n",
       "</div>"
      ],
      "text/plain": [
       "                Method  precision_score  recall_score  f1_score  \\\n",
       "0  Logistic Regression         0.669562      0.683182  0.676303   \n",
       "1       Decission Tree         0.643617      0.658006  0.650732   \n",
       "2           Extra Tree         0.639859      0.660222  0.649881   \n",
       "3        Random Forest         0.667741      0.667472  0.667607   \n",
       "4            Ada Boost         0.665132      0.669285  0.667202   \n",
       "5       Gradient Boost         0.668982      0.678953  0.673930   \n",
       "\n",
       "   accuracy_score  roc_auc_score  \n",
       "0        0.673011       0.734708  \n",
       "1        0.646828       0.703326  \n",
       "2        0.644310       0.692710  \n",
       "3        0.667674       0.725037  \n",
       "4        0.666163       0.729731  \n",
       "5        0.671501       0.734923  "
      ]
     },
     "execution_count": 38,
     "metadata": {},
     "output_type": "execute_result"
    }
   ],
   "source": [
    "d = {'precision_score': precision_score, \n",
    "     'recall_score': recall_score, \n",
    "     'f1_score': f1_score,\n",
    "     'accuracy_score' : accuracy_score,\n",
    "     'roc_auc_score' : roc_auc_score\n",
    "    }\n",
    "df = pd.DataFrame(data=d)\n",
    "df.insert(loc=0, column='Method', value=['Logistic Regression', 'Decission Tree','Extra Tree','Random Forest', 'Ada Boost', 'Gradient Boost'])\n",
    "df"
   ]
  },
  {
   "cell_type": "markdown",
   "metadata": {},
   "source": [
    "## Conclusions\n",
    "\n",
    "\n",
    "#### All models have very similar accuracy of 64-67 percent. The best result was achieved by logistic regression of 67.3 percent. This is not the best result, but it is still effective in two out of three cases. This is my first independent project, so it has more of a training character. What I think went well, because I managed to solve some problems like unbalanced class 'TARGET', or a large number of empty values in the columns, which required using the transformers I wrote.  In addition I build a working pipeline and practiced building machine learnings models. \n"
   ]
  }
 ],
 "metadata": {
  "kernelspec": {
   "display_name": "Python 3",
   "language": "python",
   "name": "python3"
  },
  "language_info": {
   "codemirror_mode": {
    "name": "ipython",
    "version": 3
   },
   "file_extension": ".py",
   "mimetype": "text/x-python",
   "name": "python",
   "nbconvert_exporter": "python",
   "pygments_lexer": "ipython3",
   "version": "3.7.3"
  }
 },
 "nbformat": 4,
 "nbformat_minor": 4
}
